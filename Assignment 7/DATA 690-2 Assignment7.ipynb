{
 "cells": [
  {
   "cell_type": "code",
   "execution_count": 1,
   "metadata": {},
   "outputs": [],
   "source": [
    "import os\n",
    "import pandas as pd\n",
    "import seaborn as sns"
   ]
  },
  {
   "cell_type": "code",
   "execution_count": 2,
   "metadata": {},
   "outputs": [
    {
     "data": {
      "text/plain": [
       "<function nt.getcwd()>"
      ]
     },
     "execution_count": 2,
     "metadata": {},
     "output_type": "execute_result"
    }
   ],
   "source": [
    "os.getcwd"
   ]
  },
  {
   "cell_type": "code",
   "execution_count": 3,
   "metadata": {},
   "outputs": [
    {
     "data": {
      "text/plain": [
       "['.ipynb_checkpoints',\n",
       " 'CollegeScorecard_Raw_Data_01192021.zip',\n",
       " 'DATA 690-2 Assignment7.ipynb',\n",
       " 'Raw Data Files',\n",
       " '__MACOSX']"
      ]
     },
     "execution_count": 3,
     "metadata": {},
     "output_type": "execute_result"
    }
   ],
   "source": [
    "os.listdir()"
   ]
  },
  {
   "cell_type": "code",
   "execution_count": 4,
   "metadata": {},
   "outputs": [
    {
     "data": {
      "text/plain": [
       "'C:\\\\Users\\\\Pc\\\\Desktop\\\\DATA 690-2 Stats & Visualization\\\\Assignments\\\\Session 10'"
      ]
     },
     "execution_count": 4,
     "metadata": {},
     "output_type": "execute_result"
    }
   ],
   "source": [
    "pwd"
   ]
  },
  {
   "cell_type": "code",
   "execution_count": 5,
   "metadata": {},
   "outputs": [],
   "source": [
    "path = 'C:\\\\Users\\\\Pc\\\\Desktop\\\\DATA 690-2 Stats & Visualization\\\\Assignments\\\\Session 10'"
   ]
  },
  {
   "cell_type": "code",
   "execution_count": 6,
   "metadata": {},
   "outputs": [
    {
     "data": {
      "text/plain": [
       "[<DirEntry '.ipynb_checkpoints'>,\n",
       " <DirEntry 'CollegeScorecard_Raw_Data_01192021.zip'>,\n",
       " <DirEntry 'DATA 690-2 Assignment7.ipynb'>,\n",
       " <DirEntry 'Raw Data Files'>,\n",
       " <DirEntry '__MACOSX'>]"
      ]
     },
     "execution_count": 6,
     "metadata": {},
     "output_type": "execute_result"
    }
   ],
   "source": [
    "list(os.scandir(path))"
   ]
  },
  {
   "cell_type": "code",
   "execution_count": 7,
   "metadata": {},
   "outputs": [
    {
     "data": {
      "text/plain": [
       "['C:\\\\Users\\\\Pc\\\\Desktop\\\\DATA 690-2 Stats & Visualization\\\\Assignments\\\\Session 10\\\\.ipynb_checkpoints',\n",
       " 'C:\\\\Users\\\\Pc\\\\Desktop\\\\DATA 690-2 Stats & Visualization\\\\Assignments\\\\Session 10\\\\Raw Data Files',\n",
       " 'C:\\\\Users\\\\Pc\\\\Desktop\\\\DATA 690-2 Stats & Visualization\\\\Assignments\\\\Session 10\\\\__MACOSX']"
      ]
     },
     "execution_count": 7,
     "metadata": {},
     "output_type": "execute_result"
    }
   ],
   "source": [
    "[folder.path for folder in os.scandir(path) if folder.is_dir()]"
   ]
  },
  {
   "cell_type": "code",
   "execution_count": 8,
   "metadata": {},
   "outputs": [],
   "source": [
    "another_path = 'C:\\\\Users\\\\Pc\\\\Desktop\\\\DATA 690-2 Stats & Visualization\\\\Assignments\\\\Session 10\\\\Raw Data Files'"
   ]
  },
  {
   "cell_type": "code",
   "execution_count": 9,
   "metadata": {},
   "outputs": [
    {
     "data": {
      "text/plain": [
       "[<DirEntry 'Crosswalks.zip'>,\n",
       " <DirEntry 'data.yaml'>,\n",
       " <DirEntry 'FieldOfStudyData1415_1516_PP.csv'>,\n",
       " <DirEntry 'FieldOfStudyData1516_1617_PP.csv'>,\n",
       " <DirEntry 'FieldOfStudyData1617_1718_PP.csv'>,\n",
       " <DirEntry 'MERGED1996_97_PP.csv'>,\n",
       " <DirEntry 'MERGED1997_98_PP.csv'>,\n",
       " <DirEntry 'MERGED1998_99_PP.csv'>,\n",
       " <DirEntry 'MERGED1999_00_PP.csv'>,\n",
       " <DirEntry 'MERGED2000_01_PP.csv'>,\n",
       " <DirEntry 'MERGED2001_02_PP.csv'>,\n",
       " <DirEntry 'MERGED2002_03_PP.csv'>,\n",
       " <DirEntry 'MERGED2003_04_PP.csv'>,\n",
       " <DirEntry 'MERGED2004_05_PP.csv'>,\n",
       " <DirEntry 'MERGED2005_06_PP.csv'>,\n",
       " <DirEntry 'MERGED2006_07_PP.csv'>,\n",
       " <DirEntry 'MERGED2007_08_PP.csv'>,\n",
       " <DirEntry 'MERGED2008_09_PP.csv'>,\n",
       " <DirEntry 'MERGED2009_10_PP.csv'>,\n",
       " <DirEntry 'MERGED2010_11_PP.csv'>,\n",
       " <DirEntry 'MERGED2011_12_PP.csv'>,\n",
       " <DirEntry 'MERGED2012_13_PP.csv'>,\n",
       " <DirEntry 'MERGED2013_14_PP.csv'>,\n",
       " <DirEntry 'MERGED2014_15_PP.csv'>,\n",
       " <DirEntry 'MERGED2015_16_PP.csv'>,\n",
       " <DirEntry 'MERGED2016_17_PP.csv'>,\n",
       " <DirEntry 'MERGED2017_18_PP.csv'>,\n",
       " <DirEntry 'MERGED2018_19_PP.csv'>,\n",
       " <DirEntry 'Most-Recent-Cohorts-All-Data-Elements.csv'>,\n",
       " <DirEntry 'Most-Recent-Cohorts-Field-of-Study.csv'>]"
      ]
     },
     "execution_count": 9,
     "metadata": {},
     "output_type": "execute_result"
    }
   ],
   "source": [
    "list(os.scandir(another_path))"
   ]
  },
  {
   "cell_type": "code",
   "execution_count": 10,
   "metadata": {},
   "outputs": [],
   "source": [
    "list_csv=[folder.path for folder in os.scandir(another_path)if folder.is_dir()]"
   ]
  },
  {
   "cell_type": "code",
   "execution_count": 11,
   "metadata": {},
   "outputs": [
    {
     "data": {
      "text/plain": [
       "[]"
      ]
     },
     "execution_count": 11,
     "metadata": {},
     "output_type": "execute_result"
    }
   ],
   "source": [
    "file_list = []\n",
    "for files in list_csv:\n",
    "    if files.startswith(\"MERGED\"):\n",
    "        file_list.append(files)\n",
    "        \n",
    "file_list"
   ]
  },
  {
   "cell_type": "code",
   "execution_count": 13,
   "metadata": {},
   "outputs": [
    {
     "data": {
      "text/plain": [
       "[]"
      ]
     },
     "execution_count": 13,
     "metadata": {},
     "output_type": "execute_result"
    }
   ],
   "source": [
    "csv_files =[x for x in list_csv if \"MERGED\" in x]\n",
    "csv_files"
   ]
  },
  {
   "cell_type": "code",
   "execution_count": null,
   "metadata": {},
   "outputs": [],
   "source": []
  },
  {
   "cell_type": "code",
   "execution_count": null,
   "metadata": {},
   "outputs": [],
   "source": [
    "# <4> \n",
    "# The folder contains files that are not the yearly data files\n",
    "# write code to remove the unwanted files from the list vsriable \n",
    "# Note: don't remove/delete these files from the folder in your drive\n",
    "# For example, use the file extension to only keep the csv files \n",
    "# or use the name patter - data file name begins with \"MERGED\"\n",
    "# You can use the concept of list comprehension to write just \n",
    "# one line of code as well as using a for loop, your choice.\n",
    "\n",
    "#(Write code here)\n"
   ]
  },
  {
   "cell_type": "code",
   "execution_count": null,
   "metadata": {},
   "outputs": [],
   "source": []
  },
  {
   "cell_type": "code",
   "execution_count": null,
   "metadata": {},
   "outputs": [],
   "source": [
    "\n",
    "       "
   ]
  },
  {
   "cell_type": "code",
   "execution_count": null,
   "metadata": {},
   "outputs": [],
   "source": []
  },
  {
   "cell_type": "code",
   "execution_count": null,
   "metadata": {},
   "outputs": [],
   "source": [
    "df_list =[]\n",
    "for filename in csv_files:\n",
    "    df = pd.read_csv(filename, usecols =[\"UNITID\", \"INSTNM\", \"STABBR\", \"REGION\", \"ADM_RATE\", \"TUITIONFEE_IN\"])\n",
    "    year = filename[6:10]\n",
    "    df[\"Year\"] = year\n",
    "    df_list.append(df)\n",
    "\n",
    "merged_df = pd.concat(df_list) "
   ]
  },
  {
   "cell_type": "code",
   "execution_count": null,
   "metadata": {},
   "outputs": [],
   "source": []
  }
 ],
 "metadata": {
  "kernelspec": {
   "display_name": "Python 3",
   "language": "python",
   "name": "python3"
  },
  "language_info": {
   "codemirror_mode": {
    "name": "ipython",
    "version": 3
   },
   "file_extension": ".py",
   "mimetype": "text/x-python",
   "name": "python",
   "nbconvert_exporter": "python",
   "pygments_lexer": "ipython3",
   "version": "3.8.5"
  }
 },
 "nbformat": 4,
 "nbformat_minor": 4
}
