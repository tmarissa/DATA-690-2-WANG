{
 "cells": [
  {
   "cell_type": "markdown",
   "metadata": {
    "id": "QO-ZnKTTvwjM"
   },
   "source": [
    "### Assignment # 09 - Point Estimate and Interval Estimate (Confidence Interval)\n",
    "\n",
    "A random survey of enrollment at **35** community colleges across the United States yielded the following figures: \n",
    "\n",
    "6,414; 1,550; 2,109; 9,350; 21,828; 4,300; 5,944; 5,722; 2,825; 2,044;\n",
    "\n",
    "5,481; 5,200; 5,853; 2,750; 10,012; 6,357; 27,000; 9,414; 7,681; 3,200; \n",
    "\n",
    "17,500; 9,200; 7,380; 18,314; 6,557; 13,713; 17,768; 7,493; 2,771; 2,861; \n",
    "\n",
    "1,263; 7,285; 28,165; 5,080; 11,622\n",
    "\n",
    "Perform point estimate and interval estimate with **95% confidence level** using **t-distribution**.\n",
    "\n",
    "Since we don't know the population variance, we use t-distribiution instead of normal distribution."
   ]
  },
  {
   "cell_type": "code",
   "execution_count": 1,
   "metadata": {
    "id": "RQBJ3BvgvwjO"
   },
   "outputs": [],
   "source": [
    "# Import Python packages\n",
    "import pandas as pd\n",
    "import numpy as np\n",
    "from scipy.stats import t"
   ]
  },
  {
   "cell_type": "markdown",
   "metadata": {
    "id": "yGj7WnubvwjP"
   },
   "source": [
    "### Step 0 - Data Preprocessing \n",
    "\n",
    "Process the raw data to make a list of integers. In order to calculate descriptive statistic, Python needs to work with a list of numbers.\n",
    "### note:\n",
    "Don't manually make the list by hand-typing the numbers. Write code to automate the data preparation."
   ]
  },
  {
   "cell_type": "code",
   "execution_count": 2,
   "metadata": {
    "colab": {
     "base_uri": "https://localhost:8080/",
     "height": 69
    },
    "id": "FKeAFctVvwjP",
    "outputId": "77b1294b-62e3-4120-ff13-6cb75efe48e0"
   },
   "outputs": [
    {
     "data": {
      "application/vnd.google.colaboratory.intrinsic+json": {
       "type": "string"
      },
      "text/plain": [
       "'6,414; 1,550; 2,109; 9,350; 21,828; 4,300; 5,944; 5,722; 2,825; 2,044; 5,481; 5,200; 5,853; 2,750; 10,012; 6,357; 27,000; 9,414; 7,681; 3,200; 17,500; 9,200; 7,380; 18,314; 6,557; 13,713; 17,768; 7,493; 2,771; 2,861; 1,263; 7,285; 28,165; 5,080; 11,622'"
      ]
     },
     "execution_count": 2,
     "metadata": {
      "tags": []
     },
     "output_type": "execute_result"
    }
   ],
   "source": [
    "# make each line of numbers a string object and then concatenate them together \n",
    "# The end result is one single string containing 35 numbers separated by \";\"\n",
    "\n",
    "data_1 = \"6,414; 1,550; 2,109; 9,350; 21,828; 4,300; 5,944; 5,722; 2,825; 2,044; \" \n",
    "data_2 = \"5,481; 5,200; 5,853; 2,750; 10,012; 6,357; 27,000; 9,414; 7,681; 3,200; \"\n",
    "data_3 = \"17,500; 9,200; 7,380; 18,314; 6,557; 13,713; 17,768; 7,493; 2,771; 2,861; \"\n",
    "data_4 = \"1,263; 7,285; 28,165; 5,080; 11,622\"\n",
    "data = data_1 + data_2 + data_3 + data_4\n",
    "data"
   ]
  },
  {
   "cell_type": "code",
   "execution_count": 3,
   "metadata": {
    "colab": {
     "base_uri": "https://localhost:8080/"
    },
    "id": "jY622A35vwjU",
    "outputId": "bf53bc69-264a-483d-b1cb-7f38cae9a9a5"
   },
   "outputs": [
    {
     "name": "stdout",
     "output_type": "stream",
     "text": [
      "['6,414;', '1,550;', '2,109;', '9,350;', '21,828;', '4,300;', '5,944;', '5,722;', '2,825;', '2,044;', '5,481;', '5,200;', '5,853;', '2,750;', '10,012;', '6,357;', '27,000;', '9,414;', '7,681;', '3,200;', '17,500;', '9,200;', '7,380;', '18,314;', '6,557;', '13,713;', '17,768;', '7,493;', '2,771;', '2,861;', '1,263;', '7,285;', '28,165;', '5,080;', '11,622']\n"
     ]
    }
   ],
   "source": [
    "# Convert the single string to a list of strings using split() function\n",
    "# Make sure to specify a delimter or separator\n",
    "data1 = data.split()\n",
    "print(data1)\n"
   ]
  },
  {
   "cell_type": "markdown",
   "metadata": {
    "id": "S3loEFuJ3fdT"
   },
   "source": [
    "Create a list of integers from the list of strings using List Comprehension or for loop. Make sure to remove the \",\" first and then convert the strings to integers."
   ]
  },
  {
   "cell_type": "code",
   "execution_count": 4,
   "metadata": {
    "colab": {
     "base_uri": "https://localhost:8080/"
    },
    "id": "zHvdPZomvwjW",
    "outputId": "92e0dbad-d37b-48a7-c2c3-da177b80f64c"
   },
   "outputs": [
    {
     "name": "stdout",
     "output_type": "stream",
     "text": [
      "[6414, 1550, 2109, 9350, 21828, 4300, 5944, 5722, 2825, 2044, 5481, 5200, 5853, 2750, 10012, 6357, 27000, 9414, 7681, 3200, 17500, 9200, 7380, 18314, 6557, 13713, 17768, 7493, 2771, 2861, 1263, 7285, 28165, 5080, 11622]\n"
     ]
    }
   ],
   "source": [
    "# Use for loop\n",
    "cleaned_data = []\n",
    "for i in data1:\n",
    "  data2 = i.replace(\";\", \"\") \n",
    "  data3 = data2.replace(\",\", '')\n",
    "  data4 = int(data3)\n",
    "  cleaned_data.append(data4)  \n",
    "print(cleaned_data)   "
   ]
  },
  {
   "cell_type": "markdown",
   "metadata": {
    "id": "rztZ5pJtvwjX"
   },
   "source": [
    "### Step 1 - Calculate and Display the Sample Size and Sample Mean"
   ]
  },
  {
   "cell_type": "code",
   "execution_count": 5,
   "metadata": {
    "colab": {
     "base_uri": "https://localhost:8080/"
    },
    "id": "MRjPNo1kvwjX",
    "outputId": "5294e8f0-f55e-4397-f4f0-f4236db36d26"
   },
   "outputs": [
    {
     "name": "stdout",
     "output_type": "stream",
     "text": [
      "Sample size =  35\n"
     ]
    }
   ],
   "source": [
    "# Calculate and display the sample size\n",
    "sample_size = len(cleaned_data)\n",
    "print(\"Sample size = \", sample_size)"
   ]
  },
  {
   "cell_type": "code",
   "execution_count": 6,
   "metadata": {
    "colab": {
     "base_uri": "https://localhost:8080/"
    },
    "id": "Sfe6XfmWvwjY",
    "outputId": "550e9ec2-c976-4297-85a4-9c5b4276e637"
   },
   "outputs": [
    {
     "name": "stdout",
     "output_type": "stream",
     "text": [
      "Sample mean =  8629.0\n"
     ]
    }
   ],
   "source": [
    "# Calculate and display the sample mean\n",
    "import math\n",
    "mean = sum(cleaned_data)/len(cleaned_data)\n",
    "mean = float(math.ceil(mean))\n",
    "print(\"Sample mean = \", mean)"
   ]
  },
  {
   "cell_type": "markdown",
   "metadata": {
    "id": "uJl_KNgVvwjZ"
   },
   "source": [
    "The point estimate of the mean enrollment of US community colleges is **8629**."
   ]
  },
  {
   "cell_type": "markdown",
   "metadata": {
    "id": "FE43zdBnvwja"
   },
   "source": [
    "### Step 2 - Calculate and Display the Sample Standard Deviation & Sample Standard Error\n",
    "\n",
    "Sample Standard Deviation $S=\\sqrt{\\dfrac{1}{n-1}\\sum\\limits_{i=1}^n (X_i-\\bar{X})^2}$\n",
    "\n",
    "Sample Standard Error = $\\dfrac{S}{\\sqrt{n}}$\n",
    "\n",
    "Note: The default **Delta Degree of Freedom (DDOF)** for Numpy's std function is 0 which is applicable to populate data. For sample data, we need to specify **ddof=1**. \n",
    "\n",
    "For the enrollment data, we round up the statistics to be the full integers (no decimal points).\n"
   ]
  },
  {
   "cell_type": "code",
   "execution_count": 7,
   "metadata": {
    "colab": {
     "base_uri": "https://localhost:8080/"
    },
    "id": "Yy2-ewJSvwja",
    "outputId": "6659c03a-d7b9-43cf-bd3e-e66f1076bced"
   },
   "outputs": [
    {
     "name": "stdout",
     "output_type": "stream",
     "text": [
      "Sample Standard Deviation =  6844.0\n"
     ]
    }
   ],
   "source": [
    "# Calculate and display the sample standard deviation using Numpy's std function.\n",
    "Std_dev = np.std(cleaned_data)\n",
    "Std_dev = float(math.ceil(Std_dev))\n",
    "print(\"Sample Standard Deviation = \", Std_dev)"
   ]
  },
  {
   "cell_type": "code",
   "execution_count": 8,
   "metadata": {
    "colab": {
     "base_uri": "https://localhost:8080/"
    },
    "id": "l_VyIgHTvwjc",
    "outputId": "cbd7213c-a1f0-495d-95a5-670b54668dc2"
   },
   "outputs": [
    {
     "name": "stdout",
     "output_type": "stream",
     "text": [
      "Sample Standard Deviation =  1174.0\n"
     ]
    }
   ],
   "source": [
    "# Calculate and display the sample standard error\n",
    "Std_error = np.std(cleaned_data, ddof=1)/np.sqrt(np.size(cleaned_data))\n",
    "Std_error = float(math.ceil(Std_error))\n",
    "print(\"Sample Standard Deviation = \", Std_error)"
   ]
  },
  {
   "cell_type": "markdown",
   "metadata": {
    "id": "IynJoUaJvwjc"
   },
   "source": [
    "### Step 3 - Calculate t Critical Value using t-Distribution \n",
    "\n",
    "$\\alpha$ = 1 - Confidence Level = 1 - 95% = 0.05\n",
    "\n",
    "$\\dfrac{\\alpha}{2}$ = 0.025\n",
    "\n",
    "n (sample size) = 35\n",
    "\n",
    "df (degree of freedom) = n - 1 = 35 - 1 = 34\n",
    "\n",
    "We will use Python scipy.stats t-distribution's PPF (Percentage Point Function) to calculate t critical value $t_{0.025,34}$."
   ]
  },
  {
   "cell_type": "code",
   "execution_count": 9,
   "metadata": {
    "colab": {
     "base_uri": "https://localhost:8080/"
    },
    "id": "24_EeyVwvwjd",
    "outputId": "f0553d0f-317e-4b06-a4cc-45405ff8aa11"
   },
   "outputs": [
    {
     "name": "stdout",
     "output_type": "stream",
     "text": [
      "t critical value =  2.03\n"
     ]
    }
   ],
   "source": [
    "# Calculate and display the t critical value using scipy.stats.t package ppf \n",
    "# df = degree of freedom \n",
    "# confidence level is 95%\n",
    "confidence = .95\n",
    "q = (1- confidence)/2 \n",
    "df = sample_size-1\n",
    "t_critical_value = t.ppf(q, df)\n",
    "t_critical_value = abs(t_critical_value)\n",
    "t_critical_value = round(t_critical_value, 2)\n",
    "print(\"t critical value = \", t_critical_value)"
   ]
  },
  {
   "cell_type": "markdown",
   "metadata": {
    "id": "qyyUKSjhvwje"
   },
   "source": [
    "### Step 4 - Calculate the Margin of Error\n",
    "\n",
    "Margin of Error = t-Statistics * Sample Standard Error = $t_{\\alpha/2,n-1}\\left(\\dfrac{s}{\\sqrt{n}}\\right)$"
   ]
  },
  {
   "cell_type": "code",
   "execution_count": 10,
   "metadata": {
    "colab": {
     "base_uri": "https://localhost:8080/"
    },
    "id": "13aQGtICvwje",
    "outputId": "e3b79f20-135d-4f64-de61-84622d7e4d15"
   },
   "outputs": [
    {
     "name": "stdout",
     "output_type": "stream",
     "text": [
      "Margin Error =  2383.0\n"
     ]
    }
   ],
   "source": [
    "# Calculate and display the margin of error\n",
    "Margin_Error =  Std_error * t_critical_value\n",
    "Margin_Error = float(math.floor(Margin_Error))\n",
    "print(\"Margin Error = \", Margin_Error)"
   ]
  },
  {
   "cell_type": "markdown",
   "metadata": {
    "id": "W5C_lR0lvwje"
   },
   "source": [
    "### Step 5 - Calculate Lower and Upper Limit of the Confidence Interval\n",
    "\n",
    "Lower Limit = Sample Mean - Margin of Error\n",
    "\n",
    "Upper Limit = Sample Mean + Margin of Error"
   ]
  },
  {
   "cell_type": "code",
   "execution_count": 11,
   "metadata": {
    "colab": {
     "base_uri": "https://localhost:8080/"
    },
    "id": "-n9Vs8Kfvwje",
    "outputId": "7fa20192-95ab-4761-f1db-e0bd426750c0"
   },
   "outputs": [
    {
     "name": "stdout",
     "output_type": "stream",
     "text": [
      "Lower Limit =  6246.0\n"
     ]
    }
   ],
   "source": [
    "# Calculate and display the lower limit\n",
    "lower_limit = mean - Margin_Error\n",
    "print(\"Lower Limit = \", lower_limit)"
   ]
  },
  {
   "cell_type": "code",
   "execution_count": 12,
   "metadata": {
    "colab": {
     "base_uri": "https://localhost:8080/"
    },
    "id": "gyH6Ii_3vwje",
    "outputId": "bb1ebca3-0550-4f38-c4a7-1046bea793ed"
   },
   "outputs": [
    {
     "name": "stdout",
     "output_type": "stream",
     "text": [
      "Upper Limit =  11012.0\n"
     ]
    }
   ],
   "source": [
    "# Calculate and display the upper limit\n",
    "upper_limit = mean + Margin_Error\n",
    "print(\"Upper Limit = \", upper_limit)"
   ]
  },
  {
   "cell_type": "markdown",
   "metadata": {
    "id": "ZGeD7v16vwje"
   },
   "source": [
    "### Step 6 - Now We have the 95% Confidence Interval\n",
    "Confidence Interval ($\\sigma$ unknown) = $\\bar{x}\\space\\pm\\space t_{\\alpha/2}\\left(\\dfrac{S}{\\sqrt{n}}\\right)$ = Sample_Mean $\\pm$ Margin of Error"
   ]
  },
  {
   "cell_type": "code",
   "execution_count": 13,
   "metadata": {
    "colab": {
     "base_uri": "https://localhost:8080/"
    },
    "id": "SsWAg32tRe-7",
    "outputId": "ae2b3414-1bf9-418a-cb65-1c76f065e1e7"
   },
   "outputs": [
    {
     "name": "stdout",
     "output_type": "stream",
     "text": [
      "The 95% Confidence Interval = (6246.0, 11012.0)\n"
     ]
    }
   ],
   "source": [
    "print(f\"The 95% Confidence Interval = ({lower_limit}, {upper_limit})\")"
   ]
  }
 ],
 "metadata": {
  "colab": {
   "name": "DATA690-2 Assignment9.ipynb",
   "provenance": []
  },
  "kernelspec": {
   "display_name": "Python 3",
   "language": "python",
   "name": "python3"
  },
  "language_info": {
   "codemirror_mode": {
    "name": "ipython",
    "version": 3
   },
   "file_extension": ".py",
   "mimetype": "text/x-python",
   "name": "python",
   "nbconvert_exporter": "python",
   "pygments_lexer": "ipython3",
   "version": "3.8.5"
  }
 },
 "nbformat": 4,
 "nbformat_minor": 1
}
