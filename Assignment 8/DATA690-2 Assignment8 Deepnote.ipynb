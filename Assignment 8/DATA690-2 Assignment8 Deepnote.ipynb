{
  "cells": [
    {
      "cell_type": "markdown",
      "source": "### Assignment 8\nThis assignment uses the College Score Card for Visualization by computing the population mean, sampler mean, and computing its differences. This projects shows the differences of the big and small sampler mean against the population mean.",
      "metadata": {
        "tags": [],
        "cell_id": "00000-72843ba8-822f-45c6-8524-dd0a9bea1e98",
        "deepnote_cell_type": "markdown"
      }
    },
    {
      "cell_type": "code",
      "metadata": {
        "tags": [],
        "cell_id": "00000-a4984c58-27cd-4492-af77-7d24aeefc8e5",
        "deepnote_to_be_reexecuted": false,
        "source_hash": "d59eda61",
        "execution_millis": 939,
        "execution_start": 1618696073921,
        "deepnote_cell_type": "code"
      },
      "source": "# 1 - Import necessary libraries\nimport os\nimport numpy as np\nimport pandas as pd\nimport random\nimport matplotlib.pyplot as plt\nimport seaborn as sns \nplt.rcParams[\"figure.figsize\"] = (12,8)   # Global Setting",
      "execution_count": 1,
      "outputs": []
    },
    {
      "cell_type": "code",
      "metadata": {
        "tags": [],
        "cell_id": "00003-1d6e5b91-002d-4039-8843-6180126ddea0",
        "deepnote_to_be_reexecuted": false,
        "source_hash": "2f4b4c01",
        "execution_millis": 10,
        "execution_start": 1618696074866,
        "deepnote_cell_type": "code"
      },
      "source": "cd",
      "execution_count": 2,
      "outputs": [
        {
          "name": "stdout",
          "text": "/root\n",
          "output_type": "stream"
        }
      ]
    },
    {
      "cell_type": "code",
      "metadata": {
        "tags": [],
        "cell_id": "00004-dccf42b3-38eb-40b8-b69c-0541f17e6eb3",
        "deepnote_to_be_reexecuted": false,
        "source_hash": "f3d3d5cd",
        "execution_millis": 21,
        "execution_start": 1618696074873,
        "deepnote_cell_type": "code"
      },
      "source": "cd work",
      "execution_count": 3,
      "outputs": [
        {
          "name": "stdout",
          "text": "/work\n",
          "output_type": "stream"
        }
      ]
    },
    {
      "cell_type": "code",
      "metadata": {
        "tags": [],
        "cell_id": "00003-57f1c8ba-efaa-445d-b0aa-b8a79555be19",
        "deepnote_to_be_reexecuted": false,
        "source_hash": "f9b60114",
        "execution_millis": 1,
        "execution_start": 1618696074880,
        "deepnote_cell_type": "code"
      },
      "source": "cd data",
      "execution_count": 4,
      "outputs": [
        {
          "name": "stdout",
          "text": "/work/data\n",
          "output_type": "stream"
        }
      ]
    },
    {
      "cell_type": "code",
      "metadata": {
        "tags": [],
        "cell_id": "00006-12e963c5-6e79-4788-b0db-1ce0dd138abf",
        "deepnote_to_be_reexecuted": false,
        "source_hash": "d7e410df",
        "execution_millis": 7,
        "execution_start": 1618696074902,
        "deepnote_cell_type": "code"
      },
      "source": "cd Input",
      "execution_count": 5,
      "outputs": [
        {
          "name": "stdout",
          "text": "/work/data/Input\n",
          "output_type": "stream"
        }
      ]
    },
    {
      "cell_type": "code",
      "metadata": {
        "tags": [],
        "cell_id": "00001-a87871d8-c54d-4bb4-a7da-828821471829",
        "deepnote_to_be_reexecuted": false,
        "source_hash": "79a6839b",
        "execution_millis": 3,
        "execution_start": 1618696074903,
        "deepnote_cell_type": "code"
      },
      "source": "current_folder = os.getcwd()\ncurrent_folder\n",
      "execution_count": 6,
      "outputs": []
    },
    {
      "cell_type": "code",
      "metadata": {
        "tags": [],
        "cell_id": "00002-83037ed9-6ada-4ec7-bf2a-473e57a6ee7c",
        "deepnote_to_be_reexecuted": false,
        "source_hash": "d0d8fce1",
        "execution_millis": 12,
        "execution_start": 1618696074903,
        "deepnote_cell_type": "code"
      },
      "source": "# 2 - Retrieve the names of the 22 files and assign them to a List variable\n# You would need to filter out other files\n# Display the names of these 22\nfiles = os.listdir()\nfiles",
      "execution_count": 7,
      "outputs": [
        {
          "output_type": "execute_result",
          "execution_count": 7,
          "data": {
            "text/plain": "['MERGED2006_07_PP.csv',\n 'MERGED2011_12_PP.csv',\n 'MERGED2014_15_PP.csv',\n 'Most-Recent-Cohorts-All-Data-Elements.csv',\n 'MERGED1999_00_PP.csv']"
          },
          "metadata": {}
        }
      ]
    },
    {
      "cell_type": "code",
      "metadata": {
        "tags": [],
        "cell_id": "00006-b2fdbeca-7197-4e30-9480-e3480f8ca8a0",
        "deepnote_to_be_reexecuted": false,
        "source_hash": "63d6cd57",
        "execution_millis": 18,
        "execution_start": 1618696074908,
        "deepnote_cell_type": "code"
      },
      "source": "\ncsv_files = [file for file in files if file.startswith('MERGED')]\ncsv_files",
      "execution_count": 8,
      "outputs": [
        {
          "output_type": "execute_result",
          "execution_count": 8,
          "data": {
            "text/plain": "['MERGED2006_07_PP.csv',\n 'MERGED2011_12_PP.csv',\n 'MERGED2014_15_PP.csv',\n 'MERGED1999_00_PP.csv']"
          },
          "metadata": {}
        }
      ]
    },
    {
      "cell_type": "code",
      "metadata": {
        "tags": [],
        "cell_id": "00006-49616eaa-59de-4316-b293-ca3c9cd2e635",
        "deepnote_to_be_reexecuted": false,
        "source_hash": "9224043d",
        "execution_millis": 3,
        "execution_start": 1618696074962,
        "deepnote_cell_type": "code"
      },
      "source": "# 3 - Write code to randomly select one file name out of the 22 files names. \n# Hint: generate a random integer between 0 and 21 first\n# Display the file name\n\nrandom_file = random.choice(csv_files)\nrandom_file",
      "execution_count": 9,
      "outputs": [
        {
          "output_type": "execute_result",
          "execution_count": 9,
          "data": {
            "text/plain": "'MERGED2014_15_PP.csv'"
          },
          "metadata": {}
        }
      ]
    },
    {
      "cell_type": "code",
      "metadata": {
        "tags": [],
        "cell_id": "00010-40cad7cc-a2c8-45a3-b6f3-6bc163b16964",
        "deepnote_to_be_reexecuted": false,
        "source_hash": "faadef6b",
        "execution_millis": 19,
        "execution_start": 1618696074967,
        "deepnote_cell_type": "code"
      },
      "source": "os.getcwd()",
      "execution_count": 10,
      "outputs": [
        {
          "output_type": "execute_result",
          "execution_count": 10,
          "data": {
            "text/plain": "'/work/data/Input'"
          },
          "metadata": {}
        }
      ]
    },
    {
      "cell_type": "code",
      "metadata": {
        "tags": [],
        "cell_id": "00005-0d169dd8-d02d-44d7-9bef-d3f793164534",
        "deepnote_to_be_reexecuted": false,
        "source_hash": "839c2436",
        "execution_millis": 919,
        "execution_start": 1618696075014,
        "deepnote_cell_type": "code"
      },
      "source": "# 4 - Only read the two columns: college name (INSTNM) and in state tution \n# (\"TUITIONFEE_IN\") from this file into a data frame aand display use info()\n# function to display a summary information\ndf = pd.read_csv('/work/data/Input/MERGED2006_07_PP.csv',\n usecols = [\"INSTNM\", \"TUITIONFEE_IN\"])\ndf.head(5)",
      "execution_count": 11,
      "outputs": [
        {
          "output_type": "execute_result",
          "execution_count": 11,
          "data": {
            "application/vnd.deepnote.dataframe.v2+json": {
              "row_count": 5,
              "column_count": 2,
              "columns": [
                {
                  "name": "INSTNM",
                  "dtype": "object",
                  "stats": {
                    "unique_count": 5,
                    "nan_count": 0,
                    "categories": [
                      {
                        "name": "Community College of the Air Force",
                        "count": 1
                      },
                      {
                        "name": "Alabama A & M University",
                        "count": 1
                      },
                      {
                        "name": "3 others",
                        "count": 3
                      }
                    ]
                  }
                },
                {
                  "name": "TUITIONFEE_IN",
                  "dtype": "float64",
                  "stats": {
                    "unique_count": 4,
                    "nan_count": 1,
                    "min": "3640.0",
                    "max": "6000.0",
                    "histogram": [
                      {
                        "bin_start": 3640,
                        "bin_end": 3876,
                        "count": 1
                      },
                      {
                        "bin_start": 3876,
                        "bin_end": 4112,
                        "count": 0
                      },
                      {
                        "bin_start": 4112,
                        "bin_end": 4348,
                        "count": 0
                      },
                      {
                        "bin_start": 4348,
                        "bin_end": 4584,
                        "count": 0
                      },
                      {
                        "bin_start": 4584,
                        "bin_end": 4820,
                        "count": 1
                      },
                      {
                        "bin_start": 4820,
                        "bin_end": 5056,
                        "count": 1
                      },
                      {
                        "bin_start": 5056,
                        "bin_end": 5292,
                        "count": 0
                      },
                      {
                        "bin_start": 5292,
                        "bin_end": 5528,
                        "count": 0
                      },
                      {
                        "bin_start": 5528,
                        "bin_end": 5764,
                        "count": 0
                      },
                      {
                        "bin_start": 5764,
                        "bin_end": 6000,
                        "count": 1
                      }
                    ]
                  }
                },
                {
                  "name": "_deepnote_index_column",
                  "dtype": "int64"
                }
              ],
              "rows_top": [
                {
                  "INSTNM": "Community College of the Air Force",
                  "TUITIONFEE_IN": "nan",
                  "_deepnote_index_column": 0
                },
                {
                  "INSTNM": "Alabama A & M University",
                  "TUITIONFEE_IN": "3640.0",
                  "_deepnote_index_column": 1
                },
                {
                  "INSTNM": "University of Alabama at Birmingham",
                  "TUITIONFEE_IN": "4792.0",
                  "_deepnote_index_column": 2
                },
                {
                  "INSTNM": "Amridge University",
                  "TUITIONFEE_IN": "6000.0",
                  "_deepnote_index_column": 3
                },
                {
                  "INSTNM": "University of Alabama in Huntsville",
                  "TUITIONFEE_IN": "4848.0",
                  "_deepnote_index_column": 4
                }
              ],
              "rows_bottom": null
            },
            "text/plain": "                                INSTNM  TUITIONFEE_IN\n0   Community College of the Air Force            NaN\n1             Alabama A & M University         3640.0\n2  University of Alabama at Birmingham         4792.0\n3                   Amridge University         6000.0\n4  University of Alabama in Huntsville         4848.0",
            "text/html": "<div>\n<style scoped>\n    .dataframe tbody tr th:only-of-type {\n        vertical-align: middle;\n    }\n\n    .dataframe tbody tr th {\n        vertical-align: top;\n    }\n\n    .dataframe thead th {\n        text-align: right;\n    }\n</style>\n<table border=\"1\" class=\"dataframe\">\n  <thead>\n    <tr style=\"text-align: right;\">\n      <th></th>\n      <th>INSTNM</th>\n      <th>TUITIONFEE_IN</th>\n    </tr>\n  </thead>\n  <tbody>\n    <tr>\n      <th>0</th>\n      <td>Community College of the Air Force</td>\n      <td>NaN</td>\n    </tr>\n    <tr>\n      <th>1</th>\n      <td>Alabama A &amp; M University</td>\n      <td>3640.0</td>\n    </tr>\n    <tr>\n      <th>2</th>\n      <td>University of Alabama at Birmingham</td>\n      <td>4792.0</td>\n    </tr>\n    <tr>\n      <th>3</th>\n      <td>Amridge University</td>\n      <td>6000.0</td>\n    </tr>\n    <tr>\n      <th>4</th>\n      <td>University of Alabama in Huntsville</td>\n      <td>4848.0</td>\n    </tr>\n  </tbody>\n</table>\n</div>"
          },
          "metadata": {}
        }
      ]
    },
    {
      "cell_type": "code",
      "metadata": {
        "tags": [],
        "cell_id": "00008-b4aa6564-5e35-484a-814c-1a0dc4a82e6d",
        "deepnote_to_be_reexecuted": false,
        "source_hash": "621b331a",
        "execution_millis": 11,
        "execution_start": 1618696075959,
        "deepnote_cell_type": "code"
      },
      "source": "# 5 - Find out how many observations have missing value.\n# there are 6,951 cels and 4201 cels are not null, 2750 are null\nMiss_Val = df[\"TUITIONFEE_IN\"].isnull()\nMiss_Val.describe()",
      "execution_count": 12,
      "outputs": [
        {
          "output_type": "execute_result",
          "execution_count": 12,
          "data": {
            "text/plain": "count      6951\nunique        2\ntop       False\nfreq       4201\nName: TUITIONFEE_IN, dtype: object"
          },
          "metadata": {}
        }
      ]
    },
    {
      "cell_type": "code",
      "metadata": {
        "tags": [],
        "cell_id": "00009-1bdecf28-d820-4d31-813e-af58eb1a62d9",
        "deepnote_to_be_reexecuted": false,
        "source_hash": "7a3f1f4a",
        "execution_millis": 25,
        "execution_start": 1618696075970,
        "deepnote_cell_type": "code"
      },
      "source": "# 6 - Drop those observations with missing value\n# Disaply the number of observations \nDrop_Miss_Val = df.dropna(how='any')\nDrop_Miss_Val.head(5)",
      "execution_count": 13,
      "outputs": [
        {
          "output_type": "execute_result",
          "execution_count": 13,
          "data": {
            "application/vnd.deepnote.dataframe.v2+json": {
              "row_count": 5,
              "column_count": 2,
              "columns": [
                {
                  "name": "INSTNM",
                  "dtype": "object",
                  "stats": {
                    "unique_count": 5,
                    "nan_count": 0,
                    "categories": [
                      {
                        "name": "Alabama A & M University",
                        "count": 1
                      },
                      {
                        "name": "University of Alabama at Birmingham",
                        "count": 1
                      },
                      {
                        "name": "3 others",
                        "count": 3
                      }
                    ]
                  }
                },
                {
                  "name": "TUITIONFEE_IN",
                  "dtype": "float64",
                  "stats": {
                    "unique_count": 5,
                    "nan_count": 0,
                    "min": "3640.0",
                    "max": "6000.0",
                    "histogram": [
                      {
                        "bin_start": 3640,
                        "bin_end": 3876,
                        "count": 1
                      },
                      {
                        "bin_start": 3876,
                        "bin_end": 4112,
                        "count": 1
                      },
                      {
                        "bin_start": 4112,
                        "bin_end": 4348,
                        "count": 0
                      },
                      {
                        "bin_start": 4348,
                        "bin_end": 4584,
                        "count": 0
                      },
                      {
                        "bin_start": 4584,
                        "bin_end": 4820,
                        "count": 1
                      },
                      {
                        "bin_start": 4820,
                        "bin_end": 5056,
                        "count": 1
                      },
                      {
                        "bin_start": 5056,
                        "bin_end": 5292,
                        "count": 0
                      },
                      {
                        "bin_start": 5292,
                        "bin_end": 5528,
                        "count": 0
                      },
                      {
                        "bin_start": 5528,
                        "bin_end": 5764,
                        "count": 0
                      },
                      {
                        "bin_start": 5764,
                        "bin_end": 6000,
                        "count": 1
                      }
                    ]
                  }
                },
                {
                  "name": "_deepnote_index_column",
                  "dtype": "int64"
                }
              ],
              "rows_top": [
                {
                  "INSTNM": "Alabama A & M University",
                  "TUITIONFEE_IN": 3640,
                  "_deepnote_index_column": 1
                },
                {
                  "INSTNM": "University of Alabama at Birmingham",
                  "TUITIONFEE_IN": 4792,
                  "_deepnote_index_column": 2
                },
                {
                  "INSTNM": "Amridge University",
                  "TUITIONFEE_IN": 6000,
                  "_deepnote_index_column": 3
                },
                {
                  "INSTNM": "University of Alabama in Huntsville",
                  "TUITIONFEE_IN": 4848,
                  "_deepnote_index_column": 4
                },
                {
                  "INSTNM": "Alabama State University",
                  "TUITIONFEE_IN": 4008,
                  "_deepnote_index_column": 5
                }
              ],
              "rows_bottom": null
            },
            "text/plain": "                                INSTNM  TUITIONFEE_IN\n1             Alabama A & M University         3640.0\n2  University of Alabama at Birmingham         4792.0\n3                   Amridge University         6000.0\n4  University of Alabama in Huntsville         4848.0\n5             Alabama State University         4008.0",
            "text/html": "<div>\n<style scoped>\n    .dataframe tbody tr th:only-of-type {\n        vertical-align: middle;\n    }\n\n    .dataframe tbody tr th {\n        vertical-align: top;\n    }\n\n    .dataframe thead th {\n        text-align: right;\n    }\n</style>\n<table border=\"1\" class=\"dataframe\">\n  <thead>\n    <tr style=\"text-align: right;\">\n      <th></th>\n      <th>INSTNM</th>\n      <th>TUITIONFEE_IN</th>\n    </tr>\n  </thead>\n  <tbody>\n    <tr>\n      <th>1</th>\n      <td>Alabama A &amp; M University</td>\n      <td>3640.0</td>\n    </tr>\n    <tr>\n      <th>2</th>\n      <td>University of Alabama at Birmingham</td>\n      <td>4792.0</td>\n    </tr>\n    <tr>\n      <th>3</th>\n      <td>Amridge University</td>\n      <td>6000.0</td>\n    </tr>\n    <tr>\n      <th>4</th>\n      <td>University of Alabama in Huntsville</td>\n      <td>4848.0</td>\n    </tr>\n    <tr>\n      <th>5</th>\n      <td>Alabama State University</td>\n      <td>4008.0</td>\n    </tr>\n  </tbody>\n</table>\n</div>"
          },
          "metadata": {}
        }
      ]
    },
    {
      "cell_type": "code",
      "metadata": {
        "tags": [],
        "cell_id": "00015-6eb10432-1c86-49e6-bd03-8832d5067404",
        "deepnote_to_be_reexecuted": false,
        "source_hash": "71568cb5",
        "execution_millis": 9,
        "execution_start": 1618696075988,
        "deepnote_cell_type": "code"
      },
      "source": "Drop_Miss_Val['INSTNM'][1]",
      "execution_count": 14,
      "outputs": [
        {
          "output_type": "execute_result",
          "execution_count": 14,
          "data": {
            "text/plain": "'Alabama A & M University'"
          },
          "metadata": {}
        }
      ]
    },
    {
      "cell_type": "code",
      "metadata": {
        "tags": [],
        "cell_id": "00016-2a57ba87-71e4-4670-b4ba-f8be6d61d9e2",
        "deepnote_to_be_reexecuted": false,
        "source_hash": "91c0bf11",
        "execution_millis": 7,
        "execution_start": 1618696076030,
        "deepnote_cell_type": "code"
      },
      "source": "Drop_Miss_Val['TUITIONFEE_IN'][1]",
      "execution_count": 15,
      "outputs": [
        {
          "output_type": "execute_result",
          "execution_count": 15,
          "data": {
            "text/plain": "3640.0"
          },
          "metadata": {}
        }
      ]
    },
    {
      "cell_type": "code",
      "metadata": {
        "tags": [],
        "cell_id": "00010-54d84c4a-9f13-43e2-8980-e51919b3e48b",
        "deepnote_to_be_reexecuted": false,
        "source_hash": "c33dad91",
        "execution_millis": 53,
        "execution_start": 1618696076031,
        "deepnote_cell_type": "code"
      },
      "source": "# 7 - Find out how many observations have 0 tution.\nDrop_Miss_Val.info()",
      "execution_count": 16,
      "outputs": [
        {
          "name": "stdout",
          "text": "<class 'pandas.core.frame.DataFrame'>\nInt64Index: 4201 entries, 1 to 6945\nData columns (total 2 columns):\n #   Column         Non-Null Count  Dtype  \n---  ------         --------------  -----  \n 0   INSTNM         4201 non-null   object \n 1   TUITIONFEE_IN  4201 non-null   float64\ndtypes: float64(1), object(1)\nmemory usage: 227.5+ KB\n",
          "output_type": "stream"
        }
      ]
    },
    {
      "cell_type": "code",
      "metadata": {
        "tags": [],
        "cell_id": "00018-c2aa6883-1007-493b-a2d3-7ef92951603a",
        "deepnote_to_be_reexecuted": false,
        "source_hash": "e3316eea",
        "execution_millis": 5,
        "execution_start": 1618696076079,
        "deepnote_cell_type": "code"
      },
      "source": "# Checking if there is a zero. There s Zero in TuitionFee_In\n(Drop_Miss_Val==0).any()",
      "execution_count": 17,
      "outputs": [
        {
          "output_type": "execute_result",
          "execution_count": 17,
          "data": {
            "text/plain": "INSTNM           False\nTUITIONFEE_IN     True\ndtype: bool"
          },
          "metadata": {}
        }
      ]
    },
    {
      "cell_type": "code",
      "metadata": {
        "tags": [],
        "cell_id": "00011-2b35df91-11d8-477e-8e66-bb1194bed416",
        "deepnote_to_be_reexecuted": false,
        "source_hash": "dcd7ea24",
        "execution_millis": 35,
        "execution_start": 1618696076079,
        "deepnote_cell_type": "code"
      },
      "source": "# 8 - Drop those observations with 0 tuition\nDrop_Zero = Drop_Miss_Val[Drop_Miss_Val['TUITIONFEE_IN'] != 0]\nDrop_Zero.info()",
      "execution_count": 18,
      "outputs": [
        {
          "name": "stdout",
          "text": "<class 'pandas.core.frame.DataFrame'>\nInt64Index: 4196 entries, 1 to 6945\nData columns (total 2 columns):\n #   Column         Non-Null Count  Dtype  \n---  ------         --------------  -----  \n 0   INSTNM         4196 non-null   object \n 1   TUITIONFEE_IN  4196 non-null   float64\ndtypes: float64(1), object(1)\nmemory usage: 98.3+ KB\n",
          "output_type": "stream"
        }
      ]
    },
    {
      "cell_type": "code",
      "metadata": {
        "tags": [],
        "cell_id": "00012-5e8257ae-2047-4365-a770-58615727ea18",
        "deepnote_to_be_reexecuted": false,
        "source_hash": "bef65873",
        "execution_millis": 0,
        "execution_start": 1618696076097,
        "deepnote_cell_type": "code"
      },
      "source": "# 9 - Calculate and display the mean (average) of the tuitions of all\n# the remaining observations \ndef Average():\n    Sum = Drop_Zero['TUITIONFEE_IN'].sum()\n    Sum = Sum.astype(float)\n    Count = Drop_Zero['TUITIONFEE_IN'].count()\n    Count = Count.astype(float)\n    Average = Sum/Count\n    round_avg =round(Average, 2)\n    return round_avg\n",
      "execution_count": 19,
      "outputs": []
    },
    {
      "cell_type": "code",
      "metadata": {
        "tags": [],
        "cell_id": "00022-53c2b1ef-c4df-43d5-86f5-6e53a88aafd7",
        "deepnote_to_be_reexecuted": false,
        "source_hash": "2b63366",
        "execution_millis": 16,
        "execution_start": 1618696076098,
        "deepnote_cell_type": "code"
      },
      "source": "Avg = Average()\nAvg",
      "execution_count": 20,
      "outputs": [
        {
          "output_type": "execute_result",
          "execution_count": 20,
          "data": {
            "text/plain": "10127.1"
          },
          "metadata": {}
        }
      ]
    },
    {
      "cell_type": "code",
      "metadata": {
        "tags": [],
        "cell_id": "00013-11d04a3a-54ac-408d-9314-f6cb2496ac7a",
        "deepnote_to_be_reexecuted": false,
        "source_hash": "b7b24b1d",
        "execution_millis": 2,
        "execution_start": 1618696076100,
        "deepnote_cell_type": "code"
      },
      "source": "# 10 - Randomly select just 1 observation from the data frame.\n# Display the tuition of that observation. \n# 11 - Calculate the different between the tuition of this observation and \n# the mean tuition off all observations calculated earlier.\n# Display the difference\n",
      "execution_count": 21,
      "outputs": []
    },
    {
      "cell_type": "code",
      "metadata": {
        "tags": [],
        "cell_id": "00014-8f61b695-bfb6-4e1e-a1ea-e479b20a0307",
        "deepnote_to_be_reexecuted": false,
        "source_hash": "687cfb21",
        "execution_millis": 0,
        "execution_start": 1618696076109,
        "deepnote_cell_type": "code"
      },
      "source": "# A function was made to randomly select from the cleaned dataframe\n# the difference from the tuition and population mean is compute\nfrom random import choice\nx = Drop_Zero\ndef Diff():\n    f = len(x)              # length of dataframe\n    i = choice(range(f))    # choosing within the range of the length of dataframe\n    print(i, '\\t', x.INSTNM[i],'\\t' , x.TUITIONFEE_IN[i])\n    Difference = Avg - x.TUITIONFEE_IN[i]\n    round_diff = round(Difference, 2)\n    print(\"If the difference is negative, the tuition is more expensive than population mean,\")\n    print(\"positive is cheaper,\", \"Difference: \")\n    return round_diff",
      "execution_count": 22,
      "outputs": []
    },
    {
      "cell_type": "code",
      "metadata": {
        "tags": [],
        "cell_id": "00025-844f07ae-c743-4462-8b80-ed9fb0181ec3",
        "deepnote_to_be_reexecuted": false,
        "source_hash": "4ae13e57",
        "execution_millis": 8,
        "execution_start": 1618696101150,
        "deepnote_cell_type": "code"
      },
      "source": "Diff()",
      "execution_count": 24,
      "outputs": [
        {
          "name": "stdout",
          "text": "815 \t Florida State College at Jacksonville \t 1714.0\nIf the difference is negative, the tuition is more expensive than population mean,\npositive is cheaper, Difference: \n",
          "output_type": "stream"
        },
        {
          "output_type": "execute_result",
          "execution_count": 24,
          "data": {
            "text/plain": "8413.1"
          },
          "metadata": {}
        }
      ]
    },
    {
      "cell_type": "code",
      "metadata": {
        "tags": [],
        "cell_id": "00015-855e583d-4b03-40fc-a68b-648aab767872",
        "deepnote_to_be_reexecuted": false,
        "source_hash": "db4fb7",
        "execution_millis": 8,
        "execution_start": 1618696108092,
        "deepnote_cell_type": "code"
      },
      "source": "# 12 - Repeat 10 to 11 several times get the feel of the size of the \n# difference in means\n\nDiff()",
      "execution_count": 25,
      "outputs": [
        {
          "name": "stdout",
          "text": "2060 \t Northwestern Michigan College \t 2650.0\nIf the difference is negative, the tuition is more expensive than population mean,\npositive is cheaper, Difference: \n",
          "output_type": "stream"
        },
        {
          "output_type": "execute_result",
          "execution_count": 25,
          "data": {
            "text/plain": "7477.1"
          },
          "metadata": {}
        }
      ]
    },
    {
      "cell_type": "code",
      "metadata": {
        "tags": [],
        "cell_id": "00026-e438613f-4bb0-4e8f-b4bd-3ca1ed61fee6",
        "deepnote_to_be_reexecuted": false,
        "source_hash": "4ae13e57",
        "execution_millis": 10,
        "execution_start": 1618696112363,
        "deepnote_cell_type": "code"
      },
      "source": "Diff()",
      "execution_count": 26,
      "outputs": [
        {
          "name": "stdout",
          "text": "3324 \t Lincoln College of Technology-Dayton \t 9120.0\nIf the difference is negative, the tuition is more expensive than population mean,\npositive is cheaper, Difference: \n",
          "output_type": "stream"
        },
        {
          "output_type": "execute_result",
          "execution_count": 26,
          "data": {
            "text/plain": "1007.1"
          },
          "metadata": {}
        }
      ]
    },
    {
      "cell_type": "code",
      "metadata": {
        "tags": [],
        "cell_id": "00027-98bac246-5080-4e62-accf-0f010869b5d9",
        "deepnote_to_be_reexecuted": false,
        "source_hash": "4ae13e57",
        "execution_millis": 9,
        "execution_start": 1618696129312,
        "deepnote_cell_type": "code"
      },
      "source": "Diff()",
      "execution_count": 29,
      "outputs": [
        {
          "name": "stdout",
          "text": "3632 \t Erie Business Center-New Castle \t 5310.0\nIf the difference is negative, the tuition is more expensive than population mean,\npositive is cheaper, Difference: \n",
          "output_type": "stream"
        },
        {
          "output_type": "execute_result",
          "execution_count": 29,
          "data": {
            "text/plain": "4817.1"
          },
          "metadata": {}
        }
      ]
    },
    {
      "cell_type": "code",
      "metadata": {
        "tags": [],
        "cell_id": "00029-ea3ce865-fb00-40f4-9f9d-d0f4855d8c87",
        "deepnote_to_be_reexecuted": false,
        "source_hash": "4ae13e57",
        "execution_millis": 12,
        "execution_start": 1618696135041,
        "deepnote_cell_type": "code"
      },
      "source": "Diff()",
      "execution_count": 30,
      "outputs": [
        {
          "name": "stdout",
          "text": "1371 \t Purdue University-Calumet Campus \t 5509.0\nIf the difference is negative, the tuition is more expensive than population mean,\npositive is cheaper, Difference: \n",
          "output_type": "stream"
        },
        {
          "output_type": "execute_result",
          "execution_count": 30,
          "data": {
            "text/plain": "4618.1"
          },
          "metadata": {}
        }
      ]
    },
    {
      "cell_type": "markdown",
      "source": "### **Observation**\nThere is a wide difference between the population mean and the universities/college's tuition fees",
      "metadata": {
        "tags": [],
        "cell_id": "00029-33d623b9-e003-4019-9875-4144d5ca96a6",
        "deepnote_cell_type": "markdown"
      }
    },
    {
      "cell_type": "code",
      "metadata": {
        "tags": [],
        "cell_id": "00016-b60cec47-8c67-427e-a198-8c37d5ec10dc",
        "deepnote_to_be_reexecuted": false,
        "source_hash": "d81bcd86",
        "execution_millis": 6,
        "execution_start": 1618696144739,
        "deepnote_cell_type": "code"
      },
      "source": "# 13 - Randomly select 20 observations, display the tuition of these \n# observation. \nRandom_20 = Drop_Zero.sample(20)\nRandom_20.head(5)",
      "execution_count": 31,
      "outputs": [
        {
          "output_type": "execute_result",
          "execution_count": 31,
          "data": {
            "application/vnd.deepnote.dataframe.v2+json": {
              "row_count": 5,
              "column_count": 2,
              "columns": [
                {
                  "name": "INSTNM",
                  "dtype": "object",
                  "stats": {
                    "unique_count": 5,
                    "nan_count": 0,
                    "categories": [
                      {
                        "name": "Fayette Institute of Technology",
                        "count": 1
                      },
                      {
                        "name": "Modesto Junior College",
                        "count": 1
                      },
                      {
                        "name": "3 others",
                        "count": 3
                      }
                    ]
                  }
                },
                {
                  "name": "TUITIONFEE_IN",
                  "dtype": "float64",
                  "stats": {
                    "unique_count": 5,
                    "nan_count": 0,
                    "min": "662.0",
                    "max": "12650.0",
                    "histogram": [
                      {
                        "bin_start": 662,
                        "bin_end": 1860.8,
                        "count": 2
                      },
                      {
                        "bin_start": 1860.8,
                        "bin_end": 3059.6,
                        "count": 1
                      },
                      {
                        "bin_start": 3059.6,
                        "bin_end": 4258.4,
                        "count": 0
                      },
                      {
                        "bin_start": 4258.4,
                        "bin_end": 5457.2,
                        "count": 1
                      },
                      {
                        "bin_start": 5457.2,
                        "bin_end": 6656,
                        "count": 0
                      },
                      {
                        "bin_start": 6656,
                        "bin_end": 7854.799999999999,
                        "count": 0
                      },
                      {
                        "bin_start": 7854.799999999999,
                        "bin_end": 9053.6,
                        "count": 0
                      },
                      {
                        "bin_start": 9053.6,
                        "bin_end": 10252.4,
                        "count": 0
                      },
                      {
                        "bin_start": 10252.4,
                        "bin_end": 11451.199999999999,
                        "count": 0
                      },
                      {
                        "bin_start": 11451.199999999999,
                        "bin_end": 12650,
                        "count": 1
                      }
                    ]
                  }
                },
                {
                  "name": "_deepnote_index_column",
                  "dtype": "int64"
                }
              ],
              "rows_top": [
                {
                  "INSTNM": "Fayette Institute of Technology",
                  "TUITIONFEE_IN": 2600,
                  "_deepnote_index_column": 5425
                },
                {
                  "INSTNM": "Modesto Junior College",
                  "TUITIONFEE_IN": 662,
                  "_deepnote_index_column": 465
                },
                {
                  "INSTNM": "De Anza College",
                  "TUITIONFEE_IN": 869,
                  "_deepnote_index_column": 328
                },
                {
                  "INSTNM": "DeVry University-Georgia",
                  "TUITIONFEE_IN": 12650,
                  "_deepnote_index_column": 984
                },
                {
                  "INSTNM": "Automeca Technical College-Bayamon",
                  "TUITIONFEE_IN": 5050,
                  "_deepnote_index_column": 5622
                }
              ],
              "rows_bottom": null
            },
            "text/plain": "                                  INSTNM  TUITIONFEE_IN\n5425     Fayette Institute of Technology         2600.0\n465               Modesto Junior College          662.0\n328                      De Anza College          869.0\n984             DeVry University-Georgia        12650.0\n5622  Automeca Technical College-Bayamon         5050.0",
            "text/html": "<div>\n<style scoped>\n    .dataframe tbody tr th:only-of-type {\n        vertical-align: middle;\n    }\n\n    .dataframe tbody tr th {\n        vertical-align: top;\n    }\n\n    .dataframe thead th {\n        text-align: right;\n    }\n</style>\n<table border=\"1\" class=\"dataframe\">\n  <thead>\n    <tr style=\"text-align: right;\">\n      <th></th>\n      <th>INSTNM</th>\n      <th>TUITIONFEE_IN</th>\n    </tr>\n  </thead>\n  <tbody>\n    <tr>\n      <th>5425</th>\n      <td>Fayette Institute of Technology</td>\n      <td>2600.0</td>\n    </tr>\n    <tr>\n      <th>465</th>\n      <td>Modesto Junior College</td>\n      <td>662.0</td>\n    </tr>\n    <tr>\n      <th>328</th>\n      <td>De Anza College</td>\n      <td>869.0</td>\n    </tr>\n    <tr>\n      <th>984</th>\n      <td>DeVry University-Georgia</td>\n      <td>12650.0</td>\n    </tr>\n    <tr>\n      <th>5622</th>\n      <td>Automeca Technical College-Bayamon</td>\n      <td>5050.0</td>\n    </tr>\n  </tbody>\n</table>\n</div>"
          },
          "metadata": {}
        }
      ]
    },
    {
      "cell_type": "code",
      "metadata": {
        "tags": [],
        "cell_id": "00017-78a78086-29e7-4883-8e55-23a254685469",
        "deepnote_to_be_reexecuted": false,
        "source_hash": "b529f9f5",
        "execution_millis": 2,
        "execution_start": 1618696154920,
        "deepnote_cell_type": "code"
      },
      "source": "# 14 - Calculate and displat the mean tuition of these 20 observations\ndef Rand_Average():\n    Random_20 = Drop_Zero.sample(20)\n    Sum = Random_20['TUITIONFEE_IN'].sum()\n    Sum = Sum.astype(float)\n    Count = Random_20['TUITIONFEE_IN'].count()\n    Count = Count.astype(float)\n    Rand_Avg = Sum/Count\n    Rand_Avg = Rand_Avg.astype(float)\n    Rand_Avg = round(Rand_Avg, 2)\n    Rand_Avg2 = round(Rand_Avg, 2)\n    Difference = Avg - Rand_Avg2\n    Difference = round(Difference, 2)\n    print(\"Below is the Sample Mean, Population Mean, Difference.\")\n    return Rand_Avg, Avg, Difference",
      "execution_count": 32,
      "outputs": []
    },
    {
      "cell_type": "code",
      "metadata": {
        "tags": [],
        "cell_id": "00018-72f7e376-6541-4d74-9407-f402a344d2b1",
        "deepnote_to_be_reexecuted": false,
        "source_hash": "e616e628",
        "execution_millis": 11,
        "execution_start": 1618696158140,
        "deepnote_cell_type": "code"
      },
      "source": "# 15 - Calculate  the different between the average tuition of these 20 observations \n# and the mean tuition off all observations calculated earlier.\n# Display the difference\nSum = Random_20['TUITIONFEE_IN'].sum()\nSum = Sum.astype(float)\nCount = Random_20['TUITIONFEE_IN'].count()\nCount = Count.astype(float)\nRand_Avg = Sum/Count\nDifference = Avg - Rand_Avg\nprint(\"Sum: \", Sum, \"\\tCount: \", Count, \"\\tRandom Average: \", Rand_Avg, \n      \"\\tDifference: \", Difference)\n",
      "execution_count": 33,
      "outputs": [
        {
          "name": "stdout",
          "text": "Sum:  173095.0 \tCount:  20.0 \tRandom Average:  8654.75 \tDifference:  1472.3500000000004\n",
          "output_type": "stream"
        }
      ]
    },
    {
      "cell_type": "code",
      "metadata": {
        "tags": [],
        "cell_id": "00019-4a6344a4-4c83-423a-a7b0-3b2804c19492",
        "deepnote_to_be_reexecuted": false,
        "source_hash": "c8833055",
        "execution_millis": 9,
        "execution_start": 1618696165525,
        "deepnote_cell_type": "code"
      },
      "source": "# 16 - Repeat 13 to 15 several times and get the feel of the size of the difference in means \n# Compare these differences with the differences calculated earlier with just 1 observation\n# Describe your hunch/conclusion\nRand_Average()",
      "execution_count": 34,
      "outputs": [
        {
          "name": "stdout",
          "text": "Below is the Sample Mean, Population Mean, Difference.\n",
          "output_type": "stream"
        },
        {
          "output_type": "execute_result",
          "execution_count": 34,
          "data": {
            "text/plain": "(10227.9, 10127.1, -100.8)"
          },
          "metadata": {}
        }
      ]
    },
    {
      "cell_type": "code",
      "metadata": {
        "tags": [],
        "cell_id": "00034-46206125-1e0c-47b9-868e-1687e5a3165b",
        "deepnote_to_be_reexecuted": false,
        "source_hash": "85d7b54",
        "execution_millis": 11,
        "execution_start": 1618696168998,
        "deepnote_cell_type": "code"
      },
      "source": "Rand_Average()",
      "execution_count": 35,
      "outputs": [
        {
          "name": "stdout",
          "text": "Below is the Sample Mean, Population Mean, Difference.\n",
          "output_type": "stream"
        },
        {
          "output_type": "execute_result",
          "execution_count": 35,
          "data": {
            "text/plain": "(7552.6, 10127.1, 2574.5)"
          },
          "metadata": {}
        }
      ]
    },
    {
      "cell_type": "code",
      "metadata": {
        "tags": [],
        "cell_id": "00035-81c31f57-d38f-4e89-9ba1-d57ce9157833",
        "deepnote_to_be_reexecuted": false,
        "source_hash": "85d7b54",
        "execution_millis": 10,
        "execution_start": 1618696175312,
        "deepnote_cell_type": "code"
      },
      "source": "Rand_Average()",
      "execution_count": 36,
      "outputs": [
        {
          "name": "stdout",
          "text": "Below is the Sample Mean, Population Mean, Difference.\n",
          "output_type": "stream"
        },
        {
          "output_type": "execute_result",
          "execution_count": 36,
          "data": {
            "text/plain": "(9050.4, 10127.1, 1076.7)"
          },
          "metadata": {}
        }
      ]
    },
    {
      "cell_type": "code",
      "metadata": {
        "tags": [],
        "cell_id": "00036-1e07ef60-0a1e-49a2-8085-76df2778a3bc",
        "deepnote_to_be_reexecuted": false,
        "source_hash": "85d7b54",
        "execution_millis": 11,
        "execution_start": 1618696177772,
        "deepnote_cell_type": "code"
      },
      "source": "Rand_Average()",
      "execution_count": 37,
      "outputs": [
        {
          "name": "stdout",
          "text": "Below is the Sample Mean, Population Mean, Difference.\n",
          "output_type": "stream"
        },
        {
          "output_type": "execute_result",
          "execution_count": 37,
          "data": {
            "text/plain": "(8503.9, 10127.1, 1623.2)"
          },
          "metadata": {}
        }
      ]
    },
    {
      "cell_type": "code",
      "metadata": {
        "tags": [],
        "cell_id": "00037-13d97710-cdca-4efc-a975-9b2c5075e59f",
        "deepnote_to_be_reexecuted": false,
        "source_hash": "85d7b54",
        "execution_millis": 9,
        "execution_start": 1618696183830,
        "deepnote_cell_type": "code"
      },
      "source": "Rand_Average()",
      "execution_count": 38,
      "outputs": [
        {
          "name": "stdout",
          "text": "Below is the Sample Mean, Population Mean, Difference.\n",
          "output_type": "stream"
        },
        {
          "output_type": "execute_result",
          "execution_count": 38,
          "data": {
            "text/plain": "(9558.3, 10127.1, 568.8)"
          },
          "metadata": {}
        }
      ]
    },
    {
      "cell_type": "code",
      "metadata": {
        "tags": [],
        "cell_id": "00038-816df4ec-0ff5-4c93-ae42-57575e30c453",
        "deepnote_to_be_reexecuted": false,
        "source_hash": "85d7b54",
        "execution_millis": 11,
        "execution_start": 1618696186881,
        "deepnote_cell_type": "code"
      },
      "source": "Rand_Average()",
      "execution_count": 39,
      "outputs": [
        {
          "name": "stdout",
          "text": "Below is the Sample Mean, Population Mean, Difference.\n",
          "output_type": "stream"
        },
        {
          "output_type": "execute_result",
          "execution_count": 39,
          "data": {
            "text/plain": "(8585.25, 10127.1, 1541.85)"
          },
          "metadata": {}
        }
      ]
    },
    {
      "cell_type": "markdown",
      "source": "### **Observation** \nThe difference between the sample mean and population mean has a narrower gap than the difference between the tuition of a school and population mean",
      "metadata": {
        "tags": [],
        "cell_id": "00039-fae72273-324b-4e9f-ae01-eaf4b458cf95",
        "deepnote_cell_type": "markdown"
      }
    },
    {
      "cell_type": "code",
      "metadata": {
        "tags": [],
        "cell_id": "00042-66628798-909f-4699-ae48-629e7b43f78c",
        "deepnote_to_be_reexecuted": false,
        "source_hash": "6ad8db4c",
        "execution_millis": 3,
        "execution_start": 1618696193277,
        "deepnote_cell_type": "code"
      },
      "source": "# 17 \n#Write a function that take two input parameters:\n#- x (number of observations) \n#- y (the name of the dataframe). \n\n#The function will perform the following: \n#- Randomly select x observations from y\n#- Calculate the mean of these x observations \n#- Calculate the mean of all observations\n#- Calculate the difference between the two means \n#- Return the difference\n",
      "execution_count": 40,
      "outputs": []
    },
    {
      "cell_type": "code",
      "metadata": {
        "tags": [],
        "cell_id": "00020-1e8f6c09-fa5c-435c-a2ee-e6a655ef408e",
        "deepnote_to_be_reexecuted": false,
        "source_hash": "c3fef9a9",
        "execution_millis": 29247,
        "execution_start": 1618696196482,
        "deepnote_cell_type": "code"
      },
      "source": "y = Drop_Zero              # The cleanse dataframe\n\ndef Diff_Pop_Sample_Mean(x, y): \n    x = int(input(\"Enter the desired number of observation: \"))\n    Random_Samples = y.sample(x)                         # sample of no. of observation     \n    Sample_Mean = Random_Samples['TUITIONFEE_IN'].mean()\n    Pop_Mean = y['TUITIONFEE_IN'].mean()\n    Diff = Pop_Mean - Sample_Mean\n    print(\"Random Samples of \", x)\n    print(Random_Samples)\n    print(\"Sample_Mean: \", Sample_Mean, \"\\tPop_Mean: \", Pop_Mean)\n    print(\"Difference: \")\n    return Diff\n    \nDiff_Pop_Sample_Mean(x, y)",
      "execution_count": 41,
      "outputs": [
        {
          "name": "stdout",
          "text": "Random Samples of  5\n                                    INSTNM  TUITIONFEE_IN\n4942                     Hodges University        10100.0\n3634  Mansfield University of Pennsylvania         6651.0\n1682             Nicholls State University         3471.0\n2      University of Alabama at Birmingham         4792.0\n2123         Inver Hills Community College         4368.0\nSample_Mean:  5876.4 \tPop_Mean:  10127.099142040039\nDifference: \n",
          "output_type": "stream"
        },
        {
          "output_type": "execute_result",
          "execution_count": 41,
          "data": {
            "text/plain": "4250.699142040039"
          },
          "metadata": {}
        }
      ]
    },
    {
      "cell_type": "code",
      "metadata": {
        "tags": [],
        "cell_id": "00022-24766451-d9ba-4dfb-a285-d31947ed7d86",
        "deepnote_to_be_reexecuted": false,
        "source_hash": "3b62c0bf",
        "execution_millis": 10396,
        "execution_start": 1618696225726,
        "deepnote_cell_type": "code"
      },
      "source": "# 18 - test the function by passing a sample size and the name of the \n# dataframe. Dsplay the return of the function\nDiff_Pop_Sample_Mean(x, y)",
      "execution_count": 42,
      "outputs": [
        {
          "name": "stdout",
          "text": "Random Samples of  10\n                                      INSTNM  TUITIONFEE_IN\n4044     Dallas Institute of Funeral Service        10000.0\n1441        Mercy College of Health Sciences        12400.0\n3420          Western Oklahoma State College         2400.0\n2406                   Chadron State College         3855.0\n641                Colorado Mountain College         1470.0\n4775  Southern Union State Community College         2462.0\n2973            Blue Ridge Community College         1264.0\n3037                        Montreat College        16182.0\n4274            Blue Ridge Community College         2334.0\n3774                       Wilkes University        22990.0\nSample_Mean:  7535.7 \tPop_Mean:  10127.099142040039\nDifference: \n",
          "output_type": "stream"
        },
        {
          "output_type": "execute_result",
          "execution_count": 42,
          "data": {
            "text/plain": "2591.399142040039"
          },
          "metadata": {}
        }
      ]
    },
    {
      "cell_type": "code",
      "metadata": {
        "tags": [],
        "cell_id": "00023-d491d609-1631-40f3-a12c-00e514e142ef",
        "deepnote_to_be_reexecuted": false,
        "source_hash": "d766af45",
        "execution_millis": 7,
        "execution_start": 1618696244707,
        "deepnote_cell_type": "code"
      },
      "source": "# 19 - Create a list of sequence numbers from 1 to 50, name it \n# \"sample_sizes\"; display it to make sure its members are from 1 to \nsample_sizes = np.arange(1, 51)\nsample_sizes",
      "execution_count": 43,
      "outputs": [
        {
          "output_type": "execute_result",
          "execution_count": 43,
          "data": {
            "text/plain": "array([ 1,  2,  3,  4,  5,  6,  7,  8,  9, 10, 11, 12, 13, 14, 15, 16, 17,\n       18, 19, 20, 21, 22, 23, 24, 25, 26, 27, 28, 29, 30, 31, 32, 33, 34,\n       35, 36, 37, 38, 39, 40, 41, 42, 43, 44, 45, 46, 47, 48, 49, 50])"
          },
          "metadata": {}
        }
      ]
    },
    {
      "cell_type": "code",
      "metadata": {
        "tags": [],
        "cell_id": "00024-69c510de-e5eb-4f81-ab97-db571b6da6c2",
        "deepnote_to_be_reexecuted": false,
        "source_hash": "6db6b6d4",
        "execution_millis": 2,
        "execution_start": 1618696248754,
        "deepnote_cell_type": "code"
      },
      "source": "# 20 - Create an empty list and name it \"means_diff\" for differences of \n# population mean and sample means; Loop through the list sample_sizes:\n# For each element in the sample size list, obtain a random sample of that size from the data frame;\n# Calculate the sample mean \n# Calculate the difference between the population mean and the sample mean\n# Append the difference to the list \"means_diff\"\n# Display the list \"means_diff\" after the loop is completed\nmeans_diff = []\ny = Drop_Zero\nnum_sample = []\ndef Mean_Diff(sample_sizes, y):\n    for i in sample_sizes:\n        sample_list = y.sample(len(sample_sizes))\n        sample_list_mean = sample_list['TUITIONFEE_IN'].mean()\n        pop_mean = y[\"TUITIONFEE_IN\"].mean()\n        diff = pop_mean - sample_list_mean\n        round_diff = round(diff, 2)\n        means_diff.append(round_diff)\n    return means_diff",
      "execution_count": 44,
      "outputs": []
    },
    {
      "cell_type": "code",
      "metadata": {
        "tags": [],
        "cell_id": "00025-5196ea54-0c73-4e7e-9bfa-f04e4945e565",
        "deepnote_to_be_reexecuted": false,
        "source_hash": "76d895ad",
        "execution_millis": 290,
        "execution_start": 1618696255180,
        "deepnote_cell_type": "code"
      },
      "source": "# 21 - Make a scatter plot with sample size on the x-axs and  mean difference on the y-axis\n# Observe as the sample size increases, the sample means converge to the population mean.\n# Make sure you make the plot large enough\nMean_Diff(sample_sizes, y)\nplt.xlabel(\"Sample Sizes\")\nplt.ylabel(\"Differences between Population Mean and Sample Mean\")\nplt.scatter(sample_sizes, means_diff) ",
      "execution_count": 45,
      "outputs": [
        {
          "output_type": "execute_result",
          "execution_count": 45,
          "data": {
            "text/plain": "<matplotlib.collections.PathCollection at 0x7fd903865b90>"
          },
          "metadata": {}
        },
        {
          "data": {
            "text/plain": "<Figure size 864x576 with 1 Axes>",
            "image/png": "[encoded data removed]"
          },
          "metadata": {
            "needs_background": "light"
          },
          "output_type": "display_data"
        }
      ]
    },
    {
      "cell_type": "code",
      "metadata": {
        "tags": [],
        "cell_id": "00006-2320150c-e0a4-4cd0-80a2-6b0ce48a124a",
        "deepnote_to_be_reexecuted": false,
        "source_hash": "4e533a53",
        "execution_millis": 446,
        "execution_start": 1618696267818,
        "deepnote_cell_type": "code"
      },
      "source": "# 22 - repeat 18 to 21 by replacing 50 with a larger number. For example, 300, or even 1000.\n# and see how the plot looks.\nmeans_diff = []\nsample_sizes = np.arange(1,301)\nMean_Diff(sample_sizes, y)\nplt.xlabel(\"Sample Sizes\")\nplt.ylabel(\"Differences between Population Mean and Sample Mean\")\nplt.scatter(sample_sizes, means_diff)\n",
      "execution_count": 47,
      "outputs": [
        {
          "output_type": "execute_result",
          "execution_count": 47,
          "data": {
            "text/plain": "<matplotlib.collections.PathCollection at 0x7fd903488690>"
          },
          "metadata": {}
        },
        {
          "data": {
            "text/plain": "<Figure size 864x576 with 1 Axes>",
            "image/png": "[encoded data removed]"
          },
          "metadata": {
            "needs_background": "light"
          },
          "output_type": "display_data"
        }
      ]
    },
    {
      "cell_type": "code",
      "metadata": {
        "tags": [],
        "cell_id": "00050-f98c410e-a3d0-4d4c-a840-5b35e20cf474",
        "deepnote_to_be_reexecuted": false,
        "source_hash": "dc05dbfd",
        "execution_millis": 1105,
        "execution_start": 1618696273587,
        "deepnote_cell_type": "code"
      },
      "source": "means_diff = []\nsample_sizes = np.arange(1, 1001)\nMean_Diff(sample_sizes, y)\nplt.xlabel(\"Sample Sizes\")\nplt.ylabel(\"Differences between Population Mean and Sample Mean\")\nplt.scatter(sample_sizes, means_diff)",
      "execution_count": 48,
      "outputs": [
        {
          "output_type": "execute_result",
          "execution_count": 48,
          "data": {
            "text/plain": "<matplotlib.collections.PathCollection at 0x7fd90339dc50>"
          },
          "metadata": {}
        },
        {
          "data": {
            "text/plain": "<Figure size 864x576 with 1 Axes>",
            "image/png": "[encoded data removed]"
          },
          "metadata": {
            "needs_background": "light"
          },
          "output_type": "display_data"
        }
      ]
    },
    {
      "cell_type": "code",
      "metadata": {
        "tags": [],
        "cell_id": "00052-df008102-57a3-4a4f-b4e1-5db88eed2b2d",
        "deepnote_to_be_reexecuted": false,
        "source_hash": "a051ea6e",
        "execution_millis": 3913,
        "execution_start": 1618696280920,
        "deepnote_cell_type": "code"
      },
      "source": "means_diff = []\nsample_sizes = np.arange(1, 4001)\nMean_Diff(sample_sizes, y)\nplt.xlabel(\"Sample Sizes\")\nplt.ylabel(\"Differences between Population Mean and Sample Mean\")\nplt.scatter(sample_sizes, means_diff)\n",
      "execution_count": 49,
      "outputs": [
        {
          "output_type": "execute_result",
          "execution_count": 49,
          "data": {
            "text/plain": "<matplotlib.collections.PathCollection at 0x7fd9032e9210>"
          },
          "metadata": {}
        },
        {
          "data": {
            "text/plain": "<Figure size 864x576 with 1 Axes>",
            "image/png": "[encoded data removed]"
          },
          "metadata": {
            "needs_background": "light"
          },
          "output_type": "display_data"
        }
      ]
    },
    {
      "cell_type": "markdown",
      "source": "### **Observation**\nThe larger the samples are the more concentrated are the differences within a certain range.",
      "metadata": {
        "tags": [],
        "cell_id": "00053-a3a8c34d-faf5-4d6d-94cc-7d91bcd07fee",
        "deepnote_cell_type": "markdown"
      }
    },
    {
      "cell_type": "markdown",
      "source": "<a style='text-decoration:none;line-height:16px;display:flex;color:#5B5B62;padding:10px;justify-content:end;' href='https://deepnote.com?utm_source=created-in-deepnote-cell&projectId=27901319-aedf-4b36-ba0a-e19011edaf93' target=\"_blank\">\n<img alt='Created in deepnote.com' style='display:inline;max-height:16px;margin:0px;margin-right:7.5px;' src='data:image/svg+xml;base64,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' > </img>\nCreated in <span style='font-weight:600;margin-left:4px;'>Deepnote</span></a>",
      "metadata": {
        "tags": [],
        "created_in_deepnote_cell": true,
        "deepnote_cell_type": "markdown"
      }
    }
  ],
  "nbformat": 4,
  "nbformat_minor": 2,
  "metadata": {
    "orig_nbformat": 2,
    "deepnote_notebook_id": "315f615c-c5ca-4ad9-b535-1e716f659264",
    "deepnote": {},
    "deepnote_execution_queue": []
  }
}