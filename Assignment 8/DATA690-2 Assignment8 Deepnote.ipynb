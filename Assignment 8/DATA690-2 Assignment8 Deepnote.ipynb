{
  "cells": [
    {
      "cell_type": "markdown",
      "source": "### Assignment 8\nThis assignment uses the College Score Card for Visualization by computing the population mean, sampler mean, and computing its differences. This projects shows the differences of the big and small sampler mean against the population mean.",
      "metadata": {
        "tags": [],
        "cell_id": "00000-72843ba8-822f-45c6-8524-dd0a9bea1e98",
        "deepnote_cell_type": "markdown"
      }
    },
    {
      "cell_type": "code",
      "metadata": {
        "tags": [],
        "cell_id": "00000-a4984c58-27cd-4492-af77-7d24aeefc8e5",
        "deepnote_to_be_reexecuted": false,
        "source_hash": "e73020ca",
        "execution_millis": 1112,
        "execution_start": 1618702810963,
        "deepnote_cell_type": "code"
      },
      "source": "# 1 - Import necessary libraries\nimport os\nimport numpy as np\nimport pandas as pd\nimport random\nimport matplotlib.pyplot as plt\nimport seaborn as sns \nfrom random import choice\nplt.rcParams[\"figure.figsize\"] = (12,8)   # Global Setting",
      "execution_count": 1,
      "outputs": []
    },
    {
      "cell_type": "code",
      "metadata": {
        "tags": [],
        "cell_id": "00003-1d6e5b91-002d-4039-8843-6180126ddea0",
        "deepnote_to_be_reexecuted": false,
        "source_hash": "2f4b4c01",
        "execution_millis": 58,
        "execution_start": 1618702812075,
        "deepnote_cell_type": "code"
      },
      "source": "cd",
      "execution_count": 2,
      "outputs": [
        {
          "name": "stdout",
          "text": "/root\n",
          "output_type": "stream"
        }
      ]
    },
    {
      "cell_type": "code",
      "metadata": {
        "tags": [],
        "cell_id": "00004-dccf42b3-38eb-40b8-b69c-0541f17e6eb3",
        "deepnote_to_be_reexecuted": false,
        "source_hash": "f3d3d5cd",
        "execution_millis": 57,
        "execution_start": 1618702812076,
        "deepnote_cell_type": "code"
      },
      "source": "cd work",
      "execution_count": 3,
      "outputs": [
        {
          "name": "stdout",
          "text": "/work\n",
          "output_type": "stream"
        }
      ]
    },
    {
      "cell_type": "code",
      "source": "ls -l",
      "metadata": {
        "tags": [],
        "cell_id": "00004-db18b6f0-4dc7-4b27-83f4-910a58a7c2e1",
        "deepnote_to_be_reexecuted": false,
        "source_hash": "1ccf5413",
        "execution_millis": 516,
        "execution_start": 1618702812077,
        "deepnote_cell_type": "code"
      },
      "outputs": [
        {
          "name": "stdout",
          "text": "total 376845\r\n-rw-r--r-- 1 root root 385541173 Jan 15 18:18  CollegeScorecard_Raw_Data_01192021.zip\r\ndrwxr-xr-x 4 root root         5 Apr 16 21:25  \u001b[0m\u001b[01;34mdata\u001b[0m/\r\n-rw-rw-r-- 1 root root    253617 Apr 17 23:40 'DATA690-2 Assignment8 Deepnote.ipynb'\r\n-rw-rw-r-- 1 root root      4671 Apr 17 22:46  init.ipynb\r\ndrwxr-xr-x 2 root root        32 Jan 15 03:40  \u001b[01;34mInput\u001b[0m/\r\ndrwxr-xr-x 3 root root         3 Apr 17 22:44  \u001b[01;34m__MACOSX\u001b[0m/\r\n",
          "output_type": "stream"
        }
      ],
      "execution_count": 4
    },
    {
      "cell_type": "code",
      "metadata": {
        "tags": [],
        "cell_id": "00003-57f1c8ba-efaa-445d-b0aa-b8a79555be19",
        "deepnote_to_be_reexecuted": false,
        "source_hash": "d7e410df",
        "execution_millis": 22,
        "execution_start": 1618702812571,
        "deepnote_cell_type": "code"
      },
      "source": "cd Input",
      "execution_count": 5,
      "outputs": [
        {
          "name": "stdout",
          "text": "/work/Input\n",
          "output_type": "stream"
        }
      ]
    },
    {
      "cell_type": "code",
      "metadata": {
        "tags": [],
        "cell_id": "00001-a87871d8-c54d-4bb4-a7da-828821471829",
        "deepnote_to_be_reexecuted": false,
        "source_hash": "79a6839b",
        "execution_millis": 21,
        "execution_start": 1618702812575,
        "deepnote_cell_type": "code"
      },
      "source": "current_folder = os.getcwd()\ncurrent_folder\n",
      "execution_count": 6,
      "outputs": [
        {
          "output_type": "execute_result",
          "execution_count": 6,
          "data": {
            "text/plain": "'/work/Input'"
          },
          "metadata": {}
        }
      ]
    },
    {
      "cell_type": "code",
      "metadata": {
        "tags": [],
        "cell_id": "00002-83037ed9-6ada-4ec7-bf2a-473e57a6ee7c",
        "deepnote_to_be_reexecuted": false,
        "source_hash": "908f417d",
        "execution_millis": 27,
        "execution_start": 1618702812582,
        "deepnote_cell_type": "code"
      },
      "source": "# 2 - Retrieve the names of the 22 files and assign them to a List variable\n# You would need to filter out other files\n# Display the names of these 22\nfiles = os.listdir()\nprint(len(files))\nfiles",
      "execution_count": 7,
      "outputs": [
        {
          "name": "stdout",
          "text": "30\n",
          "output_type": "stream"
        },
        {
          "output_type": "execute_result",
          "execution_count": 7,
          "data": {
            "text/plain": "['MERGED2015_16_PP.csv',\n 'Most-Recent-Cohorts-Field-of-Study.csv',\n 'MERGED2013_14_PP.csv',\n 'MERGED1996_97_PP.csv',\n 'MERGED2000_01_PP.csv',\n 'MERGED2002_03_PP.csv',\n 'Crosswalks.zip',\n 'MERGED1997_98_PP.csv',\n 'MERGED2006_07_PP.csv',\n 'MERGED2018_19_PP.csv',\n 'MERGED2011_12_PP.csv',\n 'MERGED2007_08_PP.csv',\n 'MERGED2004_05_PP.csv',\n 'MERGED2005_06_PP.csv',\n 'FieldOfStudyData1617_1718_PP.csv',\n 'FieldOfStudyData1415_1516_PP.csv',\n 'MERGED2003_04_PP.csv',\n 'MERGED1998_99_PP.csv',\n 'MERGED2010_11_PP.csv',\n 'MERGED2012_13_PP.csv',\n 'FieldOfStudyData1516_1617_PP.csv',\n 'MERGED1999_00_PP.csv',\n 'data.yaml',\n 'MERGED2016_17_PP.csv',\n 'MERGED2008_09_PP.csv',\n 'Most-Recent-Cohorts-All-Data-Elements.csv',\n 'MERGED2009_10_PP.csv',\n 'MERGED2001_02_PP.csv',\n 'MERGED2017_18_PP.csv',\n 'MERGED2014_15_PP.csv']"
          },
          "metadata": {}
        }
      ]
    },
    {
      "cell_type": "code",
      "metadata": {
        "tags": [],
        "cell_id": "00006-b2fdbeca-7197-4e30-9480-e3480f8ca8a0",
        "deepnote_to_be_reexecuted": false,
        "source_hash": "63d6cd57",
        "execution_millis": 8,
        "execution_start": 1618702812601,
        "deepnote_cell_type": "code"
      },
      "source": "\ncsv_files = [file for file in files if file.startswith('MERGED')]\ncsv_files",
      "execution_count": 8,
      "outputs": [
        {
          "output_type": "execute_result",
          "execution_count": 8,
          "data": {
            "text/plain": "['MERGED2015_16_PP.csv',\n 'MERGED2013_14_PP.csv',\n 'MERGED1996_97_PP.csv',\n 'MERGED2000_01_PP.csv',\n 'MERGED2002_03_PP.csv',\n 'MERGED1997_98_PP.csv',\n 'MERGED2006_07_PP.csv',\n 'MERGED2018_19_PP.csv',\n 'MERGED2011_12_PP.csv',\n 'MERGED2007_08_PP.csv',\n 'MERGED2004_05_PP.csv',\n 'MERGED2005_06_PP.csv',\n 'MERGED2003_04_PP.csv',\n 'MERGED1998_99_PP.csv',\n 'MERGED2010_11_PP.csv',\n 'MERGED2012_13_PP.csv',\n 'MERGED1999_00_PP.csv',\n 'MERGED2016_17_PP.csv',\n 'MERGED2008_09_PP.csv',\n 'MERGED2009_10_PP.csv',\n 'MERGED2001_02_PP.csv',\n 'MERGED2017_18_PP.csv',\n 'MERGED2014_15_PP.csv']"
          },
          "metadata": {}
        }
      ]
    },
    {
      "cell_type": "code",
      "metadata": {
        "tags": [],
        "cell_id": "00006-49616eaa-59de-4316-b293-ca3c9cd2e635",
        "deepnote_to_be_reexecuted": false,
        "source_hash": "9224043d",
        "execution_millis": 8,
        "execution_start": 1618702812601,
        "deepnote_cell_type": "code"
      },
      "source": "# 3 - Write code to randomly select one file name out of the 22 files names. \n# Hint: generate a random integer between 0 and 21 first\n# Display the file name\n\nrandom_file = random.choice(csv_files)\nrandom_file",
      "execution_count": 9,
      "outputs": [
        {
          "output_type": "execute_result",
          "execution_count": 9,
          "data": {
            "text/plain": "'MERGED2008_09_PP.csv'"
          },
          "metadata": {}
        }
      ]
    },
    {
      "cell_type": "code",
      "metadata": {
        "tags": [],
        "cell_id": "00010-40cad7cc-a2c8-45a3-b6f3-6bc163b16964",
        "deepnote_to_be_reexecuted": false,
        "source_hash": "9ff68274",
        "execution_millis": 6,
        "execution_start": 1618702812603,
        "deepnote_cell_type": "code"
      },
      "source": "\npath_random = current_folder + '/' + random_file\npath_random",
      "execution_count": 10,
      "outputs": [
        {
          "output_type": "execute_result",
          "execution_count": 10,
          "data": {
            "text/plain": "'/work/Input/MERGED2008_09_PP.csv'"
          },
          "metadata": {}
        }
      ]
    },
    {
      "cell_type": "code",
      "metadata": {
        "tags": [],
        "cell_id": "00005-0d169dd8-d02d-44d7-9bef-d3f793164534",
        "deepnote_to_be_reexecuted": false,
        "source_hash": "1434a4b1",
        "execution_millis": 1199,
        "execution_start": 1618702812606,
        "deepnote_cell_type": "code"
      },
      "source": "# 4 - Only read the two columns: college name (INSTNM) and in state tution \n# (\"TUITIONFEE_IN\") from this file into a data frame aand display use info()\n# function to display a summary information\ndf = pd.read_csv(path_random, usecols = [\"INSTNM\", \"TUITIONFEE_IN\"])\ndf.head(5)",
      "execution_count": 11,
      "outputs": [
        {
          "output_type": "execute_result",
          "execution_count": 11,
          "data": {
            "application/vnd.deepnote.dataframe.v2+json": {
              "row_count": 5,
              "column_count": 2,
              "columns": [
                {
                  "name": "INSTNM",
                  "dtype": "object",
                  "stats": {
                    "unique_count": 5,
                    "nan_count": 0,
                    "categories": [
                      {
                        "name": "Community College of the Air Force",
                        "count": 1
                      },
                      {
                        "name": "Alabama A & M University",
                        "count": 1
                      },
                      {
                        "name": "3 others",
                        "count": 3
                      }
                    ]
                  }
                },
                {
                  "name": "TUITIONFEE_IN",
                  "dtype": "float64",
                  "stats": {
                    "unique_count": 4,
                    "nan_count": 1,
                    "min": "4072.0",
                    "max": "6600.0",
                    "histogram": [
                      {
                        "bin_start": 4072,
                        "bin_end": 4324.8,
                        "count": 1
                      },
                      {
                        "bin_start": 4324.8,
                        "bin_end": 4577.6,
                        "count": 0
                      },
                      {
                        "bin_start": 4577.6,
                        "bin_end": 4830.4,
                        "count": 1
                      },
                      {
                        "bin_start": 4830.4,
                        "bin_end": 5083.2,
                        "count": 0
                      },
                      {
                        "bin_start": 5083.2,
                        "bin_end": 5336,
                        "count": 0
                      },
                      {
                        "bin_start": 5336,
                        "bin_end": 5588.8,
                        "count": 0
                      },
                      {
                        "bin_start": 5588.8,
                        "bin_end": 5841.6,
                        "count": 0
                      },
                      {
                        "bin_start": 5841.6,
                        "bin_end": 6094.4,
                        "count": 1
                      },
                      {
                        "bin_start": 6094.4,
                        "bin_end": 6347.200000000001,
                        "count": 0
                      },
                      {
                        "bin_start": 6347.200000000001,
                        "bin_end": 6600,
                        "count": 1
                      }
                    ]
                  }
                },
                {
                  "name": "_deepnote_index_column",
                  "dtype": "int64"
                }
              ],
              "rows_top": [
                {
                  "INSTNM": "Community College of the Air Force",
                  "TUITIONFEE_IN": "nan",
                  "_deepnote_index_column": 0
                },
                {
                  "INSTNM": "Alabama A & M University",
                  "TUITIONFEE_IN": "4072.0",
                  "_deepnote_index_column": 1
                },
                {
                  "INSTNM": "University of Alabama at Birmingham",
                  "TUITIONFEE_IN": "4664.0",
                  "_deepnote_index_column": 2
                },
                {
                  "INSTNM": "Amridge University",
                  "TUITIONFEE_IN": "6600.0",
                  "_deepnote_index_column": 3
                },
                {
                  "INSTNM": "University of Alabama in Huntsville",
                  "TUITIONFEE_IN": "5952.0",
                  "_deepnote_index_column": 4
                }
              ],
              "rows_bottom": null
            },
            "text/plain": "                                INSTNM  TUITIONFEE_IN\n0   Community College of the Air Force            NaN\n1             Alabama A & M University         4072.0\n2  University of Alabama at Birmingham         4664.0\n3                   Amridge University         6600.0\n4  University of Alabama in Huntsville         5952.0",
            "text/html": "<div>\n<style scoped>\n    .dataframe tbody tr th:only-of-type {\n        vertical-align: middle;\n    }\n\n    .dataframe tbody tr th {\n        vertical-align: top;\n    }\n\n    .dataframe thead th {\n        text-align: right;\n    }\n</style>\n<table border=\"1\" class=\"dataframe\">\n  <thead>\n    <tr style=\"text-align: right;\">\n      <th></th>\n      <th>INSTNM</th>\n      <th>TUITIONFEE_IN</th>\n    </tr>\n  </thead>\n  <tbody>\n    <tr>\n      <th>0</th>\n      <td>Community College of the Air Force</td>\n      <td>NaN</td>\n    </tr>\n    <tr>\n      <th>1</th>\n      <td>Alabama A &amp; M University</td>\n      <td>4072.0</td>\n    </tr>\n    <tr>\n      <th>2</th>\n      <td>University of Alabama at Birmingham</td>\n      <td>4664.0</td>\n    </tr>\n    <tr>\n      <th>3</th>\n      <td>Amridge University</td>\n      <td>6600.0</td>\n    </tr>\n    <tr>\n      <th>4</th>\n      <td>University of Alabama in Huntsville</td>\n      <td>5952.0</td>\n    </tr>\n  </tbody>\n</table>\n</div>"
          },
          "metadata": {}
        }
      ]
    },
    {
      "cell_type": "code",
      "metadata": {
        "tags": [],
        "cell_id": "00008-b4aa6564-5e35-484a-814c-1a0dc4a82e6d",
        "deepnote_to_be_reexecuted": false,
        "source_hash": "a7b12ee7",
        "execution_millis": 61,
        "execution_start": 1618702813744,
        "deepnote_cell_type": "code"
      },
      "source": "# 5 - Find out how many observations have missing value.\n# Count is the number of entries cels and top is True means there are many missing value\n# frequent is the amount missing. If top is False, there is no missing or few missing value,\n# frequent is the amountthat is not missing\nMiss_Val = df[\"TUITIONFEE_IN\"].isnull()\nMiss_Val.describe()",
      "execution_count": 12,
      "outputs": [
        {
          "output_type": "execute_result",
          "execution_count": 12,
          "data": {
            "text/plain": "count      7055\nunique        2\ntop       False\nfreq       4209\nName: TUITIONFEE_IN, dtype: object"
          },
          "metadata": {}
        }
      ]
    },
    {
      "cell_type": "code",
      "metadata": {
        "tags": [],
        "cell_id": "00009-1bdecf28-d820-4d31-813e-af58eb1a62d9",
        "deepnote_to_be_reexecuted": false,
        "source_hash": "7a3f1f4a",
        "execution_millis": 51,
        "execution_start": 1618702813754,
        "deepnote_cell_type": "code"
      },
      "source": "# 6 - Drop those observations with missing value\n# Disaply the number of observations \nDrop_Miss_Val = df.dropna(how='any')\nDrop_Miss_Val.head(5)",
      "execution_count": 13,
      "outputs": [
        {
          "output_type": "execute_result",
          "execution_count": 13,
          "data": {
            "application/vnd.deepnote.dataframe.v2+json": {
              "row_count": 5,
              "column_count": 2,
              "columns": [
                {
                  "name": "INSTNM",
                  "dtype": "object",
                  "stats": {
                    "unique_count": 5,
                    "nan_count": 0,
                    "categories": [
                      {
                        "name": "Alabama A & M University",
                        "count": 1
                      },
                      {
                        "name": "University of Alabama at Birmingham",
                        "count": 1
                      },
                      {
                        "name": "3 others",
                        "count": 3
                      }
                    ]
                  }
                },
                {
                  "name": "TUITIONFEE_IN",
                  "dtype": "float64",
                  "stats": {
                    "unique_count": 5,
                    "nan_count": 0,
                    "min": "4072.0",
                    "max": "6600.0",
                    "histogram": [
                      {
                        "bin_start": 4072,
                        "bin_end": 4324.8,
                        "count": 1
                      },
                      {
                        "bin_start": 4324.8,
                        "bin_end": 4577.6,
                        "count": 0
                      },
                      {
                        "bin_start": 4577.6,
                        "bin_end": 4830.4,
                        "count": 1
                      },
                      {
                        "bin_start": 4830.4,
                        "bin_end": 5083.2,
                        "count": 0
                      },
                      {
                        "bin_start": 5083.2,
                        "bin_end": 5336,
                        "count": 0
                      },
                      {
                        "bin_start": 5336,
                        "bin_end": 5588.8,
                        "count": 1
                      },
                      {
                        "bin_start": 5588.8,
                        "bin_end": 5841.6,
                        "count": 0
                      },
                      {
                        "bin_start": 5841.6,
                        "bin_end": 6094.4,
                        "count": 1
                      },
                      {
                        "bin_start": 6094.4,
                        "bin_end": 6347.200000000001,
                        "count": 0
                      },
                      {
                        "bin_start": 6347.200000000001,
                        "bin_end": 6600,
                        "count": 1
                      }
                    ]
                  }
                },
                {
                  "name": "_deepnote_index_column",
                  "dtype": "int64"
                }
              ],
              "rows_top": [
                {
                  "INSTNM": "Alabama A & M University",
                  "TUITIONFEE_IN": 4072,
                  "_deepnote_index_column": 1
                },
                {
                  "INSTNM": "University of Alabama at Birmingham",
                  "TUITIONFEE_IN": 4664,
                  "_deepnote_index_column": 2
                },
                {
                  "INSTNM": "Amridge University",
                  "TUITIONFEE_IN": 6600,
                  "_deepnote_index_column": 3
                },
                {
                  "INSTNM": "University of Alabama in Huntsville",
                  "TUITIONFEE_IN": 5952,
                  "_deepnote_index_column": 4
                },
                {
                  "INSTNM": "Alabama State University",
                  "TUITIONFEE_IN": 5460,
                  "_deepnote_index_column": 5
                }
              ],
              "rows_bottom": null
            },
            "text/plain": "                                INSTNM  TUITIONFEE_IN\n1             Alabama A & M University         4072.0\n2  University of Alabama at Birmingham         4664.0\n3                   Amridge University         6600.0\n4  University of Alabama in Huntsville         5952.0\n5             Alabama State University         5460.0",
            "text/html": "<div>\n<style scoped>\n    .dataframe tbody tr th:only-of-type {\n        vertical-align: middle;\n    }\n\n    .dataframe tbody tr th {\n        vertical-align: top;\n    }\n\n    .dataframe thead th {\n        text-align: right;\n    }\n</style>\n<table border=\"1\" class=\"dataframe\">\n  <thead>\n    <tr style=\"text-align: right;\">\n      <th></th>\n      <th>INSTNM</th>\n      <th>TUITIONFEE_IN</th>\n    </tr>\n  </thead>\n  <tbody>\n    <tr>\n      <th>1</th>\n      <td>Alabama A &amp; M University</td>\n      <td>4072.0</td>\n    </tr>\n    <tr>\n      <th>2</th>\n      <td>University of Alabama at Birmingham</td>\n      <td>4664.0</td>\n    </tr>\n    <tr>\n      <th>3</th>\n      <td>Amridge University</td>\n      <td>6600.0</td>\n    </tr>\n    <tr>\n      <th>4</th>\n      <td>University of Alabama in Huntsville</td>\n      <td>5952.0</td>\n    </tr>\n    <tr>\n      <th>5</th>\n      <td>Alabama State University</td>\n      <td>5460.0</td>\n    </tr>\n  </tbody>\n</table>\n</div>"
          },
          "metadata": {}
        }
      ]
    },
    {
      "cell_type": "code",
      "source": "#7 How many observation have 0 tuition\nDrop_Miss_Val.info()",
      "metadata": {
        "tags": [],
        "cell_id": "00013-ce8ab1f6-39da-4271-8d07-fa239b424841",
        "deepnote_to_be_reexecuted": false,
        "source_hash": "6ad729df",
        "execution_millis": 27,
        "execution_start": 1618702813778,
        "deepnote_cell_type": "code"
      },
      "outputs": [
        {
          "name": "stdout",
          "text": "<class 'pandas.core.frame.DataFrame'>\nInt64Index: 4209 entries, 1 to 7049\nData columns (total 2 columns):\n #   Column         Non-Null Count  Dtype  \n---  ------         --------------  -----  \n 0   INSTNM         4209 non-null   object \n 1   TUITIONFEE_IN  4209 non-null   float64\ndtypes: float64(1), object(1)\nmemory usage: 98.6+ KB\n",
          "output_type": "stream"
        }
      ],
      "execution_count": 14
    },
    {
      "cell_type": "code",
      "metadata": {
        "tags": [],
        "cell_id": "00015-6eb10432-1c86-49e6-bd03-8832d5067404",
        "deepnote_to_be_reexecuted": false,
        "source_hash": "71568cb5",
        "execution_millis": 16,
        "execution_start": 1618702813792,
        "deepnote_cell_type": "code"
      },
      "source": "Drop_Miss_Val['INSTNM'][1]",
      "execution_count": 15,
      "outputs": [
        {
          "output_type": "execute_result",
          "execution_count": 15,
          "data": {
            "text/plain": "'Alabama A & M University'"
          },
          "metadata": {}
        }
      ]
    },
    {
      "cell_type": "code",
      "metadata": {
        "tags": [],
        "cell_id": "00016-2a57ba87-71e4-4670-b4ba-f8be6d61d9e2",
        "deepnote_to_be_reexecuted": false,
        "source_hash": "91c0bf11",
        "execution_millis": 44,
        "execution_start": 1618702813800,
        "deepnote_cell_type": "code"
      },
      "source": "Drop_Miss_Val['TUITIONFEE_IN'][1]",
      "execution_count": 16,
      "outputs": [
        {
          "output_type": "execute_result",
          "execution_count": 16,
          "data": {
            "text/plain": "4072.0"
          },
          "metadata": {}
        }
      ]
    },
    {
      "cell_type": "code",
      "metadata": {
        "tags": [],
        "cell_id": "00018-c2aa6883-1007-493b-a2d3-7ef92951603a",
        "deepnote_to_be_reexecuted": false,
        "source_hash": "3af3c934",
        "execution_millis": 25,
        "execution_start": 1618702813819,
        "deepnote_cell_type": "code"
      },
      "source": "# Checking if there is a zero. There is Zero in TuitionFee_In and no zeros in institution name\n(Drop_Miss_Val==0).any()",
      "execution_count": 17,
      "outputs": [
        {
          "output_type": "execute_result",
          "execution_count": 17,
          "data": {
            "text/plain": "INSTNM           False\nTUITIONFEE_IN     True\ndtype: bool"
          },
          "metadata": {}
        }
      ]
    },
    {
      "cell_type": "code",
      "metadata": {
        "tags": [],
        "cell_id": "00011-2b35df91-11d8-477e-8e66-bb1194bed416",
        "deepnote_to_be_reexecuted": false,
        "source_hash": "dcd7ea24",
        "execution_millis": 25,
        "execution_start": 1618702813819,
        "deepnote_cell_type": "code"
      },
      "source": "# 8 - Drop those observations with 0 tuition\nDrop_Zero = Drop_Miss_Val[Drop_Miss_Val['TUITIONFEE_IN'] != 0]\nDrop_Zero.info()",
      "execution_count": 18,
      "outputs": [
        {
          "name": "stdout",
          "text": "<class 'pandas.core.frame.DataFrame'>\nInt64Index: 4204 entries, 1 to 7049\nData columns (total 2 columns):\n #   Column         Non-Null Count  Dtype  \n---  ------         --------------  -----  \n 0   INSTNM         4204 non-null   object \n 1   TUITIONFEE_IN  4204 non-null   float64\ndtypes: float64(1), object(1)\nmemory usage: 98.5+ KB\n",
          "output_type": "stream"
        }
      ]
    },
    {
      "cell_type": "code",
      "source": "# Index was reset to cleanse data\nDrop_Zero.reset_index(drop=True, inplace=True)",
      "metadata": {
        "tags": [],
        "cell_id": "00019-b51d5080-dc3a-43d3-a446-cc12091bdcb7",
        "deepnote_to_be_reexecuted": false,
        "source_hash": "a994456e",
        "execution_millis": 2,
        "execution_start": 1618702813821,
        "deepnote_cell_type": "code"
      },
      "outputs": [],
      "execution_count": 19
    },
    {
      "cell_type": "code",
      "metadata": {
        "tags": [],
        "cell_id": "00012-5e8257ae-2047-4365-a770-58615727ea18",
        "deepnote_to_be_reexecuted": false,
        "source_hash": "bef65873",
        "execution_millis": 2,
        "execution_start": 1618702813825,
        "deepnote_cell_type": "code"
      },
      "source": "# 9 - Calculate and display the mean (average) of the tuitions of all\n# the remaining observations \ndef Average():\n    Sum = Drop_Zero['TUITIONFEE_IN'].sum()\n    Sum = Sum.astype(float)\n    Count = Drop_Zero['TUITIONFEE_IN'].count()\n    Count = Count.astype(float)\n    Average = Sum/Count\n    round_avg =round(Average, 2)\n    return round_avg\n",
      "execution_count": 20,
      "outputs": []
    },
    {
      "cell_type": "code",
      "metadata": {
        "tags": [],
        "cell_id": "00022-53c2b1ef-c4df-43d5-86f5-6e53a88aafd7",
        "deepnote_to_be_reexecuted": false,
        "source_hash": "2b63366",
        "execution_millis": 14,
        "execution_start": 1618702813830,
        "deepnote_cell_type": "code"
      },
      "source": "Avg = Average()\nAvg",
      "execution_count": 21,
      "outputs": [
        {
          "output_type": "execute_result",
          "execution_count": 21,
          "data": {
            "text/plain": "11388.44"
          },
          "metadata": {}
        }
      ]
    },
    {
      "cell_type": "code",
      "metadata": {
        "tags": [],
        "cell_id": "00013-11d04a3a-54ac-408d-9314-f6cb2496ac7a",
        "deepnote_to_be_reexecuted": false,
        "source_hash": "b7b24b1d",
        "execution_millis": 1,
        "execution_start": 1618702813837,
        "deepnote_cell_type": "code"
      },
      "source": "# 10 - Randomly select just 1 observation from the data frame.\n# Display the tuition of that observation. \n# 11 - Calculate the different between the tuition of this observation and \n# the mean tuition off all observations calculated earlier.\n# Display the difference\n",
      "execution_count": 22,
      "outputs": []
    },
    {
      "cell_type": "code",
      "metadata": {
        "tags": [],
        "cell_id": "00014-8f61b695-bfb6-4e1e-a1ea-e479b20a0307",
        "deepnote_to_be_reexecuted": false,
        "source_hash": "f910aa89",
        "execution_millis": 0,
        "execution_start": 1618702813859,
        "deepnote_cell_type": "code"
      },
      "source": "# A function was made to randomly select from the cleaned dataframe\n# the difference from the tuition and population mean is compute\nx = Drop_Zero\ndef Diff():\n    f = len(x)              # length of dataframe\n    i = choice(range(f))    # choosing within the range of the length of dataframe\n    print(i, '\\t', x.INSTNM[i],'\\t' , x.TUITIONFEE_IN[i])\n    Difference = Avg - x.TUITIONFEE_IN[i]\n    round_diff = round(Difference, 2)\n    print(\"If the difference is negative, the tuition is more expensive than population mean,\")\n    print(\"positive is cheaper,\", \"Difference: \")\n    return round_diff",
      "execution_count": 23,
      "outputs": []
    },
    {
      "cell_type": "code",
      "metadata": {
        "tags": [],
        "cell_id": "00025-844f07ae-c743-4462-8b80-ed9fb0181ec3",
        "deepnote_to_be_reexecuted": false,
        "source_hash": "4ae13e57",
        "execution_millis": 7,
        "execution_start": 1618702813860,
        "deepnote_cell_type": "code"
      },
      "source": "Diff()",
      "execution_count": 24,
      "outputs": [
        {
          "name": "stdout",
          "text": "973 \t Southwestern Community College \t 3676.0\nIf the difference is negative, the tuition is more expensive than population mean,\npositive is cheaper, Difference: \n",
          "output_type": "stream"
        },
        {
          "output_type": "execute_result",
          "execution_count": 24,
          "data": {
            "text/plain": "7712.44"
          },
          "metadata": {}
        }
      ]
    },
    {
      "cell_type": "code",
      "metadata": {
        "tags": [],
        "cell_id": "00015-855e583d-4b03-40fc-a68b-648aab767872",
        "deepnote_to_be_reexecuted": false,
        "source_hash": "db4fb7",
        "execution_millis": 6,
        "execution_start": 1618702813861,
        "deepnote_cell_type": "code"
      },
      "source": "# 12 - Repeat 10 to 11 several times get the feel of the size of the \n# difference in means\n\nDiff()",
      "execution_count": 25,
      "outputs": [
        {
          "name": "stdout",
          "text": "2887 \t South Plains College \t 1394.0\nIf the difference is negative, the tuition is more expensive than population mean,\npositive is cheaper, Difference: \n",
          "output_type": "stream"
        },
        {
          "output_type": "execute_result",
          "execution_count": 25,
          "data": {
            "text/plain": "9994.44"
          },
          "metadata": {}
        }
      ]
    },
    {
      "cell_type": "code",
      "metadata": {
        "tags": [],
        "cell_id": "00026-e438613f-4bb0-4e8f-b4bd-3ca1ed61fee6",
        "deepnote_to_be_reexecuted": false,
        "source_hash": "4ae13e57",
        "execution_millis": 7,
        "execution_start": 1618702813864,
        "deepnote_cell_type": "code"
      },
      "source": "Diff()",
      "execution_count": 26,
      "outputs": [
        {
          "name": "stdout",
          "text": "4065 \t Mount Saint Mary's University - Doheny Campus \t 27100.0\nIf the difference is negative, the tuition is more expensive than population mean,\npositive is cheaper, Difference: \n",
          "output_type": "stream"
        },
        {
          "output_type": "execute_result",
          "execution_count": 26,
          "data": {
            "text/plain": "-15711.56"
          },
          "metadata": {}
        }
      ]
    },
    {
      "cell_type": "code",
      "metadata": {
        "tags": [],
        "cell_id": "00027-98bac246-5080-4e62-accf-0f010869b5d9",
        "deepnote_to_be_reexecuted": false,
        "source_hash": "4ae13e57",
        "execution_millis": 12,
        "execution_start": 1618702813898,
        "deepnote_cell_type": "code"
      },
      "source": "Diff()",
      "execution_count": 27,
      "outputs": [
        {
          "name": "stdout",
          "text": "1062 \t Mid-Continent University \t 13150.0\nIf the difference is negative, the tuition is more expensive than population mean,\npositive is cheaper, Difference: \n",
          "output_type": "stream"
        },
        {
          "output_type": "execute_result",
          "execution_count": 27,
          "data": {
            "text/plain": "-1761.56"
          },
          "metadata": {}
        }
      ]
    },
    {
      "cell_type": "code",
      "metadata": {
        "tags": [],
        "cell_id": "00029-ea3ce865-fb00-40f4-9f9d-d0f4855d8c87",
        "deepnote_to_be_reexecuted": false,
        "source_hash": "4ae13e57",
        "execution_millis": 11,
        "execution_start": 1618702813899,
        "deepnote_cell_type": "code"
      },
      "source": "Diff()",
      "execution_count": 28,
      "outputs": [
        {
          "name": "stdout",
          "text": "3980 \t Sanford-Brown College-San Antonio \t 13700.0\nIf the difference is negative, the tuition is more expensive than population mean,\npositive is cheaper, Difference: \n",
          "output_type": "stream"
        },
        {
          "output_type": "execute_result",
          "execution_count": 28,
          "data": {
            "text/plain": "-2311.56"
          },
          "metadata": {}
        }
      ]
    },
    {
      "cell_type": "markdown",
      "source": "### **Observation**\nThere is a wide difference between the population mean and the universities/college's tuition fees",
      "metadata": {
        "tags": [],
        "cell_id": "00029-33d623b9-e003-4019-9875-4144d5ca96a6",
        "deepnote_cell_type": "markdown"
      }
    },
    {
      "cell_type": "code",
      "metadata": {
        "tags": [],
        "cell_id": "00016-b60cec47-8c67-427e-a198-8c37d5ec10dc",
        "deepnote_to_be_reexecuted": false,
        "source_hash": "d81bcd86",
        "execution_millis": 10,
        "execution_start": 1618702813900,
        "deepnote_cell_type": "code"
      },
      "source": "# 13 - Randomly select 20 observations, display the tuition of these \n# observation. \nRandom_20 = Drop_Zero.sample(20)\nRandom_20.head(5)",
      "execution_count": 29,
      "outputs": [
        {
          "output_type": "execute_result",
          "execution_count": 29,
          "data": {
            "application/vnd.deepnote.dataframe.v2+json": {
              "row_count": 5,
              "column_count": 2,
              "columns": [
                {
                  "name": "INSTNM",
                  "dtype": "object",
                  "stats": {
                    "unique_count": 5,
                    "nan_count": 0,
                    "categories": [
                      {
                        "name": "Los Medanos College",
                        "count": 1
                      },
                      {
                        "name": "Seminar L'moros Bais Yaakov",
                        "count": 1
                      },
                      {
                        "name": "3 others",
                        "count": 3
                      }
                    ]
                  }
                },
                {
                  "name": "TUITIONFEE_IN",
                  "dtype": "float64",
                  "stats": {
                    "unique_count": 5,
                    "nan_count": 0,
                    "min": "570.0",
                    "max": "12345.0",
                    "histogram": [
                      {
                        "bin_start": 570,
                        "bin_end": 1747.5,
                        "count": 1
                      },
                      {
                        "bin_start": 1747.5,
                        "bin_end": 2925,
                        "count": 1
                      },
                      {
                        "bin_start": 2925,
                        "bin_end": 4102.5,
                        "count": 0
                      },
                      {
                        "bin_start": 4102.5,
                        "bin_end": 5280,
                        "count": 0
                      },
                      {
                        "bin_start": 5280,
                        "bin_end": 6457.5,
                        "count": 0
                      },
                      {
                        "bin_start": 6457.5,
                        "bin_end": 7635,
                        "count": 1
                      },
                      {
                        "bin_start": 7635,
                        "bin_end": 8812.5,
                        "count": 0
                      },
                      {
                        "bin_start": 8812.5,
                        "bin_end": 9990,
                        "count": 1
                      },
                      {
                        "bin_start": 9990,
                        "bin_end": 11167.5,
                        "count": 0
                      },
                      {
                        "bin_start": 11167.5,
                        "bin_end": 12345,
                        "count": 1
                      }
                    ]
                  }
                },
                {
                  "name": "_deepnote_index_column",
                  "dtype": "int64"
                }
              ],
              "rows_top": [
                {
                  "INSTNM": "Los Medanos College",
                  "TUITIONFEE_IN": 570,
                  "_deepnote_index_column": 274
                },
                {
                  "INSTNM": "Seminar L'moros Bais Yaakov",
                  "TUITIONFEE_IN": 7335,
                  "_deepnote_index_column": 3443
                },
                {
                  "INSTNM": "Warren County Community College",
                  "TUITIONFEE_IN": 2754,
                  "_deepnote_index_column": 3278
                },
                {
                  "INSTNM": "Strayer University-Fredericksburg Campus",
                  "TUITIONFEE_IN": 12345,
                  "_deepnote_index_column": 4073
                },
                {
                  "INSTNM": "Pennsylvania School of Business",
                  "TUITIONFEE_IN": 9000,
                  "_deepnote_index_column": 2498
                }
              ],
              "rows_bottom": null
            },
            "text/plain": "                                        INSTNM  TUITIONFEE_IN\n274                        Los Medanos College          570.0\n3443               Seminar L'moros Bais Yaakov         7335.0\n3278           Warren County Community College         2754.0\n4073  Strayer University-Fredericksburg Campus        12345.0\n2498           Pennsylvania School of Business         9000.0",
            "text/html": "<div>\n<style scoped>\n    .dataframe tbody tr th:only-of-type {\n        vertical-align: middle;\n    }\n\n    .dataframe tbody tr th {\n        vertical-align: top;\n    }\n\n    .dataframe thead th {\n        text-align: right;\n    }\n</style>\n<table border=\"1\" class=\"dataframe\">\n  <thead>\n    <tr style=\"text-align: right;\">\n      <th></th>\n      <th>INSTNM</th>\n      <th>TUITIONFEE_IN</th>\n    </tr>\n  </thead>\n  <tbody>\n    <tr>\n      <th>274</th>\n      <td>Los Medanos College</td>\n      <td>570.0</td>\n    </tr>\n    <tr>\n      <th>3443</th>\n      <td>Seminar L'moros Bais Yaakov</td>\n      <td>7335.0</td>\n    </tr>\n    <tr>\n      <th>3278</th>\n      <td>Warren County Community College</td>\n      <td>2754.0</td>\n    </tr>\n    <tr>\n      <th>4073</th>\n      <td>Strayer University-Fredericksburg Campus</td>\n      <td>12345.0</td>\n    </tr>\n    <tr>\n      <th>2498</th>\n      <td>Pennsylvania School of Business</td>\n      <td>9000.0</td>\n    </tr>\n  </tbody>\n</table>\n</div>"
          },
          "metadata": {}
        }
      ]
    },
    {
      "cell_type": "code",
      "metadata": {
        "tags": [],
        "cell_id": "00017-78a78086-29e7-4883-8e55-23a254685469",
        "deepnote_to_be_reexecuted": false,
        "source_hash": "b529f9f5",
        "execution_millis": 1,
        "execution_start": 1618702813905,
        "deepnote_cell_type": "code"
      },
      "source": "# 14 - Calculate and displat the mean tuition of these 20 observations\ndef Rand_Average():\n    Random_20 = Drop_Zero.sample(20)\n    Sum = Random_20['TUITIONFEE_IN'].sum()\n    Sum = Sum.astype(float)\n    Count = Random_20['TUITIONFEE_IN'].count()\n    Count = Count.astype(float)\n    Rand_Avg = Sum/Count\n    Rand_Avg = Rand_Avg.astype(float)\n    Rand_Avg = round(Rand_Avg, 2)\n    Rand_Avg2 = round(Rand_Avg, 2)\n    Difference = Avg - Rand_Avg2\n    Difference = round(Difference, 2)\n    print(\"Below is the Sample Mean, Population Mean, Difference.\")\n    return Rand_Avg, Avg, Difference",
      "execution_count": 30,
      "outputs": []
    },
    {
      "cell_type": "code",
      "metadata": {
        "tags": [],
        "cell_id": "00018-72f7e376-6541-4d74-9407-f402a344d2b1",
        "deepnote_to_be_reexecuted": false,
        "source_hash": "30e6da81",
        "execution_millis": 7,
        "execution_start": 1618702813931,
        "deepnote_cell_type": "code"
      },
      "source": "# 15 - Calculate  the different between the average tuition of these 20 observations \n# and the mean tuition off all observations calculated earlier.\n# Display the difference\nSum = Random_20['TUITIONFEE_IN'].sum()\nSum = Sum.astype(float)\nCount = Random_20['TUITIONFEE_IN'].count()\nCount = Count.astype(float)\nRand_Avg = Sum/Count\nDiff = Avg - Rand_Avg\nDifference = round(Diff, 2)\nprint(\"Sum: \", Sum, \"\\tCount: \", Count, \"\\tRandom Average: \", Rand_Avg, \n      \"\\tDifference: \", Difference)\n",
      "execution_count": 31,
      "outputs": [
        {
          "name": "stdout",
          "text": "Sum:  180772.0 \tCount:  20.0 \tRandom Average:  9038.6 \tDifference:  2349.84\n",
          "output_type": "stream"
        }
      ]
    },
    {
      "cell_type": "code",
      "metadata": {
        "tags": [],
        "cell_id": "00019-4a6344a4-4c83-423a-a7b0-3b2804c19492",
        "deepnote_to_be_reexecuted": false,
        "source_hash": "c8833055",
        "execution_millis": 11,
        "execution_start": 1618702813936,
        "deepnote_cell_type": "code"
      },
      "source": "# 16 - Repeat 13 to 15 several times and get the feel of the size of the difference in means \n# Compare these differences with the differences calculated earlier with just 1 observation\n# Describe your hunch/conclusion\nRand_Average()",
      "execution_count": 32,
      "outputs": [
        {
          "name": "stdout",
          "text": "Below is the Sample Mean, Population Mean, Difference.\n",
          "output_type": "stream"
        },
        {
          "output_type": "execute_result",
          "execution_count": 32,
          "data": {
            "text/plain": "(10070.3, 11388.44, 1318.14)"
          },
          "metadata": {}
        }
      ]
    },
    {
      "cell_type": "code",
      "metadata": {
        "tags": [],
        "cell_id": "00034-46206125-1e0c-47b9-868e-1687e5a3165b",
        "deepnote_to_be_reexecuted": false,
        "source_hash": "85d7b54",
        "execution_millis": 16,
        "execution_start": 1618702813944,
        "deepnote_cell_type": "code"
      },
      "source": "Rand_Average()",
      "execution_count": 33,
      "outputs": [
        {
          "name": "stdout",
          "text": "Below is the Sample Mean, Population Mean, Difference.\n",
          "output_type": "stream"
        },
        {
          "output_type": "execute_result",
          "execution_count": 33,
          "data": {
            "text/plain": "(10156.05, 11388.44, 1232.39)"
          },
          "metadata": {}
        }
      ]
    },
    {
      "cell_type": "code",
      "metadata": {
        "tags": [],
        "cell_id": "00035-81c31f57-d38f-4e89-9ba1-d57ce9157833",
        "deepnote_to_be_reexecuted": false,
        "source_hash": "85d7b54",
        "execution_millis": 9,
        "execution_start": 1618702813953,
        "deepnote_cell_type": "code"
      },
      "source": "Rand_Average()",
      "execution_count": 34,
      "outputs": [
        {
          "name": "stdout",
          "text": "Below is the Sample Mean, Population Mean, Difference.\n",
          "output_type": "stream"
        },
        {
          "output_type": "execute_result",
          "execution_count": 34,
          "data": {
            "text/plain": "(9714.45, 11388.44, 1673.99)"
          },
          "metadata": {}
        }
      ]
    },
    {
      "cell_type": "code",
      "metadata": {
        "tags": [],
        "cell_id": "00036-1e07ef60-0a1e-49a2-8085-76df2778a3bc",
        "deepnote_to_be_reexecuted": false,
        "source_hash": "85d7b54",
        "execution_millis": 13,
        "execution_start": 1618702813972,
        "deepnote_cell_type": "code"
      },
      "source": "Rand_Average()",
      "execution_count": 35,
      "outputs": [
        {
          "name": "stdout",
          "text": "Below is the Sample Mean, Population Mean, Difference.\n",
          "output_type": "stream"
        },
        {
          "output_type": "execute_result",
          "execution_count": 35,
          "data": {
            "text/plain": "(14942.45, 11388.44, -3554.01)"
          },
          "metadata": {}
        }
      ]
    },
    {
      "cell_type": "code",
      "metadata": {
        "tags": [],
        "cell_id": "00037-13d97710-cdca-4efc-a975-9b2c5075e59f",
        "deepnote_to_be_reexecuted": false,
        "source_hash": "85d7b54",
        "execution_millis": 12,
        "execution_start": 1618702813973,
        "deepnote_cell_type": "code"
      },
      "source": "Rand_Average()",
      "execution_count": 36,
      "outputs": [
        {
          "name": "stdout",
          "text": "Below is the Sample Mean, Population Mean, Difference.\n",
          "output_type": "stream"
        },
        {
          "output_type": "execute_result",
          "execution_count": 36,
          "data": {
            "text/plain": "(15532.1, 11388.44, -4143.66)"
          },
          "metadata": {}
        }
      ]
    },
    {
      "cell_type": "code",
      "metadata": {
        "tags": [],
        "cell_id": "00038-816df4ec-0ff5-4c93-ae42-57575e30c453",
        "deepnote_to_be_reexecuted": false,
        "source_hash": "85d7b54",
        "execution_millis": 12,
        "execution_start": 1618702813974,
        "deepnote_cell_type": "code"
      },
      "source": "Rand_Average()",
      "execution_count": 37,
      "outputs": [
        {
          "name": "stdout",
          "text": "Below is the Sample Mean, Population Mean, Difference.\n",
          "output_type": "stream"
        },
        {
          "output_type": "execute_result",
          "execution_count": 37,
          "data": {
            "text/plain": "(14030.1, 11388.44, -2641.66)"
          },
          "metadata": {}
        }
      ]
    },
    {
      "cell_type": "markdown",
      "source": "### **Observation** \nThe difference between the sample mean and population mean has a narrower gap than the difference between the tuition of a school and population mean",
      "metadata": {
        "tags": [],
        "cell_id": "00039-fae72273-324b-4e9f-ae01-eaf4b458cf95",
        "deepnote_cell_type": "markdown"
      }
    },
    {
      "cell_type": "code",
      "metadata": {
        "tags": [],
        "cell_id": "00042-66628798-909f-4699-ae48-629e7b43f78c",
        "deepnote_to_be_reexecuted": false,
        "source_hash": "6ad8db4c",
        "execution_millis": 2,
        "execution_start": 1618702813977,
        "deepnote_cell_type": "code"
      },
      "source": "# 17 \n#Write a function that take two input parameters:\n#- x (number of observations) \n#- y (the name of the dataframe). \n\n#The function will perform the following: \n#- Randomly select x observations from y\n#- Calculate the mean of these x observations \n#- Calculate the mean of all observations\n#- Calculate the difference between the two means \n#- Return the difference\n",
      "execution_count": 38,
      "outputs": []
    },
    {
      "cell_type": "code",
      "metadata": {
        "tags": [],
        "cell_id": "00020-1e8f6c09-fa5c-435c-a2ee-e6a655ef408e",
        "deepnote_to_be_reexecuted": false,
        "source_hash": "9d6cfde0",
        "execution_millis": 27896,
        "execution_start": 1618702813983,
        "deepnote_cell_type": "code"
      },
      "source": "y = Drop_Zero              # The cleanse dataframe\n\ndef Diff_Pop_Sample_Mean(x, y): \n    x = int(input(\"Enter the desired number of observation: \"))\n    Random_Samples = y.sample(x)                         # sample of no. of observation     \n    Sample_Mean = Random_Samples['TUITIONFEE_IN'].mean()\n    Pop_Mean1 = y['TUITIONFEE_IN'].mean()\n    Pop_Mean = round(Pop_Mean1, 2)\n    Diff1 = Pop_Mean - Sample_Mean\n    Diff = round(Diff1, 2)\n    print(\"Random Samples of \", x)\n    print(Random_Samples)\n    print(\"Sample_Mean: \", Sample_Mean, \"\\tPop_Mean: \", Pop_Mean)\n    print(\"Difference: \")\n    return Diff\n    \nDiff_Pop_Sample_Mean(x, y)",
      "execution_count": 39,
      "outputs": [
        {
          "name": "stdout",
          "text": "Random Samples of  5\n                                INSTNM  TUITIONFEE_IN\n759   Illinois Institute of Technology        27513.0\n2380           Oral Roberts University        18385.0\n1063                 Midway University        17125.0\n777                   Lewis University        21990.0\n3910    ITT Technical Institute-Clovis        16356.0\nSample_Mean:  20273.8 \tPop_Mean:  11388.44\nDifference: \n",
          "output_type": "stream"
        },
        {
          "output_type": "execute_result",
          "execution_count": 39,
          "data": {
            "text/plain": "-8885.36"
          },
          "metadata": {}
        }
      ]
    },
    {
      "cell_type": "code",
      "metadata": {
        "tags": [],
        "cell_id": "00022-24766451-d9ba-4dfb-a285-d31947ed7d86",
        "deepnote_to_be_reexecuted": false,
        "source_hash": "3b62c0bf",
        "execution_millis": 9096,
        "execution_start": 1618702841874,
        "deepnote_cell_type": "code"
      },
      "source": "# 18 - test the function by passing a sample size and the name of the \n# dataframe. Dsplay the return of the function\nDiff_Pop_Sample_Mean(x, y)",
      "execution_count": 40,
      "outputs": [
        {
          "name": "stdout",
          "text": "Random Samples of  10\n                                          INSTNM  TUITIONFEE_IN\n3594                     Urban College of Boston         3740.0\n1436  The Art Institutes International-Minnesota        21652.0\n1755                     Salem Community College         3515.0\n1942             Orange County Community College         3648.0\n3520       Cairn University-Wisconsin Wilderness        12740.0\n42                    Prince Institute-Southeast         7495.0\n1543                        East Central College         1704.0\n2188                          Ashland University        24342.0\n848               College of Court Reporting Inc        10620.0\n53                             Talladega College         7914.0\nSample_Mean:  9737.0 \tPop_Mean:  11388.44\nDifference: \n",
          "output_type": "stream"
        },
        {
          "output_type": "execute_result",
          "execution_count": 40,
          "data": {
            "text/plain": "1651.44"
          },
          "metadata": {}
        }
      ]
    },
    {
      "cell_type": "code",
      "metadata": {
        "tags": [],
        "cell_id": "00023-d491d609-1631-40f3-a12c-00e514e142ef",
        "deepnote_to_be_reexecuted": false,
        "source_hash": "d766af45",
        "execution_millis": 26,
        "execution_start": 1618702850944,
        "deepnote_cell_type": "code"
      },
      "source": "# 19 - Create a list of sequence numbers from 1 to 50, name it \n# \"sample_sizes\"; display it to make sure its members are from 1 to \nsample_sizes = np.arange(1, 51)\nsample_sizes",
      "execution_count": 41,
      "outputs": [
        {
          "output_type": "execute_result",
          "execution_count": 41,
          "data": {
            "text/plain": "array([ 1,  2,  3,  4,  5,  6,  7,  8,  9, 10, 11, 12, 13, 14, 15, 16, 17,\n       18, 19, 20, 21, 22, 23, 24, 25, 26, 27, 28, 29, 30, 31, 32, 33, 34,\n       35, 36, 37, 38, 39, 40, 41, 42, 43, 44, 45, 46, 47, 48, 49, 50])"
          },
          "metadata": {}
        }
      ]
    },
    {
      "cell_type": "code",
      "metadata": {
        "tags": [],
        "cell_id": "00024-69c510de-e5eb-4f81-ab97-db571b6da6c2",
        "deepnote_to_be_reexecuted": false,
        "source_hash": "6db6b6d4",
        "execution_millis": 5,
        "execution_start": 1618702850950,
        "deepnote_cell_type": "code"
      },
      "source": "# 20 - Create an empty list and name it \"means_diff\" for differences of \n# population mean and sample means; Loop through the list sample_sizes:\n# For each element in the sample size list, obtain a random sample of that size from the data frame;\n# Calculate the sample mean \n# Calculate the difference between the population mean and the sample mean\n# Append the difference to the list \"means_diff\"\n# Display the list \"means_diff\" after the loop is completed\nmeans_diff = []\ny = Drop_Zero\nnum_sample = []\ndef Mean_Diff(sample_sizes, y):\n    for i in sample_sizes:\n        sample_list = y.sample(len(sample_sizes))\n        sample_list_mean = sample_list['TUITIONFEE_IN'].mean()\n        pop_mean = y[\"TUITIONFEE_IN\"].mean()\n        diff = pop_mean - sample_list_mean\n        round_diff = round(diff, 2)\n        means_diff.append(round_diff)\n    return means_diff",
      "execution_count": 42,
      "outputs": []
    },
    {
      "cell_type": "code",
      "metadata": {
        "tags": [],
        "cell_id": "00044-81d8c507-394b-487f-b826-dbc3d8ee27b5",
        "deepnote_to_be_reexecuted": false,
        "source_hash": "ce3be9f",
        "execution_millis": 37,
        "execution_start": 1618702850955,
        "deepnote_cell_type": "code"
      },
      "source": "d = Mean_Diff(sample_sizes, y)\nprint(d)",
      "execution_count": 43,
      "outputs": [
        {
          "name": "stdout",
          "text": "[-2611.46, 586.06, -523.38, -165.12, 1008.92, 375.08, -2055.22, 1.84, 112.04, -842.12, -88.08, 348.0, -836.0, -1469.38, -923.1, 1263.44, 536.94, 113.28, -127.86, 492.06, 1429.18, 408.12, 357.34, -1207.5, 2245.8, 1889.36, 185.32, -358.18, -830.88, -2193.4, -815.5, -1473.72, -1846.96, 579.12, -835.06, -453.24, -1265.56, 889.52, 1212.1, -415.56, 24.66, 549.98, -658.66, -245.3, -2053.28, 901.18, -1890.42, -2388.06, -1111.2, -134.5]\n",
          "output_type": "stream"
        }
      ]
    },
    {
      "cell_type": "code",
      "metadata": {
        "tags": [],
        "cell_id": "00025-5196ea54-0c73-4e7e-9bfa-f04e4945e565",
        "deepnote_to_be_reexecuted": false,
        "source_hash": "6663d7fa",
        "execution_millis": 128,
        "execution_start": 1618702851042,
        "deepnote_cell_type": "code"
      },
      "source": "# 21 - Make a scatter plot with sample size on the x-axs and  mean difference on the y-axis\n# Observe as the sample size increases, the sample means converge to the population mean.\n# Make sure you make the plot large enough\n\nplt.xlabel(\"Sample Sizes\")\nplt.ylabel(\"Differences between Population Mean and Sample Mean\")\nplt.scatter(sample_sizes, means_diff) ",
      "execution_count": 44,
      "outputs": [
        {
          "output_type": "execute_result",
          "execution_count": 44,
          "data": {
            "text/plain": "<matplotlib.collections.PathCollection at 0x7efcbf9cda90>"
          },
          "metadata": {}
        },
        {
          "data": {
            "text/plain": "<Figure size 864x576 with 1 Axes>",
            "image/png": "[encoded data removed]"
          },
          "metadata": {
            "needs_background": "light"
          },
          "output_type": "display_data"
        }
      ]
    },
    {
      "cell_type": "code",
      "metadata": {
        "tags": [],
        "cell_id": "00006-2320150c-e0a4-4cd0-80a2-6b0ce48a124a",
        "deepnote_to_be_reexecuted": false,
        "source_hash": "4e533a53",
        "execution_millis": 298,
        "execution_start": 1618702851209,
        "deepnote_cell_type": "code"
      },
      "source": "# 22 - repeat 18 to 21 by replacing 50 with a larger number. For example, 300, or even 1000.\n# and see how the plot looks.\nmeans_diff = []\nsample_sizes = np.arange(1,301)\nMean_Diff(sample_sizes, y)\nplt.xlabel(\"Sample Sizes\")\nplt.ylabel(\"Differences between Population Mean and Sample Mean\")\nplt.scatter(sample_sizes, means_diff)\n",
      "execution_count": 45,
      "outputs": [
        {
          "output_type": "execute_result",
          "execution_count": 45,
          "data": {
            "text/plain": "<matplotlib.collections.PathCollection at 0x7efcbfa32b10>"
          },
          "metadata": {}
        },
        {
          "data": {
            "text/plain": "<Figure size 864x576 with 1 Axes>",
            "image/png": "[encoded data removed]"
          },
          "metadata": {
            "needs_background": "light"
          },
          "output_type": "display_data"
        }
      ]
    },
    {
      "cell_type": "code",
      "metadata": {
        "tags": [],
        "cell_id": "00050-f98c410e-a3d0-4d4c-a840-5b35e20cf474",
        "deepnote_to_be_reexecuted": false,
        "source_hash": "dc05dbfd",
        "execution_millis": 712,
        "execution_start": 1618702851553,
        "deepnote_cell_type": "code"
      },
      "source": "means_diff = []\nsample_sizes = np.arange(1, 1001)\nMean_Diff(sample_sizes, y)\nplt.xlabel(\"Sample Sizes\")\nplt.ylabel(\"Differences between Population Mean and Sample Mean\")\nplt.scatter(sample_sizes, means_diff)",
      "execution_count": 46,
      "outputs": [
        {
          "output_type": "execute_result",
          "execution_count": 46,
          "data": {
            "text/plain": "<matplotlib.collections.PathCollection at 0x7efcbf7c7490>"
          },
          "metadata": {}
        },
        {
          "data": {
            "text/plain": "<Figure size 864x576 with 1 Axes>",
            "image/png": "[encoded data removed]"
          },
          "metadata": {
            "needs_background": "light"
          },
          "output_type": "display_data"
        }
      ]
    },
    {
      "cell_type": "code",
      "metadata": {
        "tags": [],
        "cell_id": "00052-df008102-57a3-4a4f-b4e1-5db88eed2b2d",
        "deepnote_to_be_reexecuted": false,
        "source_hash": "8da1205",
        "execution_millis": 2403,
        "execution_start": 1618702852278,
        "deepnote_cell_type": "code"
      },
      "source": "means_diff = []\nsample_sizes = np.arange(1, 3501)\nMean_Diff(sample_sizes, y)\nplt.xlabel(\"Sample Sizes\")\nplt.ylabel(\"Differences between Population Mean and Sample Mean\")\nplt.scatter(sample_sizes, means_diff)\n",
      "execution_count": 47,
      "outputs": [
        {
          "output_type": "execute_result",
          "execution_count": 47,
          "data": {
            "text/plain": "<matplotlib.collections.PathCollection at 0x7efcbf6efa90>"
          },
          "metadata": {}
        },
        {
          "data": {
            "text/plain": "<Figure size 864x576 with 1 Axes>",
            "image/png": "[encoded data removed]"
          },
          "metadata": {
            "needs_background": "light"
          },
          "output_type": "display_data"
        }
      ]
    },
    {
      "cell_type": "markdown",
      "source": "### **Observation**\nThe larger the samples are the more concentrated are the differences within a certain range.",
      "metadata": {
        "tags": [],
        "cell_id": "00053-a3a8c34d-faf5-4d6d-94cc-7d91bcd07fee",
        "deepnote_cell_type": "markdown"
      }
    },
    {
      "cell_type": "markdown",
      "source": "<a style='text-decoration:none;line-height:16px;display:flex;color:#5B5B62;padding:10px;justify-content:end;' href='https://deepnote.com?utm_source=created-in-deepnote-cell&projectId=27901319-aedf-4b36-ba0a-e19011edaf93' target=\"_blank\">\n<img alt='Created in deepnote.com' style='display:inline;max-height:16px;margin:0px;margin-right:7.5px;' src='data:image/svg+xml;base64,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' > </img>\nCreated in <span style='font-weight:600;margin-left:4px;'>Deepnote</span></a>",
      "metadata": {
        "tags": [],
        "created_in_deepnote_cell": true,
        "deepnote_cell_type": "markdown"
      }
    }
  ],
  "nbformat": 4,
  "nbformat_minor": 2,
  "metadata": {
    "orig_nbformat": 2,
    "deepnote_notebook_id": "315f615c-c5ca-4ad9-b535-1e716f659264",
    "deepnote": {},
    "deepnote_execution_queue": []
  }
}