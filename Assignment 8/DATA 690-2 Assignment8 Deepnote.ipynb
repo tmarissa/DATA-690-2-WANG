{
 "cells": [
  {
   "cell_type": "code",
   "execution_count": 1,
   "metadata": {
    "cell_id": "00000-a4984c58-27cd-4492-af77-7d24aeefc8e5",
    "deepnote_cell_type": "code",
    "deepnote_to_be_reexecuted": false,
    "execution_millis": 960,
    "execution_start": 1618693544166,
    "source_hash": "d59eda61",
    "tags": []
   },
   "outputs": [],
   "source": [
    "# 1 - Import necessary libraries\n",
    "import os\n",
    "import numpy as np\n",
    "import pandas as pd\n",
    "import random\n",
    "import matplotlib.pyplot as plt\n",
    "import seaborn as sns \n",
    "plt.rcParams[\"figure.figsize\"] = (12,8)   # Global Setting"
   ]
  },
  {
   "cell_type": "code",
   "execution_count": 2,
   "metadata": {
    "cell_id": "00003-1d6e5b91-002d-4039-8843-6180126ddea0",
    "deepnote_cell_type": "code",
    "deepnote_to_be_reexecuted": false,
    "execution_millis": 9,
    "execution_start": 1618693548419,
    "source_hash": "2f4b4c01",
    "tags": []
   },
   "outputs": [
    {
     "name": "stdout",
     "output_type": "stream",
     "text": [
      "/root\n"
     ]
    }
   ],
   "source": [
    "cd"
   ]
  },
  {
   "cell_type": "code",
   "execution_count": 3,
   "metadata": {
    "cell_id": "00004-dccf42b3-38eb-40b8-b69c-0541f17e6eb3",
    "deepnote_cell_type": "code",
    "deepnote_to_be_reexecuted": false,
    "execution_millis": 7,
    "execution_start": 1618693555873,
    "source_hash": "f3d3d5cd",
    "tags": []
   },
   "outputs": [
    {
     "name": "stdout",
     "output_type": "stream",
     "text": [
      "/work\n"
     ]
    }
   ],
   "source": [
    "cd work"
   ]
  },
  {
   "cell_type": "code",
   "execution_count": 4,
   "metadata": {
    "cell_id": "00003-57f1c8ba-efaa-445d-b0aa-b8a79555be19",
    "deepnote_cell_type": "code",
    "deepnote_to_be_reexecuted": false,
    "execution_millis": 7,
    "execution_start": 1618693558694,
    "source_hash": "f9b60114",
    "tags": []
   },
   "outputs": [
    {
     "name": "stdout",
     "output_type": "stream",
     "text": [
      "/work/data\n"
     ]
    }
   ],
   "source": [
    "cd data"
   ]
  },
  {
   "cell_type": "code",
   "execution_count": 5,
   "metadata": {
    "cell_id": "00006-12e963c5-6e79-4788-b0db-1ce0dd138abf",
    "deepnote_cell_type": "code",
    "deepnote_to_be_reexecuted": false,
    "execution_millis": 7,
    "execution_start": 1618693561958,
    "source_hash": "d7e410df",
    "tags": []
   },
   "outputs": [
    {
     "name": "stdout",
     "output_type": "stream",
     "text": [
      "/work/data/Input\n"
     ]
    }
   ],
   "source": [
    "cd Input"
   ]
  },
  {
   "cell_type": "code",
   "execution_count": 6,
   "metadata": {
    "cell_id": "00001-a87871d8-c54d-4bb4-a7da-828821471829",
    "deepnote_cell_type": "code",
    "deepnote_to_be_reexecuted": false,
    "execution_millis": 6,
    "execution_start": 1618693575678,
    "source_hash": "79a6839b",
    "tags": []
   },
   "outputs": [
    {
     "data": {
      "text/plain": [
       "'/work/data/Input'"
      ]
     },
     "execution_count": 6,
     "metadata": {},
     "output_type": "execute_result"
    }
   ],
   "source": [
    "current_folder = os.getcwd()\n",
    "current_folder\n"
   ]
  },
  {
   "cell_type": "code",
   "execution_count": 7,
   "metadata": {
    "cell_id": "00002-83037ed9-6ada-4ec7-bf2a-473e57a6ee7c",
    "deepnote_cell_type": "code",
    "deepnote_to_be_reexecuted": false,
    "execution_millis": 7,
    "execution_start": 1618693578734,
    "source_hash": "d0d8fce1",
    "tags": []
   },
   "outputs": [
    {
     "data": {
      "text/plain": [
       "['MERGED2006_07_PP.csv',\n",
       " 'MERGED2011_12_PP.csv',\n",
       " 'MERGED2014_15_PP.csv',\n",
       " 'Most-Recent-Cohorts-All-Data-Elements.csv',\n",
       " 'MERGED1999_00_PP.csv']"
      ]
     },
     "execution_count": 7,
     "metadata": {},
     "output_type": "execute_result"
    }
   ],
   "source": [
    "# 2 - Retrieve the names of the 22 files and assign them to a List variable\n",
    "# You would need to filter out other files\n",
    "# Display the names of these 22\n",
    "files = os.listdir()\n",
    "files"
   ]
  },
  {
   "cell_type": "code",
   "execution_count": 8,
   "metadata": {
    "cell_id": "00006-b2fdbeca-7197-4e30-9480-e3480f8ca8a0",
    "deepnote_cell_type": "code",
    "deepnote_to_be_reexecuted": false,
    "execution_millis": 5,
    "execution_start": 1618693586524,
    "source_hash": "63d6cd57",
    "tags": []
   },
   "outputs": [
    {
     "data": {
      "text/plain": [
       "['MERGED2006_07_PP.csv',\n",
       " 'MERGED2011_12_PP.csv',\n",
       " 'MERGED2014_15_PP.csv',\n",
       " 'MERGED1999_00_PP.csv']"
      ]
     },
     "execution_count": 8,
     "metadata": {},
     "output_type": "execute_result"
    }
   ],
   "source": [
    "\n",
    "csv_files = [file for file in files if file.startswith('MERGED')]\n",
    "csv_files"
   ]
  },
  {
   "cell_type": "code",
   "execution_count": 9,
   "metadata": {
    "cell_id": "00006-49616eaa-59de-4316-b293-ca3c9cd2e635",
    "deepnote_cell_type": "code",
    "deepnote_to_be_reexecuted": false,
    "execution_millis": 12,
    "execution_start": 1618693589872,
    "source_hash": "9224043d",
    "tags": []
   },
   "outputs": [
    {
     "data": {
      "text/plain": [
       "'MERGED1999_00_PP.csv'"
      ]
     },
     "execution_count": 9,
     "metadata": {},
     "output_type": "execute_result"
    }
   ],
   "source": [
    "# 3 - Write code to randomly select one file name out of the 22 files names. \n",
    "# Hint: generate a random integer between 0 and 21 first\n",
    "# Display the file name\n",
    "\n",
    "random_file = random.choice(csv_files)\n",
    "random_file"
   ]
  },
  {
   "cell_type": "code",
   "execution_count": 10,
   "metadata": {
    "cell_id": "00010-40cad7cc-a2c8-45a3-b6f3-6bc163b16964",
    "deepnote_cell_type": "code",
    "deepnote_to_be_reexecuted": false,
    "execution_millis": 8,
    "execution_start": 1618693598654,
    "source_hash": "faadef6b",
    "tags": []
   },
   "outputs": [
    {
     "data": {
      "text/plain": [
       "'/work/data/Input'"
      ]
     },
     "execution_count": 10,
     "metadata": {},
     "output_type": "execute_result"
    }
   ],
   "source": [
    "os.getcwd()"
   ]
  },
  {
   "cell_type": "code",
   "execution_count": 11,
   "metadata": {
    "cell_id": "00005-0d169dd8-d02d-44d7-9bef-d3f793164534",
    "deepnote_cell_type": "code",
    "deepnote_to_be_reexecuted": false,
    "execution_millis": 947,
    "execution_start": 1618693601225,
    "source_hash": "839c2436",
    "tags": []
   },
   "outputs": [
    {
     "data": {
      "application/vnd.deepnote.dataframe.v2+json": {
       "column_count": 2,
       "columns": [
        {
         "dtype": "object",
         "name": "INSTNM",
         "stats": {
          "categories": [
           {
            "count": 1,
            "name": "Community College of the Air Force"
           },
           {
            "count": 1,
            "name": "Alabama A & M University"
           },
           {
            "count": 3,
            "name": "3 others"
           }
          ],
          "nan_count": 0,
          "unique_count": 5
         }
        },
        {
         "dtype": "float64",
         "name": "TUITIONFEE_IN",
         "stats": {
          "histogram": [
           {
            "bin_end": 3876,
            "bin_start": 3640,
            "count": 1
           },
           {
            "bin_end": 4112,
            "bin_start": 3876,
            "count": 0
           },
           {
            "bin_end": 4348,
            "bin_start": 4112,
            "count": 0
           },
           {
            "bin_end": 4584,
            "bin_start": 4348,
            "count": 0
           },
           {
            "bin_end": 4820,
            "bin_start": 4584,
            "count": 1
           },
           {
            "bin_end": 5056,
            "bin_start": 4820,
            "count": 1
           },
           {
            "bin_end": 5292,
            "bin_start": 5056,
            "count": 0
           },
           {
            "bin_end": 5528,
            "bin_start": 5292,
            "count": 0
           },
           {
            "bin_end": 5764,
            "bin_start": 5528,
            "count": 0
           },
           {
            "bin_end": 6000,
            "bin_start": 5764,
            "count": 1
           }
          ],
          "max": "6000.0",
          "min": "3640.0",
          "nan_count": 1,
          "unique_count": 4
         }
        },
        {
         "dtype": "int64",
         "name": "_deepnote_index_column"
        }
       ],
       "row_count": 5,
       "rows_bottom": null,
       "rows_top": [
        {
         "INSTNM": "Community College of the Air Force",
         "TUITIONFEE_IN": "nan",
         "_deepnote_index_column": 0
        },
        {
         "INSTNM": "Alabama A & M University",
         "TUITIONFEE_IN": "3640.0",
         "_deepnote_index_column": 1
        },
        {
         "INSTNM": "University of Alabama at Birmingham",
         "TUITIONFEE_IN": "4792.0",
         "_deepnote_index_column": 2
        },
        {
         "INSTNM": "Amridge University",
         "TUITIONFEE_IN": "6000.0",
         "_deepnote_index_column": 3
        },
        {
         "INSTNM": "University of Alabama in Huntsville",
         "TUITIONFEE_IN": "4848.0",
         "_deepnote_index_column": 4
        }
       ]
      },
      "text/html": [
       "<div>\n",
       "<style scoped>\n",
       "    .dataframe tbody tr th:only-of-type {\n",
       "        vertical-align: middle;\n",
       "    }\n",
       "\n",
       "    .dataframe tbody tr th {\n",
       "        vertical-align: top;\n",
       "    }\n",
       "\n",
       "    .dataframe thead th {\n",
       "        text-align: right;\n",
       "    }\n",
       "</style>\n",
       "<table border=\"1\" class=\"dataframe\">\n",
       "  <thead>\n",
       "    <tr style=\"text-align: right;\">\n",
       "      <th></th>\n",
       "      <th>INSTNM</th>\n",
       "      <th>TUITIONFEE_IN</th>\n",
       "    </tr>\n",
       "  </thead>\n",
       "  <tbody>\n",
       "    <tr>\n",
       "      <th>0</th>\n",
       "      <td>Community College of the Air Force</td>\n",
       "      <td>NaN</td>\n",
       "    </tr>\n",
       "    <tr>\n",
       "      <th>1</th>\n",
       "      <td>Alabama A &amp; M University</td>\n",
       "      <td>3640.0</td>\n",
       "    </tr>\n",
       "    <tr>\n",
       "      <th>2</th>\n",
       "      <td>University of Alabama at Birmingham</td>\n",
       "      <td>4792.0</td>\n",
       "    </tr>\n",
       "    <tr>\n",
       "      <th>3</th>\n",
       "      <td>Amridge University</td>\n",
       "      <td>6000.0</td>\n",
       "    </tr>\n",
       "    <tr>\n",
       "      <th>4</th>\n",
       "      <td>University of Alabama in Huntsville</td>\n",
       "      <td>4848.0</td>\n",
       "    </tr>\n",
       "  </tbody>\n",
       "</table>\n",
       "</div>"
      ],
      "text/plain": [
       "                                INSTNM  TUITIONFEE_IN\n",
       "0   Community College of the Air Force            NaN\n",
       "1             Alabama A & M University         3640.0\n",
       "2  University of Alabama at Birmingham         4792.0\n",
       "3                   Amridge University         6000.0\n",
       "4  University of Alabama in Huntsville         4848.0"
      ]
     },
     "execution_count": 11,
     "metadata": {},
     "output_type": "execute_result"
    }
   ],
   "source": [
    "# 4 - Only read the two columns: college name (INSTNM) and in state tution \n",
    "# (\"TUITIONFEE_IN\") from this file into a data frame aand display use info()\n",
    "# function to display a summary information\n",
    "df = pd.read_csv('/work/data/Input/MERGED2006_07_PP.csv',\n",
    " usecols = [\"INSTNM\", \"TUITIONFEE_IN\"])\n",
    "df.head(5)"
   ]
  },
  {
   "cell_type": "code",
   "execution_count": 12,
   "metadata": {
    "cell_id": "00008-b4aa6564-5e35-484a-814c-1a0dc4a82e6d",
    "deepnote_cell_type": "code",
    "deepnote_to_be_reexecuted": false,
    "execution_millis": 11,
    "execution_start": 1618693607575,
    "source_hash": "621b331a",
    "tags": []
   },
   "outputs": [
    {
     "data": {
      "text/plain": [
       "count      6951\n",
       "unique        2\n",
       "top       False\n",
       "freq       4201\n",
       "Name: TUITIONFEE_IN, dtype: object"
      ]
     },
     "execution_count": 12,
     "metadata": {},
     "output_type": "execute_result"
    }
   ],
   "source": [
    "# 5 - Find out how many observations have missing value.\n",
    "# there are 6,951 cels and 4201 cels are not null, 2750 are null\n",
    "Miss_Val = df[\"TUITIONFEE_IN\"].isnull()\n",
    "Miss_Val.describe()"
   ]
  },
  {
   "cell_type": "code",
   "execution_count": 13,
   "metadata": {
    "cell_id": "00009-1bdecf28-d820-4d31-813e-af58eb1a62d9",
    "deepnote_cell_type": "code",
    "deepnote_to_be_reexecuted": false,
    "execution_millis": 7,
    "execution_start": 1618693610318,
    "source_hash": "7a3f1f4a",
    "tags": []
   },
   "outputs": [
    {
     "data": {
      "application/vnd.deepnote.dataframe.v2+json": {
       "column_count": 2,
       "columns": [
        {
         "dtype": "object",
         "name": "INSTNM",
         "stats": {
          "categories": [
           {
            "count": 1,
            "name": "Alabama A & M University"
           },
           {
            "count": 1,
            "name": "University of Alabama at Birmingham"
           },
           {
            "count": 3,
            "name": "3 others"
           }
          ],
          "nan_count": 0,
          "unique_count": 5
         }
        },
        {
         "dtype": "float64",
         "name": "TUITIONFEE_IN",
         "stats": {
          "histogram": [
           {
            "bin_end": 3876,
            "bin_start": 3640,
            "count": 1
           },
           {
            "bin_end": 4112,
            "bin_start": 3876,
            "count": 1
           },
           {
            "bin_end": 4348,
            "bin_start": 4112,
            "count": 0
           },
           {
            "bin_end": 4584,
            "bin_start": 4348,
            "count": 0
           },
           {
            "bin_end": 4820,
            "bin_start": 4584,
            "count": 1
           },
           {
            "bin_end": 5056,
            "bin_start": 4820,
            "count": 1
           },
           {
            "bin_end": 5292,
            "bin_start": 5056,
            "count": 0
           },
           {
            "bin_end": 5528,
            "bin_start": 5292,
            "count": 0
           },
           {
            "bin_end": 5764,
            "bin_start": 5528,
            "count": 0
           },
           {
            "bin_end": 6000,
            "bin_start": 5764,
            "count": 1
           }
          ],
          "max": "6000.0",
          "min": "3640.0",
          "nan_count": 0,
          "unique_count": 5
         }
        },
        {
         "dtype": "int64",
         "name": "_deepnote_index_column"
        }
       ],
       "row_count": 5,
       "rows_bottom": null,
       "rows_top": [
        {
         "INSTNM": "Alabama A & M University",
         "TUITIONFEE_IN": 3640,
         "_deepnote_index_column": 1
        },
        {
         "INSTNM": "University of Alabama at Birmingham",
         "TUITIONFEE_IN": 4792,
         "_deepnote_index_column": 2
        },
        {
         "INSTNM": "Amridge University",
         "TUITIONFEE_IN": 6000,
         "_deepnote_index_column": 3
        },
        {
         "INSTNM": "University of Alabama in Huntsville",
         "TUITIONFEE_IN": 4848,
         "_deepnote_index_column": 4
        },
        {
         "INSTNM": "Alabama State University",
         "TUITIONFEE_IN": 4008,
         "_deepnote_index_column": 5
        }
       ]
      },
      "text/html": [
       "<div>\n",
       "<style scoped>\n",
       "    .dataframe tbody tr th:only-of-type {\n",
       "        vertical-align: middle;\n",
       "    }\n",
       "\n",
       "    .dataframe tbody tr th {\n",
       "        vertical-align: top;\n",
       "    }\n",
       "\n",
       "    .dataframe thead th {\n",
       "        text-align: right;\n",
       "    }\n",
       "</style>\n",
       "<table border=\"1\" class=\"dataframe\">\n",
       "  <thead>\n",
       "    <tr style=\"text-align: right;\">\n",
       "      <th></th>\n",
       "      <th>INSTNM</th>\n",
       "      <th>TUITIONFEE_IN</th>\n",
       "    </tr>\n",
       "  </thead>\n",
       "  <tbody>\n",
       "    <tr>\n",
       "      <th>1</th>\n",
       "      <td>Alabama A &amp; M University</td>\n",
       "      <td>3640.0</td>\n",
       "    </tr>\n",
       "    <tr>\n",
       "      <th>2</th>\n",
       "      <td>University of Alabama at Birmingham</td>\n",
       "      <td>4792.0</td>\n",
       "    </tr>\n",
       "    <tr>\n",
       "      <th>3</th>\n",
       "      <td>Amridge University</td>\n",
       "      <td>6000.0</td>\n",
       "    </tr>\n",
       "    <tr>\n",
       "      <th>4</th>\n",
       "      <td>University of Alabama in Huntsville</td>\n",
       "      <td>4848.0</td>\n",
       "    </tr>\n",
       "    <tr>\n",
       "      <th>5</th>\n",
       "      <td>Alabama State University</td>\n",
       "      <td>4008.0</td>\n",
       "    </tr>\n",
       "  </tbody>\n",
       "</table>\n",
       "</div>"
      ],
      "text/plain": [
       "                                INSTNM  TUITIONFEE_IN\n",
       "1             Alabama A & M University         3640.0\n",
       "2  University of Alabama at Birmingham         4792.0\n",
       "3                   Amridge University         6000.0\n",
       "4  University of Alabama in Huntsville         4848.0\n",
       "5             Alabama State University         4008.0"
      ]
     },
     "execution_count": 13,
     "metadata": {},
     "output_type": "execute_result"
    }
   ],
   "source": [
    "# 6 - Drop those observations with missing value\n",
    "# Disaply the number of observations \n",
    "Drop_Miss_Val = df.dropna(how='any')\n",
    "Drop_Miss_Val.head(5)"
   ]
  },
  {
   "cell_type": "code",
   "execution_count": 14,
   "metadata": {
    "cell_id": "00015-6eb10432-1c86-49e6-bd03-8832d5067404",
    "deepnote_cell_type": "code",
    "deepnote_to_be_reexecuted": false,
    "execution_millis": 8,
    "execution_start": 1618693618140,
    "source_hash": "71568cb5",
    "tags": []
   },
   "outputs": [
    {
     "data": {
      "text/plain": [
       "'Alabama A & M University'"
      ]
     },
     "execution_count": 14,
     "metadata": {},
     "output_type": "execute_result"
    }
   ],
   "source": [
    "Drop_Miss_Val['INSTNM'][1]"
   ]
  },
  {
   "cell_type": "code",
   "execution_count": 15,
   "metadata": {
    "cell_id": "00016-2a57ba87-71e4-4670-b4ba-f8be6d61d9e2",
    "deepnote_cell_type": "code",
    "deepnote_to_be_reexecuted": false,
    "execution_millis": 11,
    "execution_start": 1618693621637,
    "source_hash": "91c0bf11",
    "tags": []
   },
   "outputs": [
    {
     "data": {
      "text/plain": [
       "3640.0"
      ]
     },
     "execution_count": 15,
     "metadata": {},
     "output_type": "execute_result"
    }
   ],
   "source": [
    "Drop_Miss_Val['TUITIONFEE_IN'][1]"
   ]
  },
  {
   "cell_type": "code",
   "execution_count": 16,
   "metadata": {
    "cell_id": "00010-54d84c4a-9f13-43e2-8980-e51919b3e48b",
    "deepnote_cell_type": "code",
    "deepnote_to_be_reexecuted": false,
    "execution_millis": 0,
    "execution_start": 1618693624656,
    "source_hash": "c33dad91",
    "tags": []
   },
   "outputs": [
    {
     "name": "stdout",
     "output_type": "stream",
     "text": [
      "<class 'pandas.core.frame.DataFrame'>\n",
      "Int64Index: 4201 entries, 1 to 6945\n",
      "Data columns (total 2 columns):\n",
      " #   Column         Non-Null Count  Dtype  \n",
      "---  ------         --------------  -----  \n",
      " 0   INSTNM         4201 non-null   object \n",
      " 1   TUITIONFEE_IN  4201 non-null   float64\n",
      "dtypes: float64(1), object(1)\n",
      "memory usage: 227.5+ KB\n"
     ]
    }
   ],
   "source": [
    "# 7 - Find out how many observations have 0 tution.\n",
    "Drop_Miss_Val.info()"
   ]
  },
  {
   "cell_type": "code",
   "execution_count": 17,
   "metadata": {
    "cell_id": "00018-c2aa6883-1007-493b-a2d3-7ef92951603a",
    "deepnote_cell_type": "code",
    "deepnote_to_be_reexecuted": false,
    "execution_millis": 7,
    "execution_start": 1618693632954,
    "source_hash": "e3316eea",
    "tags": []
   },
   "outputs": [
    {
     "data": {
      "text/plain": [
       "INSTNM           False\n",
       "TUITIONFEE_IN     True\n",
       "dtype: bool"
      ]
     },
     "execution_count": 17,
     "metadata": {},
     "output_type": "execute_result"
    }
   ],
   "source": [
    "# Checking if there is a zero. There s Zero in TuitionFee_In\n",
    "(Drop_Miss_Val==0).any()"
   ]
  },
  {
   "cell_type": "code",
   "execution_count": 18,
   "metadata": {
    "cell_id": "00011-2b35df91-11d8-477e-8e66-bb1194bed416",
    "deepnote_cell_type": "code",
    "deepnote_to_be_reexecuted": false,
    "execution_millis": 18,
    "execution_start": 1618693648704,
    "source_hash": "dcd7ea24",
    "tags": []
   },
   "outputs": [
    {
     "name": "stdout",
     "output_type": "stream",
     "text": [
      "<class 'pandas.core.frame.DataFrame'>\n",
      "Int64Index: 4196 entries, 1 to 6945\n",
      "Data columns (total 2 columns):\n",
      " #   Column         Non-Null Count  Dtype  \n",
      "---  ------         --------------  -----  \n",
      " 0   INSTNM         4196 non-null   object \n",
      " 1   TUITIONFEE_IN  4196 non-null   float64\n",
      "dtypes: float64(1), object(1)\n",
      "memory usage: 98.3+ KB\n"
     ]
    }
   ],
   "source": [
    "# 8 - Drop those observations with 0 tuition\n",
    "Drop_Zero = Drop_Miss_Val[Drop_Miss_Val['TUITIONFEE_IN'] != 0]\n",
    "Drop_Zero.info()"
   ]
  },
  {
   "cell_type": "code",
   "execution_count": 19,
   "metadata": {
    "cell_id": "00012-5e8257ae-2047-4365-a770-58615727ea18",
    "deepnote_cell_type": "code",
    "deepnote_to_be_reexecuted": false,
    "execution_millis": 0,
    "execution_start": 1618693662770,
    "source_hash": "bef65873",
    "tags": []
   },
   "outputs": [],
   "source": [
    "# 9 - Calculate and display the mean (average) of the tuitions of all\n",
    "# the remaining observations \n",
    "def Average():\n",
    "    Sum = Drop_Zero['TUITIONFEE_IN'].sum()\n",
    "    Sum = Sum.astype(float)\n",
    "    Count = Drop_Zero['TUITIONFEE_IN'].count()\n",
    "    Count = Count.astype(float)\n",
    "    Average = Sum/Count\n",
    "    round_avg =round(Average, 2)\n",
    "    return round_avg\n"
   ]
  },
  {
   "cell_type": "code",
   "execution_count": 20,
   "metadata": {
    "cell_id": "00022-53c2b1ef-c4df-43d5-86f5-6e53a88aafd7",
    "deepnote_cell_type": "code",
    "deepnote_to_be_reexecuted": false,
    "execution_millis": 9,
    "execution_start": 1618693666656,
    "source_hash": "2b63366",
    "tags": []
   },
   "outputs": [
    {
     "data": {
      "text/plain": [
       "10127.1"
      ]
     },
     "execution_count": 20,
     "metadata": {},
     "output_type": "execute_result"
    }
   ],
   "source": [
    "Avg = Average()\n",
    "Avg"
   ]
  },
  {
   "cell_type": "code",
   "execution_count": 21,
   "metadata": {
    "cell_id": "00013-11d04a3a-54ac-408d-9314-f6cb2496ac7a",
    "deepnote_cell_type": "code",
    "deepnote_to_be_reexecuted": false,
    "execution_millis": 3,
    "execution_start": 1618693674455,
    "source_hash": "b7b24b1d",
    "tags": []
   },
   "outputs": [],
   "source": [
    "# 10 - Randomly select just 1 observation from the data frame.\n",
    "# Display the tuition of that observation. \n",
    "# 11 - Calculate the different between the tuition of this observation and \n",
    "# the mean tuition off all observations calculated earlier.\n",
    "# Display the difference\n"
   ]
  },
  {
   "cell_type": "code",
   "execution_count": 22,
   "metadata": {
    "cell_id": "00014-8f61b695-bfb6-4e1e-a1ea-e479b20a0307",
    "deepnote_cell_type": "code",
    "deepnote_to_be_reexecuted": false,
    "execution_millis": 2,
    "execution_start": 1618693678560,
    "source_hash": "ab3ac2ec",
    "tags": []
   },
   "outputs": [],
   "source": [
    "# A function was made to randomly select from the cleaned dataframe\n",
    "# the difference from the tuition and population mean is compute\n",
    "from random import choice\n",
    "x = Drop_Zero\n",
    "def Diff():\n",
    "    f = len(x)              # length of dataframe\n",
    "    i = choice(range(f))    # choosing within the range of the length of dataframe\n",
    "    print(i, '\\t', x.INSTNM[i],'\\t' , x.TUITIONFEE_IN[i])\n",
    "    Difference = Avg - x.TUITIONFEE_IN[i]\n",
    "    round_diff = round(Difference, 2)\n",
    "    print(\"If the difference is negative, the tuition is more expensive than population mean,\")\n",
    "    print(\"positive is cheaper,\", \"Difference: \")\n",
    "    return round_diff\n",
    "\n"
   ]
  },
  {
   "cell_type": "code",
   "execution_count": 23,
   "metadata": {
    "cell_id": "00025-844f07ae-c743-4462-8b80-ed9fb0181ec3",
    "deepnote_cell_type": "code",
    "deepnote_to_be_reexecuted": false,
    "execution_millis": 8,
    "execution_start": 1618693688431,
    "source_hash": "4ae13e57",
    "tags": []
   },
   "outputs": [
    {
     "name": "stdout",
     "output_type": "stream",
     "text": [
      "381 \t Heald College-San Jose \t 10315.0\n",
      "If the difference is negative, the tuition is more expensive than population mean,\n",
      "positive is cheaper, Difference: \n"
     ]
    },
    {
     "data": {
      "text/plain": [
       "-187.9"
      ]
     },
     "execution_count": 23,
     "metadata": {},
     "output_type": "execute_result"
    }
   ],
   "source": [
    "Diff()"
   ]
  },
  {
   "cell_type": "code",
   "execution_count": 24,
   "metadata": {
    "cell_id": "00015-855e583d-4b03-40fc-a68b-648aab767872",
    "deepnote_cell_type": "code",
    "deepnote_to_be_reexecuted": false,
    "execution_millis": 10,
    "execution_start": 1618693691931,
    "source_hash": "db4fb7",
    "tags": []
   },
   "outputs": [
    {
     "name": "stdout",
     "output_type": "stream",
     "text": [
      "2791 \t Mesivta Torah Vodaath Rabbinical Seminary \t 7050.0\n",
      "If the difference is negative, the tuition is more expensive than population mean,\n",
      "positive is cheaper, Difference: \n"
     ]
    },
    {
     "data": {
      "text/plain": [
       "3077.1"
      ]
     },
     "execution_count": 24,
     "metadata": {},
     "output_type": "execute_result"
    }
   ],
   "source": [
    "# 12 - Repeat 10 to 11 several times get the feel of the size of the \n",
    "# difference in means\n",
    "\n",
    "Diff()"
   ]
  },
  {
   "cell_type": "code",
   "execution_count": 25,
   "metadata": {
    "cell_id": "00026-e438613f-4bb0-4e8f-b4bd-3ca1ed61fee6",
    "deepnote_cell_type": "code",
    "deepnote_to_be_reexecuted": false,
    "execution_millis": 8,
    "execution_start": 1618693697976,
    "source_hash": "4ae13e57",
    "tags": []
   },
   "outputs": [
    {
     "name": "stdout",
     "output_type": "stream",
     "text": [
      "2105 \t Central Lakes College-Brainerd \t 4238.0\n",
      "If the difference is negative, the tuition is more expensive than population mean,\n",
      "positive is cheaper, Difference: \n"
     ]
    },
    {
     "data": {
      "text/plain": [
       "5889.1"
      ]
     },
     "execution_count": 25,
     "metadata": {},
     "output_type": "execute_result"
    }
   ],
   "source": [
    "Diff()"
   ]
  },
  {
   "cell_type": "code",
   "execution_count": 27,
   "metadata": {
    "cell_id": "00027-98bac246-5080-4e62-accf-0f010869b5d9",
    "deepnote_cell_type": "code",
    "deepnote_to_be_reexecuted": false,
    "execution_millis": 13,
    "execution_start": 1618693707749,
    "source_hash": "4ae13e57",
    "tags": []
   },
   "outputs": [
    {
     "name": "stdout",
     "output_type": "stream",
     "text": [
      "2145 \t University of Minnesota-Morris \t 10312.0\n",
      "If the difference is negative, the tuition is more expensive than population mean,\n",
      "positive is cheaper, Difference: \n"
     ]
    },
    {
     "data": {
      "text/plain": [
       "-184.9"
      ]
     },
     "execution_count": 27,
     "metadata": {},
     "output_type": "execute_result"
    }
   ],
   "source": [
    "Diff()"
   ]
  },
  {
   "cell_type": "code",
   "execution_count": 30,
   "metadata": {
    "cell_id": "00029-ea3ce865-fb00-40f4-9f9d-d0f4855d8c87",
    "deepnote_cell_type": "code",
    "deepnote_to_be_reexecuted": false,
    "execution_millis": 6,
    "execution_start": 1618693721363,
    "source_hash": "4ae13e57",
    "tags": []
   },
   "outputs": [
    {
     "name": "stdout",
     "output_type": "stream",
     "text": [
      "1600 \t Northern Kentucky University \t 5448.0\n",
      "If the difference is negative, the tuition is more expensive than population mean,\n",
      "positive is cheaper, Difference: \n"
     ]
    },
    {
     "data": {
      "text/plain": [
       "4679.1"
      ]
     },
     "execution_count": 30,
     "metadata": {},
     "output_type": "execute_result"
    }
   ],
   "source": [
    "Diff()"
   ]
  },
  {
   "cell_type": "markdown",
   "metadata": {
    "cell_id": "00029-33d623b9-e003-4019-9875-4144d5ca96a6",
    "deepnote_cell_type": "markdown",
    "tags": []
   },
   "source": [
    "### **Observation**\n",
    "There is a wide difference between the population mean and the universities/college's tuition fees"
   ]
  },
  {
   "cell_type": "code",
   "execution_count": 31,
   "metadata": {
    "cell_id": "00016-b60cec47-8c67-427e-a198-8c37d5ec10dc",
    "deepnote_cell_type": "code",
    "deepnote_to_be_reexecuted": false,
    "execution_millis": 14,
    "execution_start": 1618693727258,
    "source_hash": "d81bcd86",
    "tags": []
   },
   "outputs": [
    {
     "data": {
      "application/vnd.deepnote.dataframe.v2+json": {
       "column_count": 2,
       "columns": [
        {
         "dtype": "object",
         "name": "INSTNM",
         "stats": {
          "categories": [
           {
            "count": 1,
            "name": "Le Cordon Bleu College of Culinary Arts-Las Vegas"
           },
           {
            "count": 1,
            "name": "College for Creative Studies"
           },
           {
            "count": 3,
            "name": "3 others"
           }
          ],
          "nan_count": 0,
          "unique_count": 5
         }
        },
        {
         "dtype": "float64",
         "name": "TUITIONFEE_IN",
         "stats": {
          "histogram": [
           {
            "bin_end": 6298.6,
            "bin_start": 3804,
            "count": 1
           },
           {
            "bin_end": 8793.2,
            "bin_start": 6298.6,
            "count": 0
           },
           {
            "bin_end": 11287.8,
            "bin_start": 8793.2,
            "count": 0
           },
           {
            "bin_end": 13782.4,
            "bin_start": 11287.8,
            "count": 1
           },
           {
            "bin_end": 16277,
            "bin_start": 13782.4,
            "count": 0
           },
           {
            "bin_end": 18771.6,
            "bin_start": 16277,
            "count": 0
           },
           {
            "bin_end": 21266.2,
            "bin_start": 18771.6,
            "count": 1
           },
           {
            "bin_end": 23760.8,
            "bin_start": 21266.2,
            "count": 0
           },
           {
            "bin_end": 26255.399999999998,
            "bin_start": 23760.8,
            "count": 1
           },
           {
            "bin_end": 28750,
            "bin_start": 26255.399999999998,
            "count": 1
           }
          ],
          "max": "28750.0",
          "min": "3804.0",
          "nan_count": 0,
          "unique_count": 5
         }
        },
        {
         "dtype": "int64",
         "name": "_deepnote_index_column"
        }
       ],
       "row_count": 5,
       "rows_bottom": null,
       "rows_top": [
        {
         "INSTNM": "Le Cordon Bleu College of Culinary Arts-Las Vegas",
         "TUITIONFEE_IN": 19000,
         "_deepnote_index_column": 6422
        },
        {
         "INSTNM": "College for Creative Studies",
         "TUITIONFEE_IN": 24635,
         "_deepnote_index_column": 1997
        },
        {
         "INSTNM": "Herzing University-Winter Park",
         "TUITIONFEE_IN": 12240,
         "_deepnote_index_column": 5223
        },
        {
         "INSTNM": "Anoka-Ramsey Community College-Cambridge Campus",
         "TUITIONFEE_IN": 3804,
         "_deepnote_index_column": 6892
        },
        {
         "INSTNM": "The University of the South",
         "TUITIONFEE_IN": 28750,
         "_deepnote_index_column": 3969
        }
       ]
      },
      "text/html": [
       "<div>\n",
       "<style scoped>\n",
       "    .dataframe tbody tr th:only-of-type {\n",
       "        vertical-align: middle;\n",
       "    }\n",
       "\n",
       "    .dataframe tbody tr th {\n",
       "        vertical-align: top;\n",
       "    }\n",
       "\n",
       "    .dataframe thead th {\n",
       "        text-align: right;\n",
       "    }\n",
       "</style>\n",
       "<table border=\"1\" class=\"dataframe\">\n",
       "  <thead>\n",
       "    <tr style=\"text-align: right;\">\n",
       "      <th></th>\n",
       "      <th>INSTNM</th>\n",
       "      <th>TUITIONFEE_IN</th>\n",
       "    </tr>\n",
       "  </thead>\n",
       "  <tbody>\n",
       "    <tr>\n",
       "      <th>6422</th>\n",
       "      <td>Le Cordon Bleu College of Culinary Arts-Las Vegas</td>\n",
       "      <td>19000.0</td>\n",
       "    </tr>\n",
       "    <tr>\n",
       "      <th>1997</th>\n",
       "      <td>College for Creative Studies</td>\n",
       "      <td>24635.0</td>\n",
       "    </tr>\n",
       "    <tr>\n",
       "      <th>5223</th>\n",
       "      <td>Herzing University-Winter Park</td>\n",
       "      <td>12240.0</td>\n",
       "    </tr>\n",
       "    <tr>\n",
       "      <th>6892</th>\n",
       "      <td>Anoka-Ramsey Community College-Cambridge Campus</td>\n",
       "      <td>3804.0</td>\n",
       "    </tr>\n",
       "    <tr>\n",
       "      <th>3969</th>\n",
       "      <td>The University of the South</td>\n",
       "      <td>28750.0</td>\n",
       "    </tr>\n",
       "  </tbody>\n",
       "</table>\n",
       "</div>"
      ],
      "text/plain": [
       "                                                 INSTNM  TUITIONFEE_IN\n",
       "6422  Le Cordon Bleu College of Culinary Arts-Las Vegas        19000.0\n",
       "1997                       College for Creative Studies        24635.0\n",
       "5223                     Herzing University-Winter Park        12240.0\n",
       "6892    Anoka-Ramsey Community College-Cambridge Campus         3804.0\n",
       "3969                        The University of the South        28750.0"
      ]
     },
     "execution_count": 31,
     "metadata": {},
     "output_type": "execute_result"
    }
   ],
   "source": [
    "# 13 - Randomly select 20 observations, display the tuition of these \n",
    "# observation. \n",
    "Random_20 = Drop_Zero.sample(20)\n",
    "Random_20.head(5)"
   ]
  },
  {
   "cell_type": "code",
   "execution_count": 32,
   "metadata": {
    "cell_id": "00017-78a78086-29e7-4883-8e55-23a254685469",
    "deepnote_cell_type": "code",
    "deepnote_to_be_reexecuted": false,
    "execution_millis": 1,
    "execution_start": 1618693734532,
    "source_hash": "b529f9f5",
    "tags": []
   },
   "outputs": [],
   "source": [
    "# 14 - Calculate and displat the mean tuition of these 20 observations\n",
    "def Rand_Average():\n",
    "    Random_20 = Drop_Zero.sample(20)\n",
    "    Sum = Random_20['TUITIONFEE_IN'].sum()\n",
    "    Sum = Sum.astype(float)\n",
    "    Count = Random_20['TUITIONFEE_IN'].count()\n",
    "    Count = Count.astype(float)\n",
    "    Rand_Avg = Sum/Count\n",
    "    Rand_Avg = Rand_Avg.astype(float)\n",
    "    Rand_Avg = round(Rand_Avg, 2)\n",
    "    Rand_Avg2 = round(Rand_Avg, 2)\n",
    "    Difference = Avg - Rand_Avg2\n",
    "    Difference = round(Difference, 2)\n",
    "    print(\"Below is the Sample Mean, Population Mean, Difference.\")\n",
    "    return Rand_Avg, Avg, Difference"
   ]
  },
  {
   "cell_type": "code",
   "execution_count": 33,
   "metadata": {
    "cell_id": "00018-72f7e376-6541-4d74-9407-f402a344d2b1",
    "deepnote_cell_type": "code",
    "deepnote_to_be_reexecuted": false,
    "execution_millis": 11,
    "execution_start": 1618693738406,
    "source_hash": "e616e628",
    "tags": []
   },
   "outputs": [
    {
     "name": "stdout",
     "output_type": "stream",
     "text": [
      "Sum:  235162.0 \tCount:  20.0 \tRandom Average:  11758.1 \tDifference:  -1631.0\n"
     ]
    }
   ],
   "source": [
    "# 15 - Calculate  the different between the average tuition of these 20 observations \n",
    "# and the mean tuition off all observations calculated earlier.\n",
    "# Display the difference\n",
    "Sum = Random_20['TUITIONFEE_IN'].sum()\n",
    "Sum = Sum.astype(float)\n",
    "Count = Random_20['TUITIONFEE_IN'].count()\n",
    "Count = Count.astype(float)\n",
    "Rand_Avg = Sum/Count\n",
    "Difference = Avg - Rand_Avg\n",
    "print(\"Sum: \", Sum, \"\\tCount: \", Count, \"\\tRandom Average: \", Rand_Avg, \n",
    "      \"\\tDifference: \", Difference)\n"
   ]
  },
  {
   "cell_type": "code",
   "execution_count": 34,
   "metadata": {
    "cell_id": "00019-4a6344a4-4c83-423a-a7b0-3b2804c19492",
    "deepnote_cell_type": "code",
    "deepnote_to_be_reexecuted": false,
    "execution_millis": 5,
    "execution_start": 1618693745030,
    "source_hash": "c8833055",
    "tags": []
   },
   "outputs": [
    {
     "name": "stdout",
     "output_type": "stream",
     "text": [
      "Below is the Sample Mean, Population Mean, Difference.\n"
     ]
    },
    {
     "data": {
      "text/plain": [
       "(11945.55, 10127.1, -1818.45)"
      ]
     },
     "execution_count": 34,
     "metadata": {},
     "output_type": "execute_result"
    }
   ],
   "source": [
    "# 16 - Repeat 13 to 15 several times and get the feel of the size of the difference in means \n",
    "# Compare these differences with the differences calculated earlier with just 1 observation\n",
    "# Describe your hunch/conclusion\n",
    "Rand_Average()"
   ]
  },
  {
   "cell_type": "code",
   "execution_count": 35,
   "metadata": {
    "cell_id": "00034-46206125-1e0c-47b9-868e-1687e5a3165b",
    "deepnote_cell_type": "code",
    "deepnote_to_be_reexecuted": false,
    "execution_millis": 10,
    "execution_start": 1618693748447,
    "source_hash": "85d7b54",
    "tags": []
   },
   "outputs": [
    {
     "name": "stdout",
     "output_type": "stream",
     "text": [
      "Below is the Sample Mean, Population Mean, Difference.\n"
     ]
    },
    {
     "data": {
      "text/plain": [
       "(8956.4, 10127.1, 1170.7)"
      ]
     },
     "execution_count": 35,
     "metadata": {},
     "output_type": "execute_result"
    }
   ],
   "source": [
    "Rand_Average()"
   ]
  },
  {
   "cell_type": "code",
   "execution_count": 36,
   "metadata": {
    "cell_id": "00035-81c31f57-d38f-4e89-9ba1-d57ce9157833",
    "deepnote_cell_type": "code",
    "deepnote_to_be_reexecuted": false,
    "execution_millis": 11,
    "execution_start": 1618693751420,
    "source_hash": "85d7b54",
    "tags": []
   },
   "outputs": [
    {
     "name": "stdout",
     "output_type": "stream",
     "text": [
      "Below is the Sample Mean, Population Mean, Difference.\n"
     ]
    },
    {
     "data": {
      "text/plain": [
       "(11285.1, 10127.1, -1158.0)"
      ]
     },
     "execution_count": 36,
     "metadata": {},
     "output_type": "execute_result"
    }
   ],
   "source": [
    "Rand_Average()"
   ]
  },
  {
   "cell_type": "code",
   "execution_count": 37,
   "metadata": {
    "cell_id": "00036-1e07ef60-0a1e-49a2-8085-76df2778a3bc",
    "deepnote_cell_type": "code",
    "deepnote_to_be_reexecuted": false,
    "execution_millis": 7,
    "execution_start": 1618693757114,
    "source_hash": "85d7b54",
    "tags": []
   },
   "outputs": [
    {
     "name": "stdout",
     "output_type": "stream",
     "text": [
      "Below is the Sample Mean, Population Mean, Difference.\n"
     ]
    },
    {
     "data": {
      "text/plain": [
       "(10657.45, 10127.1, -530.35)"
      ]
     },
     "execution_count": 37,
     "metadata": {},
     "output_type": "execute_result"
    }
   ],
   "source": [
    "Rand_Average()"
   ]
  },
  {
   "cell_type": "code",
   "execution_count": 38,
   "metadata": {
    "cell_id": "00037-13d97710-cdca-4efc-a975-9b2c5075e59f",
    "deepnote_cell_type": "code",
    "deepnote_to_be_reexecuted": false,
    "execution_millis": 7,
    "execution_start": 1618693760928,
    "source_hash": "85d7b54",
    "tags": []
   },
   "outputs": [
    {
     "name": "stdout",
     "output_type": "stream",
     "text": [
      "Below is the Sample Mean, Population Mean, Difference.\n"
     ]
    },
    {
     "data": {
      "text/plain": [
       "(9893.15, 10127.1, 233.95)"
      ]
     },
     "execution_count": 38,
     "metadata": {},
     "output_type": "execute_result"
    }
   ],
   "source": [
    "Rand_Average()"
   ]
  },
  {
   "cell_type": "code",
   "execution_count": 39,
   "metadata": {
    "cell_id": "00038-816df4ec-0ff5-4c93-ae42-57575e30c453",
    "deepnote_cell_type": "code",
    "deepnote_to_be_reexecuted": false,
    "execution_millis": 14,
    "execution_start": 1618693767156,
    "source_hash": "85d7b54",
    "tags": []
   },
   "outputs": [
    {
     "name": "stdout",
     "output_type": "stream",
     "text": [
      "Below is the Sample Mean, Population Mean, Difference.\n"
     ]
    },
    {
     "data": {
      "text/plain": [
       "(13473.25, 10127.1, -3346.15)"
      ]
     },
     "execution_count": 39,
     "metadata": {},
     "output_type": "execute_result"
    }
   ],
   "source": [
    "Rand_Average()"
   ]
  },
  {
   "cell_type": "markdown",
   "metadata": {
    "cell_id": "00039-fae72273-324b-4e9f-ae01-eaf4b458cf95",
    "deepnote_cell_type": "markdown",
    "tags": []
   },
   "source": [
    "### **Observation** \n",
    "The difference between the sample mean and population mean has a narrower gap than the difference between the tuition of a school and population mean"
   ]
  },
  {
   "cell_type": "code",
   "execution_count": 40,
   "metadata": {
    "cell_id": "00042-66628798-909f-4699-ae48-629e7b43f78c",
    "deepnote_cell_type": "code",
    "deepnote_to_be_reexecuted": false,
    "execution_millis": 1,
    "execution_start": 1618693777296,
    "source_hash": "6ad8db4c",
    "tags": []
   },
   "outputs": [],
   "source": [
    "# 17 \n",
    "#Write a function that take two input parameters:\n",
    "#- x (number of observations) \n",
    "#- y (the name of the dataframe). \n",
    "\n",
    "#The function will perform the following: \n",
    "#- Randomly select x observations from y\n",
    "#- Calculate the mean of these x observations \n",
    "#- Calculate the mean of all observations\n",
    "#- Calculate the difference between the two means \n",
    "#- Return the difference\n"
   ]
  },
  {
   "cell_type": "code",
   "execution_count": 41,
   "metadata": {
    "cell_id": "00020-1e8f6c09-fa5c-435c-a2ee-e6a655ef408e",
    "deepnote_cell_type": "code",
    "deepnote_to_be_reexecuted": false,
    "execution_millis": 8060,
    "execution_start": 1618693781452,
    "source_hash": "33787472",
    "tags": []
   },
   "outputs": [
    {
     "name": "stdout",
     "output_type": "stream",
     "text": [
      "Random Samples: \n",
      "                                          INSTNM  TUITIONFEE_IN\n",
      "1688  Northwestern State University of Louisiana         3587.0\n",
      "2355       Missouri State University-West Plains         3274.0\n",
      "3737     Shippensburg University of Pennsylvania         6549.0\n",
      "6419        ITT Technical Institute-Eden Prairie        14880.0\n",
      "4073                   Houston Community College         1302.0\n",
      "Sample_Mean:  5918.4 \tPop_Mean:  10127.099142040039\n",
      "Difference: \n"
     ]
    },
    {
     "data": {
      "text/plain": [
       "4208.699142040039"
      ]
     },
     "execution_count": 41,
     "metadata": {},
     "output_type": "execute_result"
    }
   ],
   "source": [
    "y = Drop_Zero              # The cleanse dataframe\n",
    "\n",
    "def Diff_Pop_Sample_Mean(x, y): \n",
    "    x = int(input(\"Enter the desired number of observation: \"))\n",
    "    Random_Samples = y.sample(x)                         # sample of no. of observation     \n",
    "    Sample_Mean = Random_Samples['TUITIONFEE_IN'].mean()\n",
    "    Pop_Mean = y['TUITIONFEE_IN'].mean()\n",
    "    Diff = Pop_Mean - Sample_Mean\n",
    "    print(\"Random Samples: \")5\n",
    "    print(Random_Samples)\n",
    "    print(\"Sample_Mean: \", Sample_Mean, \"\\tPop_Mean: \", Pop_Mean)\n",
    "    print(\"Difference: \")\n",
    "    return Diff\n",
    "    \n",
    "Diff_Pop_Sample_Mean(x, y)"
   ]
  },
  {
   "cell_type": "code",
   "execution_count": 42,
   "metadata": {
    "cell_id": "00022-24766451-d9ba-4dfb-a285-d31947ed7d86",
    "deepnote_cell_type": "code",
    "deepnote_to_be_reexecuted": false,
    "execution_millis": 10715,
    "execution_start": 1618693796459,
    "source_hash": "8b045fe0",
    "tags": []
   },
   "outputs": [
    {
     "name": "stdout",
     "output_type": "stream",
     "text": [
      "Random Samples: \n",
      "                                    INSTNM  TUITIONFEE_IN\n",
      "4324         Paul D Camp Community College         2270.0\n",
      "6857      Keiser University-Pembroke Pines        12440.0\n",
      "1953                    Simmons University        25914.0\n",
      "1233                     Principia College        21450.0\n",
      "1335            University of Indianapolis        18850.0\n",
      "2830       Ohr Hameir Theological Seminary         6700.0\n",
      "487   Newschool of Architecture and Design        18085.0\n",
      "6624               Daymar College-Bellevue        10320.0\n",
      "378                    Harvey Mudd College        33325.0\n",
      "2434      Southeast Community College Area         1935.0\n",
      "Sample_Mean:  15128.9 \tPop_Mean:  10127.099142040039\n",
      "Difference: \n"
     ]
    },
    {
     "data": {
      "text/plain": [
       "-5001.800857959961"
      ]
     },
     "execution_count": 42,
     "metadata": {},
     "output_type": "execute_result"
    }
   ],
   "source": [
    "# 18 - test the function by passing a sample size and the name of the \n",
    "# dataframe. Dsplay the return of the function\n",
    "Diff_Pop_Sample_Mean(x, y)"
   ]
  },
  {
   "cell_type": "code",
   "execution_count": 44,
   "metadata": {
    "cell_id": "00023-d491d609-1631-40f3-a12c-00e514e142ef",
    "deepnote_cell_type": "code",
    "deepnote_to_be_reexecuted": false,
    "execution_millis": 7,
    "execution_start": 1618693817494,
    "source_hash": "d766af45",
    "tags": []
   },
   "outputs": [
    {
     "data": {
      "text/plain": [
       "array([ 1,  2,  3,  4,  5,  6,  7,  8,  9, 10, 11, 12, 13, 14, 15, 16, 17,\n",
       "       18, 19, 20, 21, 22, 23, 24, 25, 26, 27, 28, 29, 30, 31, 32, 33, 34,\n",
       "       35, 36, 37, 38, 39, 40, 41, 42, 43, 44, 45, 46, 47, 48, 49, 50])"
      ]
     },
     "execution_count": 44,
     "metadata": {},
     "output_type": "execute_result"
    }
   ],
   "source": [
    "# 19 - Create a list of sequence numbers from 1 to 50, name it \n",
    "# \"sample_sizes\"; display it to make sure its members are from 1 to \n",
    "sample_sizes = np.arange(1, 51)\n",
    "sample_sizes"
   ]
  },
  {
   "cell_type": "code",
   "execution_count": 45,
   "metadata": {
    "cell_id": "00024-69c510de-e5eb-4f81-ab97-db571b6da6c2",
    "deepnote_cell_type": "code",
    "deepnote_to_be_reexecuted": false,
    "execution_millis": 1,
    "execution_start": 1618693824198,
    "source_hash": "214c08a1",
    "tags": []
   },
   "outputs": [],
   "source": [
    "# 20 - Create an empty list and name it \"means_diff\" for differences of \n",
    "# population mean and sample means; Loop through the list sample_sizes:\n",
    "# For each element in the sample size list, obtain a random sample of that size from the data frame;\n",
    "# Calculate the sample mean \n",
    "# Calculate the difference between the population mean and the sample mean\n",
    "# Append the difference to the list \"means_diff\"\n",
    "# Display the list \"means_diff\" after the loop is completed\n",
    "means_diff = []\n",
    "y = Drop_Zero\n",
    "num_sample = []\n",
    "def Mean_Diff(sample_sizes, y):\n",
    "    \n",
    "    for i in sample_sizes:\n",
    "        #z = random.randint(1, len(sample_sizes))   #*sample_sizes  # random sample of numbers between 1 to 50\n",
    "        sample_list = y.sample(len(sample_sizes))\n",
    "        sample_list_mean = sample_list['TUITIONFEE_IN'].mean()\n",
    "        pop_mean = y[\"TUITIONFEE_IN\"].mean()\n",
    "        diff = pop_mean - sample_list_mean\n",
    "        round_diff = round(diff, 2)\n",
    "        means_diff.append(round_diff)\n",
    "    return means_diff"
   ]
  },
  {
   "cell_type": "code",
   "execution_count": 46,
   "metadata": {
    "cell_id": "00025-5196ea54-0c73-4e7e-9bfa-f04e4945e565",
    "deepnote_cell_type": "code",
    "deepnote_to_be_reexecuted": false,
    "execution_millis": 258,
    "execution_start": 1618693833034,
    "source_hash": "76d895ad",
    "tags": []
   },
   "outputs": [
    {
     "data": {
      "text/plain": [
       "<matplotlib.collections.PathCollection at 0x7fe1384c4f90>"
      ]
     },
     "execution_count": 46,
     "metadata": {},
     "output_type": "execute_result"
    },
    {
     "data": {
      "image/png": "[encoded data removed]",
      "text/plain": [
       "<Figure size 864x576 with 1 Axes>"
      ]
     },
     "metadata": {
      "needs_background": "light"
     },
     "output_type": "display_data"
    }
   ],
   "source": [
    "# 21 - Make a scatter plot with sample size on the x-axs and  mean difference on the y-axis\n",
    "# Observe as the sample size increases, the sample means converge to the population mean.\n",
    "# Make sure you make the plot large enough\n",
    "Mean_Diff(sample_sizes, y)\n",
    "plt.xlabel(\"Sample Sizes\")\n",
    "plt.ylabel(\"Differences between Population Mean and Sample Mean\")\n",
    "plt.scatter(sample_sizes, means_diff) "
   ]
  },
  {
   "cell_type": "code",
   "execution_count": 47,
   "metadata": {
    "cell_id": "00006-2320150c-e0a4-4cd0-80a2-6b0ce48a124a",
    "deepnote_cell_type": "code",
    "deepnote_to_be_reexecuted": false,
    "execution_millis": 416,
    "execution_start": 1618693839763,
    "source_hash": "4e533a53",
    "tags": []
   },
   "outputs": [
    {
     "data": {
      "text/plain": [
       "<matplotlib.collections.PathCollection at 0x7fe13025cbd0>"
      ]
     },
     "execution_count": 47,
     "metadata": {},
     "output_type": "execute_result"
    },
    {
     "data": {
      "image/png": "[encoded data removed]",
      "text/plain": [
       "<Figure size 864x576 with 1 Axes>"
      ]
     },
     "metadata": {
      "needs_background": "light"
     },
     "output_type": "display_data"
    }
   ],
   "source": [
    "# 22 - repeat 18 to 21 by replacing 50 with a larger number. For example, 300, or even 1000.\n",
    "# and see how the plot looks.\n",
    "means_diff = []\n",
    "sample_sizes = np.arange(1,301)\n",
    "Mean_Diff(sample_sizes, y)\n",
    "plt.xlabel(\"Sample Sizes\")\n",
    "plt.ylabel(\"Differences between Population Mean and Sample Mean\")\n",
    "plt.scatter(sample_sizes, means_diff)\n"
   ]
  },
  {
   "cell_type": "code",
   "execution_count": 48,
   "metadata": {
    "cell_id": "00050-f98c410e-a3d0-4d4c-a840-5b35e20cf474",
    "deepnote_cell_type": "code",
    "deepnote_to_be_reexecuted": false,
    "execution_millis": 989,
    "execution_start": 1618693862686,
    "source_hash": "dc05dbfd",
    "tags": []
   },
   "outputs": [
    {
     "data": {
      "text/plain": [
       "<matplotlib.collections.PathCollection at 0x7fe130185790>"
      ]
     },
     "execution_count": 48,
     "metadata": {},
     "output_type": "execute_result"
    },
    {
     "data": {
      "image/png": "[encoded data removed]",
      "text/plain": [
       "<Figure size 864x576 with 1 Axes>"
      ]
     },
     "metadata": {
      "needs_background": "light"
     },
     "output_type": "display_data"
    }
   ],
   "source": [
    "means_diff = []\n",
    "sample_sizes = np.arange(1, 1001)\n",
    "Mean_Diff(sample_sizes, y)\n",
    "plt.xlabel(\"Sample Sizes\")\n",
    "plt.ylabel(\"Differences between Population Mean and Sample Mean\")\n",
    "plt.scatter(sample_sizes, means_diff)"
   ]
  },
  {
   "cell_type": "code",
   "execution_count": 49,
   "metadata": {
    "cell_id": "00052-df008102-57a3-4a4f-b4e1-5db88eed2b2d",
    "deepnote_cell_type": "code",
    "deepnote_to_be_reexecuted": false,
    "execution_millis": 3899,
    "execution_start": 1618693868193,
    "source_hash": "a051ea6e",
    "tags": []
   },
   "outputs": [
    {
     "data": {
      "text/plain": [
       "<matplotlib.collections.PathCollection at 0x7fe1300ce250>"
      ]
     },
     "execution_count": 49,
     "metadata": {},
     "output_type": "execute_result"
    },
    {
     "data": {
      "image/png": "[encoded data removed]",
      "text/plain": [
       "<Figure size 864x576 with 1 Axes>"
      ]
     },
     "metadata": {
      "needs_background": "light"
     },
     "output_type": "display_data"
    }
   ],
   "source": [
    "means_diff = []\n",
    "sample_sizes = np.arange(1, 4001)\n",
    "Mean_Diff(sample_sizes, y)\n",
    "plt.xlabel(\"Sample Sizes\")\n",
    "plt.ylabel(\"Differences between Population Mean and Sample Mean\")\n",
    "plt.scatter(sample_sizes, means_diff)\n"
   ]
  },
  {
   "cell_type": "markdown",
   "metadata": {
    "cell_id": "00053-a3a8c34d-faf5-4d6d-94cc-7d91bcd07fee",
    "deepnote_cell_type": "markdown",
    "tags": []
   },
   "source": [
    "### **Observation**\n",
    "The larger the samples are the more concentrated are the differences within a certain range."
   ]
  },
  {
   "cell_type": "markdown",
   "metadata": {
    "created_in_deepnote_cell": true,
    "deepnote_cell_type": "markdown",
    "tags": []
   },
   "source": [
    "<a style='text-decoration:none;line-height:16px;display:flex;color:#5B5B62;padding:10px;justify-content:end;' href='https://deepnote.com?utm_source=created-in-deepnote-cell&projectId=27901319-aedf-4b36-ba0a-e19011edaf93' target=\"_blank\">\n",
    "<img alt='Created in deepnote.com' style='display:inline;max-height:16px;margin:0px;margin-right:7.5px;' src='data:image/svg+xml;base64,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' > </img>\n",
    "Created in <span style='font-weight:600;margin-left:4px;'>Deepnote</span></a>"
   ]
  }
 ],
 "metadata": {
  "deepnote": {},
  "deepnote_execution_queue": [],
  "deepnote_notebook_id": "315f615c-c5ca-4ad9-b535-1e716f659264",
  "kernelspec": {
   "display_name": "Python 3",
   "language": "python",
   "name": "python3"
  },
  "language_info": {
   "codemirror_mode": {
    "name": "ipython",
    "version": 3
   },
   "file_extension": ".py",
   "mimetype": "text/x-python",
   "name": "python",
   "nbconvert_exporter": "python",
   "pygments_lexer": "ipython3",
   "version": "3.8.5"
  }
 },
 "nbformat": 4,
 "nbformat_minor": 2
}
