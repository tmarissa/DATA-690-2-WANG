{
  "nbformat": 4,
  "nbformat_minor": 0,
  "metadata": {
    "colab": {
      "name": "DATA690-2 Assignment4.ipynb",
      "provenance": [],
      "collapsed_sections": []
    },
    "kernelspec": {
      "name": "python3",
      "display_name": "Python 3"
    }
  },
  "cells": [
    {
      "cell_type": "code",
      "metadata": {
        "id": "YIuzgiZTNM9z"
      },
      "source": [
        "# Open the census cost txt for writing\r\n",
        "with open('census_cost.txt', 'rt')as f:\r\n",
        "  line_list=f.readlines()"
      ],
      "execution_count": 1,
      "outputs": []
    },
    {
      "cell_type": "code",
      "metadata": {
        "colab": {
          "base_uri": "https://localhost:8080/"
        },
        "id": "i3AAEvvPPL8Z",
        "outputId": "99c75fc3-11b3-4c3a-914d-5024965b4759"
      },
      "source": [
        "#Check the type\r\n",
        "type(line_list)"
      ],
      "execution_count": 2,
      "outputs": [
        {
          "output_type": "execute_result",
          "data": {
            "text/plain": [
              "list"
            ]
          },
          "metadata": {
            "tags": []
          },
          "execution_count": 2
        }
      ]
    },
    {
      "cell_type": "code",
      "metadata": {
        "colab": {
          "base_uri": "https://localhost:8080/"
        },
        "id": "swLu0Tn_N1PI",
        "outputId": "b76f30a7-5f76-47c7-9f9f-a6f90f59fad9"
      },
      "source": [
        "#print a sample\r\n",
        "print(line_list)"
      ],
      "execution_count": 3,
      "outputs": [
        {
          "output_type": "stream",
          "text": [
            "['Source: https://www.genealogybranches.com/censuscosts.html\\n', 'Census Year\\tTotal Population\\tCensus Cost\\tAverage Cost Per Person\\n', '1790\\t3,929,214\\t$44,377\\t1.13 cents\\n', '1800\\t5,308,483\\t$66,109\\t1.24 cents\\n', '1810\\t7,239,881\\t$178,445\\t2.46 cents\\n', '1820\\t9,633,822\\t$208,526\\t2.16 cents\\n', '1830\\t12,866,020\\t$378,545\\t2.94 cents\\n', '1840\\t17,069,458\\t$833,371\\t4.88 cents\\n', '1850\\t23,191,876\\t$1,423,351\\t6.14 cents\\n', '1860\\t31,443,321\\t$1,969,377\\t6.26 cents\\n', '1870\\t38,558,371\\t$3,421,198\\t8.87 cents\\n', '1880\\t50,155,783\\t$5,790,678\\t11.54 cents\\n', '1890\\t62,979,766\\t$11,547,127\\t18.33 cents\\n', '1900\\t76,303,387\\t$11,854,000\\t15.54 cents\\n', '1910\\t91,972,266\\t$15,968,000\\t17.07 cents\\n', '1920\\t105,710,620\\t$25,117,000\\t23.76 cents\\n', '1930\\t122,775,046\\t$40,156,000\\t32.71 cents\\n', '1940\\t131,669,275\\t$67,527,000\\t51.29 cents\\n', '1950\\t151,325,798\\t$91,462,000\\t60.44 cents\\n', '1960\\t179,323,175\\t$127,934,000\\t71.34 cents\\n', '1970\\t203,302,031\\t$247,653,000\\t$1.22\\n', '1980\\t226,542,199\\t$1,078,488,000\\t$4.76\\n', '1990\\t248,718,301\\t$2,492,830,000\\t$10.02\\n', '2000\\t281,421,906\\t$4.5 Billion\\t$15.99\\n', '2010*\\t308,745,538\\t$13 Billion\\t$42.11\\n']\n"
          ],
          "name": "stdout"
        }
      ]
    },
    {
      "cell_type": "code",
      "metadata": {
        "id": "Ycwbs20QPVea",
        "colab": {
          "base_uri": "https://localhost:8080/"
        },
        "outputId": "d54c4591-ad32-4abf-d35d-5277aba0e526"
      },
      "source": [
        "#Print the line list in tabular form\r\n",
        "for row in line_list:\r\n",
        "  print(row)"
      ],
      "execution_count": 4,
      "outputs": [
        {
          "output_type": "stream",
          "text": [
            "Source: https://www.genealogybranches.com/censuscosts.html\n",
            "\n",
            "Census Year\tTotal Population\tCensus Cost\tAverage Cost Per Person\n",
            "\n",
            "1790\t3,929,214\t$44,377\t1.13 cents\n",
            "\n",
            "1800\t5,308,483\t$66,109\t1.24 cents\n",
            "\n",
            "1810\t7,239,881\t$178,445\t2.46 cents\n",
            "\n",
            "1820\t9,633,822\t$208,526\t2.16 cents\n",
            "\n",
            "1830\t12,866,020\t$378,545\t2.94 cents\n",
            "\n",
            "1840\t17,069,458\t$833,371\t4.88 cents\n",
            "\n",
            "1850\t23,191,876\t$1,423,351\t6.14 cents\n",
            "\n",
            "1860\t31,443,321\t$1,969,377\t6.26 cents\n",
            "\n",
            "1870\t38,558,371\t$3,421,198\t8.87 cents\n",
            "\n",
            "1880\t50,155,783\t$5,790,678\t11.54 cents\n",
            "\n",
            "1890\t62,979,766\t$11,547,127\t18.33 cents\n",
            "\n",
            "1900\t76,303,387\t$11,854,000\t15.54 cents\n",
            "\n",
            "1910\t91,972,266\t$15,968,000\t17.07 cents\n",
            "\n",
            "1920\t105,710,620\t$25,117,000\t23.76 cents\n",
            "\n",
            "1930\t122,775,046\t$40,156,000\t32.71 cents\n",
            "\n",
            "1940\t131,669,275\t$67,527,000\t51.29 cents\n",
            "\n",
            "1950\t151,325,798\t$91,462,000\t60.44 cents\n",
            "\n",
            "1960\t179,323,175\t$127,934,000\t71.34 cents\n",
            "\n",
            "1970\t203,302,031\t$247,653,000\t$1.22\n",
            "\n",
            "1980\t226,542,199\t$1,078,488,000\t$4.76\n",
            "\n",
            "1990\t248,718,301\t$2,492,830,000\t$10.02\n",
            "\n",
            "2000\t281,421,906\t$4.5 Billion\t$15.99\n",
            "\n",
            "2010*\t308,745,538\t$13 Billion\t$42.11\n",
            "\n"
          ],
          "name": "stdout"
        }
      ]
    },
    {
      "cell_type": "code",
      "metadata": {
        "colab": {
          "base_uri": "https://localhost:8080/"
        },
        "id": "_It4TP7ZPutg",
        "outputId": "24d8eed4-8403-4bd6-aa8a-aed9ab166246"
      },
      "source": [
        "#Extract the first two lines and name them top2_list\r\n",
        "top2_list = line_list[0:2]\r\n",
        "top2_list"
      ],
      "execution_count": 5,
      "outputs": [
        {
          "output_type": "execute_result",
          "data": {
            "text/plain": [
              "['Source: https://www.genealogybranches.com/censuscosts.html\\n',\n",
              " 'Census Year\\tTotal Population\\tCensus Cost\\tAverage Cost Per Person\\n']"
            ]
          },
          "metadata": {
            "tags": []
          },
          "execution_count": 5
        }
      ]
    },
    {
      "cell_type": "code",
      "metadata": {
        "colab": {
          "base_uri": "https://localhost:8080/"
        },
        "id": "x9AH86cZHFJa",
        "outputId": "1d673453-893d-46e9-a2f9-a6f40dc0d14c"
      },
      "source": [
        "#Name the remaining lines data_list and print them\r\n",
        "data_list = line_list[2:25]\r\n",
        "print(\"data_list\", data_list)"
      ],
      "execution_count": 6,
      "outputs": [
        {
          "output_type": "stream",
          "text": [
            "data_list ['1790\\t3,929,214\\t$44,377\\t1.13 cents\\n', '1800\\t5,308,483\\t$66,109\\t1.24 cents\\n', '1810\\t7,239,881\\t$178,445\\t2.46 cents\\n', '1820\\t9,633,822\\t$208,526\\t2.16 cents\\n', '1830\\t12,866,020\\t$378,545\\t2.94 cents\\n', '1840\\t17,069,458\\t$833,371\\t4.88 cents\\n', '1850\\t23,191,876\\t$1,423,351\\t6.14 cents\\n', '1860\\t31,443,321\\t$1,969,377\\t6.26 cents\\n', '1870\\t38,558,371\\t$3,421,198\\t8.87 cents\\n', '1880\\t50,155,783\\t$5,790,678\\t11.54 cents\\n', '1890\\t62,979,766\\t$11,547,127\\t18.33 cents\\n', '1900\\t76,303,387\\t$11,854,000\\t15.54 cents\\n', '1910\\t91,972,266\\t$15,968,000\\t17.07 cents\\n', '1920\\t105,710,620\\t$25,117,000\\t23.76 cents\\n', '1930\\t122,775,046\\t$40,156,000\\t32.71 cents\\n', '1940\\t131,669,275\\t$67,527,000\\t51.29 cents\\n', '1950\\t151,325,798\\t$91,462,000\\t60.44 cents\\n', '1960\\t179,323,175\\t$127,934,000\\t71.34 cents\\n', '1970\\t203,302,031\\t$247,653,000\\t$1.22\\n', '1980\\t226,542,199\\t$1,078,488,000\\t$4.76\\n', '1990\\t248,718,301\\t$2,492,830,000\\t$10.02\\n', '2000\\t281,421,906\\t$4.5 Billion\\t$15.99\\n', '2010*\\t308,745,538\\t$13 Billion\\t$42.11\\n']\n"
          ],
          "name": "stdout"
        }
      ]
    },
    {
      "cell_type": "code",
      "metadata": {
        "colab": {
          "base_uri": "https://localhost:8080/"
        },
        "id": "sbI-NTs5H_qM",
        "outputId": "7011ee26-c1e3-40fe-a356-c50b1a376b12"
      },
      "source": [
        "print(data_list)\r\n",
        "print(type(data_list))"
      ],
      "execution_count": 7,
      "outputs": [
        {
          "output_type": "stream",
          "text": [
            "['1790\\t3,929,214\\t$44,377\\t1.13 cents\\n', '1800\\t5,308,483\\t$66,109\\t1.24 cents\\n', '1810\\t7,239,881\\t$178,445\\t2.46 cents\\n', '1820\\t9,633,822\\t$208,526\\t2.16 cents\\n', '1830\\t12,866,020\\t$378,545\\t2.94 cents\\n', '1840\\t17,069,458\\t$833,371\\t4.88 cents\\n', '1850\\t23,191,876\\t$1,423,351\\t6.14 cents\\n', '1860\\t31,443,321\\t$1,969,377\\t6.26 cents\\n', '1870\\t38,558,371\\t$3,421,198\\t8.87 cents\\n', '1880\\t50,155,783\\t$5,790,678\\t11.54 cents\\n', '1890\\t62,979,766\\t$11,547,127\\t18.33 cents\\n', '1900\\t76,303,387\\t$11,854,000\\t15.54 cents\\n', '1910\\t91,972,266\\t$15,968,000\\t17.07 cents\\n', '1920\\t105,710,620\\t$25,117,000\\t23.76 cents\\n', '1930\\t122,775,046\\t$40,156,000\\t32.71 cents\\n', '1940\\t131,669,275\\t$67,527,000\\t51.29 cents\\n', '1950\\t151,325,798\\t$91,462,000\\t60.44 cents\\n', '1960\\t179,323,175\\t$127,934,000\\t71.34 cents\\n', '1970\\t203,302,031\\t$247,653,000\\t$1.22\\n', '1980\\t226,542,199\\t$1,078,488,000\\t$4.76\\n', '1990\\t248,718,301\\t$2,492,830,000\\t$10.02\\n', '2000\\t281,421,906\\t$4.5 Billion\\t$15.99\\n', '2010*\\t308,745,538\\t$13 Billion\\t$42.11\\n']\n",
            "<class 'list'>\n"
          ],
          "name": "stdout"
        }
      ]
    },
    {
      "cell_type": "code",
      "metadata": {
        "colab": {
          "base_uri": "https://localhost:8080/"
        },
        "id": "S8Thg8iUa7qS",
        "outputId": "e6991e52-6737-4476-e483-1a8ee4099c9b"
      },
      "source": [
        "#Extract the first column \"Census Year\", named year_list, remove and insert 2010, print\r\n",
        "year_list = [census.split()[0] for census in data_list]\r\n",
        "del year_list[-1]\r\n",
        "year_list.insert(23, str(2010))\r\n",
        "print(\"year_list: \", year_list)\r\n"
      ],
      "execution_count": 8,
      "outputs": [
        {
          "output_type": "stream",
          "text": [
            "year_list:  ['1790', '1800', '1810', '1820', '1830', '1840', '1850', '1860', '1870', '1880', '1890', '1900', '1910', '1920', '1930', '1940', '1950', '1960', '1970', '1980', '1990', '2000', '2010']\n"
          ],
          "name": "stdout"
        }
      ]
    },
    {
      "cell_type": "code",
      "metadata": {
        "colab": {
          "base_uri": "https://localhost:8080/"
        },
        "id": "ZiRKZwgQdMx0",
        "outputId": "e3b98061-68bc-41f4-d73e-889f07362a98"
      },
      "source": [
        "#Extract Total Population, name them pop_list, remove \",\" and print the list\r\n",
        "\r\n",
        "pop = [total_pop.split()[1] for total_pop in data_list]\r\n",
        "pop_list = []\r\n",
        "for pop1 in pop:\r\n",
        "  pop2 = pop1.replace(',','')\r\n",
        "  pop2 = int(pop2)\r\n",
        "  pop_list.append(pop2)\r\n",
        "print(\"pop_list: \", pop_list)\r\n"
      ],
      "execution_count": 9,
      "outputs": [
        {
          "output_type": "stream",
          "text": [
            "pop_list:  [3929214, 5308483, 7239881, 9633822, 12866020, 17069458, 23191876, 31443321, 38558371, 50155783, 62979766, 76303387, 91972266, 105710620, 122775046, 131669275, 151325798, 179323175, 203302031, 226542199, 248718301, 281421906, 308745538]\n"
          ],
          "name": "stdout"
        }
      ]
    },
    {
      "cell_type": "code",
      "metadata": {
        "colab": {
          "base_uri": "https://localhost:8080/"
        },
        "id": "r6D6ODcvdq_Z",
        "outputId": "05ec435d-9a82-4c3e-d76d-21c6a9c992d2"
      },
      "source": [
        "#Extract Census Cost, name them cost_list, remove \",\", \"$\", replace \"Billion\"\r\n",
        "#with 000 and print\r\n",
        "cost = [ccost.split()[2] for ccost in data_list]\r\n",
        "cost_list = []\r\n",
        "for cost1 in cost:\r\n",
        "  cost2 = cost1.replace(\",\", '')\r\n",
        "  cost3 = cost2.replace('$','')\r\n",
        "  cost4 = cost3.replace('4.5','4500000000')\r\n",
        "  cost5 = cost4.replace('13', '130000000000')\r\n",
        "  cost6 = cost5.replace(\"Billion\", '')\r\n",
        "  cost_list.append(cost6)\r\n",
        "print(\"cost_list: \",cost_list)"
      ],
      "execution_count": 10,
      "outputs": [
        {
          "output_type": "stream",
          "text": [
            "cost_list:  ['44377', '66109', '178445', '208526', '378545', '833371', '1423351', '1969377', '3421198', '5790678', '11547127', '11854000', '15968000', '25117000', '40156000', '67527000', '91462000', '127934000', '247653000', '1078488000', '2492830000', '4500000000', '130000000000']\n"
          ],
          "name": "stdout"
        }
      ]
    },
    {
      "cell_type": "code",
      "metadata": {
        "colab": {
          "base_uri": "https://localhost:8080/"
        },
        "id": "v9muh0pydMQn",
        "outputId": "80a8dd97-9de2-4b05-8d90-e244fa36f102"
      },
      "source": [
        "#Extract the Average Cost per Person, deleted the Billion \r\n",
        "#index 21 and 22, inserted the avg cost for index 21 and 22\r\n",
        "#printed all avg cost per person \r\n",
        "avg = [avg.split()[3] for avg in data_list]\r\n",
        "del avg[22]\r\n",
        "del avg[21]\r\n",
        "avg.insert(21, str(15.99))\r\n",
        "avg.insert(22, str(42.11))\r\n",
        "\r\n",
        "avg2 = []\r\n",
        "for i in avg:\r\n",
        "  avg1 = i.replace(\"$\", \"\")\r\n",
        "  avg2.append(avg1)\r\n",
        "print(\"avg2: \", avg2)"
      ],
      "execution_count": 11,
      "outputs": [
        {
          "output_type": "stream",
          "text": [
            "avg2:  ['1.13', '1.24', '2.46', '2.16', '2.94', '4.88', '6.14', '6.26', '8.87', '11.54', '18.33', '15.54', '17.07', '23.76', '32.71', '51.29', '60.44', '71.34', '1.22', '4.76', '10.02', '15.99', '42.11']\n"
          ],
          "name": "stdout"
        }
      ]
    },
    {
      "cell_type": "code",
      "metadata": {
        "colab": {
          "base_uri": "https://localhost:8080/"
        },
        "id": "cNCmC_OtKWZD",
        "outputId": "5d6072f8-b8ae-42ef-f822-bdb99f31a44d"
      },
      "source": [
        "#Separated the first 18 average list to compute for the cents\r\n",
        "avg_list = []\r\n",
        "for i in avg2[0:18]:\r\n",
        "  i = float(i)\r\n",
        "  avg3 = i/100\r\n",
        "  avg4 = round(avg3, 4)\r\n",
        "  avg4 = str(avg4)\r\n",
        "  avg_list.append(avg4)\r\n",
        "print(\"avg_list[0:18]: \", avg_list)"
      ],
      "execution_count": 12,
      "outputs": [
        {
          "output_type": "stream",
          "text": [
            "avg_list[0:18]:  ['0.0113', '0.0124', '0.0246', '0.0216', '0.0294', '0.0488', '0.0614', '0.0626', '0.0887', '0.1154', '0.1833', '0.1554', '0.1707', '0.2376', '0.3271', '0.5129', '0.6044', '0.7134']\n"
          ],
          "name": "stdout"
        }
      ]
    },
    {
      "cell_type": "code",
      "metadata": {
        "colab": {
          "base_uri": "https://localhost:8080/"
        },
        "id": "oZ8n4-0uLPi3",
        "outputId": "57d75823-3473-4347-8237-b697de1ea459"
      },
      "source": [
        "#The next for loop for the remaining indices compute the dollars\r\n",
        "for i in avg2[18:23]:\r\n",
        "  avg5 = float(i)\r\n",
        "  int_avg5 = int(avg5)\r\n",
        "  dec_avg5 = avg5-int_avg5\r\n",
        "  dollar_dec_avg5 = dec_avg5/100\r\n",
        "  avg6 = int_avg5 + dollar_dec_avg5\r\n",
        "  avg6 = str(avg6)\r\n",
        "  avg_list.append(avg6)\r\n",
        "  int_avg5 = 0\r\n",
        "  dec_avg5 = 0\r\n",
        "print(\"All avg_list: \", avg_list)\r\n"
      ],
      "execution_count": 13,
      "outputs": [
        {
          "output_type": "stream",
          "text": [
            "All avg_list:  ['0.0113', '0.0124', '0.0246', '0.0216', '0.0294', '0.0488', '0.0614', '0.0626', '0.0887', '0.1154', '0.1833', '0.1554', '0.1707', '0.2376', '0.3271', '0.5129', '0.6044', '0.7134', '1.0022', '4.0076', '10.0002', '15.0099', '42.0011']\n"
          ],
          "name": "stdout"
        }
      ]
    },
    {
      "cell_type": "code",
      "metadata": {
        "id": "GoGn9NFPdL5A",
        "colab": {
          "base_uri": "https://localhost:8080/"
        },
        "outputId": "21f30196-ca61-44fa-f52a-525dc6e55530"
      },
      "source": [
        "cc1= []\r\n",
        "for j in range(0,23):\r\n",
        "    yl = str(year_list[j])\r\n",
        "    pl = str(pop_list[j])\r\n",
        "    cl = str(cost_list[j])\r\n",
        "    al = str(avg_list[j])\r\n",
        "    total =yl+'\\t\\t'+pl+'\\t\\t'+cl+'\\t\\t'+al+'\\n' \r\n",
        "    cc1.append(total)\r\n",
        "new_census_cost = top2_list + cc1 \r\n",
        "print(new_census_cost) "
      ],
      "execution_count": 14,
      "outputs": [
        {
          "output_type": "stream",
          "text": [
            "['Source: https://www.genealogybranches.com/censuscosts.html\\n', 'Census Year\\tTotal Population\\tCensus Cost\\tAverage Cost Per Person\\n', '1790\\t\\t3929214\\t\\t44377\\t\\t0.0113\\n', '1800\\t\\t5308483\\t\\t66109\\t\\t0.0124\\n', '1810\\t\\t7239881\\t\\t178445\\t\\t0.0246\\n', '1820\\t\\t9633822\\t\\t208526\\t\\t0.0216\\n', '1830\\t\\t12866020\\t\\t378545\\t\\t0.0294\\n', '1840\\t\\t17069458\\t\\t833371\\t\\t0.0488\\n', '1850\\t\\t23191876\\t\\t1423351\\t\\t0.0614\\n', '1860\\t\\t31443321\\t\\t1969377\\t\\t0.0626\\n', '1870\\t\\t38558371\\t\\t3421198\\t\\t0.0887\\n', '1880\\t\\t50155783\\t\\t5790678\\t\\t0.1154\\n', '1890\\t\\t62979766\\t\\t11547127\\t\\t0.1833\\n', '1900\\t\\t76303387\\t\\t11854000\\t\\t0.1554\\n', '1910\\t\\t91972266\\t\\t15968000\\t\\t0.1707\\n', '1920\\t\\t105710620\\t\\t25117000\\t\\t0.2376\\n', '1930\\t\\t122775046\\t\\t40156000\\t\\t0.3271\\n', '1940\\t\\t131669275\\t\\t67527000\\t\\t0.5129\\n', '1950\\t\\t151325798\\t\\t91462000\\t\\t0.6044\\n', '1960\\t\\t179323175\\t\\t127934000\\t\\t0.7134\\n', '1970\\t\\t203302031\\t\\t247653000\\t\\t1.0022\\n', '1980\\t\\t226542199\\t\\t1078488000\\t\\t4.0076\\n', '1990\\t\\t248718301\\t\\t2492830000\\t\\t10.0002\\n', '2000\\t\\t281421906\\t\\t4500000000\\t\\t15.0099\\n', '2010\\t\\t308745538\\t\\t130000000000\\t\\t42.0011\\n']\n"
          ],
          "name": "stdout"
        }
      ]
    },
    {
      "cell_type": "code",
      "metadata": {
        "colab": {
          "base_uri": "https://localhost:8080/"
        },
        "id": "fc-553AsfoWl",
        "outputId": "8c7d94ec-b7ba-4a93-802e-ec071f85174e"
      },
      "source": [
        "for i in new_census_cost:\r\n",
        "  print(i)"
      ],
      "execution_count": 15,
      "outputs": [
        {
          "output_type": "stream",
          "text": [
            "Source: https://www.genealogybranches.com/censuscosts.html\n",
            "\n",
            "Census Year\tTotal Population\tCensus Cost\tAverage Cost Per Person\n",
            "\n",
            "1790\t\t3929214\t\t44377\t\t0.0113\n",
            "\n",
            "1800\t\t5308483\t\t66109\t\t0.0124\n",
            "\n",
            "1810\t\t7239881\t\t178445\t\t0.0246\n",
            "\n",
            "1820\t\t9633822\t\t208526\t\t0.0216\n",
            "\n",
            "1830\t\t12866020\t\t378545\t\t0.0294\n",
            "\n",
            "1840\t\t17069458\t\t833371\t\t0.0488\n",
            "\n",
            "1850\t\t23191876\t\t1423351\t\t0.0614\n",
            "\n",
            "1860\t\t31443321\t\t1969377\t\t0.0626\n",
            "\n",
            "1870\t\t38558371\t\t3421198\t\t0.0887\n",
            "\n",
            "1880\t\t50155783\t\t5790678\t\t0.1154\n",
            "\n",
            "1890\t\t62979766\t\t11547127\t\t0.1833\n",
            "\n",
            "1900\t\t76303387\t\t11854000\t\t0.1554\n",
            "\n",
            "1910\t\t91972266\t\t15968000\t\t0.1707\n",
            "\n",
            "1920\t\t105710620\t\t25117000\t\t0.2376\n",
            "\n",
            "1930\t\t122775046\t\t40156000\t\t0.3271\n",
            "\n",
            "1940\t\t131669275\t\t67527000\t\t0.5129\n",
            "\n",
            "1950\t\t151325798\t\t91462000\t\t0.6044\n",
            "\n",
            "1960\t\t179323175\t\t127934000\t\t0.7134\n",
            "\n",
            "1970\t\t203302031\t\t247653000\t\t1.0022\n",
            "\n",
            "1980\t\t226542199\t\t1078488000\t\t4.0076\n",
            "\n",
            "1990\t\t248718301\t\t2492830000\t\t10.0002\n",
            "\n",
            "2000\t\t281421906\t\t4500000000\t\t15.0099\n",
            "\n",
            "2010\t\t308745538\t\t130000000000\t\t42.0011\n",
            "\n"
          ],
          "name": "stdout"
        }
      ]
    },
    {
      "cell_type": "code",
      "metadata": {
        "id": "aSO1wIqVdLrQ"
      },
      "source": [
        "with open(\"census_cost.csv\", 'tw') as f:\r\n",
        "  for line in new_census_cost:\r\n",
        "    f.write(line)\r\n",
        "   "
      ],
      "execution_count": 16,
      "outputs": []
    },
    {
      "cell_type": "code",
      "metadata": {
        "id": "tssTGebcpDuu"
      },
      "source": [
        ""
      ],
      "execution_count": 16,
      "outputs": []
    },
    {
      "cell_type": "code",
      "metadata": {
        "id": "4pL-9YzGPsVQ"
      },
      "source": [
        ""
      ],
      "execution_count": 16,
      "outputs": []
    }
  ]
}