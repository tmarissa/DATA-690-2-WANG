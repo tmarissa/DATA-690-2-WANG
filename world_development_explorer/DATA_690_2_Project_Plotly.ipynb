{
  "nbformat": 4,
  "nbformat_minor": 0,
  "metadata": {
    "colab": {
      "name": "DATA 690-2 Project Plotly.ipynb",
      "provenance": []
    },
    "kernelspec": {
      "name": "python3",
      "display_name": "Python 3"
    }
  },
  "cells": [
    {
      "cell_type": "code",
      "metadata": {
        "id": "5NN8sllJ8G9k"
      },
      "source": [
        "import pandas as pd\n",
        "import plotly.graph_objs as go\n",
        "import plotly.express as px"
      ],
      "execution_count": 1,
      "outputs": []
    },
    {
      "cell_type": "markdown",
      "metadata": {
        "id": "XepYnlme9Nzy"
      },
      "source": [
        "# **Suicide Rate vs GDP per Capita**\n",
        "## **Selected Asian and North American Countries**\n",
        "### In this study, the data was collected from [World Development Explorer](http://www.worlddev.xyz/) and centers on GDP (Gross Domestic Product), total population, and suicide mortality rate.   GDPs are normally calculated by using the country’s domestic currency, but when it comes to comparisons the standard currency is the US$. A high GDP meant high standard of living.  The suicide mortality rate is measured by the number of suicide deaths in a year per 100,000 population. This study is in comparison with the total population.\n"
      ]
    },
    {
      "cell_type": "code",
      "metadata": {
        "colab": {
          "base_uri": "https://localhost:8080/",
          "height": 204
        },
        "id": "5Hx3kwLQ8HO0",
        "outputId": "338a8e99-7817-4b8c-eec1-709f5d6ecea4"
      },
      "source": [
        "# Read the csv file and show the first 5\n",
        "URL =\"wdi_data.csv\"\n",
        "df = pd.read_csv("https://raw.githubusercontent.com/tmarissa/DATA-690-WANG/main/world_development_explorer/wdi_data.csv")\n",
        "df.head(5)"
      ],
      "execution_count": 2,
      "outputs": [
        {
          "output_type": "execute_result",
          "data": {
            "text/html": [
              "<div>\n",
              "<style scoped>\n",
              "    .dataframe tbody tr th:only-of-type {\n",
              "        vertical-align: middle;\n",
              "    }\n",
              "\n",
              "    .dataframe tbody tr th {\n",
              "        vertical-align: top;\n",
              "    }\n",
              "\n",
              "    .dataframe thead th {\n",
              "        text-align: right;\n",
              "    }\n",
              "</style>\n",
              "<table border=\"1\" class=\"dataframe\">\n",
              "  <thead>\n",
              "    <tr style=\"text-align: right;\">\n",
              "      <th></th>\n",
              "      <th>Unnamed: 0</th>\n",
              "      <th>Year</th>\n",
              "      <th>NY.GDP.PCAP.PP.CD</th>\n",
              "      <th>SP.POP.TOTL</th>\n",
              "      <th>SH.STA.SUIC.P5</th>\n",
              "      <th>Country Code</th>\n",
              "      <th>Country Name</th>\n",
              "      <th>Region</th>\n",
              "      <th>Income Group</th>\n",
              "      <th>Lending Type</th>\n",
              "    </tr>\n",
              "  </thead>\n",
              "  <tbody>\n",
              "    <tr>\n",
              "      <th>0</th>\n",
              "      <td>0</td>\n",
              "      <td>2000</td>\n",
              "      <td>29265.251318</td>\n",
              "      <td>30685730</td>\n",
              "      <td>13.0</td>\n",
              "      <td>CAN</td>\n",
              "      <td>Canada</td>\n",
              "      <td>North America</td>\n",
              "      <td>High income</td>\n",
              "      <td>Not classified</td>\n",
              "    </tr>\n",
              "    <tr>\n",
              "      <th>1</th>\n",
              "      <td>1</td>\n",
              "      <td>2005</td>\n",
              "      <td>36211.084598</td>\n",
              "      <td>32243753</td>\n",
              "      <td>13.2</td>\n",
              "      <td>CAN</td>\n",
              "      <td>Canada</td>\n",
              "      <td>North America</td>\n",
              "      <td>High income</td>\n",
              "      <td>Not classified</td>\n",
              "    </tr>\n",
              "    <tr>\n",
              "      <th>2</th>\n",
              "      <td>2</td>\n",
              "      <td>2010</td>\n",
              "      <td>40019.926250</td>\n",
              "      <td>34004889</td>\n",
              "      <td>13.0</td>\n",
              "      <td>CAN</td>\n",
              "      <td>Canada</td>\n",
              "      <td>North America</td>\n",
              "      <td>High income</td>\n",
              "      <td>Not classified</td>\n",
              "    </tr>\n",
              "    <tr>\n",
              "      <th>3</th>\n",
              "      <td>3</td>\n",
              "      <td>2015</td>\n",
              "      <td>44670.080539</td>\n",
              "      <td>35702908</td>\n",
              "      <td>12.5</td>\n",
              "      <td>CAN</td>\n",
              "      <td>Canada</td>\n",
              "      <td>North America</td>\n",
              "      <td>High income</td>\n",
              "      <td>Not classified</td>\n",
              "    </tr>\n",
              "    <tr>\n",
              "      <th>4</th>\n",
              "      <td>4</td>\n",
              "      <td>2016</td>\n",
              "      <td>46472.340249</td>\n",
              "      <td>36109487</td>\n",
              "      <td>12.5</td>\n",
              "      <td>CAN</td>\n",
              "      <td>Canada</td>\n",
              "      <td>North America</td>\n",
              "      <td>High income</td>\n",
              "      <td>Not classified</td>\n",
              "    </tr>\n",
              "  </tbody>\n",
              "</table>\n",
              "</div>"
            ],
            "text/plain": [
              "   Unnamed: 0  Year  ...  Income Group    Lending Type\n",
              "0           0  2000  ...   High income  Not classified\n",
              "1           1  2005  ...   High income  Not classified\n",
              "2           2  2010  ...   High income  Not classified\n",
              "3           3  2015  ...   High income  Not classified\n",
              "4           4  2016  ...   High income  Not classified\n",
              "\n",
              "[5 rows x 10 columns]"
            ]
          },
          "metadata": {
            "tags": []
          },
          "execution_count": 2
        }
      ]
    },
    {
      "cell_type": "markdown",
      "metadata": {
        "id": "AWxUsK9mAMzz"
      },
      "source": [
        "### Originally, this dataset has 10 columns and 35 rows. However, the first column was dropped because it contains another set of index. A new dataframe of the first 5 rows was printed."
      ]
    },
    {
      "cell_type": "code",
      "metadata": {
        "colab": {
          "base_uri": "https://localhost:8080/"
        },
        "id": "7lMOcCRJ8HSL",
        "outputId": "11032c09-70ac-4bd4-c61b-9dfdc6a1c892"
      },
      "source": [
        "#Get information.\n",
        "df.info()"
      ],
      "execution_count": 3,
      "outputs": [
        {
          "output_type": "stream",
          "text": [
            "<class 'pandas.core.frame.DataFrame'>\n",
            "RangeIndex: 35 entries, 0 to 34\n",
            "Data columns (total 10 columns):\n",
            " #   Column             Non-Null Count  Dtype  \n",
            "---  ------             --------------  -----  \n",
            " 0   Unnamed: 0         35 non-null     int64  \n",
            " 1   Year               35 non-null     int64  \n",
            " 2   NY.GDP.PCAP.PP.CD  35 non-null     float64\n",
            " 3   SP.POP.TOTL        35 non-null     int64  \n",
            " 4   SH.STA.SUIC.P5     35 non-null     float64\n",
            " 5   Country Code       35 non-null     object \n",
            " 6   Country Name       35 non-null     object \n",
            " 7   Region             35 non-null     object \n",
            " 8   Income Group       35 non-null     object \n",
            " 9   Lending Type       35 non-null     object \n",
            "dtypes: float64(2), int64(3), object(5)\n",
            "memory usage: 2.9+ KB\n"
          ],
          "name": "stdout"
        }
      ]
    },
    {
      "cell_type": "code",
      "metadata": {
        "colab": {
          "base_uri": "https://localhost:8080/",
          "height": 204
        },
        "id": "funxmkHl-hU1",
        "outputId": "147c3f7e-72ba-42e4-8e67-13fa0d18aa17"
      },
      "source": [
        "# There is an unnamed column that needs to be dropped\n",
        "df.drop(columns=[\"Unnamed: 0\"], inplace=True)\n",
        "df.head(5)"
      ],
      "execution_count": 4,
      "outputs": [
        {
          "output_type": "execute_result",
          "data": {
            "text/html": [
              "<div>\n",
              "<style scoped>\n",
              "    .dataframe tbody tr th:only-of-type {\n",
              "        vertical-align: middle;\n",
              "    }\n",
              "\n",
              "    .dataframe tbody tr th {\n",
              "        vertical-align: top;\n",
              "    }\n",
              "\n",
              "    .dataframe thead th {\n",
              "        text-align: right;\n",
              "    }\n",
              "</style>\n",
              "<table border=\"1\" class=\"dataframe\">\n",
              "  <thead>\n",
              "    <tr style=\"text-align: right;\">\n",
              "      <th></th>\n",
              "      <th>Year</th>\n",
              "      <th>NY.GDP.PCAP.PP.CD</th>\n",
              "      <th>SP.POP.TOTL</th>\n",
              "      <th>SH.STA.SUIC.P5</th>\n",
              "      <th>Country Code</th>\n",
              "      <th>Country Name</th>\n",
              "      <th>Region</th>\n",
              "      <th>Income Group</th>\n",
              "      <th>Lending Type</th>\n",
              "    </tr>\n",
              "  </thead>\n",
              "  <tbody>\n",
              "    <tr>\n",
              "      <th>0</th>\n",
              "      <td>2000</td>\n",
              "      <td>29265.251318</td>\n",
              "      <td>30685730</td>\n",
              "      <td>13.0</td>\n",
              "      <td>CAN</td>\n",
              "      <td>Canada</td>\n",
              "      <td>North America</td>\n",
              "      <td>High income</td>\n",
              "      <td>Not classified</td>\n",
              "    </tr>\n",
              "    <tr>\n",
              "      <th>1</th>\n",
              "      <td>2005</td>\n",
              "      <td>36211.084598</td>\n",
              "      <td>32243753</td>\n",
              "      <td>13.2</td>\n",
              "      <td>CAN</td>\n",
              "      <td>Canada</td>\n",
              "      <td>North America</td>\n",
              "      <td>High income</td>\n",
              "      <td>Not classified</td>\n",
              "    </tr>\n",
              "    <tr>\n",
              "      <th>2</th>\n",
              "      <td>2010</td>\n",
              "      <td>40019.926250</td>\n",
              "      <td>34004889</td>\n",
              "      <td>13.0</td>\n",
              "      <td>CAN</td>\n",
              "      <td>Canada</td>\n",
              "      <td>North America</td>\n",
              "      <td>High income</td>\n",
              "      <td>Not classified</td>\n",
              "    </tr>\n",
              "    <tr>\n",
              "      <th>3</th>\n",
              "      <td>2015</td>\n",
              "      <td>44670.080539</td>\n",
              "      <td>35702908</td>\n",
              "      <td>12.5</td>\n",
              "      <td>CAN</td>\n",
              "      <td>Canada</td>\n",
              "      <td>North America</td>\n",
              "      <td>High income</td>\n",
              "      <td>Not classified</td>\n",
              "    </tr>\n",
              "    <tr>\n",
              "      <th>4</th>\n",
              "      <td>2016</td>\n",
              "      <td>46472.340249</td>\n",
              "      <td>36109487</td>\n",
              "      <td>12.5</td>\n",
              "      <td>CAN</td>\n",
              "      <td>Canada</td>\n",
              "      <td>North America</td>\n",
              "      <td>High income</td>\n",
              "      <td>Not classified</td>\n",
              "    </tr>\n",
              "  </tbody>\n",
              "</table>\n",
              "</div>"
            ],
            "text/plain": [
              "   Year  NY.GDP.PCAP.PP.CD  ...  Income Group    Lending Type\n",
              "0  2000       29265.251318  ...   High income  Not classified\n",
              "1  2005       36211.084598  ...   High income  Not classified\n",
              "2  2010       40019.926250  ...   High income  Not classified\n",
              "3  2015       44670.080539  ...   High income  Not classified\n",
              "4  2016       46472.340249  ...   High income  Not classified\n",
              "\n",
              "[5 rows x 9 columns]"
            ]
          },
          "metadata": {
            "tags": []
          },
          "execution_count": 4
        }
      ]
    },
    {
      "cell_type": "markdown",
      "metadata": {
        "id": "3-DNcjTKCFAd"
      },
      "source": [
        "## **Description of the Data**\n",
        "\n",
        "- According to the data type string, there are seven country names which has an equivalent of seven country code. Those countries belongs to 2 region. There are three income groups and two lending types,\n",
        "\n",
        "- According to the statistical methods which are count, mean, std, min, 25%, 50%, and 75%. This data are analyze with their GDP per capita, total population, and suicide rate. "
      ]
    },
    {
      "cell_type": "code",
      "metadata": {
        "colab": {
          "base_uri": "https://localhost:8080/",
          "height": 173
        },
        "id": "hLGUD53-_5bt",
        "outputId": "f028bc47-88ce-47a9-c4f7-c79b7a779312"
      },
      "source": [
        "df.describe(include='O')"
      ],
      "execution_count": 5,
      "outputs": [
        {
          "output_type": "execute_result",
          "data": {
            "text/html": [
              "<div>\n",
              "<style scoped>\n",
              "    .dataframe tbody tr th:only-of-type {\n",
              "        vertical-align: middle;\n",
              "    }\n",
              "\n",
              "    .dataframe tbody tr th {\n",
              "        vertical-align: top;\n",
              "    }\n",
              "\n",
              "    .dataframe thead th {\n",
              "        text-align: right;\n",
              "    }\n",
              "</style>\n",
              "<table border=\"1\" class=\"dataframe\">\n",
              "  <thead>\n",
              "    <tr style=\"text-align: right;\">\n",
              "      <th></th>\n",
              "      <th>Country Code</th>\n",
              "      <th>Country Name</th>\n",
              "      <th>Region</th>\n",
              "      <th>Income Group</th>\n",
              "      <th>Lending Type</th>\n",
              "    </tr>\n",
              "  </thead>\n",
              "  <tbody>\n",
              "    <tr>\n",
              "      <th>count</th>\n",
              "      <td>35</td>\n",
              "      <td>35</td>\n",
              "      <td>35</td>\n",
              "      <td>35</td>\n",
              "      <td>35</td>\n",
              "    </tr>\n",
              "    <tr>\n",
              "      <th>unique</th>\n",
              "      <td>7</td>\n",
              "      <td>7</td>\n",
              "      <td>2</td>\n",
              "      <td>3</td>\n",
              "      <td>2</td>\n",
              "    </tr>\n",
              "    <tr>\n",
              "      <th>top</th>\n",
              "      <td>CAN</td>\n",
              "      <td>United States</td>\n",
              "      <td>East Asia &amp; Pacific</td>\n",
              "      <td>High income</td>\n",
              "      <td>Not classified</td>\n",
              "    </tr>\n",
              "    <tr>\n",
              "      <th>freq</th>\n",
              "      <td>5</td>\n",
              "      <td>5</td>\n",
              "      <td>25</td>\n",
              "      <td>20</td>\n",
              "      <td>20</td>\n",
              "    </tr>\n",
              "  </tbody>\n",
              "</table>\n",
              "</div>"
            ],
            "text/plain": [
              "       Country Code   Country Name  ... Income Group    Lending Type\n",
              "count            35             35  ...           35              35\n",
              "unique            7              7  ...            3               2\n",
              "top             CAN  United States  ...  High income  Not classified\n",
              "freq              5              5  ...           20              20\n",
              "\n",
              "[4 rows x 5 columns]"
            ]
          },
          "metadata": {
            "tags": []
          },
          "execution_count": 5
        }
      ]
    },
    {
      "cell_type": "code",
      "metadata": {
        "colab": {
          "base_uri": "https://localhost:8080/",
          "height": 297
        },
        "id": "B_oS3VXk_5El",
        "outputId": "de6b590e-c454-4a5d-da4f-aaeb4f7f3174"
      },
      "source": [
        "df.describe()"
      ],
      "execution_count": 6,
      "outputs": [
        {
          "output_type": "execute_result",
          "data": {
            "text/html": [
              "<div>\n",
              "<style scoped>\n",
              "    .dataframe tbody tr th:only-of-type {\n",
              "        vertical-align: middle;\n",
              "    }\n",
              "\n",
              "    .dataframe tbody tr th {\n",
              "        vertical-align: top;\n",
              "    }\n",
              "\n",
              "    .dataframe thead th {\n",
              "        text-align: right;\n",
              "    }\n",
              "</style>\n",
              "<table border=\"1\" class=\"dataframe\">\n",
              "  <thead>\n",
              "    <tr style=\"text-align: right;\">\n",
              "      <th></th>\n",
              "      <th>Year</th>\n",
              "      <th>NY.GDP.PCAP.PP.CD</th>\n",
              "      <th>SP.POP.TOTL</th>\n",
              "      <th>SH.STA.SUIC.P5</th>\n",
              "    </tr>\n",
              "  </thead>\n",
              "  <tbody>\n",
              "    <tr>\n",
              "      <th>count</th>\n",
              "      <td>35.000000</td>\n",
              "      <td>35.000000</td>\n",
              "      <td>3.500000e+01</td>\n",
              "      <td>35.000000</td>\n",
              "    </tr>\n",
              "    <tr>\n",
              "      <th>mean</th>\n",
              "      <td>2009.200000</td>\n",
              "      <td>30878.481814</td>\n",
              "      <td>3.050929e+08</td>\n",
              "      <td>10.962857</td>\n",
              "    </tr>\n",
              "    <tr>\n",
              "      <th>std</th>\n",
              "      <td>6.134761</td>\n",
              "      <td>24567.019378</td>\n",
              "      <td>4.371138e+08</td>\n",
              "      <td>6.321350</td>\n",
              "    </tr>\n",
              "    <tr>\n",
              "      <th>min</th>\n",
              "      <td>2000.000000</td>\n",
              "      <td>2920.560791</td>\n",
              "      <td>4.027887e+06</td>\n",
              "      <td>2.500000</td>\n",
              "    </tr>\n",
              "    <tr>\n",
              "      <th>25%</th>\n",
              "      <td>2005.000000</td>\n",
              "      <td>8104.751132</td>\n",
              "      <td>3.590620e+07</td>\n",
              "      <td>3.850000</td>\n",
              "    </tr>\n",
              "    <tr>\n",
              "      <th>50%</th>\n",
              "      <td>2010.000000</td>\n",
              "      <td>31663.453099</td>\n",
              "      <td>1.271410e+08</td>\n",
              "      <td>11.600000</td>\n",
              "    </tr>\n",
              "    <tr>\n",
              "      <th>75%</th>\n",
              "      <td>2015.000000</td>\n",
              "      <td>44392.414160</td>\n",
              "      <td>2.888395e+08</td>\n",
              "      <td>13.200000</td>\n",
              "    </tr>\n",
              "    <tr>\n",
              "      <th>max</th>\n",
              "      <td>2016.000000</td>\n",
              "      <td>89386.079400</td>\n",
              "      <td>1.378665e+09</td>\n",
              "      <td>24.900000</td>\n",
              "    </tr>\n",
              "  </tbody>\n",
              "</table>\n",
              "</div>"
            ],
            "text/plain": [
              "              Year  NY.GDP.PCAP.PP.CD   SP.POP.TOTL  SH.STA.SUIC.P5\n",
              "count    35.000000          35.000000  3.500000e+01       35.000000\n",
              "mean   2009.200000       30878.481814  3.050929e+08       10.962857\n",
              "std       6.134761       24567.019378  4.371138e+08        6.321350\n",
              "min    2000.000000        2920.560791  4.027887e+06        2.500000\n",
              "25%    2005.000000        8104.751132  3.590620e+07        3.850000\n",
              "50%    2010.000000       31663.453099  1.271410e+08       11.600000\n",
              "75%    2015.000000       44392.414160  2.888395e+08       13.200000\n",
              "max    2016.000000       89386.079400  1.378665e+09       24.900000"
            ]
          },
          "metadata": {
            "tags": []
          },
          "execution_count": 6
        }
      ]
    },
    {
      "cell_type": "markdown",
      "metadata": {
        "id": "tXR1MYsBDNUx"
      },
      "source": [
        "## **A Comparative Study from 2000 to 2016**\n",
        "### To be able to see the statistical differences, the data is gathered from two different years, 2000 and 2016. A random sampler dataframe of year 2000 and 2016 are below. The countries in this study is grouped into 2 regions, North America and East Asian and the Pacific. The North American countries are United States and Canada. The East Asian and the Pacific are Philippines, China, Singapore, Indonesia, and Japan.\n",
        "\n",
        "### The countries are choosen because of the incomes brackets of their citizens as a representation of their wealth. The United States and Canada belong to the high income brackets in North America and its counterpart on the high income bracket in East Asia and Pacific are Singapore and Japan. While the Indonesia and China are part of East Asia and Pacific but belong to upper middle income bracket. On the other hand, Philippines, a part of East Asia and Pacific, is on lower middle income bracket. The comparison of many East Asia and Pacific countries with North America countries is because the income brackets are more stable while in the East Asia and Pacific countries, some are established while others are emerging in their income brackets."
      ]
    },
    {
      "cell_type": "markdown",
      "metadata": {
        "id": "lOB8NtbqEyLc"
      },
      "source": [
        "## **Asia's Optimistic Descent** \n",
        "### In the year 2000, the lowest GDP was China but has a suicide mortality rate of 13.2. Its mortality rate is almost the same as high GDP countries such as Singapore, United States and Canada. On the other hand, Indonesia and Philippines who have a low GDP but also have the lowest suicide mortality which is below 4. Japan has the highest suicide mortality was 24.7 with a high GDP. \n",
        "\n",
        "### In the year 2016, China's GDP leap from slightly below \\$3,000 to slightly above \\$13,000, yet it was able to reduce it suicide mortality rate to 9.7. Japan whose GDP started with a high \\$39.96 in 2000 has declined to \\$26.83 has also seen a reduction of suicide mortality rate to 18.5. However, the United States has an increase in their GDP by almost 50% has seen the suicide mortality rate increase from 11.3 as of 2000 to 15.3 in 2016. The other North American country, Canada has an increase of their GDP by almost 50% but has seen a reduction of a meager .5 from 13 to 12.5. Singapore doubled its GDP from 2000 to 2016 has seen a reduction of suicide mortality rate from 12.4 to 9.9.\n",
        "\n",
        "\n",
        "\n",
        "\n"
      ]
    },
    {
      "cell_type": "code",
      "metadata": {
        "colab": {
          "base_uri": "https://localhost:8080/",
          "height": 542
        },
        "id": "VlUCY83B3rC_",
        "outputId": "6f16eba9-3e75-453a-d1b9-81cccad18e11"
      },
      "source": [
        "fig = px.scatter(df, x='NY.GDP.PCAP.PP.CD', y=\"SH.STA.SUIC.P5\", animation_frame=\"Year\",\n",
        "           size=\"SP.POP.TOTL\", color=\"Country Name\", hover_name=\"Country Name\",\n",
        "           log_x=True, size_max=55, range_x=[1000,100000],\n",
        "           range_y=[0, 30])\n",
        "\n",
        "for trace in fig.data:\n",
        "    trace.name = trace.name.split('=')[1]\n",
        "\n",
        "fig.update_layout(\n",
        "    title=\"Suicide Mortality Rate vs GDP per Capita (2000-2016)\",\n",
        "    xaxis_title=\"GDP per Capita\",\n",
        "    yaxis_title=\"Suicide Mortality Rate\")\n",
        "  \n",
        "fig.show()"
      ],
      "execution_count": 7,
      "outputs": [
        {
          "output_type": "display_data",
          "data": {
            "text/html": [
              "<html>\n",
              "<head><meta charset=\"utf-8\" /></head>\n",
              "<body>\n",
              "    <div>\n",
              "            <script src=\"https://cdnjs.cloudflare.com/ajax/libs/mathjax/2.7.5/MathJax.js?config=TeX-AMS-MML_SVG\"></script><script type=\"text/javascript\">if (window.MathJax) {MathJax.Hub.Config({SVG: {font: \"STIX-Web\"}});}</script>\n",
              "                <script type=\"text/javascript\">window.PlotlyConfig = {MathJaxConfig: 'local'};</script>\n",
              "        <script src=\"https://cdn.plot.ly/plotly-latest.min.js\"></script>    \n",
              "            <div id=\"c304925f-0bf2-440d-b8ba-15b8667c2934\" class=\"plotly-graph-div\" style=\"height:525px; width:100%;\"></div>\n",
              "            <script type=\"text/javascript\">\n",
              "                \n",
              "                    window.PLOTLYENV=window.PLOTLYENV || {};\n",
              "                    \n",
              "                if (document.getElementById(\"c304925f-0bf2-440d-b8ba-15b8667c2934\")) {\n",
              "                    Plotly.newPlot(\n",
              "                        'c304925f-0bf2-440d-b8ba-15b8667c2934',\n",
              "                        [{\"hoverlabel\": {\"namelength\": 0}, \"hovertemplate\": \"<b>%{hovertext}</b><br><br>Country Name=Canada<br>Year=2000<br>NY.GDP.PCAP.PP.CD=%{x}<br>SH.STA.SUIC.P5=%{y}<br>SP.POP.TOTL=%{marker.size}\", \"hovertext\": [\"Canada\"], \"legendgroup\": \"Country Name=Canada\", \"marker\": {\"color\": \"#636efa\", \"size\": [30685730], \"sizemode\": \"area\", \"sizeref\": 455757.02479338844, \"symbol\": \"circle\"}, \"mode\": \"markers\", \"name\": \"Canada\", \"showlegend\": true, \"type\": \"scatter\", \"x\": [29265.2513176458], \"xaxis\": \"x\", \"y\": [13.0], \"yaxis\": \"y\"}, {\"hoverlabel\": {\"namelength\": 0}, \"hovertemplate\": \"<b>%{hovertext}</b><br><br>Country Name=China<br>Year=2000<br>NY.GDP.PCAP.PP.CD=%{x}<br>SH.STA.SUIC.P5=%{y}<br>SP.POP.TOTL=%{marker.size}\", \"hovertext\": [\"China\"], \"legendgroup\": \"Country Name=China\", \"marker\": {\"color\": \"#EF553B\", \"size\": [1262645000], \"sizemode\": \"area\", \"sizeref\": 455757.02479338844, \"symbol\": \"circle\"}, \"mode\": \"markers\", \"name\": \"China\", \"showlegend\": true, \"type\": \"scatter\", \"x\": [2920.5607908636], \"xaxis\": \"x\", \"y\": [13.2], \"yaxis\": \"y\"}, {\"hoverlabel\": {\"namelength\": 0}, \"hovertemplate\": \"<b>%{hovertext}</b><br><br>Country Name=Indonesia<br>Year=2000<br>NY.GDP.PCAP.PP.CD=%{x}<br>SH.STA.SUIC.P5=%{y}<br>SP.POP.TOTL=%{marker.size}\", \"hovertext\": [\"Indonesia\"], \"legendgroup\": \"Country Name=Indonesia\", \"marker\": {\"color\": \"#00cc96\", \"size\": [211513823], \"sizemode\": \"area\", \"sizeref\": 455757.02479338844, \"symbol\": \"circle\"}, \"mode\": \"markers\", \"name\": \"Indonesia\", \"showlegend\": true, \"type\": \"scatter\", \"x\": [4743.9446942792], \"xaxis\": \"x\", \"y\": [3.9], \"yaxis\": \"y\"}, {\"hoverlabel\": {\"namelength\": 0}, \"hovertemplate\": \"<b>%{hovertext}</b><br><br>Country Name=Japan<br>Year=2000<br>NY.GDP.PCAP.PP.CD=%{x}<br>SH.STA.SUIC.P5=%{y}<br>SP.POP.TOTL=%{marker.size}\", \"hovertext\": [\"Japan\"], \"legendgroup\": \"Country Name=Japan\", \"marker\": {\"color\": \"#ab63fa\", \"size\": [126843000], \"sizemode\": \"area\", \"sizeref\": 455757.02479338844, \"symbol\": \"circle\"}, \"mode\": \"markers\", \"name\": \"Japan\", \"showlegend\": true, \"type\": \"scatter\", \"x\": [26838.6913604846], \"xaxis\": \"x\", \"y\": [24.7], \"yaxis\": \"y\"}, {\"hoverlabel\": {\"namelength\": 0}, \"hovertemplate\": \"<b>%{hovertext}</b><br><br>Country Name=Philippines<br>Year=2000<br>NY.GDP.PCAP.PP.CD=%{x}<br>SH.STA.SUIC.P5=%{y}<br>SP.POP.TOTL=%{marker.size}\", \"hovertext\": [\"Philippines\"], \"legendgroup\": \"Country Name=Philippines\", \"marker\": {\"color\": \"#FFA15A\", \"size\": [77991755], \"sizemode\": \"area\", \"sizeref\": 455757.02479338844, \"symbol\": \"circle\"}, \"mode\": \"markers\", \"name\": \"Philippines\", \"showlegend\": true, \"type\": \"scatter\", \"x\": [3439.5388528218], \"xaxis\": \"x\", \"y\": [2.5], \"yaxis\": \"y\"}, {\"hoverlabel\": {\"namelength\": 0}, \"hovertemplate\": \"<b>%{hovertext}</b><br><br>Country Name=Singapore<br>Year=2000<br>NY.GDP.PCAP.PP.CD=%{x}<br>SH.STA.SUIC.P5=%{y}<br>SP.POP.TOTL=%{marker.size}\", \"hovertext\": [\"Singapore\"], \"legendgroup\": \"Country Name=Singapore\", \"marker\": {\"color\": \"#19d3f3\", \"size\": [4027887], \"sizemode\": \"area\", \"sizeref\": 455757.02479338844, \"symbol\": \"circle\"}, \"mode\": \"markers\", \"name\": \"Singapore\", \"showlegend\": true, \"type\": \"scatter\", \"x\": [43833.2209648019], \"xaxis\": \"x\", \"y\": [12.4], \"yaxis\": \"y\"}, {\"hoverlabel\": {\"namelength\": 0}, \"hovertemplate\": \"<b>%{hovertext}</b><br><br>Country Name=United States<br>Year=2000<br>NY.GDP.PCAP.PP.CD=%{x}<br>SH.STA.SUIC.P5=%{y}<br>SP.POP.TOTL=%{marker.size}\", \"hovertext\": [\"United States\"], \"legendgroup\": \"Country Name=United States\", \"marker\": {\"color\": \"#FF6692\", \"size\": [282162411], \"sizemode\": \"area\", \"sizeref\": 455757.02479338844, \"symbol\": \"circle\"}, \"mode\": \"markers\", \"name\": \"United States\", \"showlegend\": true, \"type\": \"scatter\", \"x\": [36334.9087770589], \"xaxis\": \"x\", \"y\": [11.3], \"yaxis\": \"y\"}],\n",
              "                        {\"legend\": {\"itemsizing\": \"constant\", \"tracegroupgap\": 0}, \"margin\": {\"t\": 60}, \"sliders\": [{\"active\": 0, \"currentvalue\": {\"prefix\": \"Year=\"}, \"len\": 0.9, \"pad\": {\"b\": 10, \"t\": 60}, \"steps\": [{\"args\": [[\"2000\"], {\"frame\": {\"duration\": 0, \"redraw\": false}, \"fromcurrent\": true, \"mode\": \"immediate\", \"transition\": {\"duration\": 0, \"easing\": \"linear\"}}], \"label\": \"2000\", \"method\": \"animate\"}, {\"args\": [[\"2005\"], {\"frame\": {\"duration\": 0, \"redraw\": false}, \"fromcurrent\": true, \"mode\": \"immediate\", \"transition\": {\"duration\": 0, \"easing\": \"linear\"}}], \"label\": \"2005\", \"method\": \"animate\"}, {\"args\": [[\"2010\"], {\"frame\": {\"duration\": 0, \"redraw\": false}, \"fromcurrent\": true, \"mode\": \"immediate\", \"transition\": {\"duration\": 0, \"easing\": \"linear\"}}], \"label\": \"2010\", \"method\": \"animate\"}, {\"args\": [[\"2015\"], {\"frame\": {\"duration\": 0, \"redraw\": false}, \"fromcurrent\": true, \"mode\": \"immediate\", \"transition\": {\"duration\": 0, \"easing\": \"linear\"}}], \"label\": \"2015\", \"method\": \"animate\"}, {\"args\": [[\"2016\"], {\"frame\": {\"duration\": 0, \"redraw\": false}, \"fromcurrent\": true, \"mode\": \"immediate\", \"transition\": {\"duration\": 0, \"easing\": \"linear\"}}], \"label\": \"2016\", \"method\": \"animate\"}], \"x\": 0.1, \"xanchor\": \"left\", \"y\": 0, \"yanchor\": \"top\"}], \"template\": {\"data\": {\"bar\": [{\"error_x\": {\"color\": \"#2a3f5f\"}, \"error_y\": {\"color\": \"#2a3f5f\"}, \"marker\": {\"line\": {\"color\": \"#E5ECF6\", \"width\": 0.5}}, \"type\": \"bar\"}], \"barpolar\": [{\"marker\": {\"line\": {\"color\": \"#E5ECF6\", \"width\": 0.5}}, \"type\": \"barpolar\"}], \"carpet\": [{\"aaxis\": {\"endlinecolor\": \"#2a3f5f\", \"gridcolor\": \"white\", \"linecolor\": \"white\", \"minorgridcolor\": \"white\", \"startlinecolor\": \"#2a3f5f\"}, \"baxis\": {\"endlinecolor\": \"#2a3f5f\", \"gridcolor\": \"white\", \"linecolor\": \"white\", \"minorgridcolor\": \"white\", \"startlinecolor\": \"#2a3f5f\"}, \"type\": \"carpet\"}], \"choropleth\": [{\"colorbar\": {\"outlinewidth\": 0, \"ticks\": \"\"}, \"type\": \"choropleth\"}], \"contour\": [{\"colorbar\": {\"outlinewidth\": 0, \"ticks\": \"\"}, \"colorscale\": [[0.0, \"#0d0887\"], [0.1111111111111111, \"#46039f\"], [0.2222222222222222, \"#7201a8\"], [0.3333333333333333, \"#9c179e\"], [0.4444444444444444, \"#bd3786\"], [0.5555555555555556, \"#d8576b\"], [0.6666666666666666, \"#ed7953\"], [0.7777777777777778, \"#fb9f3a\"], [0.8888888888888888, \"#fdca26\"], [1.0, \"#f0f921\"]], \"type\": \"contour\"}], \"contourcarpet\": [{\"colorbar\": {\"outlinewidth\": 0, \"ticks\": \"\"}, \"type\": \"contourcarpet\"}], \"heatmap\": [{\"colorbar\": {\"outlinewidth\": 0, \"ticks\": \"\"}, \"colorscale\": [[0.0, \"#0d0887\"], [0.1111111111111111, \"#46039f\"], [0.2222222222222222, \"#7201a8\"], [0.3333333333333333, \"#9c179e\"], [0.4444444444444444, \"#bd3786\"], [0.5555555555555556, \"#d8576b\"], [0.6666666666666666, \"#ed7953\"], [0.7777777777777778, \"#fb9f3a\"], [0.8888888888888888, \"#fdca26\"], [1.0, \"#f0f921\"]], \"type\": \"heatmap\"}], \"heatmapgl\": [{\"colorbar\": {\"outlinewidth\": 0, \"ticks\": \"\"}, \"colorscale\": [[0.0, \"#0d0887\"], [0.1111111111111111, \"#46039f\"], [0.2222222222222222, \"#7201a8\"], [0.3333333333333333, \"#9c179e\"], [0.4444444444444444, \"#bd3786\"], [0.5555555555555556, \"#d8576b\"], [0.6666666666666666, \"#ed7953\"], [0.7777777777777778, \"#fb9f3a\"], [0.8888888888888888, \"#fdca26\"], [1.0, \"#f0f921\"]], \"type\": \"heatmapgl\"}], \"histogram\": [{\"marker\": {\"colorbar\": {\"outlinewidth\": 0, \"ticks\": \"\"}}, \"type\": \"histogram\"}], \"histogram2d\": [{\"colorbar\": {\"outlinewidth\": 0, \"ticks\": \"\"}, \"colorscale\": [[0.0, \"#0d0887\"], [0.1111111111111111, \"#46039f\"], [0.2222222222222222, \"#7201a8\"], [0.3333333333333333, \"#9c179e\"], [0.4444444444444444, \"#bd3786\"], [0.5555555555555556, \"#d8576b\"], [0.6666666666666666, \"#ed7953\"], [0.7777777777777778, \"#fb9f3a\"], [0.8888888888888888, \"#fdca26\"], [1.0, \"#f0f921\"]], \"type\": \"histogram2d\"}], \"histogram2dcontour\": [{\"colorbar\": {\"outlinewidth\": 0, \"ticks\": \"\"}, \"colorscale\": [[0.0, \"#0d0887\"], [0.1111111111111111, \"#46039f\"], [0.2222222222222222, \"#7201a8\"], [0.3333333333333333, \"#9c179e\"], [0.4444444444444444, \"#bd3786\"], [0.5555555555555556, \"#d8576b\"], [0.6666666666666666, \"#ed7953\"], [0.7777777777777778, \"#fb9f3a\"], [0.8888888888888888, \"#fdca26\"], [1.0, \"#f0f921\"]], \"type\": \"histogram2dcontour\"}], \"mesh3d\": [{\"colorbar\": {\"outlinewidth\": 0, \"ticks\": \"\"}, \"type\": \"mesh3d\"}], \"parcoords\": [{\"line\": {\"colorbar\": {\"outlinewidth\": 0, \"ticks\": \"\"}}, \"type\": \"parcoords\"}], \"pie\": [{\"automargin\": true, \"type\": \"pie\"}], \"scatter\": [{\"marker\": {\"colorbar\": {\"outlinewidth\": 0, \"ticks\": \"\"}}, \"type\": \"scatter\"}], \"scatter3d\": [{\"line\": {\"colorbar\": {\"outlinewidth\": 0, \"ticks\": \"\"}}, \"marker\": {\"colorbar\": {\"outlinewidth\": 0, \"ticks\": \"\"}}, \"type\": \"scatter3d\"}], \"scattercarpet\": [{\"marker\": {\"colorbar\": {\"outlinewidth\": 0, \"ticks\": \"\"}}, \"type\": \"scattercarpet\"}], \"scattergeo\": [{\"marker\": {\"colorbar\": {\"outlinewidth\": 0, \"ticks\": \"\"}}, \"type\": \"scattergeo\"}], \"scattergl\": [{\"marker\": {\"colorbar\": {\"outlinewidth\": 0, \"ticks\": \"\"}}, \"type\": \"scattergl\"}], \"scattermapbox\": [{\"marker\": {\"colorbar\": {\"outlinewidth\": 0, \"ticks\": \"\"}}, \"type\": \"scattermapbox\"}], \"scatterpolar\": [{\"marker\": {\"colorbar\": {\"outlinewidth\": 0, \"ticks\": \"\"}}, \"type\": \"scatterpolar\"}], \"scatterpolargl\": [{\"marker\": {\"colorbar\": {\"outlinewidth\": 0, \"ticks\": \"\"}}, \"type\": \"scatterpolargl\"}], \"scatterternary\": [{\"marker\": {\"colorbar\": {\"outlinewidth\": 0, \"ticks\": \"\"}}, \"type\": \"scatterternary\"}], \"surface\": [{\"colorbar\": {\"outlinewidth\": 0, \"ticks\": \"\"}, \"colorscale\": [[0.0, \"#0d0887\"], [0.1111111111111111, \"#46039f\"], [0.2222222222222222, \"#7201a8\"], [0.3333333333333333, \"#9c179e\"], [0.4444444444444444, \"#bd3786\"], [0.5555555555555556, \"#d8576b\"], [0.6666666666666666, \"#ed7953\"], [0.7777777777777778, \"#fb9f3a\"], [0.8888888888888888, \"#fdca26\"], [1.0, \"#f0f921\"]], \"type\": \"surface\"}], \"table\": [{\"cells\": {\"fill\": {\"color\": \"#EBF0F8\"}, \"line\": {\"color\": \"white\"}}, \"header\": {\"fill\": {\"color\": \"#C8D4E3\"}, \"line\": {\"color\": \"white\"}}, \"type\": \"table\"}]}, \"layout\": {\"annotationdefaults\": {\"arrowcolor\": \"#2a3f5f\", \"arrowhead\": 0, \"arrowwidth\": 1}, \"coloraxis\": {\"colorbar\": {\"outlinewidth\": 0, \"ticks\": \"\"}}, \"colorscale\": {\"diverging\": [[0, \"#8e0152\"], [0.1, \"#c51b7d\"], [0.2, \"#de77ae\"], [0.3, \"#f1b6da\"], [0.4, \"#fde0ef\"], [0.5, \"#f7f7f7\"], [0.6, \"#e6f5d0\"], [0.7, \"#b8e186\"], [0.8, \"#7fbc41\"], [0.9, \"#4d9221\"], [1, \"#276419\"]], \"sequential\": [[0.0, \"#0d0887\"], [0.1111111111111111, \"#46039f\"], [0.2222222222222222, \"#7201a8\"], [0.3333333333333333, \"#9c179e\"], [0.4444444444444444, \"#bd3786\"], [0.5555555555555556, \"#d8576b\"], [0.6666666666666666, \"#ed7953\"], [0.7777777777777778, \"#fb9f3a\"], [0.8888888888888888, \"#fdca26\"], [1.0, \"#f0f921\"]], \"sequentialminus\": [[0.0, \"#0d0887\"], [0.1111111111111111, \"#46039f\"], [0.2222222222222222, \"#7201a8\"], [0.3333333333333333, \"#9c179e\"], [0.4444444444444444, \"#bd3786\"], [0.5555555555555556, \"#d8576b\"], [0.6666666666666666, \"#ed7953\"], [0.7777777777777778, \"#fb9f3a\"], [0.8888888888888888, \"#fdca26\"], [1.0, \"#f0f921\"]]}, \"colorway\": [\"#636efa\", \"#EF553B\", \"#00cc96\", \"#ab63fa\", \"#FFA15A\", \"#19d3f3\", \"#FF6692\", \"#B6E880\", \"#FF97FF\", \"#FECB52\"], \"font\": {\"color\": \"#2a3f5f\"}, \"geo\": {\"bgcolor\": \"white\", \"lakecolor\": \"white\", \"landcolor\": \"#E5ECF6\", \"showlakes\": true, \"showland\": true, \"subunitcolor\": \"white\"}, \"hoverlabel\": {\"align\": \"left\"}, \"hovermode\": \"closest\", \"mapbox\": {\"style\": \"light\"}, \"paper_bgcolor\": \"white\", \"plot_bgcolor\": \"#E5ECF6\", \"polar\": {\"angularaxis\": {\"gridcolor\": \"white\", \"linecolor\": \"white\", \"ticks\": \"\"}, \"bgcolor\": \"#E5ECF6\", \"radialaxis\": {\"gridcolor\": \"white\", \"linecolor\": \"white\", \"ticks\": \"\"}}, \"scene\": {\"xaxis\": {\"backgroundcolor\": \"#E5ECF6\", \"gridcolor\": \"white\", \"gridwidth\": 2, \"linecolor\": \"white\", \"showbackground\": true, \"ticks\": \"\", \"zerolinecolor\": \"white\"}, \"yaxis\": {\"backgroundcolor\": \"#E5ECF6\", \"gridcolor\": \"white\", \"gridwidth\": 2, \"linecolor\": \"white\", \"showbackground\": true, \"ticks\": \"\", \"zerolinecolor\": \"white\"}, \"zaxis\": {\"backgroundcolor\": \"#E5ECF6\", \"gridcolor\": \"white\", \"gridwidth\": 2, \"linecolor\": \"white\", \"showbackground\": true, \"ticks\": \"\", \"zerolinecolor\": \"white\"}}, \"shapedefaults\": {\"line\": {\"color\": \"#2a3f5f\"}}, \"ternary\": {\"aaxis\": {\"gridcolor\": \"white\", \"linecolor\": \"white\", \"ticks\": \"\"}, \"baxis\": {\"gridcolor\": \"white\", \"linecolor\": \"white\", \"ticks\": \"\"}, \"bgcolor\": \"#E5ECF6\", \"caxis\": {\"gridcolor\": \"white\", \"linecolor\": \"white\", \"ticks\": \"\"}}, \"title\": {\"x\": 0.05}, \"xaxis\": {\"automargin\": true, \"gridcolor\": \"white\", \"linecolor\": \"white\", \"ticks\": \"\", \"title\": {\"standoff\": 15}, \"zerolinecolor\": \"white\", \"zerolinewidth\": 2}, \"yaxis\": {\"automargin\": true, \"gridcolor\": \"white\", \"linecolor\": \"white\", \"ticks\": \"\", \"title\": {\"standoff\": 15}, \"zerolinecolor\": \"white\", \"zerolinewidth\": 2}}}, \"title\": {\"text\": \"Suicide Mortality Rate vs GDP per Capita (2000-2016)\"}, \"updatemenus\": [{\"buttons\": [{\"args\": [null, {\"frame\": {\"duration\": 500, \"redraw\": false}, \"fromcurrent\": true, \"mode\": \"immediate\", \"transition\": {\"duration\": 500, \"easing\": \"linear\"}}], \"label\": \"&#9654;\", \"method\": \"animate\"}, {\"args\": [[null], {\"frame\": {\"duration\": 0, \"redraw\": false}, \"fromcurrent\": true, \"mode\": \"immediate\", \"transition\": {\"duration\": 0, \"easing\": \"linear\"}}], \"label\": \"&#9724;\", \"method\": \"animate\"}], \"direction\": \"left\", \"pad\": {\"r\": 10, \"t\": 70}, \"showactive\": false, \"type\": \"buttons\", \"x\": 0.1, \"xanchor\": \"right\", \"y\": 0, \"yanchor\": \"top\"}], \"xaxis\": {\"anchor\": \"y\", \"domain\": [0.0, 1.0], \"range\": [2.9999999999999996, 5.0], \"title\": {\"text\": \"GDP per Capita\"}, \"type\": \"log\"}, \"yaxis\": {\"anchor\": \"x\", \"domain\": [0.0, 1.0], \"range\": [0, 30], \"title\": {\"text\": \"Suicide Mortality Rate\"}}},\n",
              "                        {\"responsive\": true}\n",
              "                    ).then(function(){\n",
              "                            Plotly.addFrames('c304925f-0bf2-440d-b8ba-15b8667c2934', [{\"data\": [{\"hoverlabel\": {\"namelength\": 0}, \"hovertemplate\": \"<b>%{hovertext}</b><br><br>Country Name=Canada<br>Year=2000<br>NY.GDP.PCAP.PP.CD=%{x}<br>SH.STA.SUIC.P5=%{y}<br>SP.POP.TOTL=%{marker.size}\", \"hovertext\": [\"Canada\"], \"legendgroup\": \"Country Name=Canada\", \"marker\": {\"color\": \"#636efa\", \"size\": [30685730], \"sizemode\": \"area\", \"sizeref\": 455757.02479338844, \"symbol\": \"circle\"}, \"mode\": \"markers\", \"name\": \"Country Name=Canada\", \"showlegend\": true, \"x\": [29265.2513176458], \"xaxis\": \"x\", \"y\": [13.0], \"yaxis\": \"y\", \"type\": \"scatter\"}, {\"hoverlabel\": {\"namelength\": 0}, \"hovertemplate\": \"<b>%{hovertext}</b><br><br>Country Name=China<br>Year=2000<br>NY.GDP.PCAP.PP.CD=%{x}<br>SH.STA.SUIC.P5=%{y}<br>SP.POP.TOTL=%{marker.size}\", \"hovertext\": [\"China\"], \"legendgroup\": \"Country Name=China\", \"marker\": {\"color\": \"#EF553B\", \"size\": [1262645000], \"sizemode\": \"area\", \"sizeref\": 455757.02479338844, \"symbol\": \"circle\"}, \"mode\": \"markers\", \"name\": \"Country Name=China\", \"showlegend\": true, \"x\": [2920.5607908636], \"xaxis\": \"x\", \"y\": [13.2], \"yaxis\": \"y\", \"type\": \"scatter\"}, {\"hoverlabel\": {\"namelength\": 0}, \"hovertemplate\": \"<b>%{hovertext}</b><br><br>Country Name=Indonesia<br>Year=2000<br>NY.GDP.PCAP.PP.CD=%{x}<br>SH.STA.SUIC.P5=%{y}<br>SP.POP.TOTL=%{marker.size}\", \"hovertext\": [\"Indonesia\"], \"legendgroup\": \"Country Name=Indonesia\", \"marker\": {\"color\": \"#00cc96\", \"size\": [211513823], \"sizemode\": \"area\", \"sizeref\": 455757.02479338844, \"symbol\": \"circle\"}, \"mode\": \"markers\", \"name\": \"Country Name=Indonesia\", \"showlegend\": true, \"x\": [4743.9446942792], \"xaxis\": \"x\", \"y\": [3.9], \"yaxis\": \"y\", \"type\": \"scatter\"}, {\"hoverlabel\": {\"namelength\": 0}, \"hovertemplate\": \"<b>%{hovertext}</b><br><br>Country Name=Japan<br>Year=2000<br>NY.GDP.PCAP.PP.CD=%{x}<br>SH.STA.SUIC.P5=%{y}<br>SP.POP.TOTL=%{marker.size}\", \"hovertext\": [\"Japan\"], \"legendgroup\": \"Country Name=Japan\", \"marker\": {\"color\": \"#ab63fa\", \"size\": [126843000], \"sizemode\": \"area\", \"sizeref\": 455757.02479338844, \"symbol\": \"circle\"}, \"mode\": \"markers\", \"name\": \"Country Name=Japan\", \"showlegend\": true, \"x\": [26838.6913604846], \"xaxis\": \"x\", \"y\": [24.7], \"yaxis\": \"y\", \"type\": \"scatter\"}, {\"hoverlabel\": {\"namelength\": 0}, \"hovertemplate\": \"<b>%{hovertext}</b><br><br>Country Name=Philippines<br>Year=2000<br>NY.GDP.PCAP.PP.CD=%{x}<br>SH.STA.SUIC.P5=%{y}<br>SP.POP.TOTL=%{marker.size}\", \"hovertext\": [\"Philippines\"], \"legendgroup\": \"Country Name=Philippines\", \"marker\": {\"color\": \"#FFA15A\", \"size\": [77991755], \"sizemode\": \"area\", \"sizeref\": 455757.02479338844, \"symbol\": \"circle\"}, \"mode\": \"markers\", \"name\": \"Country Name=Philippines\", \"showlegend\": true, \"x\": [3439.5388528218], \"xaxis\": \"x\", \"y\": [2.5], \"yaxis\": \"y\", \"type\": \"scatter\"}, {\"hoverlabel\": {\"namelength\": 0}, \"hovertemplate\": \"<b>%{hovertext}</b><br><br>Country Name=Singapore<br>Year=2000<br>NY.GDP.PCAP.PP.CD=%{x}<br>SH.STA.SUIC.P5=%{y}<br>SP.POP.TOTL=%{marker.size}\", \"hovertext\": [\"Singapore\"], \"legendgroup\": \"Country Name=Singapore\", \"marker\": {\"color\": \"#19d3f3\", \"size\": [4027887], \"sizemode\": \"area\", \"sizeref\": 455757.02479338844, \"symbol\": \"circle\"}, \"mode\": \"markers\", \"name\": \"Country Name=Singapore\", \"showlegend\": true, \"x\": [43833.2209648019], \"xaxis\": \"x\", \"y\": [12.4], \"yaxis\": \"y\", \"type\": \"scatter\"}, {\"hoverlabel\": {\"namelength\": 0}, \"hovertemplate\": \"<b>%{hovertext}</b><br><br>Country Name=United States<br>Year=2000<br>NY.GDP.PCAP.PP.CD=%{x}<br>SH.STA.SUIC.P5=%{y}<br>SP.POP.TOTL=%{marker.size}\", \"hovertext\": [\"United States\"], \"legendgroup\": \"Country Name=United States\", \"marker\": {\"color\": \"#FF6692\", \"size\": [282162411], \"sizemode\": \"area\", \"sizeref\": 455757.02479338844, \"symbol\": \"circle\"}, \"mode\": \"markers\", \"name\": \"Country Name=United States\", \"showlegend\": true, \"x\": [36334.9087770589], \"xaxis\": \"x\", \"y\": [11.3], \"yaxis\": \"y\", \"type\": \"scatter\"}], \"name\": \"2000\"}, {\"data\": [{\"hoverlabel\": {\"namelength\": 0}, \"hovertemplate\": \"<b>%{hovertext}</b><br><br>Country Name=Canada<br>Year=2005<br>NY.GDP.PCAP.PP.CD=%{x}<br>SH.STA.SUIC.P5=%{y}<br>SP.POP.TOTL=%{marker.size}\", \"hovertext\": [\"Canada\"], \"legendgroup\": \"Country Name=Canada\", \"marker\": {\"color\": \"#636efa\", \"size\": [32243753], \"sizemode\": \"area\", \"sizeref\": 455757.02479338844, \"symbol\": \"circle\"}, \"mode\": \"markers\", \"name\": \"Country Name=Canada\", \"showlegend\": true, \"x\": [36211.0845984165], \"xaxis\": \"x\", \"y\": [13.2], \"yaxis\": \"y\", \"type\": \"scatter\"}, {\"hoverlabel\": {\"namelength\": 0}, \"hovertemplate\": \"<b>%{hovertext}</b><br><br>Country Name=China<br>Year=2005<br>NY.GDP.PCAP.PP.CD=%{x}<br>SH.STA.SUIC.P5=%{y}<br>SP.POP.TOTL=%{marker.size}\", \"hovertext\": [\"China\"], \"legendgroup\": \"Country Name=China\", \"marker\": {\"color\": \"#EF553B\", \"size\": [1303720000], \"sizemode\": \"area\", \"sizeref\": 455757.02479338844, \"symbol\": \"circle\"}, \"mode\": \"markers\", \"name\": \"Country Name=China\", \"showlegend\": true, \"x\": [5053.9457983316], \"xaxis\": \"x\", \"y\": [11.7], \"yaxis\": \"y\", \"type\": \"scatter\"}, {\"hoverlabel\": {\"namelength\": 0}, \"hovertemplate\": \"<b>%{hovertext}</b><br><br>Country Name=Indonesia<br>Year=2005<br>NY.GDP.PCAP.PP.CD=%{x}<br>SH.STA.SUIC.P5=%{y}<br>SP.POP.TOTL=%{marker.size}\", \"hovertext\": [\"Indonesia\"], \"legendgroup\": \"Country Name=Indonesia\", \"marker\": {\"color\": \"#00cc96\", \"size\": [226289470], \"sizemode\": \"area\", \"sizeref\": 455757.02479338844, \"symbol\": \"circle\"}, \"mode\": \"markers\", \"name\": \"Country Name=Indonesia\", \"showlegend\": true, \"x\": [6254.614327014], \"xaxis\": \"x\", \"y\": [3.8], \"yaxis\": \"y\", \"type\": \"scatter\"}, {\"hoverlabel\": {\"namelength\": 0}, \"hovertemplate\": \"<b>%{hovertext}</b><br><br>Country Name=Japan<br>Year=2005<br>NY.GDP.PCAP.PP.CD=%{x}<br>SH.STA.SUIC.P5=%{y}<br>SP.POP.TOTL=%{marker.size}\", \"hovertext\": [\"Japan\"], \"legendgroup\": \"Country Name=Japan\", \"marker\": {\"color\": \"#ab63fa\", \"size\": [127773000], \"sizemode\": \"area\", \"sizeref\": 455757.02479338844, \"symbol\": \"circle\"}, \"mode\": \"markers\", \"name\": \"Country Name=Japan\", \"showlegend\": true, \"x\": [31663.453098977203], \"xaxis\": \"x\", \"y\": [24.9], \"yaxis\": \"y\", \"type\": \"scatter\"}, {\"hoverlabel\": {\"namelength\": 0}, \"hovertemplate\": \"<b>%{hovertext}</b><br><br>Country Name=Philippines<br>Year=2005<br>NY.GDP.PCAP.PP.CD=%{x}<br>SH.STA.SUIC.P5=%{y}<br>SP.POP.TOTL=%{marker.size}\", \"hovertext\": [\"Philippines\"], \"legendgroup\": \"Country Name=Philippines\", \"marker\": {\"color\": \"#FFA15A\", \"size\": [86326250], \"sizemode\": \"area\", \"sizeref\": 455757.02479338844, \"symbol\": \"circle\"}, \"mode\": \"markers\", \"name\": \"Country Name=Philippines\", \"showlegend\": true, \"x\": [4370.3739382720005], \"xaxis\": \"x\", \"y\": [2.6], \"yaxis\": \"y\", \"type\": \"scatter\"}, {\"hoverlabel\": {\"namelength\": 0}, \"hovertemplate\": \"<b>%{hovertext}</b><br><br>Country Name=Singapore<br>Year=2005<br>NY.GDP.PCAP.PP.CD=%{x}<br>SH.STA.SUIC.P5=%{y}<br>SP.POP.TOTL=%{marker.size}\", \"hovertext\": [\"Singapore\"], \"legendgroup\": \"Country Name=Singapore\", \"marker\": {\"color\": \"#19d3f3\", \"size\": [4265762], \"sizemode\": \"area\", \"sizeref\": 455757.02479338844, \"symbol\": \"circle\"}, \"mode\": \"markers\", \"name\": \"Country Name=Singapore\", \"showlegend\": true, \"x\": [58717.217152149104], \"xaxis\": \"x\", \"y\": [11.6], \"yaxis\": \"y\", \"type\": \"scatter\"}, {\"hoverlabel\": {\"namelength\": 0}, \"hovertemplate\": \"<b>%{hovertext}</b><br><br>Country Name=United States<br>Year=2005<br>NY.GDP.PCAP.PP.CD=%{x}<br>SH.STA.SUIC.P5=%{y}<br>SP.POP.TOTL=%{marker.size}\", \"hovertext\": [\"United States\"], \"legendgroup\": \"Country Name=United States\", \"marker\": {\"color\": \"#FF6692\", \"size\": [295516599], \"sizemode\": \"area\", \"sizeref\": 455757.02479338844, \"symbol\": \"circle\"}, \"mode\": \"markers\", \"name\": \"Country Name=United States\", \"showlegend\": true, \"x\": [44114.74778105441], \"xaxis\": \"x\", \"y\": [11.9], \"yaxis\": \"y\", \"type\": \"scatter\"}], \"name\": \"2005\"}, {\"data\": [{\"hoverlabel\": {\"namelength\": 0}, \"hovertemplate\": \"<b>%{hovertext}</b><br><br>Country Name=Canada<br>Year=2010<br>NY.GDP.PCAP.PP.CD=%{x}<br>SH.STA.SUIC.P5=%{y}<br>SP.POP.TOTL=%{marker.size}\", \"hovertext\": [\"Canada\"], \"legendgroup\": \"Country Name=Canada\", \"marker\": {\"color\": \"#636efa\", \"size\": [34004889], \"sizemode\": \"area\", \"sizeref\": 455757.02479338844, \"symbol\": \"circle\"}, \"mode\": \"markers\", \"name\": \"Country Name=Canada\", \"showlegend\": true, \"x\": [40019.926250234705], \"xaxis\": \"x\", \"y\": [13.0], \"yaxis\": \"y\", \"type\": \"scatter\"}, {\"hoverlabel\": {\"namelength\": 0}, \"hovertemplate\": \"<b>%{hovertext}</b><br><br>Country Name=China<br>Year=2010<br>NY.GDP.PCAP.PP.CD=%{x}<br>SH.STA.SUIC.P5=%{y}<br>SP.POP.TOTL=%{marker.size}\", \"hovertext\": [\"China\"], \"legendgroup\": \"Country Name=China\", \"marker\": {\"color\": \"#EF553B\", \"size\": [1337705000], \"sizemode\": \"area\", \"sizeref\": 455757.02479338844, \"symbol\": \"circle\"}, \"mode\": \"markers\", \"name\": \"Country Name=China\", \"showlegend\": true, \"x\": [9253.7651876772], \"xaxis\": \"x\", \"y\": [10.9], \"yaxis\": \"y\", \"type\": \"scatter\"}, {\"hoverlabel\": {\"namelength\": 0}, \"hovertemplate\": \"<b>%{hovertext}</b><br><br>Country Name=Indonesia<br>Year=2010<br>NY.GDP.PCAP.PP.CD=%{x}<br>SH.STA.SUIC.P5=%{y}<br>SP.POP.TOTL=%{marker.size}\", \"hovertext\": [\"Indonesia\"], \"legendgroup\": \"Country Name=Indonesia\", \"marker\": {\"color\": \"#00cc96\", \"size\": [241834215], \"sizemode\": \"area\", \"sizeref\": 455757.02479338844, \"symbol\": \"circle\"}, \"mode\": \"markers\", \"name\": \"Country Name=Indonesia\", \"showlegend\": true, \"x\": [8505.7485348698], \"xaxis\": \"x\", \"y\": [3.6], \"yaxis\": \"y\", \"type\": \"scatter\"}, {\"hoverlabel\": {\"namelength\": 0}, \"hovertemplate\": \"<b>%{hovertext}</b><br><br>Country Name=Japan<br>Year=2010<br>NY.GDP.PCAP.PP.CD=%{x}<br>SH.STA.SUIC.P5=%{y}<br>SP.POP.TOTL=%{marker.size}\", \"hovertext\": [\"Japan\"], \"legendgroup\": \"Country Name=Japan\", \"marker\": {\"color\": \"#ab63fa\", \"size\": [128070000], \"sizemode\": \"area\", \"sizeref\": 455757.02479338844, \"symbol\": \"circle\"}, \"mode\": \"markers\", \"name\": \"Country Name=Japan\", \"showlegend\": true, \"x\": [34986.9945402402], \"xaxis\": \"x\", \"y\": [24.4], \"yaxis\": \"y\", \"type\": \"scatter\"}, {\"hoverlabel\": {\"namelength\": 0}, \"hovertemplate\": \"<b>%{hovertext}</b><br><br>Country Name=Philippines<br>Year=2010<br>NY.GDP.PCAP.PP.CD=%{x}<br>SH.STA.SUIC.P5=%{y}<br>SP.POP.TOTL=%{marker.size}\", \"hovertext\": [\"Philippines\"], \"legendgroup\": \"Country Name=Philippines\", \"marker\": {\"color\": \"#FFA15A\", \"size\": [93966780], \"sizemode\": \"area\", \"sizeref\": 455757.02479338844, \"symbol\": \"circle\"}, \"mode\": \"markers\", \"name\": \"Country Name=Philippines\", \"showlegend\": true, \"x\": [5626.2814004195], \"xaxis\": \"x\", \"y\": [3.3], \"yaxis\": \"y\", \"type\": \"scatter\"}, {\"hoverlabel\": {\"namelength\": 0}, \"hovertemplate\": \"<b>%{hovertext}</b><br><br>Country Name=Singapore<br>Year=2010<br>NY.GDP.PCAP.PP.CD=%{x}<br>SH.STA.SUIC.P5=%{y}<br>SP.POP.TOTL=%{marker.size}\", \"hovertext\": [\"Singapore\"], \"legendgroup\": \"Country Name=Singapore\", \"marker\": {\"color\": \"#19d3f3\", \"size\": [5076732], \"sizemode\": \"area\", \"sizeref\": 455757.02479338844, \"symbol\": \"circle\"}, \"mode\": \"markers\", \"name\": \"Country Name=Singapore\", \"showlegend\": true, \"x\": [75294.3565534751], \"xaxis\": \"x\", \"y\": [10.0], \"yaxis\": \"y\", \"type\": \"scatter\"}, {\"hoverlabel\": {\"namelength\": 0}, \"hovertemplate\": \"<b>%{hovertext}</b><br><br>Country Name=United States<br>Year=2010<br>NY.GDP.PCAP.PP.CD=%{x}<br>SH.STA.SUIC.P5=%{y}<br>SP.POP.TOTL=%{marker.size}\", \"hovertext\": [\"United States\"], \"legendgroup\": \"Country Name=United States\", \"marker\": {\"color\": \"#FF6692\", \"size\": [309321666], \"sizemode\": \"area\", \"sizeref\": 455757.02479338844, \"symbol\": \"circle\"}, \"mode\": \"markers\", \"name\": \"Country Name=United States\", \"showlegend\": true, \"x\": [48467.515776925895], \"xaxis\": \"x\", \"y\": [13.2], \"yaxis\": \"y\", \"type\": \"scatter\"}], \"name\": \"2010\"}, {\"data\": [{\"hoverlabel\": {\"namelength\": 0}, \"hovertemplate\": \"<b>%{hovertext}</b><br><br>Country Name=Canada<br>Year=2015<br>NY.GDP.PCAP.PP.CD=%{x}<br>SH.STA.SUIC.P5=%{y}<br>SP.POP.TOTL=%{marker.size}\", \"hovertext\": [\"Canada\"], \"legendgroup\": \"Country Name=Canada\", \"marker\": {\"color\": \"#636efa\", \"size\": [35702908], \"sizemode\": \"area\", \"sizeref\": 455757.02479338844, \"symbol\": \"circle\"}, \"mode\": \"markers\", \"name\": \"Country Name=Canada\", \"showlegend\": true, \"x\": [44670.080538583796], \"xaxis\": \"x\", \"y\": [12.5], \"yaxis\": \"y\", \"type\": \"scatter\"}, {\"hoverlabel\": {\"namelength\": 0}, \"hovertemplate\": \"<b>%{hovertext}</b><br><br>Country Name=China<br>Year=2015<br>NY.GDP.PCAP.PP.CD=%{x}<br>SH.STA.SUIC.P5=%{y}<br>SP.POP.TOTL=%{marker.size}\", \"hovertext\": [\"China\"], \"legendgroup\": \"Country Name=China\", \"marker\": {\"color\": \"#EF553B\", \"size\": [1371220000], \"sizemode\": \"area\", \"sizeref\": 455757.02479338844, \"symbol\": \"circle\"}, \"mode\": \"markers\", \"name\": \"Country Name=China\", \"showlegend\": true, \"x\": [12978.768910571102], \"xaxis\": \"x\", \"y\": [9.6], \"yaxis\": \"y\", \"type\": \"scatter\"}, {\"hoverlabel\": {\"namelength\": 0}, \"hovertemplate\": \"<b>%{hovertext}</b><br><br>Country Name=Indonesia<br>Year=2015<br>NY.GDP.PCAP.PP.CD=%{x}<br>SH.STA.SUIC.P5=%{y}<br>SP.POP.TOTL=%{marker.size}\", \"hovertext\": [\"Indonesia\"], \"legendgroup\": \"Country Name=Indonesia\", \"marker\": {\"color\": \"#00cc96\", \"size\": [258383256], \"sizemode\": \"area\", \"sizeref\": 455757.02479338844, \"symbol\": \"circle\"}, \"mode\": \"markers\", \"name\": \"Country Name=Indonesia\", \"showlegend\": true, \"x\": [10247.206377812], \"xaxis\": \"x\", \"y\": [3.4], \"yaxis\": \"y\", \"type\": \"scatter\"}, {\"hoverlabel\": {\"namelength\": 0}, \"hovertemplate\": \"<b>%{hovertext}</b><br><br>Country Name=Japan<br>Year=2015<br>NY.GDP.PCAP.PP.CD=%{x}<br>SH.STA.SUIC.P5=%{y}<br>SP.POP.TOTL=%{marker.size}\", \"hovertext\": [\"Japan\"], \"legendgroup\": \"Country Name=Japan\", \"marker\": {\"color\": \"#ab63fa\", \"size\": [127141000], \"sizemode\": \"area\", \"sizeref\": 455757.02479338844, \"symbol\": \"circle\"}, \"mode\": \"markers\", \"name\": \"Country Name=Japan\", \"showlegend\": true, \"x\": [40388.552772097595], \"xaxis\": \"x\", \"y\": [19.4], \"yaxis\": \"y\", \"type\": \"scatter\"}, {\"hoverlabel\": {\"namelength\": 0}, \"hovertemplate\": \"<b>%{hovertext}</b><br><br>Country Name=Philippines<br>Year=2015<br>NY.GDP.PCAP.PP.CD=%{x}<br>SH.STA.SUIC.P5=%{y}<br>SP.POP.TOTL=%{marker.size}\", \"hovertext\": [\"Philippines\"], \"legendgroup\": \"Country Name=Philippines\", \"marker\": {\"color\": \"#FFA15A\", \"size\": [102113212], \"sizemode\": \"area\", \"sizeref\": 455757.02479338844, \"symbol\": \"circle\"}, \"mode\": \"markers\", \"name\": \"Country Name=Philippines\", \"showlegend\": true, \"x\": [7186.7688581811], \"xaxis\": \"x\", \"y\": [3.2], \"yaxis\": \"y\", \"type\": \"scatter\"}, {\"hoverlabel\": {\"namelength\": 0}, \"hovertemplate\": \"<b>%{hovertext}</b><br><br>Country Name=Singapore<br>Year=2015<br>NY.GDP.PCAP.PP.CD=%{x}<br>SH.STA.SUIC.P5=%{y}<br>SP.POP.TOTL=%{marker.size}\", \"hovertext\": [\"Singapore\"], \"legendgroup\": \"Country Name=Singapore\", \"marker\": {\"color\": \"#19d3f3\", \"size\": [5535002], \"sizemode\": \"area\", \"sizeref\": 455757.02479338844, \"symbol\": \"circle\"}, \"mode\": \"markers\", \"name\": \"Country Name=Singapore\", \"showlegend\": true, \"x\": [86974.74762306269], \"xaxis\": \"x\", \"y\": [9.0], \"yaxis\": \"y\", \"type\": \"scatter\"}, {\"hoverlabel\": {\"namelength\": 0}, \"hovertemplate\": \"<b>%{hovertext}</b><br><br>Country Name=United States<br>Year=2015<br>NY.GDP.PCAP.PP.CD=%{x}<br>SH.STA.SUIC.P5=%{y}<br>SP.POP.TOTL=%{marker.size}\", \"hovertext\": [\"United States\"], \"legendgroup\": \"Country Name=United States\", \"marker\": {\"color\": \"#FF6692\", \"size\": [320635163], \"sizemode\": \"area\", \"sizeref\": 455757.02479338844, \"symbol\": \"circle\"}, \"mode\": \"markers\", \"name\": \"Country Name=United States\", \"showlegend\": true, \"x\": [56839.3817742317], \"xaxis\": \"x\", \"y\": [15.0], \"yaxis\": \"y\", \"type\": \"scatter\"}], \"name\": \"2015\"}, {\"data\": [{\"hoverlabel\": {\"namelength\": 0}, \"hovertemplate\": \"<b>%{hovertext}</b><br><br>Country Name=Canada<br>Year=2016<br>NY.GDP.PCAP.PP.CD=%{x}<br>SH.STA.SUIC.P5=%{y}<br>SP.POP.TOTL=%{marker.size}\", \"hovertext\": [\"Canada\"], \"legendgroup\": \"Country Name=Canada\", \"marker\": {\"color\": \"#636efa\", \"size\": [36109487], \"sizemode\": \"area\", \"sizeref\": 455757.02479338844, \"symbol\": \"circle\"}, \"mode\": \"markers\", \"name\": \"Country Name=Canada\", \"showlegend\": true, \"x\": [46472.3402486315], \"xaxis\": \"x\", \"y\": [12.5], \"yaxis\": \"y\", \"type\": \"scatter\"}, {\"hoverlabel\": {\"namelength\": 0}, \"hovertemplate\": \"<b>%{hovertext}</b><br><br>Country Name=China<br>Year=2016<br>NY.GDP.PCAP.PP.CD=%{x}<br>SH.STA.SUIC.P5=%{y}<br>SP.POP.TOTL=%{marker.size}\", \"hovertext\": [\"China\"], \"legendgroup\": \"Country Name=China\", \"marker\": {\"color\": \"#EF553B\", \"size\": [1378665000], \"sizemode\": \"area\", \"sizeref\": 455757.02479338844, \"symbol\": \"circle\"}, \"mode\": \"markers\", \"name\": \"Country Name=China\", \"showlegend\": true, \"x\": [13572.6199886903], \"xaxis\": \"x\", \"y\": [9.7], \"yaxis\": \"y\", \"type\": \"scatter\"}, {\"hoverlabel\": {\"namelength\": 0}, \"hovertemplate\": \"<b>%{hovertext}</b><br><br>Country Name=Indonesia<br>Year=2016<br>NY.GDP.PCAP.PP.CD=%{x}<br>SH.STA.SUIC.P5=%{y}<br>SP.POP.TOTL=%{marker.size}\", \"hovertext\": [\"Indonesia\"], \"legendgroup\": \"Country Name=Indonesia\", \"marker\": {\"color\": \"#00cc96\", \"size\": [261554226], \"sizemode\": \"area\", \"sizeref\": 455757.02479338844, \"symbol\": \"circle\"}, \"mode\": \"markers\", \"name\": \"Country Name=Indonesia\", \"showlegend\": true, \"x\": [10494.5604668313], \"xaxis\": \"x\", \"y\": [3.4], \"yaxis\": \"y\", \"type\": \"scatter\"}, {\"hoverlabel\": {\"namelength\": 0}, \"hovertemplate\": \"<b>%{hovertext}</b><br><br>Country Name=Japan<br>Year=2016<br>NY.GDP.PCAP.PP.CD=%{x}<br>SH.STA.SUIC.P5=%{y}<br>SP.POP.TOTL=%{marker.size}\", \"hovertext\": [\"Japan\"], \"legendgroup\": \"Country Name=Japan\", \"marker\": {\"color\": \"#ab63fa\", \"size\": [126994511], \"sizemode\": \"area\", \"sizeref\": 455757.02479338844, \"symbol\": \"circle\"}, \"mode\": \"markers\", \"name\": \"Country Name=Japan\", \"showlegend\": true, \"x\": [39964.2770077463], \"xaxis\": \"x\", \"y\": [18.5], \"yaxis\": \"y\", \"type\": \"scatter\"}, {\"hoverlabel\": {\"namelength\": 0}, \"hovertemplate\": \"<b>%{hovertext}</b><br><br>Country Name=Philippines<br>Year=2016<br>NY.GDP.PCAP.PP.CD=%{x}<br>SH.STA.SUIC.P5=%{y}<br>SP.POP.TOTL=%{marker.size}\", \"hovertext\": [\"Philippines\"], \"legendgroup\": \"Country Name=Philippines\", \"marker\": {\"color\": \"#FFA15A\", \"size\": [103663927], \"sizemode\": \"area\", \"sizeref\": 455757.02479338844, \"symbol\": \"circle\"}, \"mode\": \"markers\", \"name\": \"Country Name=Philippines\", \"showlegend\": true, \"x\": [7703.7537290745995], \"xaxis\": \"x\", \"y\": [3.2], \"yaxis\": \"y\", \"type\": \"scatter\"}, {\"hoverlabel\": {\"namelength\": 0}, \"hovertemplate\": \"<b>%{hovertext}</b><br><br>Country Name=Singapore<br>Year=2016<br>NY.GDP.PCAP.PP.CD=%{x}<br>SH.STA.SUIC.P5=%{y}<br>SP.POP.TOTL=%{marker.size}\", \"hovertext\": [\"Singapore\"], \"legendgroup\": \"Country Name=Singapore\", \"marker\": {\"color\": \"#19d3f3\", \"size\": [5607283], \"sizemode\": \"area\", \"sizeref\": 455757.02479338844, \"symbol\": \"circle\"}, \"mode\": \"markers\", \"name\": \"Country Name=Singapore\", \"showlegend\": true, \"x\": [89386.0793999319], \"xaxis\": \"x\", \"y\": [9.9], \"yaxis\": \"y\", \"type\": \"scatter\"}, {\"hoverlabel\": {\"namelength\": 0}, \"hovertemplate\": \"<b>%{hovertext}</b><br><br>Country Name=United States<br>Year=2016<br>NY.GDP.PCAP.PP.CD=%{x}<br>SH.STA.SUIC.P5=%{y}<br>SP.POP.TOTL=%{marker.size}\", \"hovertext\": [\"United States\"], \"legendgroup\": \"Country Name=United States\", \"marker\": {\"color\": \"#FF6692\", \"size\": [322941311], \"sizemode\": \"area\", \"sizeref\": 455757.02479338844, \"symbol\": \"circle\"}, \"mode\": \"markers\", \"name\": \"Country Name=United States\", \"showlegend\": true, \"x\": [57951.5840820997], \"xaxis\": \"x\", \"y\": [15.3], \"yaxis\": \"y\", \"type\": \"scatter\"}], \"name\": \"2016\"}]);\n",
              "                        }).then(function(){\n",
              "                            \n",
              "var gd = document.getElementById('c304925f-0bf2-440d-b8ba-15b8667c2934');\n",
              "var x = new MutationObserver(function (mutations, observer) {{\n",
              "        var display = window.getComputedStyle(gd).display;\n",
              "        if (!display || display === 'none') {{\n",
              "            console.log([gd, 'removed!']);\n",
              "            Plotly.purge(gd);\n",
              "            observer.disconnect();\n",
              "        }}\n",
              "}});\n",
              "\n",
              "// Listen for the removal of the full notebook cells\n",
              "var notebookContainer = gd.closest('#notebook-container');\n",
              "if (notebookContainer) {{\n",
              "    x.observe(notebookContainer, {childList: true});\n",
              "}}\n",
              "\n",
              "// Listen for the clearing of the current output cell\n",
              "var outputEl = gd.closest('.output');\n",
              "if (outputEl) {{\n",
              "    x.observe(outputEl, {childList: true});\n",
              "}}\n",
              "\n",
              "                        })\n",
              "                };\n",
              "                \n",
              "            </script>\n",
              "        </div>\n",
              "</body>\n",
              "</html>"
            ]
          },
          "metadata": {
            "tags": []
          }
        }
      ]
    },
    {
      "cell_type": "markdown",
      "metadata": {
        "id": "iyWrvWe6dsKa"
      },
      "source": [
        "### The bar chart belows shows the GDP for 2000 and 2016. In 2000, the highest to lowest GDP per capita were Singapore, United States, Canada, Japan, Indonesia, Philippines and China. China has the lowest GDP per capita in this study, but in the sixteen years span, China was able to move its GDP per capita above Indonesia in 2016. Dropping Philippines to have the lowest GDP per capita followed by Indonesia who the second to the lowest GDP per capita in this study."
      ]
    },
    {
      "cell_type": "markdown",
      "metadata": {
        "id": "Z6ttqe_rFVbI"
      },
      "source": [
        "### While looking at the bar chart in comparison from 2000 to 2016, the total population in East Asia and Pacific continues to grow as well as those in North America. East Asia and Pacific's GDP per capita also increases with those of North America. However, the suicide mortality rate in East Asia and Pacific saw some reduction while those in United States steadily increases while Canada saw its suicide mortality rate maintained. In the box plot for Singapore, its representation are not visible because its population for 2000 and 2016 is very small in comparison to other countries. The Singapore's total population for 2000 is 4,027,887 and 2016 is 5,607,283."
      ]
    },
    {
      "cell_type": "code",
      "metadata": {
        "colab": {
          "base_uri": "https://localhost:8080/",
          "height": 517
        },
        "id": "e8fw1BKWFFaB",
        "outputId": "34430540-2b35-4abd-8847-814b35bbb706"
      },
      "source": [
        "fig = px.bar(df, x='Country Name', y='NY.GDP.PCAP.PP.CD',\n",
        "             hover_data=['SH.STA.SUIC.P5', 'NY.GDP.PCAP.PP.CD'], color='SH.STA.SUIC.P5',\n",
        "             animation_frame=\"Year\", range_y=[0, 95000], height=500)\n",
        "fig.update_layout(\n",
        "    title=\"Suicide Mortality Rate vs GDP per Capita (2000-2016)\",\n",
        "    xaxis_title=\"Countries\",\n",
        "    yaxis_title=\"GDP per Capita\") \n",
        "  \n",
        "\n",
        "fig.show()"
      ],
      "execution_count": 8,
      "outputs": [
        {
          "output_type": "display_data",
          "data": {
            "text/html": [
              "<html>\n",
              "<head><meta charset=\"utf-8\" /></head>\n",
              "<body>\n",
              "    <div>\n",
              "            <script src=\"https://cdnjs.cloudflare.com/ajax/libs/mathjax/2.7.5/MathJax.js?config=TeX-AMS-MML_SVG\"></script><script type=\"text/javascript\">if (window.MathJax) {MathJax.Hub.Config({SVG: {font: \"STIX-Web\"}});}</script>\n",
              "                <script type=\"text/javascript\">window.PlotlyConfig = {MathJaxConfig: 'local'};</script>\n",
              "        <script src=\"https://cdn.plot.ly/plotly-latest.min.js\"></script>    \n",
              "            <div id=\"2ac540e6-bdcb-421b-92e4-cec4852d7004\" class=\"plotly-graph-div\" style=\"height:500px; width:100%;\"></div>\n",
              "            <script type=\"text/javascript\">\n",
              "                \n",
              "                    window.PLOTLYENV=window.PLOTLYENV || {};\n",
              "                    \n",
              "                if (document.getElementById(\"2ac540e6-bdcb-421b-92e4-cec4852d7004\")) {\n",
              "                    Plotly.newPlot(\n",
              "                        '2ac540e6-bdcb-421b-92e4-cec4852d7004',\n",
              "                        [{\"alignmentgroup\": \"True\", \"customdata\": [[13.0, 29265.2513176458], [13.2, 2920.5607908636], [3.9, 4743.9446942792], [24.7, 26838.6913604846], [2.5, 3439.5388528218], [12.4, 43833.2209648019], [11.3, 36334.9087770589]], \"hoverlabel\": {\"namelength\": 0}, \"hovertemplate\": \"Year=2000<br>Country Name=%{x}<br>NY.GDP.PCAP.PP.CD=%{customdata[1]}<br>SH.STA.SUIC.P5=%{marker.color}\", \"legendgroup\": \"\", \"marker\": {\"color\": [13.0, 13.2, 3.9, 24.7, 2.5, 12.4, 11.3], \"coloraxis\": \"coloraxis\"}, \"name\": \"\", \"offsetgroup\": \"\", \"orientation\": \"v\", \"showlegend\": false, \"textposition\": \"auto\", \"type\": \"bar\", \"x\": [\"Canada\", \"China\", \"Indonesia\", \"Japan\", \"Philippines\", \"Singapore\", \"United States\"], \"xaxis\": \"x\", \"y\": [29265.2513176458, 2920.5607908636, 4743.9446942792, 26838.6913604846, 3439.5388528218, 43833.2209648019, 36334.9087770589], \"yaxis\": \"y\"}],\n",
              "                        {\"barmode\": \"relative\", \"coloraxis\": {\"colorbar\": {\"title\": {\"text\": \"SH.STA.SUIC.P5\"}}, \"colorscale\": [[0.0, \"#0d0887\"], [0.1111111111111111, \"#46039f\"], [0.2222222222222222, \"#7201a8\"], [0.3333333333333333, \"#9c179e\"], [0.4444444444444444, \"#bd3786\"], [0.5555555555555556, \"#d8576b\"], [0.6666666666666666, \"#ed7953\"], [0.7777777777777778, \"#fb9f3a\"], [0.8888888888888888, \"#fdca26\"], [1.0, \"#f0f921\"]]}, \"height\": 500, \"legend\": {\"tracegroupgap\": 0}, \"margin\": {\"t\": 60}, \"sliders\": [{\"active\": 0, \"currentvalue\": {\"prefix\": \"Year=\"}, \"len\": 0.9, \"pad\": {\"b\": 10, \"t\": 60}, \"steps\": [{\"args\": [[\"2000\"], {\"frame\": {\"duration\": 0, \"redraw\": true}, \"fromcurrent\": true, \"mode\": \"immediate\", \"transition\": {\"duration\": 0, \"easing\": \"linear\"}}], \"label\": \"2000\", \"method\": \"animate\"}, {\"args\": [[\"2005\"], {\"frame\": {\"duration\": 0, \"redraw\": true}, \"fromcurrent\": true, \"mode\": \"immediate\", \"transition\": {\"duration\": 0, \"easing\": \"linear\"}}], \"label\": \"2005\", \"method\": \"animate\"}, {\"args\": [[\"2010\"], {\"frame\": {\"duration\": 0, \"redraw\": true}, \"fromcurrent\": true, \"mode\": \"immediate\", \"transition\": {\"duration\": 0, \"easing\": \"linear\"}}], \"label\": \"2010\", \"method\": \"animate\"}, {\"args\": [[\"2015\"], {\"frame\": {\"duration\": 0, \"redraw\": true}, \"fromcurrent\": true, \"mode\": \"immediate\", \"transition\": {\"duration\": 0, \"easing\": \"linear\"}}], \"label\": \"2015\", \"method\": \"animate\"}, {\"args\": [[\"2016\"], {\"frame\": {\"duration\": 0, \"redraw\": true}, \"fromcurrent\": true, \"mode\": \"immediate\", \"transition\": {\"duration\": 0, \"easing\": \"linear\"}}], \"label\": \"2016\", \"method\": \"animate\"}], \"x\": 0.1, \"xanchor\": \"left\", \"y\": 0, \"yanchor\": \"top\"}], \"template\": {\"data\": {\"bar\": [{\"error_x\": {\"color\": \"#2a3f5f\"}, \"error_y\": {\"color\": \"#2a3f5f\"}, \"marker\": {\"line\": {\"color\": \"#E5ECF6\", \"width\": 0.5}}, \"type\": \"bar\"}], \"barpolar\": [{\"marker\": {\"line\": {\"color\": \"#E5ECF6\", \"width\": 0.5}}, \"type\": \"barpolar\"}], \"carpet\": [{\"aaxis\": {\"endlinecolor\": \"#2a3f5f\", \"gridcolor\": \"white\", \"linecolor\": \"white\", \"minorgridcolor\": \"white\", \"startlinecolor\": \"#2a3f5f\"}, \"baxis\": {\"endlinecolor\": \"#2a3f5f\", \"gridcolor\": \"white\", \"linecolor\": \"white\", \"minorgridcolor\": \"white\", \"startlinecolor\": \"#2a3f5f\"}, \"type\": \"carpet\"}], \"choropleth\": [{\"colorbar\": {\"outlinewidth\": 0, \"ticks\": \"\"}, \"type\": \"choropleth\"}], \"contour\": [{\"colorbar\": {\"outlinewidth\": 0, \"ticks\": \"\"}, \"colorscale\": [[0.0, \"#0d0887\"], [0.1111111111111111, \"#46039f\"], [0.2222222222222222, \"#7201a8\"], [0.3333333333333333, \"#9c179e\"], [0.4444444444444444, \"#bd3786\"], [0.5555555555555556, \"#d8576b\"], [0.6666666666666666, \"#ed7953\"], [0.7777777777777778, \"#fb9f3a\"], [0.8888888888888888, \"#fdca26\"], [1.0, \"#f0f921\"]], \"type\": \"contour\"}], \"contourcarpet\": [{\"colorbar\": {\"outlinewidth\": 0, \"ticks\": \"\"}, \"type\": \"contourcarpet\"}], \"heatmap\": [{\"colorbar\": {\"outlinewidth\": 0, \"ticks\": \"\"}, \"colorscale\": [[0.0, \"#0d0887\"], [0.1111111111111111, \"#46039f\"], [0.2222222222222222, \"#7201a8\"], [0.3333333333333333, \"#9c179e\"], [0.4444444444444444, \"#bd3786\"], [0.5555555555555556, \"#d8576b\"], [0.6666666666666666, \"#ed7953\"], [0.7777777777777778, \"#fb9f3a\"], [0.8888888888888888, \"#fdca26\"], [1.0, \"#f0f921\"]], \"type\": \"heatmap\"}], \"heatmapgl\": [{\"colorbar\": {\"outlinewidth\": 0, \"ticks\": \"\"}, \"colorscale\": [[0.0, \"#0d0887\"], [0.1111111111111111, \"#46039f\"], [0.2222222222222222, \"#7201a8\"], [0.3333333333333333, \"#9c179e\"], [0.4444444444444444, \"#bd3786\"], [0.5555555555555556, \"#d8576b\"], [0.6666666666666666, \"#ed7953\"], [0.7777777777777778, \"#fb9f3a\"], [0.8888888888888888, \"#fdca26\"], [1.0, \"#f0f921\"]], \"type\": \"heatmapgl\"}], \"histogram\": [{\"marker\": {\"colorbar\": {\"outlinewidth\": 0, \"ticks\": \"\"}}, \"type\": \"histogram\"}], \"histogram2d\": [{\"colorbar\": {\"outlinewidth\": 0, \"ticks\": \"\"}, \"colorscale\": [[0.0, \"#0d0887\"], [0.1111111111111111, \"#46039f\"], [0.2222222222222222, \"#7201a8\"], [0.3333333333333333, \"#9c179e\"], [0.4444444444444444, \"#bd3786\"], [0.5555555555555556, \"#d8576b\"], [0.6666666666666666, \"#ed7953\"], [0.7777777777777778, \"#fb9f3a\"], [0.8888888888888888, \"#fdca26\"], [1.0, \"#f0f921\"]], \"type\": \"histogram2d\"}], \"histogram2dcontour\": [{\"colorbar\": {\"outlinewidth\": 0, \"ticks\": \"\"}, \"colorscale\": [[0.0, \"#0d0887\"], [0.1111111111111111, \"#46039f\"], [0.2222222222222222, \"#7201a8\"], [0.3333333333333333, \"#9c179e\"], [0.4444444444444444, \"#bd3786\"], [0.5555555555555556, \"#d8576b\"], [0.6666666666666666, \"#ed7953\"], [0.7777777777777778, \"#fb9f3a\"], [0.8888888888888888, \"#fdca26\"], [1.0, \"#f0f921\"]], \"type\": \"histogram2dcontour\"}], \"mesh3d\": [{\"colorbar\": {\"outlinewidth\": 0, \"ticks\": \"\"}, \"type\": \"mesh3d\"}], \"parcoords\": [{\"line\": {\"colorbar\": {\"outlinewidth\": 0, \"ticks\": \"\"}}, \"type\": \"parcoords\"}], \"pie\": [{\"automargin\": true, \"type\": \"pie\"}], \"scatter\": [{\"marker\": {\"colorbar\": {\"outlinewidth\": 0, \"ticks\": \"\"}}, \"type\": \"scatter\"}], \"scatter3d\": [{\"line\": {\"colorbar\": {\"outlinewidth\": 0, \"ticks\": \"\"}}, \"marker\": {\"colorbar\": {\"outlinewidth\": 0, \"ticks\": \"\"}}, \"type\": \"scatter3d\"}], \"scattercarpet\": [{\"marker\": {\"colorbar\": {\"outlinewidth\": 0, \"ticks\": \"\"}}, \"type\": \"scattercarpet\"}], \"scattergeo\": [{\"marker\": {\"colorbar\": {\"outlinewidth\": 0, \"ticks\": \"\"}}, \"type\": \"scattergeo\"}], \"scattergl\": [{\"marker\": {\"colorbar\": {\"outlinewidth\": 0, \"ticks\": \"\"}}, \"type\": \"scattergl\"}], \"scattermapbox\": [{\"marker\": {\"colorbar\": {\"outlinewidth\": 0, \"ticks\": \"\"}}, \"type\": \"scattermapbox\"}], \"scatterpolar\": [{\"marker\": {\"colorbar\": {\"outlinewidth\": 0, \"ticks\": \"\"}}, \"type\": \"scatterpolar\"}], \"scatterpolargl\": [{\"marker\": {\"colorbar\": {\"outlinewidth\": 0, \"ticks\": \"\"}}, \"type\": \"scatterpolargl\"}], \"scatterternary\": [{\"marker\": {\"colorbar\": {\"outlinewidth\": 0, \"ticks\": \"\"}}, \"type\": \"scatterternary\"}], \"surface\": [{\"colorbar\": {\"outlinewidth\": 0, \"ticks\": \"\"}, \"colorscale\": [[0.0, \"#0d0887\"], [0.1111111111111111, \"#46039f\"], [0.2222222222222222, \"#7201a8\"], [0.3333333333333333, \"#9c179e\"], [0.4444444444444444, \"#bd3786\"], [0.5555555555555556, \"#d8576b\"], [0.6666666666666666, \"#ed7953\"], [0.7777777777777778, \"#fb9f3a\"], [0.8888888888888888, \"#fdca26\"], [1.0, \"#f0f921\"]], \"type\": \"surface\"}], \"table\": [{\"cells\": {\"fill\": {\"color\": \"#EBF0F8\"}, \"line\": {\"color\": \"white\"}}, \"header\": {\"fill\": {\"color\": \"#C8D4E3\"}, \"line\": {\"color\": \"white\"}}, \"type\": \"table\"}]}, \"layout\": {\"annotationdefaults\": {\"arrowcolor\": \"#2a3f5f\", \"arrowhead\": 0, \"arrowwidth\": 1}, \"coloraxis\": {\"colorbar\": {\"outlinewidth\": 0, \"ticks\": \"\"}}, \"colorscale\": {\"diverging\": [[0, \"#8e0152\"], [0.1, \"#c51b7d\"], [0.2, \"#de77ae\"], [0.3, \"#f1b6da\"], [0.4, \"#fde0ef\"], [0.5, \"#f7f7f7\"], [0.6, \"#e6f5d0\"], [0.7, \"#b8e186\"], [0.8, \"#7fbc41\"], [0.9, \"#4d9221\"], [1, \"#276419\"]], \"sequential\": [[0.0, \"#0d0887\"], [0.1111111111111111, \"#46039f\"], [0.2222222222222222, \"#7201a8\"], [0.3333333333333333, \"#9c179e\"], [0.4444444444444444, \"#bd3786\"], [0.5555555555555556, \"#d8576b\"], [0.6666666666666666, \"#ed7953\"], [0.7777777777777778, \"#fb9f3a\"], [0.8888888888888888, \"#fdca26\"], [1.0, \"#f0f921\"]], \"sequentialminus\": [[0.0, \"#0d0887\"], [0.1111111111111111, \"#46039f\"], [0.2222222222222222, \"#7201a8\"], [0.3333333333333333, \"#9c179e\"], [0.4444444444444444, \"#bd3786\"], [0.5555555555555556, \"#d8576b\"], [0.6666666666666666, \"#ed7953\"], [0.7777777777777778, \"#fb9f3a\"], [0.8888888888888888, \"#fdca26\"], [1.0, \"#f0f921\"]]}, \"colorway\": [\"#636efa\", \"#EF553B\", \"#00cc96\", \"#ab63fa\", \"#FFA15A\", \"#19d3f3\", \"#FF6692\", \"#B6E880\", \"#FF97FF\", \"#FECB52\"], \"font\": {\"color\": \"#2a3f5f\"}, \"geo\": {\"bgcolor\": \"white\", \"lakecolor\": \"white\", \"landcolor\": \"#E5ECF6\", \"showlakes\": true, \"showland\": true, \"subunitcolor\": \"white\"}, \"hoverlabel\": {\"align\": \"left\"}, \"hovermode\": \"closest\", \"mapbox\": {\"style\": \"light\"}, \"paper_bgcolor\": \"white\", \"plot_bgcolor\": \"#E5ECF6\", \"polar\": {\"angularaxis\": {\"gridcolor\": \"white\", \"linecolor\": \"white\", \"ticks\": \"\"}, \"bgcolor\": \"#E5ECF6\", \"radialaxis\": {\"gridcolor\": \"white\", \"linecolor\": \"white\", \"ticks\": \"\"}}, \"scene\": {\"xaxis\": {\"backgroundcolor\": \"#E5ECF6\", \"gridcolor\": \"white\", \"gridwidth\": 2, \"linecolor\": \"white\", \"showbackground\": true, \"ticks\": \"\", \"zerolinecolor\": \"white\"}, \"yaxis\": {\"backgroundcolor\": \"#E5ECF6\", \"gridcolor\": \"white\", \"gridwidth\": 2, \"linecolor\": \"white\", \"showbackground\": true, \"ticks\": \"\", \"zerolinecolor\": \"white\"}, \"zaxis\": {\"backgroundcolor\": \"#E5ECF6\", \"gridcolor\": \"white\", \"gridwidth\": 2, \"linecolor\": \"white\", \"showbackground\": true, \"ticks\": \"\", \"zerolinecolor\": \"white\"}}, \"shapedefaults\": {\"line\": {\"color\": \"#2a3f5f\"}}, \"ternary\": {\"aaxis\": {\"gridcolor\": \"white\", \"linecolor\": \"white\", \"ticks\": \"\"}, \"baxis\": {\"gridcolor\": \"white\", \"linecolor\": \"white\", \"ticks\": \"\"}, \"bgcolor\": \"#E5ECF6\", \"caxis\": {\"gridcolor\": \"white\", \"linecolor\": \"white\", \"ticks\": \"\"}}, \"title\": {\"x\": 0.05}, \"xaxis\": {\"automargin\": true, \"gridcolor\": \"white\", \"linecolor\": \"white\", \"ticks\": \"\", \"title\": {\"standoff\": 15}, \"zerolinecolor\": \"white\", \"zerolinewidth\": 2}, \"yaxis\": {\"automargin\": true, \"gridcolor\": \"white\", \"linecolor\": \"white\", \"ticks\": \"\", \"title\": {\"standoff\": 15}, \"zerolinecolor\": \"white\", \"zerolinewidth\": 2}}}, \"title\": {\"text\": \"Suicide Mortality Rate vs GDP per Capita (2000-2016)\"}, \"updatemenus\": [{\"buttons\": [{\"args\": [null, {\"frame\": {\"duration\": 500, \"redraw\": true}, \"fromcurrent\": true, \"mode\": \"immediate\", \"transition\": {\"duration\": 500, \"easing\": \"linear\"}}], \"label\": \"&#9654;\", \"method\": \"animate\"}, {\"args\": [[null], {\"frame\": {\"duration\": 0, \"redraw\": true}, \"fromcurrent\": true, \"mode\": \"immediate\", \"transition\": {\"duration\": 0, \"easing\": \"linear\"}}], \"label\": \"&#9724;\", \"method\": \"animate\"}], \"direction\": \"left\", \"pad\": {\"r\": 10, \"t\": 70}, \"showactive\": false, \"type\": \"buttons\", \"x\": 0.1, \"xanchor\": \"right\", \"y\": 0, \"yanchor\": \"top\"}], \"xaxis\": {\"anchor\": \"y\", \"domain\": [0.0, 1.0], \"title\": {\"text\": \"Countries\"}}, \"yaxis\": {\"anchor\": \"x\", \"domain\": [0.0, 1.0], \"range\": [0, 95000], \"title\": {\"text\": \"GDP per Capita\"}}},\n",
              "                        {\"responsive\": true}\n",
              "                    ).then(function(){\n",
              "                            Plotly.addFrames('2ac540e6-bdcb-421b-92e4-cec4852d7004', [{\"data\": [{\"alignmentgroup\": \"True\", \"customdata\": [[13.0, 29265.2513176458], [13.2, 2920.5607908636], [3.9, 4743.9446942792], [24.7, 26838.6913604846], [2.5, 3439.5388528218], [12.4, 43833.2209648019], [11.3, 36334.9087770589]], \"hoverlabel\": {\"namelength\": 0}, \"hovertemplate\": \"Year=2000<br>Country Name=%{x}<br>NY.GDP.PCAP.PP.CD=%{customdata[1]}<br>SH.STA.SUIC.P5=%{marker.color}\", \"legendgroup\": \"\", \"marker\": {\"color\": [13.0, 13.2, 3.9, 24.7, 2.5, 12.4, 11.3], \"coloraxis\": \"coloraxis\"}, \"name\": \"\", \"offsetgroup\": \"\", \"orientation\": \"v\", \"showlegend\": false, \"textposition\": \"auto\", \"x\": [\"Canada\", \"China\", \"Indonesia\", \"Japan\", \"Philippines\", \"Singapore\", \"United States\"], \"xaxis\": \"x\", \"y\": [29265.2513176458, 2920.5607908636, 4743.9446942792, 26838.6913604846, 3439.5388528218, 43833.2209648019, 36334.9087770589], \"yaxis\": \"y\", \"type\": \"bar\"}], \"name\": \"2000\"}, {\"data\": [{\"alignmentgroup\": \"True\", \"customdata\": [[13.2, 36211.0845984165], [11.7, 5053.9457983316], [3.8, 6254.614327014], [24.9, 31663.453098977203], [2.6, 4370.3739382720005], [11.6, 58717.217152149104], [11.9, 44114.74778105441]], \"hoverlabel\": {\"namelength\": 0}, \"hovertemplate\": \"Year=2005<br>Country Name=%{x}<br>NY.GDP.PCAP.PP.CD=%{customdata[1]}<br>SH.STA.SUIC.P5=%{marker.color}\", \"legendgroup\": \"\", \"marker\": {\"color\": [13.2, 11.7, 3.8, 24.9, 2.6, 11.6, 11.9], \"coloraxis\": \"coloraxis\"}, \"name\": \"\", \"offsetgroup\": \"\", \"orientation\": \"v\", \"showlegend\": false, \"textposition\": \"auto\", \"x\": [\"Canada\", \"China\", \"Indonesia\", \"Japan\", \"Philippines\", \"Singapore\", \"United States\"], \"xaxis\": \"x\", \"y\": [36211.0845984165, 5053.9457983316, 6254.614327014, 31663.453098977203, 4370.3739382720005, 58717.217152149104, 44114.74778105441], \"yaxis\": \"y\", \"type\": \"bar\"}], \"name\": \"2005\"}, {\"data\": [{\"alignmentgroup\": \"True\", \"customdata\": [[13.0, 40019.926250234705], [10.9, 9253.7651876772], [3.6, 8505.7485348698], [24.4, 34986.9945402402], [3.3, 5626.2814004195], [10.0, 75294.3565534751], [13.2, 48467.515776925895]], \"hoverlabel\": {\"namelength\": 0}, \"hovertemplate\": \"Year=2010<br>Country Name=%{x}<br>NY.GDP.PCAP.PP.CD=%{customdata[1]}<br>SH.STA.SUIC.P5=%{marker.color}\", \"legendgroup\": \"\", \"marker\": {\"color\": [13.0, 10.9, 3.6, 24.4, 3.3, 10.0, 13.2], \"coloraxis\": \"coloraxis\"}, \"name\": \"\", \"offsetgroup\": \"\", \"orientation\": \"v\", \"showlegend\": false, \"textposition\": \"auto\", \"x\": [\"Canada\", \"China\", \"Indonesia\", \"Japan\", \"Philippines\", \"Singapore\", \"United States\"], \"xaxis\": \"x\", \"y\": [40019.926250234705, 9253.7651876772, 8505.7485348698, 34986.9945402402, 5626.2814004195, 75294.3565534751, 48467.515776925895], \"yaxis\": \"y\", \"type\": \"bar\"}], \"name\": \"2010\"}, {\"data\": [{\"alignmentgroup\": \"True\", \"customdata\": [[12.5, 44670.080538583796], [9.6, 12978.768910571102], [3.4, 10247.206377812], [19.4, 40388.552772097595], [3.2, 7186.7688581811], [9.0, 86974.74762306269], [15.0, 56839.3817742317]], \"hoverlabel\": {\"namelength\": 0}, \"hovertemplate\": \"Year=2015<br>Country Name=%{x}<br>NY.GDP.PCAP.PP.CD=%{customdata[1]}<br>SH.STA.SUIC.P5=%{marker.color}\", \"legendgroup\": \"\", \"marker\": {\"color\": [12.5, 9.6, 3.4, 19.4, 3.2, 9.0, 15.0], \"coloraxis\": \"coloraxis\"}, \"name\": \"\", \"offsetgroup\": \"\", \"orientation\": \"v\", \"showlegend\": false, \"textposition\": \"auto\", \"x\": [\"Canada\", \"China\", \"Indonesia\", \"Japan\", \"Philippines\", \"Singapore\", \"United States\"], \"xaxis\": \"x\", \"y\": [44670.080538583796, 12978.768910571102, 10247.206377812, 40388.552772097595, 7186.7688581811, 86974.74762306269, 56839.3817742317], \"yaxis\": \"y\", \"type\": \"bar\"}], \"name\": \"2015\"}, {\"data\": [{\"alignmentgroup\": \"True\", \"customdata\": [[12.5, 46472.3402486315], [9.7, 13572.6199886903], [3.4, 10494.5604668313], [18.5, 39964.2770077463], [3.2, 7703.7537290745995], [9.9, 89386.0793999319], [15.3, 57951.5840820997]], \"hoverlabel\": {\"namelength\": 0}, \"hovertemplate\": \"Year=2016<br>Country Name=%{x}<br>NY.GDP.PCAP.PP.CD=%{customdata[1]}<br>SH.STA.SUIC.P5=%{marker.color}\", \"legendgroup\": \"\", \"marker\": {\"color\": [12.5, 9.7, 3.4, 18.5, 3.2, 9.9, 15.3], \"coloraxis\": \"coloraxis\"}, \"name\": \"\", \"offsetgroup\": \"\", \"orientation\": \"v\", \"showlegend\": false, \"textposition\": \"auto\", \"x\": [\"Canada\", \"China\", \"Indonesia\", \"Japan\", \"Philippines\", \"Singapore\", \"United States\"], \"xaxis\": \"x\", \"y\": [46472.3402486315, 13572.6199886903, 10494.5604668313, 39964.2770077463, 7703.7537290745995, 89386.0793999319, 57951.5840820997], \"yaxis\": \"y\", \"type\": \"bar\"}], \"name\": \"2016\"}]);\n",
              "                        }).then(function(){\n",
              "                            \n",
              "var gd = document.getElementById('2ac540e6-bdcb-421b-92e4-cec4852d7004');\n",
              "var x = new MutationObserver(function (mutations, observer) {{\n",
              "        var display = window.getComputedStyle(gd).display;\n",
              "        if (!display || display === 'none') {{\n",
              "            console.log([gd, 'removed!']);\n",
              "            Plotly.purge(gd);\n",
              "            observer.disconnect();\n",
              "        }}\n",
              "}});\n",
              "\n",
              "// Listen for the removal of the full notebook cells\n",
              "var notebookContainer = gd.closest('#notebook-container');\n",
              "if (notebookContainer) {{\n",
              "    x.observe(notebookContainer, {childList: true});\n",
              "}}\n",
              "\n",
              "// Listen for the clearing of the current output cell\n",
              "var outputEl = gd.closest('.output');\n",
              "if (outputEl) {{\n",
              "    x.observe(outputEl, {childList: true});\n",
              "}}\n",
              "\n",
              "                        })\n",
              "                };\n",
              "                \n",
              "            </script>\n",
              "        </div>\n",
              "</body>\n",
              "</html>"
            ]
          },
          "metadata": {
            "tags": []
          }
        }
      ]
    },
    {
      "cell_type": "code",
      "metadata": {
        "id": "-aSY2zOqqVy3"
      },
      "source": [
        ""
      ],
      "execution_count": 8,
      "outputs": []
    },
    {
      "cell_type": "markdown",
      "metadata": {
        "id": "OlZIAP-vm8Tb"
      },
      "source": [
        "## **North America's Alarming Direction**\n",
        "\n",
        "### As total population in North America and East Asia and Pacific grow and so is their GDP per capita. In fact, the growth in total population and GDP per capita in the regions are remarkably almost at the same pace. However, the disparity ends there. Through the years, the suicide mortality rate in the two different region seems to head to opposite directions. \n",
        "\n",
        "### Below the graphs seperate the countries into two regions."
      ]
    },
    {
      "cell_type": "code",
      "metadata": {
        "colab": {
          "base_uri": "https://localhost:8080/",
          "height": 111
        },
        "id": "QobqYJRZf74m",
        "outputId": "5531234a-f92b-445d-b08c-2fd5ad8d62a8"
      },
      "source": [
        "df_region = df.groupby([\"Region\",\"Year\"]).mean().reset_index()\n",
        "df_region.sample(2)"
      ],
      "execution_count": 9,
      "outputs": [
        {
          "output_type": "execute_result",
          "data": {
            "text/html": [
              "<div>\n",
              "<style scoped>\n",
              "    .dataframe tbody tr th:only-of-type {\n",
              "        vertical-align: middle;\n",
              "    }\n",
              "\n",
              "    .dataframe tbody tr th {\n",
              "        vertical-align: top;\n",
              "    }\n",
              "\n",
              "    .dataframe thead th {\n",
              "        text-align: right;\n",
              "    }\n",
              "</style>\n",
              "<table border=\"1\" class=\"dataframe\">\n",
              "  <thead>\n",
              "    <tr style=\"text-align: right;\">\n",
              "      <th></th>\n",
              "      <th>Region</th>\n",
              "      <th>Year</th>\n",
              "      <th>NY.GDP.PCAP.PP.CD</th>\n",
              "      <th>SP.POP.TOTL</th>\n",
              "      <th>SH.STA.SUIC.P5</th>\n",
              "    </tr>\n",
              "  </thead>\n",
              "  <tbody>\n",
              "    <tr>\n",
              "      <th>2</th>\n",
              "      <td>East Asia &amp; Pacific</td>\n",
              "      <td>2010</td>\n",
              "      <td>26733.429243</td>\n",
              "      <td>361330545.4</td>\n",
              "      <td>10.44</td>\n",
              "    </tr>\n",
              "    <tr>\n",
              "      <th>0</th>\n",
              "      <td>East Asia &amp; Pacific</td>\n",
              "      <td>2000</td>\n",
              "      <td>16355.191333</td>\n",
              "      <td>336604293.0</td>\n",
              "      <td>11.34</td>\n",
              "    </tr>\n",
              "  </tbody>\n",
              "</table>\n",
              "</div>"
            ],
            "text/plain": [
              "                Region  Year  NY.GDP.PCAP.PP.CD  SP.POP.TOTL  SH.STA.SUIC.P5\n",
              "2  East Asia & Pacific  2010       26733.429243  361330545.4           10.44\n",
              "0  East Asia & Pacific  2000       16355.191333  336604293.0           11.34"
            ]
          },
          "metadata": {
            "tags": []
          },
          "execution_count": 9
        }
      ]
    },
    {
      "cell_type": "code",
      "metadata": {
        "colab": {
          "base_uri": "https://localhost:8080/",
          "height": 542
        },
        "id": "gYDIKk8piHi5",
        "outputId": "e5adc98d-2df4-466d-f5b6-a7bb881ca1d4"
      },
      "source": [
        "df_GDP_region = df_region.pivot('Year', \"Region\", \"NY.GDP.PCAP.PP.CD\")\n",
        "fig = go.Figure()\n",
        "fig.add_trace(go.Scatter(x = df_GDP_region.index, y = df_GDP_region[\"North America\"], mode = \"lines\", name =\"North America\"))\n",
        "fig.add_trace(go.Scatter(x = df_GDP_region.index, y = df_GDP_region[\"East Asia & Pacific\"], mode = \"lines\", name =\"East Asia & Pacific\"))\n",
        "\n",
        "fig.update_layout(\n",
        "    title=\"GDP per Capita by Region 2000-2016)\",\n",
        "    xaxis_title=\"Years\",\n",
        "    yaxis_title=\"GDP per Capita\")\n",
        "\n",
        "\n",
        "fig.show()"
      ],
      "execution_count": 10,
      "outputs": [
        {
          "output_type": "display_data",
          "data": {
            "text/html": [
              "<html>\n",
              "<head><meta charset=\"utf-8\" /></head>\n",
              "<body>\n",
              "    <div>\n",
              "            <script src=\"https://cdnjs.cloudflare.com/ajax/libs/mathjax/2.7.5/MathJax.js?config=TeX-AMS-MML_SVG\"></script><script type=\"text/javascript\">if (window.MathJax) {MathJax.Hub.Config({SVG: {font: \"STIX-Web\"}});}</script>\n",
              "                <script type=\"text/javascript\">window.PlotlyConfig = {MathJaxConfig: 'local'};</script>\n",
              "        <script src=\"https://cdn.plot.ly/plotly-latest.min.js\"></script>    \n",
              "            <div id=\"d5f57a50-e47c-4d9f-ac8c-311745edae5f\" class=\"plotly-graph-div\" style=\"height:525px; width:100%;\"></div>\n",
              "            <script type=\"text/javascript\">\n",
              "                \n",
              "                    window.PLOTLYENV=window.PLOTLYENV || {};\n",
              "                    \n",
              "                if (document.getElementById(\"d5f57a50-e47c-4d9f-ac8c-311745edae5f\")) {\n",
              "                    Plotly.newPlot(\n",
              "                        'd5f57a50-e47c-4d9f-ac8c-311745edae5f',\n",
              "                        [{\"mode\": \"lines\", \"name\": \"North America\", \"type\": \"scatter\", \"x\": [2000, 2005, 2010, 2015, 2016], \"y\": [32800.080047352356, 40162.91618973545, 44243.7210135803, 50754.731156407746, 52211.9621653656]}, {\"mode\": \"lines\", \"name\": \"East Asia & Pacific\", \"type\": \"scatter\", \"x\": [2000, 2005, 2010, 2015, 2016], \"y\": [16355.19133265022, 21211.92086294878, 26733.429243336363, 31555.2089083449, 32224.25811845488]}],\n",
              "                        {\"template\": {\"data\": {\"bar\": [{\"error_x\": {\"color\": \"#2a3f5f\"}, \"error_y\": {\"color\": \"#2a3f5f\"}, \"marker\": {\"line\": {\"color\": \"#E5ECF6\", \"width\": 0.5}}, \"type\": \"bar\"}], \"barpolar\": [{\"marker\": {\"line\": {\"color\": \"#E5ECF6\", \"width\": 0.5}}, \"type\": \"barpolar\"}], \"carpet\": [{\"aaxis\": {\"endlinecolor\": \"#2a3f5f\", \"gridcolor\": \"white\", \"linecolor\": \"white\", \"minorgridcolor\": \"white\", \"startlinecolor\": \"#2a3f5f\"}, \"baxis\": {\"endlinecolor\": \"#2a3f5f\", \"gridcolor\": \"white\", \"linecolor\": \"white\", \"minorgridcolor\": \"white\", \"startlinecolor\": \"#2a3f5f\"}, \"type\": \"carpet\"}], \"choropleth\": [{\"colorbar\": {\"outlinewidth\": 0, \"ticks\": \"\"}, \"type\": \"choropleth\"}], \"contour\": [{\"colorbar\": {\"outlinewidth\": 0, \"ticks\": \"\"}, \"colorscale\": [[0.0, \"#0d0887\"], [0.1111111111111111, \"#46039f\"], [0.2222222222222222, \"#7201a8\"], [0.3333333333333333, \"#9c179e\"], [0.4444444444444444, \"#bd3786\"], [0.5555555555555556, \"#d8576b\"], [0.6666666666666666, \"#ed7953\"], [0.7777777777777778, \"#fb9f3a\"], [0.8888888888888888, \"#fdca26\"], [1.0, \"#f0f921\"]], \"type\": \"contour\"}], \"contourcarpet\": [{\"colorbar\": {\"outlinewidth\": 0, \"ticks\": \"\"}, \"type\": \"contourcarpet\"}], \"heatmap\": [{\"colorbar\": {\"outlinewidth\": 0, \"ticks\": \"\"}, \"colorscale\": [[0.0, \"#0d0887\"], [0.1111111111111111, \"#46039f\"], [0.2222222222222222, \"#7201a8\"], [0.3333333333333333, \"#9c179e\"], [0.4444444444444444, \"#bd3786\"], [0.5555555555555556, \"#d8576b\"], [0.6666666666666666, \"#ed7953\"], [0.7777777777777778, \"#fb9f3a\"], [0.8888888888888888, \"#fdca26\"], [1.0, \"#f0f921\"]], \"type\": \"heatmap\"}], \"heatmapgl\": [{\"colorbar\": {\"outlinewidth\": 0, \"ticks\": \"\"}, \"colorscale\": [[0.0, \"#0d0887\"], [0.1111111111111111, \"#46039f\"], [0.2222222222222222, \"#7201a8\"], [0.3333333333333333, \"#9c179e\"], [0.4444444444444444, \"#bd3786\"], [0.5555555555555556, \"#d8576b\"], [0.6666666666666666, \"#ed7953\"], [0.7777777777777778, \"#fb9f3a\"], [0.8888888888888888, \"#fdca26\"], [1.0, \"#f0f921\"]], \"type\": \"heatmapgl\"}], \"histogram\": [{\"marker\": {\"colorbar\": {\"outlinewidth\": 0, \"ticks\": \"\"}}, \"type\": \"histogram\"}], \"histogram2d\": [{\"colorbar\": {\"outlinewidth\": 0, \"ticks\": \"\"}, \"colorscale\": [[0.0, \"#0d0887\"], [0.1111111111111111, \"#46039f\"], [0.2222222222222222, \"#7201a8\"], [0.3333333333333333, \"#9c179e\"], [0.4444444444444444, \"#bd3786\"], [0.5555555555555556, \"#d8576b\"], [0.6666666666666666, \"#ed7953\"], [0.7777777777777778, \"#fb9f3a\"], [0.8888888888888888, \"#fdca26\"], [1.0, \"#f0f921\"]], \"type\": \"histogram2d\"}], \"histogram2dcontour\": [{\"colorbar\": {\"outlinewidth\": 0, \"ticks\": \"\"}, \"colorscale\": [[0.0, \"#0d0887\"], [0.1111111111111111, \"#46039f\"], [0.2222222222222222, \"#7201a8\"], [0.3333333333333333, \"#9c179e\"], [0.4444444444444444, \"#bd3786\"], [0.5555555555555556, \"#d8576b\"], [0.6666666666666666, \"#ed7953\"], [0.7777777777777778, \"#fb9f3a\"], [0.8888888888888888, \"#fdca26\"], [1.0, \"#f0f921\"]], \"type\": \"histogram2dcontour\"}], \"mesh3d\": [{\"colorbar\": {\"outlinewidth\": 0, \"ticks\": \"\"}, \"type\": \"mesh3d\"}], \"parcoords\": [{\"line\": {\"colorbar\": {\"outlinewidth\": 0, \"ticks\": \"\"}}, \"type\": \"parcoords\"}], \"pie\": [{\"automargin\": true, \"type\": \"pie\"}], \"scatter\": [{\"marker\": {\"colorbar\": {\"outlinewidth\": 0, \"ticks\": \"\"}}, \"type\": \"scatter\"}], \"scatter3d\": [{\"line\": {\"colorbar\": {\"outlinewidth\": 0, \"ticks\": \"\"}}, \"marker\": {\"colorbar\": {\"outlinewidth\": 0, \"ticks\": \"\"}}, \"type\": \"scatter3d\"}], \"scattercarpet\": [{\"marker\": {\"colorbar\": {\"outlinewidth\": 0, \"ticks\": \"\"}}, \"type\": \"scattercarpet\"}], \"scattergeo\": [{\"marker\": {\"colorbar\": {\"outlinewidth\": 0, \"ticks\": \"\"}}, \"type\": \"scattergeo\"}], \"scattergl\": [{\"marker\": {\"colorbar\": {\"outlinewidth\": 0, \"ticks\": \"\"}}, \"type\": \"scattergl\"}], \"scattermapbox\": [{\"marker\": {\"colorbar\": {\"outlinewidth\": 0, \"ticks\": \"\"}}, \"type\": \"scattermapbox\"}], \"scatterpolar\": [{\"marker\": {\"colorbar\": {\"outlinewidth\": 0, \"ticks\": \"\"}}, \"type\": \"scatterpolar\"}], \"scatterpolargl\": [{\"marker\": {\"colorbar\": {\"outlinewidth\": 0, \"ticks\": \"\"}}, \"type\": \"scatterpolargl\"}], \"scatterternary\": [{\"marker\": {\"colorbar\": {\"outlinewidth\": 0, \"ticks\": \"\"}}, \"type\": \"scatterternary\"}], \"surface\": [{\"colorbar\": {\"outlinewidth\": 0, \"ticks\": \"\"}, \"colorscale\": [[0.0, \"#0d0887\"], [0.1111111111111111, \"#46039f\"], [0.2222222222222222, \"#7201a8\"], [0.3333333333333333, \"#9c179e\"], [0.4444444444444444, \"#bd3786\"], [0.5555555555555556, \"#d8576b\"], [0.6666666666666666, \"#ed7953\"], [0.7777777777777778, \"#fb9f3a\"], [0.8888888888888888, \"#fdca26\"], [1.0, \"#f0f921\"]], \"type\": \"surface\"}], \"table\": [{\"cells\": {\"fill\": {\"color\": \"#EBF0F8\"}, \"line\": {\"color\": \"white\"}}, \"header\": {\"fill\": {\"color\": \"#C8D4E3\"}, \"line\": {\"color\": \"white\"}}, \"type\": \"table\"}]}, \"layout\": {\"annotationdefaults\": {\"arrowcolor\": \"#2a3f5f\", \"arrowhead\": 0, \"arrowwidth\": 1}, \"coloraxis\": {\"colorbar\": {\"outlinewidth\": 0, \"ticks\": \"\"}}, \"colorscale\": {\"diverging\": [[0, \"#8e0152\"], [0.1, \"#c51b7d\"], [0.2, \"#de77ae\"], [0.3, \"#f1b6da\"], [0.4, \"#fde0ef\"], [0.5, \"#f7f7f7\"], [0.6, \"#e6f5d0\"], [0.7, \"#b8e186\"], [0.8, \"#7fbc41\"], [0.9, \"#4d9221\"], [1, \"#276419\"]], \"sequential\": [[0.0, \"#0d0887\"], [0.1111111111111111, \"#46039f\"], [0.2222222222222222, \"#7201a8\"], [0.3333333333333333, \"#9c179e\"], [0.4444444444444444, \"#bd3786\"], [0.5555555555555556, \"#d8576b\"], [0.6666666666666666, \"#ed7953\"], [0.7777777777777778, \"#fb9f3a\"], [0.8888888888888888, \"#fdca26\"], [1.0, \"#f0f921\"]], \"sequentialminus\": [[0.0, \"#0d0887\"], [0.1111111111111111, \"#46039f\"], [0.2222222222222222, \"#7201a8\"], [0.3333333333333333, \"#9c179e\"], [0.4444444444444444, \"#bd3786\"], [0.5555555555555556, \"#d8576b\"], [0.6666666666666666, \"#ed7953\"], [0.7777777777777778, \"#fb9f3a\"], [0.8888888888888888, \"#fdca26\"], [1.0, \"#f0f921\"]]}, \"colorway\": [\"#636efa\", \"#EF553B\", \"#00cc96\", \"#ab63fa\", \"#FFA15A\", \"#19d3f3\", \"#FF6692\", \"#B6E880\", \"#FF97FF\", \"#FECB52\"], \"font\": {\"color\": \"#2a3f5f\"}, \"geo\": {\"bgcolor\": \"white\", \"lakecolor\": \"white\", \"landcolor\": \"#E5ECF6\", \"showlakes\": true, \"showland\": true, \"subunitcolor\": \"white\"}, \"hoverlabel\": {\"align\": \"left\"}, \"hovermode\": \"closest\", \"mapbox\": {\"style\": \"light\"}, \"paper_bgcolor\": \"white\", \"plot_bgcolor\": \"#E5ECF6\", \"polar\": {\"angularaxis\": {\"gridcolor\": \"white\", \"linecolor\": \"white\", \"ticks\": \"\"}, \"bgcolor\": \"#E5ECF6\", \"radialaxis\": {\"gridcolor\": \"white\", \"linecolor\": \"white\", \"ticks\": \"\"}}, \"scene\": {\"xaxis\": {\"backgroundcolor\": \"#E5ECF6\", \"gridcolor\": \"white\", \"gridwidth\": 2, \"linecolor\": \"white\", \"showbackground\": true, \"ticks\": \"\", \"zerolinecolor\": \"white\"}, \"yaxis\": {\"backgroundcolor\": \"#E5ECF6\", \"gridcolor\": \"white\", \"gridwidth\": 2, \"linecolor\": \"white\", \"showbackground\": true, \"ticks\": \"\", \"zerolinecolor\": \"white\"}, \"zaxis\": {\"backgroundcolor\": \"#E5ECF6\", \"gridcolor\": \"white\", \"gridwidth\": 2, \"linecolor\": \"white\", \"showbackground\": true, \"ticks\": \"\", \"zerolinecolor\": \"white\"}}, \"shapedefaults\": {\"line\": {\"color\": \"#2a3f5f\"}}, \"ternary\": {\"aaxis\": {\"gridcolor\": \"white\", \"linecolor\": \"white\", \"ticks\": \"\"}, \"baxis\": {\"gridcolor\": \"white\", \"linecolor\": \"white\", \"ticks\": \"\"}, \"bgcolor\": \"#E5ECF6\", \"caxis\": {\"gridcolor\": \"white\", \"linecolor\": \"white\", \"ticks\": \"\"}}, \"title\": {\"x\": 0.05}, \"xaxis\": {\"automargin\": true, \"gridcolor\": \"white\", \"linecolor\": \"white\", \"ticks\": \"\", \"title\": {\"standoff\": 15}, \"zerolinecolor\": \"white\", \"zerolinewidth\": 2}, \"yaxis\": {\"automargin\": true, \"gridcolor\": \"white\", \"linecolor\": \"white\", \"ticks\": \"\", \"title\": {\"standoff\": 15}, \"zerolinecolor\": \"white\", \"zerolinewidth\": 2}}}, \"title\": {\"text\": \"GDP per Capita by Region 2000-2016)\"}, \"xaxis\": {\"title\": {\"text\": \"Years\"}}, \"yaxis\": {\"title\": {\"text\": \"GDP per Capita\"}}},\n",
              "                        {\"responsive\": true}\n",
              "                    ).then(function(){\n",
              "                            \n",
              "var gd = document.getElementById('d5f57a50-e47c-4d9f-ac8c-311745edae5f');\n",
              "var x = new MutationObserver(function (mutations, observer) {{\n",
              "        var display = window.getComputedStyle(gd).display;\n",
              "        if (!display || display === 'none') {{\n",
              "            console.log([gd, 'removed!']);\n",
              "            Plotly.purge(gd);\n",
              "            observer.disconnect();\n",
              "        }}\n",
              "}});\n",
              "\n",
              "// Listen for the removal of the full notebook cells\n",
              "var notebookContainer = gd.closest('#notebook-container');\n",
              "if (notebookContainer) {{\n",
              "    x.observe(notebookContainer, {childList: true});\n",
              "}}\n",
              "\n",
              "// Listen for the clearing of the current output cell\n",
              "var outputEl = gd.closest('.output');\n",
              "if (outputEl) {{\n",
              "    x.observe(outputEl, {childList: true});\n",
              "}}\n",
              "\n",
              "                        })\n",
              "                };\n",
              "                \n",
              "            </script>\n",
              "        </div>\n",
              "</body>\n",
              "</html>"
            ]
          },
          "metadata": {
            "tags": []
          }
        }
      ]
    },
    {
      "cell_type": "code",
      "metadata": {
        "colab": {
          "base_uri": "https://localhost:8080/",
          "height": 542
        },
        "id": "XEm_myM1iHsj",
        "outputId": "4e8a13a8-da2b-43fb-c508-9a4e644cf273"
      },
      "source": [
        "df_population_region = df_region.pivot('Year', \"Region\", \"SP.POP.TOTL\")\n",
        "\n",
        "fig = go.Figure()\n",
        "fig.add_trace(go.Scatter(x = df_population_region.index, y = df_population_region[\"North America\"], mode = \"lines\", name =\"North America\"))\n",
        "fig.add_trace(go.Scatter(x = df_population_region.index, y = df_population_region[\"East Asia & Pacific\"], mode = \"lines\", name =\"East Asia & Pacific\"))\n",
        "\n",
        "fig.update_layout(\n",
        "    title=\"Total Population by Region 2000-2016)\",\n",
        "    xaxis_title=\"Years\",\n",
        "    yaxis_title=\"Total Population Growth\")\n",
        "\n",
        "\n",
        "fig.show()"
      ],
      "execution_count": 11,
      "outputs": [
        {
          "output_type": "display_data",
          "data": {
            "text/html": [
              "<html>\n",
              "<head><meta charset=\"utf-8\" /></head>\n",
              "<body>\n",
              "    <div>\n",
              "            <script src=\"https://cdnjs.cloudflare.com/ajax/libs/mathjax/2.7.5/MathJax.js?config=TeX-AMS-MML_SVG\"></script><script type=\"text/javascript\">if (window.MathJax) {MathJax.Hub.Config({SVG: {font: \"STIX-Web\"}});}</script>\n",
              "                <script type=\"text/javascript\">window.PlotlyConfig = {MathJaxConfig: 'local'};</script>\n",
              "        <script src=\"https://cdn.plot.ly/plotly-latest.min.js\"></script>    \n",
              "            <div id=\"62a7ba45-a4cd-4b7f-9050-d8721a8c947a\" class=\"plotly-graph-div\" style=\"height:525px; width:100%;\"></div>\n",
              "            <script type=\"text/javascript\">\n",
              "                \n",
              "                    window.PLOTLYENV=window.PLOTLYENV || {};\n",
              "                    \n",
              "                if (document.getElementById(\"62a7ba45-a4cd-4b7f-9050-d8721a8c947a\")) {\n",
              "                    Plotly.newPlot(\n",
              "                        '62a7ba45-a4cd-4b7f-9050-d8721a8c947a',\n",
              "                        [{\"mode\": \"lines\", \"name\": \"North America\", \"type\": \"scatter\", \"x\": [2000, 2005, 2010, 2015, 2016], \"y\": [156424070.5, 163880176.0, 171663277.5, 178169035.5, 179525399.0]}, {\"mode\": \"lines\", \"name\": \"East Asia & Pacific\", \"type\": \"scatter\", \"x\": [2000, 2005, 2010, 2015, 2016], \"y\": [336604293.0, 349674896.4, 361330545.4, 372878494.0, 375296989.4]}],\n",
              "                        {\"template\": {\"data\": {\"bar\": [{\"error_x\": {\"color\": \"#2a3f5f\"}, \"error_y\": {\"color\": \"#2a3f5f\"}, \"marker\": {\"line\": {\"color\": \"#E5ECF6\", \"width\": 0.5}}, \"type\": \"bar\"}], \"barpolar\": [{\"marker\": {\"line\": {\"color\": \"#E5ECF6\", \"width\": 0.5}}, \"type\": \"barpolar\"}], \"carpet\": [{\"aaxis\": {\"endlinecolor\": \"#2a3f5f\", \"gridcolor\": \"white\", \"linecolor\": \"white\", \"minorgridcolor\": \"white\", \"startlinecolor\": \"#2a3f5f\"}, \"baxis\": {\"endlinecolor\": \"#2a3f5f\", \"gridcolor\": \"white\", \"linecolor\": \"white\", \"minorgridcolor\": \"white\", \"startlinecolor\": \"#2a3f5f\"}, \"type\": \"carpet\"}], \"choropleth\": [{\"colorbar\": {\"outlinewidth\": 0, \"ticks\": \"\"}, \"type\": \"choropleth\"}], \"contour\": [{\"colorbar\": {\"outlinewidth\": 0, \"ticks\": \"\"}, \"colorscale\": [[0.0, \"#0d0887\"], [0.1111111111111111, \"#46039f\"], [0.2222222222222222, \"#7201a8\"], [0.3333333333333333, \"#9c179e\"], [0.4444444444444444, \"#bd3786\"], [0.5555555555555556, \"#d8576b\"], [0.6666666666666666, \"#ed7953\"], [0.7777777777777778, \"#fb9f3a\"], [0.8888888888888888, \"#fdca26\"], [1.0, \"#f0f921\"]], \"type\": \"contour\"}], \"contourcarpet\": [{\"colorbar\": {\"outlinewidth\": 0, \"ticks\": \"\"}, \"type\": \"contourcarpet\"}], \"heatmap\": [{\"colorbar\": {\"outlinewidth\": 0, \"ticks\": \"\"}, \"colorscale\": [[0.0, \"#0d0887\"], [0.1111111111111111, \"#46039f\"], [0.2222222222222222, \"#7201a8\"], [0.3333333333333333, \"#9c179e\"], [0.4444444444444444, \"#bd3786\"], [0.5555555555555556, \"#d8576b\"], [0.6666666666666666, \"#ed7953\"], [0.7777777777777778, \"#fb9f3a\"], [0.8888888888888888, \"#fdca26\"], [1.0, \"#f0f921\"]], \"type\": \"heatmap\"}], \"heatmapgl\": [{\"colorbar\": {\"outlinewidth\": 0, \"ticks\": \"\"}, \"colorscale\": [[0.0, \"#0d0887\"], [0.1111111111111111, \"#46039f\"], [0.2222222222222222, \"#7201a8\"], [0.3333333333333333, \"#9c179e\"], [0.4444444444444444, \"#bd3786\"], [0.5555555555555556, \"#d8576b\"], [0.6666666666666666, \"#ed7953\"], [0.7777777777777778, \"#fb9f3a\"], [0.8888888888888888, \"#fdca26\"], [1.0, \"#f0f921\"]], \"type\": \"heatmapgl\"}], \"histogram\": [{\"marker\": {\"colorbar\": {\"outlinewidth\": 0, \"ticks\": \"\"}}, \"type\": \"histogram\"}], \"histogram2d\": [{\"colorbar\": {\"outlinewidth\": 0, \"ticks\": \"\"}, \"colorscale\": [[0.0, \"#0d0887\"], [0.1111111111111111, \"#46039f\"], [0.2222222222222222, \"#7201a8\"], [0.3333333333333333, \"#9c179e\"], [0.4444444444444444, \"#bd3786\"], [0.5555555555555556, \"#d8576b\"], [0.6666666666666666, \"#ed7953\"], [0.7777777777777778, \"#fb9f3a\"], [0.8888888888888888, \"#fdca26\"], [1.0, \"#f0f921\"]], \"type\": \"histogram2d\"}], \"histogram2dcontour\": [{\"colorbar\": {\"outlinewidth\": 0, \"ticks\": \"\"}, \"colorscale\": [[0.0, \"#0d0887\"], [0.1111111111111111, \"#46039f\"], [0.2222222222222222, \"#7201a8\"], [0.3333333333333333, \"#9c179e\"], [0.4444444444444444, \"#bd3786\"], [0.5555555555555556, \"#d8576b\"], [0.6666666666666666, \"#ed7953\"], [0.7777777777777778, \"#fb9f3a\"], [0.8888888888888888, \"#fdca26\"], [1.0, \"#f0f921\"]], \"type\": \"histogram2dcontour\"}], \"mesh3d\": [{\"colorbar\": {\"outlinewidth\": 0, \"ticks\": \"\"}, \"type\": \"mesh3d\"}], \"parcoords\": [{\"line\": {\"colorbar\": {\"outlinewidth\": 0, \"ticks\": \"\"}}, \"type\": \"parcoords\"}], \"pie\": [{\"automargin\": true, \"type\": \"pie\"}], \"scatter\": [{\"marker\": {\"colorbar\": {\"outlinewidth\": 0, \"ticks\": \"\"}}, \"type\": \"scatter\"}], \"scatter3d\": [{\"line\": {\"colorbar\": {\"outlinewidth\": 0, \"ticks\": \"\"}}, \"marker\": {\"colorbar\": {\"outlinewidth\": 0, \"ticks\": \"\"}}, \"type\": \"scatter3d\"}], \"scattercarpet\": [{\"marker\": {\"colorbar\": {\"outlinewidth\": 0, \"ticks\": \"\"}}, \"type\": \"scattercarpet\"}], \"scattergeo\": [{\"marker\": {\"colorbar\": {\"outlinewidth\": 0, \"ticks\": \"\"}}, \"type\": \"scattergeo\"}], \"scattergl\": [{\"marker\": {\"colorbar\": {\"outlinewidth\": 0, \"ticks\": \"\"}}, \"type\": \"scattergl\"}], \"scattermapbox\": [{\"marker\": {\"colorbar\": {\"outlinewidth\": 0, \"ticks\": \"\"}}, \"type\": \"scattermapbox\"}], \"scatterpolar\": [{\"marker\": {\"colorbar\": {\"outlinewidth\": 0, \"ticks\": \"\"}}, \"type\": \"scatterpolar\"}], \"scatterpolargl\": [{\"marker\": {\"colorbar\": {\"outlinewidth\": 0, \"ticks\": \"\"}}, \"type\": \"scatterpolargl\"}], \"scatterternary\": [{\"marker\": {\"colorbar\": {\"outlinewidth\": 0, \"ticks\": \"\"}}, \"type\": \"scatterternary\"}], \"surface\": [{\"colorbar\": {\"outlinewidth\": 0, \"ticks\": \"\"}, \"colorscale\": [[0.0, \"#0d0887\"], [0.1111111111111111, \"#46039f\"], [0.2222222222222222, \"#7201a8\"], [0.3333333333333333, \"#9c179e\"], [0.4444444444444444, \"#bd3786\"], [0.5555555555555556, \"#d8576b\"], [0.6666666666666666, \"#ed7953\"], [0.7777777777777778, \"#fb9f3a\"], [0.8888888888888888, \"#fdca26\"], [1.0, \"#f0f921\"]], \"type\": \"surface\"}], \"table\": [{\"cells\": {\"fill\": {\"color\": \"#EBF0F8\"}, \"line\": {\"color\": \"white\"}}, \"header\": {\"fill\": {\"color\": \"#C8D4E3\"}, \"line\": {\"color\": \"white\"}}, \"type\": \"table\"}]}, \"layout\": {\"annotationdefaults\": {\"arrowcolor\": \"#2a3f5f\", \"arrowhead\": 0, \"arrowwidth\": 1}, \"coloraxis\": {\"colorbar\": {\"outlinewidth\": 0, \"ticks\": \"\"}}, \"colorscale\": {\"diverging\": [[0, \"#8e0152\"], [0.1, \"#c51b7d\"], [0.2, \"#de77ae\"], [0.3, \"#f1b6da\"], [0.4, \"#fde0ef\"], [0.5, \"#f7f7f7\"], [0.6, \"#e6f5d0\"], [0.7, \"#b8e186\"], [0.8, \"#7fbc41\"], [0.9, \"#4d9221\"], [1, \"#276419\"]], \"sequential\": [[0.0, \"#0d0887\"], [0.1111111111111111, \"#46039f\"], [0.2222222222222222, \"#7201a8\"], [0.3333333333333333, \"#9c179e\"], [0.4444444444444444, \"#bd3786\"], [0.5555555555555556, \"#d8576b\"], [0.6666666666666666, \"#ed7953\"], [0.7777777777777778, \"#fb9f3a\"], [0.8888888888888888, \"#fdca26\"], [1.0, \"#f0f921\"]], \"sequentialminus\": [[0.0, \"#0d0887\"], [0.1111111111111111, \"#46039f\"], [0.2222222222222222, \"#7201a8\"], [0.3333333333333333, \"#9c179e\"], [0.4444444444444444, \"#bd3786\"], [0.5555555555555556, \"#d8576b\"], [0.6666666666666666, \"#ed7953\"], [0.7777777777777778, \"#fb9f3a\"], [0.8888888888888888, \"#fdca26\"], [1.0, \"#f0f921\"]]}, \"colorway\": [\"#636efa\", \"#EF553B\", \"#00cc96\", \"#ab63fa\", \"#FFA15A\", \"#19d3f3\", \"#FF6692\", \"#B6E880\", \"#FF97FF\", \"#FECB52\"], \"font\": {\"color\": \"#2a3f5f\"}, \"geo\": {\"bgcolor\": \"white\", \"lakecolor\": \"white\", \"landcolor\": \"#E5ECF6\", \"showlakes\": true, \"showland\": true, \"subunitcolor\": \"white\"}, \"hoverlabel\": {\"align\": \"left\"}, \"hovermode\": \"closest\", \"mapbox\": {\"style\": \"light\"}, \"paper_bgcolor\": \"white\", \"plot_bgcolor\": \"#E5ECF6\", \"polar\": {\"angularaxis\": {\"gridcolor\": \"white\", \"linecolor\": \"white\", \"ticks\": \"\"}, \"bgcolor\": \"#E5ECF6\", \"radialaxis\": {\"gridcolor\": \"white\", \"linecolor\": \"white\", \"ticks\": \"\"}}, \"scene\": {\"xaxis\": {\"backgroundcolor\": \"#E5ECF6\", \"gridcolor\": \"white\", \"gridwidth\": 2, \"linecolor\": \"white\", \"showbackground\": true, \"ticks\": \"\", \"zerolinecolor\": \"white\"}, \"yaxis\": {\"backgroundcolor\": \"#E5ECF6\", \"gridcolor\": \"white\", \"gridwidth\": 2, \"linecolor\": \"white\", \"showbackground\": true, \"ticks\": \"\", \"zerolinecolor\": \"white\"}, \"zaxis\": {\"backgroundcolor\": \"#E5ECF6\", \"gridcolor\": \"white\", \"gridwidth\": 2, \"linecolor\": \"white\", \"showbackground\": true, \"ticks\": \"\", \"zerolinecolor\": \"white\"}}, \"shapedefaults\": {\"line\": {\"color\": \"#2a3f5f\"}}, \"ternary\": {\"aaxis\": {\"gridcolor\": \"white\", \"linecolor\": \"white\", \"ticks\": \"\"}, \"baxis\": {\"gridcolor\": \"white\", \"linecolor\": \"white\", \"ticks\": \"\"}, \"bgcolor\": \"#E5ECF6\", \"caxis\": {\"gridcolor\": \"white\", \"linecolor\": \"white\", \"ticks\": \"\"}}, \"title\": {\"x\": 0.05}, \"xaxis\": {\"automargin\": true, \"gridcolor\": \"white\", \"linecolor\": \"white\", \"ticks\": \"\", \"title\": {\"standoff\": 15}, \"zerolinecolor\": \"white\", \"zerolinewidth\": 2}, \"yaxis\": {\"automargin\": true, \"gridcolor\": \"white\", \"linecolor\": \"white\", \"ticks\": \"\", \"title\": {\"standoff\": 15}, \"zerolinecolor\": \"white\", \"zerolinewidth\": 2}}}, \"title\": {\"text\": \"Total Population by Region 2000-2016)\"}, \"xaxis\": {\"title\": {\"text\": \"Years\"}}, \"yaxis\": {\"title\": {\"text\": \"Total Population Growth\"}}},\n",
              "                        {\"responsive\": true}\n",
              "                    ).then(function(){\n",
              "                            \n",
              "var gd = document.getElementById('62a7ba45-a4cd-4b7f-9050-d8721a8c947a');\n",
              "var x = new MutationObserver(function (mutations, observer) {{\n",
              "        var display = window.getComputedStyle(gd).display;\n",
              "        if (!display || display === 'none') {{\n",
              "            console.log([gd, 'removed!']);\n",
              "            Plotly.purge(gd);\n",
              "            observer.disconnect();\n",
              "        }}\n",
              "}});\n",
              "\n",
              "// Listen for the removal of the full notebook cells\n",
              "var notebookContainer = gd.closest('#notebook-container');\n",
              "if (notebookContainer) {{\n",
              "    x.observe(notebookContainer, {childList: true});\n",
              "}}\n",
              "\n",
              "// Listen for the clearing of the current output cell\n",
              "var outputEl = gd.closest('.output');\n",
              "if (outputEl) {{\n",
              "    x.observe(outputEl, {childList: true});\n",
              "}}\n",
              "\n",
              "                        })\n",
              "                };\n",
              "                \n",
              "            </script>\n",
              "        </div>\n",
              "</body>\n",
              "</html>"
            ]
          },
          "metadata": {
            "tags": []
          }
        }
      ]
    },
    {
      "cell_type": "code",
      "metadata": {
        "colab": {
          "base_uri": "https://localhost:8080/",
          "height": 542
        },
        "id": "FO1Oan2FgyYR",
        "outputId": "9d430e9f-3434-4794-fa55-6f14d8145cd3"
      },
      "source": [
        "df_suicide_region = df_region.pivot('Year', \"Region\", \"SH.STA.SUIC.P5\")\n",
        "\n",
        "fig = go.Figure()\n",
        "fig.add_trace(go.Scatter(x = df_suicide_region.index, y = df_suicide_region[\"North America\"], mode = \"lines\", name =\"North America\"))\n",
        "fig.add_trace(go.Scatter(x = df_suicide_region.index, y = df_suicide_region[\"East Asia & Pacific\"], mode = \"lines\", name =\"East Asia & Pacific\"))\n",
        "\n",
        "fig.update_layout(\n",
        "    title=\"Suicide Mortality Rate by Region 2000-2016)\",\n",
        "    xaxis_title=\"Years\",\n",
        "    yaxis_title=\"Suicide Mortality Rate\")\n",
        "\n",
        "\n",
        "fig.show()"
      ],
      "execution_count": 12,
      "outputs": [
        {
          "output_type": "display_data",
          "data": {
            "text/html": [
              "<html>\n",
              "<head><meta charset=\"utf-8\" /></head>\n",
              "<body>\n",
              "    <div>\n",
              "            <script src=\"https://cdnjs.cloudflare.com/ajax/libs/mathjax/2.7.5/MathJax.js?config=TeX-AMS-MML_SVG\"></script><script type=\"text/javascript\">if (window.MathJax) {MathJax.Hub.Config({SVG: {font: \"STIX-Web\"}});}</script>\n",
              "                <script type=\"text/javascript\">window.PlotlyConfig = {MathJaxConfig: 'local'};</script>\n",
              "        <script src=\"https://cdn.plot.ly/plotly-latest.min.js\"></script>    \n",
              "            <div id=\"125cd6a6-d965-4a8e-9bec-1f914f78d9c9\" class=\"plotly-graph-div\" style=\"height:525px; width:100%;\"></div>\n",
              "            <script type=\"text/javascript\">\n",
              "                \n",
              "                    window.PLOTLYENV=window.PLOTLYENV || {};\n",
              "                    \n",
              "                if (document.getElementById(\"125cd6a6-d965-4a8e-9bec-1f914f78d9c9\")) {\n",
              "                    Plotly.newPlot(\n",
              "                        '125cd6a6-d965-4a8e-9bec-1f914f78d9c9',\n",
              "                        [{\"mode\": \"lines\", \"name\": \"North America\", \"type\": \"scatter\", \"x\": [2000, 2005, 2010, 2015, 2016], \"y\": [12.15, 12.55, 13.1, 13.75, 13.9]}, {\"mode\": \"lines\", \"name\": \"East Asia & Pacific\", \"type\": \"scatter\", \"x\": [2000, 2005, 2010, 2015, 2016], \"y\": [11.34, 10.92, 10.44, 8.92, 8.940000000000001]}],\n",
              "                        {\"template\": {\"data\": {\"bar\": [{\"error_x\": {\"color\": \"#2a3f5f\"}, \"error_y\": {\"color\": \"#2a3f5f\"}, \"marker\": {\"line\": {\"color\": \"#E5ECF6\", \"width\": 0.5}}, \"type\": \"bar\"}], \"barpolar\": [{\"marker\": {\"line\": {\"color\": \"#E5ECF6\", \"width\": 0.5}}, \"type\": \"barpolar\"}], \"carpet\": [{\"aaxis\": {\"endlinecolor\": \"#2a3f5f\", \"gridcolor\": \"white\", \"linecolor\": \"white\", \"minorgridcolor\": \"white\", \"startlinecolor\": \"#2a3f5f\"}, \"baxis\": {\"endlinecolor\": \"#2a3f5f\", \"gridcolor\": \"white\", \"linecolor\": \"white\", \"minorgridcolor\": \"white\", \"startlinecolor\": \"#2a3f5f\"}, \"type\": \"carpet\"}], \"choropleth\": [{\"colorbar\": {\"outlinewidth\": 0, \"ticks\": \"\"}, \"type\": \"choropleth\"}], \"contour\": [{\"colorbar\": {\"outlinewidth\": 0, \"ticks\": \"\"}, \"colorscale\": [[0.0, \"#0d0887\"], [0.1111111111111111, \"#46039f\"], [0.2222222222222222, \"#7201a8\"], [0.3333333333333333, \"#9c179e\"], [0.4444444444444444, \"#bd3786\"], [0.5555555555555556, \"#d8576b\"], [0.6666666666666666, \"#ed7953\"], [0.7777777777777778, \"#fb9f3a\"], [0.8888888888888888, \"#fdca26\"], [1.0, \"#f0f921\"]], \"type\": \"contour\"}], \"contourcarpet\": [{\"colorbar\": {\"outlinewidth\": 0, \"ticks\": \"\"}, \"type\": \"contourcarpet\"}], \"heatmap\": [{\"colorbar\": {\"outlinewidth\": 0, \"ticks\": \"\"}, \"colorscale\": [[0.0, \"#0d0887\"], [0.1111111111111111, \"#46039f\"], [0.2222222222222222, \"#7201a8\"], [0.3333333333333333, \"#9c179e\"], [0.4444444444444444, \"#bd3786\"], [0.5555555555555556, \"#d8576b\"], [0.6666666666666666, \"#ed7953\"], [0.7777777777777778, \"#fb9f3a\"], [0.8888888888888888, \"#fdca26\"], [1.0, \"#f0f921\"]], \"type\": \"heatmap\"}], \"heatmapgl\": [{\"colorbar\": {\"outlinewidth\": 0, \"ticks\": \"\"}, \"colorscale\": [[0.0, \"#0d0887\"], [0.1111111111111111, \"#46039f\"], [0.2222222222222222, \"#7201a8\"], [0.3333333333333333, \"#9c179e\"], [0.4444444444444444, \"#bd3786\"], [0.5555555555555556, \"#d8576b\"], [0.6666666666666666, \"#ed7953\"], [0.7777777777777778, \"#fb9f3a\"], [0.8888888888888888, \"#fdca26\"], [1.0, \"#f0f921\"]], \"type\": \"heatmapgl\"}], \"histogram\": [{\"marker\": {\"colorbar\": {\"outlinewidth\": 0, \"ticks\": \"\"}}, \"type\": \"histogram\"}], \"histogram2d\": [{\"colorbar\": {\"outlinewidth\": 0, \"ticks\": \"\"}, \"colorscale\": [[0.0, \"#0d0887\"], [0.1111111111111111, \"#46039f\"], [0.2222222222222222, \"#7201a8\"], [0.3333333333333333, \"#9c179e\"], [0.4444444444444444, \"#bd3786\"], [0.5555555555555556, \"#d8576b\"], [0.6666666666666666, \"#ed7953\"], [0.7777777777777778, \"#fb9f3a\"], [0.8888888888888888, \"#fdca26\"], [1.0, \"#f0f921\"]], \"type\": \"histogram2d\"}], \"histogram2dcontour\": [{\"colorbar\": {\"outlinewidth\": 0, \"ticks\": \"\"}, \"colorscale\": [[0.0, \"#0d0887\"], [0.1111111111111111, \"#46039f\"], [0.2222222222222222, \"#7201a8\"], [0.3333333333333333, \"#9c179e\"], [0.4444444444444444, \"#bd3786\"], [0.5555555555555556, \"#d8576b\"], [0.6666666666666666, \"#ed7953\"], [0.7777777777777778, \"#fb9f3a\"], [0.8888888888888888, \"#fdca26\"], [1.0, \"#f0f921\"]], \"type\": \"histogram2dcontour\"}], \"mesh3d\": [{\"colorbar\": {\"outlinewidth\": 0, \"ticks\": \"\"}, \"type\": \"mesh3d\"}], \"parcoords\": [{\"line\": {\"colorbar\": {\"outlinewidth\": 0, \"ticks\": \"\"}}, \"type\": \"parcoords\"}], \"pie\": [{\"automargin\": true, \"type\": \"pie\"}], \"scatter\": [{\"marker\": {\"colorbar\": {\"outlinewidth\": 0, \"ticks\": \"\"}}, \"type\": \"scatter\"}], \"scatter3d\": [{\"line\": {\"colorbar\": {\"outlinewidth\": 0, \"ticks\": \"\"}}, \"marker\": {\"colorbar\": {\"outlinewidth\": 0, \"ticks\": \"\"}}, \"type\": \"scatter3d\"}], \"scattercarpet\": [{\"marker\": {\"colorbar\": {\"outlinewidth\": 0, \"ticks\": \"\"}}, \"type\": \"scattercarpet\"}], \"scattergeo\": [{\"marker\": {\"colorbar\": {\"outlinewidth\": 0, \"ticks\": \"\"}}, \"type\": \"scattergeo\"}], \"scattergl\": [{\"marker\": {\"colorbar\": {\"outlinewidth\": 0, \"ticks\": \"\"}}, \"type\": \"scattergl\"}], \"scattermapbox\": [{\"marker\": {\"colorbar\": {\"outlinewidth\": 0, \"ticks\": \"\"}}, \"type\": \"scattermapbox\"}], \"scatterpolar\": [{\"marker\": {\"colorbar\": {\"outlinewidth\": 0, \"ticks\": \"\"}}, \"type\": \"scatterpolar\"}], \"scatterpolargl\": [{\"marker\": {\"colorbar\": {\"outlinewidth\": 0, \"ticks\": \"\"}}, \"type\": \"scatterpolargl\"}], \"scatterternary\": [{\"marker\": {\"colorbar\": {\"outlinewidth\": 0, \"ticks\": \"\"}}, \"type\": \"scatterternary\"}], \"surface\": [{\"colorbar\": {\"outlinewidth\": 0, \"ticks\": \"\"}, \"colorscale\": [[0.0, \"#0d0887\"], [0.1111111111111111, \"#46039f\"], [0.2222222222222222, \"#7201a8\"], [0.3333333333333333, \"#9c179e\"], [0.4444444444444444, \"#bd3786\"], [0.5555555555555556, \"#d8576b\"], [0.6666666666666666, \"#ed7953\"], [0.7777777777777778, \"#fb9f3a\"], [0.8888888888888888, \"#fdca26\"], [1.0, \"#f0f921\"]], \"type\": \"surface\"}], \"table\": [{\"cells\": {\"fill\": {\"color\": \"#EBF0F8\"}, \"line\": {\"color\": \"white\"}}, \"header\": {\"fill\": {\"color\": \"#C8D4E3\"}, \"line\": {\"color\": \"white\"}}, \"type\": \"table\"}]}, \"layout\": {\"annotationdefaults\": {\"arrowcolor\": \"#2a3f5f\", \"arrowhead\": 0, \"arrowwidth\": 1}, \"coloraxis\": {\"colorbar\": {\"outlinewidth\": 0, \"ticks\": \"\"}}, \"colorscale\": {\"diverging\": [[0, \"#8e0152\"], [0.1, \"#c51b7d\"], [0.2, \"#de77ae\"], [0.3, \"#f1b6da\"], [0.4, \"#fde0ef\"], [0.5, \"#f7f7f7\"], [0.6, \"#e6f5d0\"], [0.7, \"#b8e186\"], [0.8, \"#7fbc41\"], [0.9, \"#4d9221\"], [1, \"#276419\"]], \"sequential\": [[0.0, \"#0d0887\"], [0.1111111111111111, \"#46039f\"], [0.2222222222222222, \"#7201a8\"], [0.3333333333333333, \"#9c179e\"], [0.4444444444444444, \"#bd3786\"], [0.5555555555555556, \"#d8576b\"], [0.6666666666666666, \"#ed7953\"], [0.7777777777777778, \"#fb9f3a\"], [0.8888888888888888, \"#fdca26\"], [1.0, \"#f0f921\"]], \"sequentialminus\": [[0.0, \"#0d0887\"], [0.1111111111111111, \"#46039f\"], [0.2222222222222222, \"#7201a8\"], [0.3333333333333333, \"#9c179e\"], [0.4444444444444444, \"#bd3786\"], [0.5555555555555556, \"#d8576b\"], [0.6666666666666666, \"#ed7953\"], [0.7777777777777778, \"#fb9f3a\"], [0.8888888888888888, \"#fdca26\"], [1.0, \"#f0f921\"]]}, \"colorway\": [\"#636efa\", \"#EF553B\", \"#00cc96\", \"#ab63fa\", \"#FFA15A\", \"#19d3f3\", \"#FF6692\", \"#B6E880\", \"#FF97FF\", \"#FECB52\"], \"font\": {\"color\": \"#2a3f5f\"}, \"geo\": {\"bgcolor\": \"white\", \"lakecolor\": \"white\", \"landcolor\": \"#E5ECF6\", \"showlakes\": true, \"showland\": true, \"subunitcolor\": \"white\"}, \"hoverlabel\": {\"align\": \"left\"}, \"hovermode\": \"closest\", \"mapbox\": {\"style\": \"light\"}, \"paper_bgcolor\": \"white\", \"plot_bgcolor\": \"#E5ECF6\", \"polar\": {\"angularaxis\": {\"gridcolor\": \"white\", \"linecolor\": \"white\", \"ticks\": \"\"}, \"bgcolor\": \"#E5ECF6\", \"radialaxis\": {\"gridcolor\": \"white\", \"linecolor\": \"white\", \"ticks\": \"\"}}, \"scene\": {\"xaxis\": {\"backgroundcolor\": \"#E5ECF6\", \"gridcolor\": \"white\", \"gridwidth\": 2, \"linecolor\": \"white\", \"showbackground\": true, \"ticks\": \"\", \"zerolinecolor\": \"white\"}, \"yaxis\": {\"backgroundcolor\": \"#E5ECF6\", \"gridcolor\": \"white\", \"gridwidth\": 2, \"linecolor\": \"white\", \"showbackground\": true, \"ticks\": \"\", \"zerolinecolor\": \"white\"}, \"zaxis\": {\"backgroundcolor\": \"#E5ECF6\", \"gridcolor\": \"white\", \"gridwidth\": 2, \"linecolor\": \"white\", \"showbackground\": true, \"ticks\": \"\", \"zerolinecolor\": \"white\"}}, \"shapedefaults\": {\"line\": {\"color\": \"#2a3f5f\"}}, \"ternary\": {\"aaxis\": {\"gridcolor\": \"white\", \"linecolor\": \"white\", \"ticks\": \"\"}, \"baxis\": {\"gridcolor\": \"white\", \"linecolor\": \"white\", \"ticks\": \"\"}, \"bgcolor\": \"#E5ECF6\", \"caxis\": {\"gridcolor\": \"white\", \"linecolor\": \"white\", \"ticks\": \"\"}}, \"title\": {\"x\": 0.05}, \"xaxis\": {\"automargin\": true, \"gridcolor\": \"white\", \"linecolor\": \"white\", \"ticks\": \"\", \"title\": {\"standoff\": 15}, \"zerolinecolor\": \"white\", \"zerolinewidth\": 2}, \"yaxis\": {\"automargin\": true, \"gridcolor\": \"white\", \"linecolor\": \"white\", \"ticks\": \"\", \"title\": {\"standoff\": 15}, \"zerolinecolor\": \"white\", \"zerolinewidth\": 2}}}, \"title\": {\"text\": \"Suicide Mortality Rate by Region 2000-2016)\"}, \"xaxis\": {\"title\": {\"text\": \"Years\"}}, \"yaxis\": {\"title\": {\"text\": \"Suicide Mortality Rate\"}}},\n",
              "                        {\"responsive\": true}\n",
              "                    ).then(function(){\n",
              "                            \n",
              "var gd = document.getElementById('125cd6a6-d965-4a8e-9bec-1f914f78d9c9');\n",
              "var x = new MutationObserver(function (mutations, observer) {{\n",
              "        var display = window.getComputedStyle(gd).display;\n",
              "        if (!display || display === 'none') {{\n",
              "            console.log([gd, 'removed!']);\n",
              "            Plotly.purge(gd);\n",
              "            observer.disconnect();\n",
              "        }}\n",
              "}});\n",
              "\n",
              "// Listen for the removal of the full notebook cells\n",
              "var notebookContainer = gd.closest('#notebook-container');\n",
              "if (notebookContainer) {{\n",
              "    x.observe(notebookContainer, {childList: true});\n",
              "}}\n",
              "\n",
              "// Listen for the clearing of the current output cell\n",
              "var outputEl = gd.closest('.output');\n",
              "if (outputEl) {{\n",
              "    x.observe(outputEl, {childList: true});\n",
              "}}\n",
              "\n",
              "                        })\n",
              "                };\n",
              "                \n",
              "            </script>\n",
              "        </div>\n",
              "</body>\n",
              "</html>"
            ]
          },
          "metadata": {
            "tags": []
          }
        }
      ]
    },
    {
      "cell_type": "markdown",
      "metadata": {
        "id": "USO_JxmbFGBB"
      },
      "source": [
        "### The United States’ and Canada’s suicide mortality hovers higher than 10 and can’t seem drop lower. Unlike Japan, whose suicide mortality rate started off at the high point of 24.7 in 2000 yet experiences continuous big drops which is down to 18.5 in 2016. Japan's drop in suicide mortality rate in 2010 might also account for the region's descend in suicide mortality rate.\n",
        "\n",
        "### The line chart showed that the United States's suicide mortality rate is high and persistently increases while other countries has experience dips or still hovering at below 4 in the 16 years span. "
      ]
    },
    {
      "cell_type": "code",
      "metadata": {
        "colab": {
          "base_uri": "https://localhost:8080/",
          "height": 235
        },
        "id": "cWOwy2NmyPmn",
        "outputId": "294f7263-d44e-4703-a5c5-7396bf6637f0"
      },
      "source": [
        "# Pivot was used to make a line plot. The dataframe contains country name, year, and suicide rate.\n",
        "# The line plot uses the x-axis are the years, the y-axis are the \n",
        "# suicide rate of the different countries\n",
        "df1 = df.pivot('Year', \"Country Name\", \"SH.STA.SUIC.P5\")\n",
        "df1.head(5)"
      ],
      "execution_count": 13,
      "outputs": [
        {
          "output_type": "execute_result",
          "data": {
            "text/html": [
              "<div>\n",
              "<style scoped>\n",
              "    .dataframe tbody tr th:only-of-type {\n",
              "        vertical-align: middle;\n",
              "    }\n",
              "\n",
              "    .dataframe tbody tr th {\n",
              "        vertical-align: top;\n",
              "    }\n",
              "\n",
              "    .dataframe thead th {\n",
              "        text-align: right;\n",
              "    }\n",
              "</style>\n",
              "<table border=\"1\" class=\"dataframe\">\n",
              "  <thead>\n",
              "    <tr style=\"text-align: right;\">\n",
              "      <th>Country Name</th>\n",
              "      <th>Canada</th>\n",
              "      <th>China</th>\n",
              "      <th>Indonesia</th>\n",
              "      <th>Japan</th>\n",
              "      <th>Philippines</th>\n",
              "      <th>Singapore</th>\n",
              "      <th>United States</th>\n",
              "    </tr>\n",
              "    <tr>\n",
              "      <th>Year</th>\n",
              "      <th></th>\n",
              "      <th></th>\n",
              "      <th></th>\n",
              "      <th></th>\n",
              "      <th></th>\n",
              "      <th></th>\n",
              "      <th></th>\n",
              "    </tr>\n",
              "  </thead>\n",
              "  <tbody>\n",
              "    <tr>\n",
              "      <th>2000</th>\n",
              "      <td>13.0</td>\n",
              "      <td>13.2</td>\n",
              "      <td>3.9</td>\n",
              "      <td>24.7</td>\n",
              "      <td>2.5</td>\n",
              "      <td>12.4</td>\n",
              "      <td>11.3</td>\n",
              "    </tr>\n",
              "    <tr>\n",
              "      <th>2005</th>\n",
              "      <td>13.2</td>\n",
              "      <td>11.7</td>\n",
              "      <td>3.8</td>\n",
              "      <td>24.9</td>\n",
              "      <td>2.6</td>\n",
              "      <td>11.6</td>\n",
              "      <td>11.9</td>\n",
              "    </tr>\n",
              "    <tr>\n",
              "      <th>2010</th>\n",
              "      <td>13.0</td>\n",
              "      <td>10.9</td>\n",
              "      <td>3.6</td>\n",
              "      <td>24.4</td>\n",
              "      <td>3.3</td>\n",
              "      <td>10.0</td>\n",
              "      <td>13.2</td>\n",
              "    </tr>\n",
              "    <tr>\n",
              "      <th>2015</th>\n",
              "      <td>12.5</td>\n",
              "      <td>9.6</td>\n",
              "      <td>3.4</td>\n",
              "      <td>19.4</td>\n",
              "      <td>3.2</td>\n",
              "      <td>9.0</td>\n",
              "      <td>15.0</td>\n",
              "    </tr>\n",
              "    <tr>\n",
              "      <th>2016</th>\n",
              "      <td>12.5</td>\n",
              "      <td>9.7</td>\n",
              "      <td>3.4</td>\n",
              "      <td>18.5</td>\n",
              "      <td>3.2</td>\n",
              "      <td>9.9</td>\n",
              "      <td>15.3</td>\n",
              "    </tr>\n",
              "  </tbody>\n",
              "</table>\n",
              "</div>"
            ],
            "text/plain": [
              "Country Name  Canada  China  Indonesia  ...  Philippines  Singapore  United States\n",
              "Year                                    ...                                       \n",
              "2000            13.0   13.2        3.9  ...          2.5       12.4           11.3\n",
              "2005            13.2   11.7        3.8  ...          2.6       11.6           11.9\n",
              "2010            13.0   10.9        3.6  ...          3.3       10.0           13.2\n",
              "2015            12.5    9.6        3.4  ...          3.2        9.0           15.0\n",
              "2016            12.5    9.7        3.4  ...          3.2        9.9           15.3\n",
              "\n",
              "[5 rows x 7 columns]"
            ]
          },
          "metadata": {
            "tags": []
          },
          "execution_count": 13
        }
      ]
    },
    {
      "cell_type": "code",
      "metadata": {
        "colab": {
          "base_uri": "https://localhost:8080/",
          "height": 542
        },
        "id": "oVcfkR11Z1ax",
        "outputId": "55c7bbaf-a9d5-446c-9e81-87b43870d169"
      },
      "source": [
        "fig = go.Figure()\n",
        "fig.add_trace(go.Scatter(x = df1.index, y = df1.Canada, mode = \"lines\", name =\"Canada\"))\n",
        "fig.add_trace(go.Scatter(x = df1.index, y = df1.China, mode = \"lines\", name =\"China\"))\n",
        "fig.add_trace(go.Scatter(x = df1.index, y = df1.Indonesia, mode = \"lines\", name =\"Indonesia\"))\n",
        "fig.add_trace(go.Scatter(x = df1.index, y = df1.Japan, mode = \"lines\", name =\"Japan\"))\n",
        "fig.add_trace(go.Scatter(x = df1.index, y = df1.Philippines, mode = \"lines\", name =\"Philippines\"))\n",
        "fig.add_trace(go.Scatter(x = df1.index, y = df1.Singapore, mode = \"lines\", name =\"Singapore\"))\n",
        "fig.add_trace(go.Scatter(x = df1.index, y = df1[\"United States\"], mode = \"lines\", name =\"United States\"))\n",
        "\n",
        "fig.update_layout(\n",
        "    title=\"Suicide Mortality Rate of Countries 2000-2016)\",\n",
        "    xaxis_title=\"Years\",\n",
        "    yaxis_title=\"Suicide Mortality Rate\")\n",
        "\n",
        "\n",
        "fig.show()"
      ],
      "execution_count": 14,
      "outputs": [
        {
          "output_type": "display_data",
          "data": {
            "text/html": [
              "<html>\n",
              "<head><meta charset=\"utf-8\" /></head>\n",
              "<body>\n",
              "    <div>\n",
              "            <script src=\"https://cdnjs.cloudflare.com/ajax/libs/mathjax/2.7.5/MathJax.js?config=TeX-AMS-MML_SVG\"></script><script type=\"text/javascript\">if (window.MathJax) {MathJax.Hub.Config({SVG: {font: \"STIX-Web\"}});}</script>\n",
              "                <script type=\"text/javascript\">window.PlotlyConfig = {MathJaxConfig: 'local'};</script>\n",
              "        <script src=\"https://cdn.plot.ly/plotly-latest.min.js\"></script>    \n",
              "            <div id=\"3db6edf4-f6a1-42d4-a7c2-4920d098ec9c\" class=\"plotly-graph-div\" style=\"height:525px; width:100%;\"></div>\n",
              "            <script type=\"text/javascript\">\n",
              "                \n",
              "                    window.PLOTLYENV=window.PLOTLYENV || {};\n",
              "                    \n",
              "                if (document.getElementById(\"3db6edf4-f6a1-42d4-a7c2-4920d098ec9c\")) {\n",
              "                    Plotly.newPlot(\n",
              "                        '3db6edf4-f6a1-42d4-a7c2-4920d098ec9c',\n",
              "                        [{\"mode\": \"lines\", \"name\": \"Canada\", \"type\": \"scatter\", \"x\": [2000, 2005, 2010, 2015, 2016], \"y\": [13.0, 13.2, 13.0, 12.5, 12.5]}, {\"mode\": \"lines\", \"name\": \"China\", \"type\": \"scatter\", \"x\": [2000, 2005, 2010, 2015, 2016], \"y\": [13.2, 11.7, 10.9, 9.6, 9.7]}, {\"mode\": \"lines\", \"name\": \"Indonesia\", \"type\": \"scatter\", \"x\": [2000, 2005, 2010, 2015, 2016], \"y\": [3.9, 3.8, 3.6, 3.4, 3.4]}, {\"mode\": \"lines\", \"name\": \"Japan\", \"type\": \"scatter\", \"x\": [2000, 2005, 2010, 2015, 2016], \"y\": [24.7, 24.9, 24.4, 19.4, 18.5]}, {\"mode\": \"lines\", \"name\": \"Philippines\", \"type\": \"scatter\", \"x\": [2000, 2005, 2010, 2015, 2016], \"y\": [2.5, 2.6, 3.3, 3.2, 3.2]}, {\"mode\": \"lines\", \"name\": \"Singapore\", \"type\": \"scatter\", \"x\": [2000, 2005, 2010, 2015, 2016], \"y\": [12.4, 11.6, 10.0, 9.0, 9.9]}, {\"mode\": \"lines\", \"name\": \"United States\", \"type\": \"scatter\", \"x\": [2000, 2005, 2010, 2015, 2016], \"y\": [11.3, 11.9, 13.2, 15.0, 15.3]}],\n",
              "                        {\"template\": {\"data\": {\"bar\": [{\"error_x\": {\"color\": \"#2a3f5f\"}, \"error_y\": {\"color\": \"#2a3f5f\"}, \"marker\": {\"line\": {\"color\": \"#E5ECF6\", \"width\": 0.5}}, \"type\": \"bar\"}], \"barpolar\": [{\"marker\": {\"line\": {\"color\": \"#E5ECF6\", \"width\": 0.5}}, \"type\": \"barpolar\"}], \"carpet\": [{\"aaxis\": {\"endlinecolor\": \"#2a3f5f\", \"gridcolor\": \"white\", \"linecolor\": \"white\", \"minorgridcolor\": \"white\", \"startlinecolor\": \"#2a3f5f\"}, \"baxis\": {\"endlinecolor\": \"#2a3f5f\", \"gridcolor\": \"white\", \"linecolor\": \"white\", \"minorgridcolor\": \"white\", \"startlinecolor\": \"#2a3f5f\"}, \"type\": \"carpet\"}], \"choropleth\": [{\"colorbar\": {\"outlinewidth\": 0, \"ticks\": \"\"}, \"type\": \"choropleth\"}], \"contour\": [{\"colorbar\": {\"outlinewidth\": 0, \"ticks\": \"\"}, \"colorscale\": [[0.0, \"#0d0887\"], [0.1111111111111111, \"#46039f\"], [0.2222222222222222, \"#7201a8\"], [0.3333333333333333, \"#9c179e\"], [0.4444444444444444, \"#bd3786\"], [0.5555555555555556, \"#d8576b\"], [0.6666666666666666, \"#ed7953\"], [0.7777777777777778, \"#fb9f3a\"], [0.8888888888888888, \"#fdca26\"], [1.0, \"#f0f921\"]], \"type\": \"contour\"}], \"contourcarpet\": [{\"colorbar\": {\"outlinewidth\": 0, \"ticks\": \"\"}, \"type\": \"contourcarpet\"}], \"heatmap\": [{\"colorbar\": {\"outlinewidth\": 0, \"ticks\": \"\"}, \"colorscale\": [[0.0, \"#0d0887\"], [0.1111111111111111, \"#46039f\"], [0.2222222222222222, \"#7201a8\"], [0.3333333333333333, \"#9c179e\"], [0.4444444444444444, \"#bd3786\"], [0.5555555555555556, \"#d8576b\"], [0.6666666666666666, \"#ed7953\"], [0.7777777777777778, \"#fb9f3a\"], [0.8888888888888888, \"#fdca26\"], [1.0, \"#f0f921\"]], \"type\": \"heatmap\"}], \"heatmapgl\": [{\"colorbar\": {\"outlinewidth\": 0, \"ticks\": \"\"}, \"colorscale\": [[0.0, \"#0d0887\"], [0.1111111111111111, \"#46039f\"], [0.2222222222222222, \"#7201a8\"], [0.3333333333333333, \"#9c179e\"], [0.4444444444444444, \"#bd3786\"], [0.5555555555555556, \"#d8576b\"], [0.6666666666666666, \"#ed7953\"], [0.7777777777777778, \"#fb9f3a\"], [0.8888888888888888, \"#fdca26\"], [1.0, \"#f0f921\"]], \"type\": \"heatmapgl\"}], \"histogram\": [{\"marker\": {\"colorbar\": {\"outlinewidth\": 0, \"ticks\": \"\"}}, \"type\": \"histogram\"}], \"histogram2d\": [{\"colorbar\": {\"outlinewidth\": 0, \"ticks\": \"\"}, \"colorscale\": [[0.0, \"#0d0887\"], [0.1111111111111111, \"#46039f\"], [0.2222222222222222, \"#7201a8\"], [0.3333333333333333, \"#9c179e\"], [0.4444444444444444, \"#bd3786\"], [0.5555555555555556, \"#d8576b\"], [0.6666666666666666, \"#ed7953\"], [0.7777777777777778, \"#fb9f3a\"], [0.8888888888888888, \"#fdca26\"], [1.0, \"#f0f921\"]], \"type\": \"histogram2d\"}], \"histogram2dcontour\": [{\"colorbar\": {\"outlinewidth\": 0, \"ticks\": \"\"}, \"colorscale\": [[0.0, \"#0d0887\"], [0.1111111111111111, \"#46039f\"], [0.2222222222222222, \"#7201a8\"], [0.3333333333333333, \"#9c179e\"], [0.4444444444444444, \"#bd3786\"], [0.5555555555555556, \"#d8576b\"], [0.6666666666666666, \"#ed7953\"], [0.7777777777777778, \"#fb9f3a\"], [0.8888888888888888, \"#fdca26\"], [1.0, \"#f0f921\"]], \"type\": \"histogram2dcontour\"}], \"mesh3d\": [{\"colorbar\": {\"outlinewidth\": 0, \"ticks\": \"\"}, \"type\": \"mesh3d\"}], \"parcoords\": [{\"line\": {\"colorbar\": {\"outlinewidth\": 0, \"ticks\": \"\"}}, \"type\": \"parcoords\"}], \"pie\": [{\"automargin\": true, \"type\": \"pie\"}], \"scatter\": [{\"marker\": {\"colorbar\": {\"outlinewidth\": 0, \"ticks\": \"\"}}, \"type\": \"scatter\"}], \"scatter3d\": [{\"line\": {\"colorbar\": {\"outlinewidth\": 0, \"ticks\": \"\"}}, \"marker\": {\"colorbar\": {\"outlinewidth\": 0, \"ticks\": \"\"}}, \"type\": \"scatter3d\"}], \"scattercarpet\": [{\"marker\": {\"colorbar\": {\"outlinewidth\": 0, \"ticks\": \"\"}}, \"type\": \"scattercarpet\"}], \"scattergeo\": [{\"marker\": {\"colorbar\": {\"outlinewidth\": 0, \"ticks\": \"\"}}, \"type\": \"scattergeo\"}], \"scattergl\": [{\"marker\": {\"colorbar\": {\"outlinewidth\": 0, \"ticks\": \"\"}}, \"type\": \"scattergl\"}], \"scattermapbox\": [{\"marker\": {\"colorbar\": {\"outlinewidth\": 0, \"ticks\": \"\"}}, \"type\": \"scattermapbox\"}], \"scatterpolar\": [{\"marker\": {\"colorbar\": {\"outlinewidth\": 0, \"ticks\": \"\"}}, \"type\": \"scatterpolar\"}], \"scatterpolargl\": [{\"marker\": {\"colorbar\": {\"outlinewidth\": 0, \"ticks\": \"\"}}, \"type\": \"scatterpolargl\"}], \"scatterternary\": [{\"marker\": {\"colorbar\": {\"outlinewidth\": 0, \"ticks\": \"\"}}, \"type\": \"scatterternary\"}], \"surface\": [{\"colorbar\": {\"outlinewidth\": 0, \"ticks\": \"\"}, \"colorscale\": [[0.0, \"#0d0887\"], [0.1111111111111111, \"#46039f\"], [0.2222222222222222, \"#7201a8\"], [0.3333333333333333, \"#9c179e\"], [0.4444444444444444, \"#bd3786\"], [0.5555555555555556, \"#d8576b\"], [0.6666666666666666, \"#ed7953\"], [0.7777777777777778, \"#fb9f3a\"], [0.8888888888888888, \"#fdca26\"], [1.0, \"#f0f921\"]], \"type\": \"surface\"}], \"table\": [{\"cells\": {\"fill\": {\"color\": \"#EBF0F8\"}, \"line\": {\"color\": \"white\"}}, \"header\": {\"fill\": {\"color\": \"#C8D4E3\"}, \"line\": {\"color\": \"white\"}}, \"type\": \"table\"}]}, \"layout\": {\"annotationdefaults\": {\"arrowcolor\": \"#2a3f5f\", \"arrowhead\": 0, \"arrowwidth\": 1}, \"coloraxis\": {\"colorbar\": {\"outlinewidth\": 0, \"ticks\": \"\"}}, \"colorscale\": {\"diverging\": [[0, \"#8e0152\"], [0.1, \"#c51b7d\"], [0.2, \"#de77ae\"], [0.3, \"#f1b6da\"], [0.4, \"#fde0ef\"], [0.5, \"#f7f7f7\"], [0.6, \"#e6f5d0\"], [0.7, \"#b8e186\"], [0.8, \"#7fbc41\"], [0.9, \"#4d9221\"], [1, \"#276419\"]], \"sequential\": [[0.0, \"#0d0887\"], [0.1111111111111111, \"#46039f\"], [0.2222222222222222, \"#7201a8\"], [0.3333333333333333, \"#9c179e\"], [0.4444444444444444, \"#bd3786\"], [0.5555555555555556, \"#d8576b\"], [0.6666666666666666, \"#ed7953\"], [0.7777777777777778, \"#fb9f3a\"], [0.8888888888888888, \"#fdca26\"], [1.0, \"#f0f921\"]], \"sequentialminus\": [[0.0, \"#0d0887\"], [0.1111111111111111, \"#46039f\"], [0.2222222222222222, \"#7201a8\"], [0.3333333333333333, \"#9c179e\"], [0.4444444444444444, \"#bd3786\"], [0.5555555555555556, \"#d8576b\"], [0.6666666666666666, \"#ed7953\"], [0.7777777777777778, \"#fb9f3a\"], [0.8888888888888888, \"#fdca26\"], [1.0, \"#f0f921\"]]}, \"colorway\": [\"#636efa\", \"#EF553B\", \"#00cc96\", \"#ab63fa\", \"#FFA15A\", \"#19d3f3\", \"#FF6692\", \"#B6E880\", \"#FF97FF\", \"#FECB52\"], \"font\": {\"color\": \"#2a3f5f\"}, \"geo\": {\"bgcolor\": \"white\", \"lakecolor\": \"white\", \"landcolor\": \"#E5ECF6\", \"showlakes\": true, \"showland\": true, \"subunitcolor\": \"white\"}, \"hoverlabel\": {\"align\": \"left\"}, \"hovermode\": \"closest\", \"mapbox\": {\"style\": \"light\"}, \"paper_bgcolor\": \"white\", \"plot_bgcolor\": \"#E5ECF6\", \"polar\": {\"angularaxis\": {\"gridcolor\": \"white\", \"linecolor\": \"white\", \"ticks\": \"\"}, \"bgcolor\": \"#E5ECF6\", \"radialaxis\": {\"gridcolor\": \"white\", \"linecolor\": \"white\", \"ticks\": \"\"}}, \"scene\": {\"xaxis\": {\"backgroundcolor\": \"#E5ECF6\", \"gridcolor\": \"white\", \"gridwidth\": 2, \"linecolor\": \"white\", \"showbackground\": true, \"ticks\": \"\", \"zerolinecolor\": \"white\"}, \"yaxis\": {\"backgroundcolor\": \"#E5ECF6\", \"gridcolor\": \"white\", \"gridwidth\": 2, \"linecolor\": \"white\", \"showbackground\": true, \"ticks\": \"\", \"zerolinecolor\": \"white\"}, \"zaxis\": {\"backgroundcolor\": \"#E5ECF6\", \"gridcolor\": \"white\", \"gridwidth\": 2, \"linecolor\": \"white\", \"showbackground\": true, \"ticks\": \"\", \"zerolinecolor\": \"white\"}}, \"shapedefaults\": {\"line\": {\"color\": \"#2a3f5f\"}}, \"ternary\": {\"aaxis\": {\"gridcolor\": \"white\", \"linecolor\": \"white\", \"ticks\": \"\"}, \"baxis\": {\"gridcolor\": \"white\", \"linecolor\": \"white\", \"ticks\": \"\"}, \"bgcolor\": \"#E5ECF6\", \"caxis\": {\"gridcolor\": \"white\", \"linecolor\": \"white\", \"ticks\": \"\"}}, \"title\": {\"x\": 0.05}, \"xaxis\": {\"automargin\": true, \"gridcolor\": \"white\", \"linecolor\": \"white\", \"ticks\": \"\", \"title\": {\"standoff\": 15}, \"zerolinecolor\": \"white\", \"zerolinewidth\": 2}, \"yaxis\": {\"automargin\": true, \"gridcolor\": \"white\", \"linecolor\": \"white\", \"ticks\": \"\", \"title\": {\"standoff\": 15}, \"zerolinecolor\": \"white\", \"zerolinewidth\": 2}}}, \"title\": {\"text\": \"Suicide Mortality Rate of Countries 2000-2016)\"}, \"xaxis\": {\"title\": {\"text\": \"Years\"}}, \"yaxis\": {\"title\": {\"text\": \"Suicide Mortality Rate\"}}},\n",
              "                        {\"responsive\": true}\n",
              "                    ).then(function(){\n",
              "                            \n",
              "var gd = document.getElementById('3db6edf4-f6a1-42d4-a7c2-4920d098ec9c');\n",
              "var x = new MutationObserver(function (mutations, observer) {{\n",
              "        var display = window.getComputedStyle(gd).display;\n",
              "        if (!display || display === 'none') {{\n",
              "            console.log([gd, 'removed!']);\n",
              "            Plotly.purge(gd);\n",
              "            observer.disconnect();\n",
              "        }}\n",
              "}});\n",
              "\n",
              "// Listen for the removal of the full notebook cells\n",
              "var notebookContainer = gd.closest('#notebook-container');\n",
              "if (notebookContainer) {{\n",
              "    x.observe(notebookContainer, {childList: true});\n",
              "}}\n",
              "\n",
              "// Listen for the clearing of the current output cell\n",
              "var outputEl = gd.closest('.output');\n",
              "if (outputEl) {{\n",
              "    x.observe(outputEl, {childList: true});\n",
              "}}\n",
              "\n",
              "                        })\n",
              "                };\n",
              "                \n",
              "            </script>\n",
              "        </div>\n",
              "</body>\n",
              "</html>"
            ]
          },
          "metadata": {
            "tags": []
          }
        }
      ]
    }
  ]
}
